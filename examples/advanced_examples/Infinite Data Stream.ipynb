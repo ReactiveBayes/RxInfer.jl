{
 "cells": [
  {
   "attachments": {},
   "cell_type": "markdown",
   "metadata": {},
   "source": [
    "# Infinite Data Stream"
   ]
  },
  {
   "cell_type": "code",
   "execution_count": 1,
   "metadata": {},
   "outputs": [
    {
     "name": "stderr",
     "output_type": "stream",
     "text": [
      "\u001b[32m\u001b[1m  Activating\u001b[22m\u001b[39m project at `~/.julia/dev/RxInfer/examples`\n"
     ]
    }
   ],
   "source": [
    "# Activate local environment, see `Project.toml`\n",
    "import Pkg; Pkg.activate(\"..\"); Pkg.instantiate();"
   ]
  },
  {
   "attachments": {},
   "cell_type": "markdown",
   "metadata": {},
   "source": [
    "This example shows the capabilities of `RxInfer` to perform Bayesian inference on real-time signals. As usual, first, we start with importing necessary packages:"
   ]
  },
  {
   "cell_type": "code",
   "execution_count": 2,
   "metadata": {},
   "outputs": [],
   "source": [
    "using RxInfer, Plots, Random, StableRNGs"
   ]
  },
  {
   "attachments": {},
   "cell_type": "markdown",
   "metadata": {},
   "source": [
    "For demonstration purposes we will create a synthetic environment that has a hidden underlying signal, which we cannot observer directly. Instead, we will observe a noised realisation of this hidden signal:"
   ]
  },
  {
   "cell_type": "code",
   "execution_count": 3,
   "metadata": {},
   "outputs": [
    {
     "data": {
      "text/plain": [
       "getobservations (generic function with 1 method)"
      ]
     },
     "metadata": {},
     "output_type": "display_data"
    }
   ],
   "source": [
    "mutable struct Environment\n",
    "    rng                   :: AbstractRNG\n",
    "    current_state         :: Float64\n",
    "    observation_precision :: Float64\n",
    "    history               :: Vector{Float64}\n",
    "    observations          :: Vector{Float64}\n",
    "    \n",
    "    Environment(current_state, observation_precision; seed = 123) = begin \n",
    "         return new(StableRNG(seed), current_state, observation_precision, [], [])\n",
    "    end\n",
    "end\n",
    "\n",
    "function getnext!(environment::Environment)\n",
    "    environment.current_state = environment.current_state + 1.0\n",
    "    nextstate  = 10sin(0.1 * environment.current_state)\n",
    "    observation = rand(NormalMeanPrecision(nextstate, environment.observation_precision))\n",
    "    push!(environment.history, nextstate)\n",
    "    push!(environment.observations, observation)\n",
    "    return observation\n",
    "end\n",
    "\n",
    "function gethistory(environment::Environment)\n",
    "    return environment.history\n",
    "end\n",
    "\n",
    "function getobservations(environment::Environment)\n",
    "    return environment.observations\n",
    "end"
   ]
  },
  {
   "attachments": {},
   "cell_type": "markdown",
   "metadata": {},
   "source": [
    "## Model specification\n",
    "\n",
    "We assume that we don't know the shape of our signal in advance. So we try to fit a simple gaussian random walk with unknown observation noise:"
   ]
  },
  {
   "cell_type": "code",
   "execution_count": 4,
   "metadata": {},
   "outputs": [
    {
     "data": {
      "text/plain": [
       "filter_constraints (generic function with 1 method)"
      ]
     },
     "metadata": {},
     "output_type": "display_data"
    }
   ],
   "source": [
    "@model function kalman_filter(x_prev_mean, x_prev_var, τ_shape, τ_rate, y)\n",
    "    x_prev ~ Normal(mean = x_prev_mean, variance = x_prev_var)\n",
    "    τ ~ Gamma(shape = τ_shape, rate = τ_rate)\n",
    "\n",
    "    # Random walk with fixed precision\n",
    "    x_current ~ Normal(mean = x_prev, precision = 1.0)\n",
    "    y ~ Normal(mean = x_current, precision = τ)\n",
    "    \n",
    "end\n",
    "\n",
    "# We assume the following factorisation between variables \n",
    "# in the variational distribution\n",
    "@constraints function filter_constraints()\n",
    "    q(x_prev, x_current, τ) = q(x_prev, x_current)q(τ)\n",
    "end"
   ]
  },
  {
   "attachments": {},
   "cell_type": "markdown",
   "metadata": {},
   "source": [
    "## Prepare environment"
   ]
  },
  {
   "cell_type": "code",
   "execution_count": 5,
   "metadata": {},
   "outputs": [
    {
     "data": {
      "text/plain": [
       "0.1"
      ]
     },
     "metadata": {},
     "output_type": "display_data"
    }
   ],
   "source": [
    "initial_state         = 0.0\n",
    "observation_precision = 0.1"
   ]
  },
  {
   "attachments": {},
   "cell_type": "markdown",
   "metadata": {},
   "source": [
    "After we have created the environment we can observe how our signal behaves:"
   ]
  },
  {
   "cell_type": "code",
   "execution_count": 6,
   "metadata": {},
   "outputs": [],
   "source": [
    "testenvironment = Environment(initial_state, observation_precision);\n",
    "\n",
    "animation = @animate for i in 1:100\n",
    "    getnext!(testenvironment)\n",
    "    \n",
    "    history = gethistory(testenvironment)\n",
    "    observations = getobservations(testenvironment)\n",
    "    \n",
    "    p = plot(size = (1000, 300))\n",
    "    \n",
    "    p = plot!(p, 1:i, history[1:i], label = \"Hidden signal\")\n",
    "    p = scatter!(p, 1:i, observations[1:i], ms = 4, alpha = 0.7, label = \"Observation\")\n",
    "end\n",
    "\n",
    "gif(animation, \"../pics/infinite-data-stream.gif\", fps = 24, show_msg = false);"
   ]
  },
  {
   "attachments": {},
   "cell_type": "markdown",
   "metadata": {},
   "source": [
    "![](../pics/infinite-data-stream.gif)"
   ]
  },
  {
   "attachments": {},
   "cell_type": "markdown",
   "metadata": {
    "tags": []
   },
   "source": [
    "## Filtering on static dataset\n",
    "\n",
    "`RxInfer` is flexible and allows for running inference both on real-time and static datasets. In the next section we show how to perform the filtering procedure on a static dataset. We also will verify our inference procedure by checking on the Bethe Free Energy values:"
   ]
  },
  {
   "cell_type": "code",
   "execution_count": 7,
   "metadata": {},
   "outputs": [],
   "source": [
    "n                  = 300\n",
    "static_environment = Environment(initial_state, observation_precision);\n",
    "\n",
    "for i in 1:n\n",
    "    getnext!(static_environment)\n",
    "end\n",
    "\n",
    "static_history      = gethistory(static_environment)\n",
    "static_observations = getobservations(static_environment);\n",
    "static_datastream   = from(static_observations) |> map(NamedTuple{(:y,), Tuple{Float64}}, (d) -> (y = d, ));"
   ]
  },
  {
   "cell_type": "code",
   "execution_count": 8,
   "metadata": {},
   "outputs": [
    {
     "data": {
      "text/plain": [
       "run_static (generic function with 1 method)"
      ]
     },
     "metadata": {},
     "output_type": "display_data"
    }
   ],
   "source": [
    "function run_static(environment, datastream)\n",
    "    \n",
    "    # `@autoupdates` structure specifies how to update our priors based on new posteriors\n",
    "    # For example, every time we have updated a posterior over `x_current` we update our priors\n",
    "    # over `x_prev`\n",
    "    autoupdates = @autoupdates begin \n",
    "        x_prev_mean, x_prev_var = mean_var(q(x_current))\n",
    "        τ_shape = shape(q(τ))\n",
    "        τ_rate = rate(q(τ))\n",
    "    end\n",
    "    \n",
    "    init = @initialization begin\n",
    "        q(x_current) = NormalMeanVariance(0.0, 1e3) \n",
    "        q(τ) = GammaShapeRate(1.0, 1.0)\n",
    "    end\n",
    "\n",
    "    engine = infer(\n",
    "        model          = kalman_filter(),\n",
    "        constraints    = filter_constraints(),\n",
    "        datastream     = datastream,\n",
    "        autoupdates    = autoupdates,\n",
    "        returnvars     = (:x_current, ),\n",
    "        keephistory    = 10_000,\n",
    "        historyvars    = (x_current = KeepLast(), τ = KeepLast()),\n",
    "        initialization = init,\n",
    "        iterations     = 10,\n",
    "        free_energy    = true,\n",
    "        autostart      = true,\n",
    "    )\n",
    "    \n",
    "    return engine\n",
    "end"
   ]
  },
  {
   "cell_type": "code",
   "execution_count": 9,
   "metadata": {},
   "outputs": [],
   "source": [
    "result = run_static(static_environment, static_datastream);"
   ]
  },
  {
   "cell_type": "code",
   "execution_count": 10,
   "metadata": {},
   "outputs": [],
   "source": [
    "static_inference = @animate for i in 1:n\n",
    "    estimated = result.history[:x_current]\n",
    "    p = plot(1:i, mean.(estimated[1:i]), ribbon = var.(estimated[1:n]), label = \"Estimation\")\n",
    "    p = plot!(static_history[1:i], label = \"Real states\")    \n",
    "    p = scatter!(static_observations[1:i], ms = 2, label = \"Observations\")\n",
    "    p = plot(p, size = (1000, 300), legend = :bottomright)\n",
    "end\n",
    "\n",
    "gif(static_inference, \"../pics/infinite-data-stream-inference.gif\", fps = 24, show_msg = false);"
   ]
  },
  {
   "attachments": {},
   "cell_type": "markdown",
   "metadata": {},
   "source": [
    "![](../pics/infinite-data-stream-inference.gif)"
   ]
  },
  {
   "cell_type": "code",
   "execution_count": 11,
   "metadata": {},
   "outputs": [
    {
     "data": {
      "image/png": "[encoded data removed]",
      "image/svg+xml": [
       "<?xml version=\"1.0\" encoding=\"utf-8\"?>\n",
       "<svg xmlns=\"http://www.w3.org/2000/svg\" xmlns:xlink=\"http://www.w3.org/1999/xlink\" width=\"600\" height=\"400\" viewBox=\"0 0 2400 1600\">\n",
       "<defs>\n",
       "  <clipPath id=\"clip700\">\n",
       "    <rect x=\"0\" y=\"0\" width=\"2400\" height=\"1600\"/>\n",
       "  </clipPath>\n",
       "</defs>\n",
       "<path clip-path=\"url(#clip700)\" d=\"M0 1600 L2400 1600 L2400 8.88178e-14 L0 8.88178e-14  Z\" fill=\"#ffffff\" fill-rule=\"evenodd\" fill-opacity=\"1\"/>\n",
       "<defs>\n",
       "  <clipPath id=\"clip701\">\n",
       "    <rect x=\"480\" y=\"0\" width=\"1681\" height=\"1600\"/>\n",
       "  </clipPath>\n",
       "</defs>\n",
       "<path clip-path=\"url(#clip700)\" d=\"M216.575 1486.45 L2352.76 1486.45 L2352.76 47.2441 L216.575 47.2441  Z\" fill=\"#ffffff\" fill-rule=\"evenodd\" fill-opacity=\"1\"/>\n",
       "<defs>\n",
       "  <clipPath id=\"clip702\">\n",
       "    <rect x=\"216\" y=\"47\" width=\"2137\" height=\"1440\"/>\n",
       "  </clipPath>\n",
       "</defs>\n",
       "<polyline clip-path=\"url(#clip702)\" style=\"stroke:#000000; stroke-linecap:round; stroke-linejoin:round; stroke-width:2; stroke-opacity:0.1; fill:none\" points=\"500.951,1486.45 500.951,47.2441 \"/>\n",
       "<polyline clip-path=\"url(#clip702)\" style=\"stroke:#000000; stroke-linecap:round; stroke-linejoin:round; stroke-width:2; stroke-opacity:0.1; fill:none\" points=\"948.788,1486.45 948.788,47.2441 \"/>\n",
       "<polyline clip-path=\"url(#clip702)\" style=\"stroke:#000000; stroke-linecap:round; stroke-linejoin:round; stroke-width:2; stroke-opacity:0.1; fill:none\" points=\"1396.62,1486.45 1396.62,47.2441 \"/>\n",
       "<polyline clip-path=\"url(#clip702)\" style=\"stroke:#000000; stroke-linecap:round; stroke-linejoin:round; stroke-width:2; stroke-opacity:0.1; fill:none\" points=\"1844.46,1486.45 1844.46,47.2441 \"/>\n",
       "<polyline clip-path=\"url(#clip702)\" style=\"stroke:#000000; stroke-linecap:round; stroke-linejoin:round; stroke-width:2; stroke-opacity:0.1; fill:none\" points=\"2292.3,1486.45 2292.3,47.2441 \"/>\n",
       "<polyline clip-path=\"url(#clip700)\" style=\"stroke:#000000; stroke-linecap:round; stroke-linejoin:round; stroke-width:4; stroke-opacity:1; fill:none\" points=\"216.575,1486.45 2352.76,1486.45 \"/>\n",
       "<polyline clip-path=\"url(#clip700)\" style=\"stroke:#000000; stroke-linecap:round; stroke-linejoin:round; stroke-width:4; stroke-opacity:1; fill:none\" points=\"500.951,1486.45 500.951,1467.55 \"/>\n",
       "<polyline clip-path=\"url(#clip700)\" style=\"stroke:#000000; stroke-linecap:round; stroke-linejoin:round; stroke-width:4; stroke-opacity:1; fill:none\" points=\"948.788,1486.45 948.788,1467.55 \"/>\n",
       "<polyline clip-path=\"url(#clip700)\" style=\"stroke:#000000; stroke-linecap:round; stroke-linejoin:round; stroke-width:4; stroke-opacity:1; fill:none\" points=\"1396.62,1486.45 1396.62,1467.55 \"/>\n",
       "<polyline clip-path=\"url(#clip700)\" style=\"stroke:#000000; stroke-linecap:round; stroke-linejoin:round; stroke-width:4; stroke-opacity:1; fill:none\" points=\"1844.46,1486.45 1844.46,1467.55 \"/>\n",
       "<polyline clip-path=\"url(#clip700)\" style=\"stroke:#000000; stroke-linecap:round; stroke-linejoin:round; stroke-width:4; stroke-opacity:1; fill:none\" points=\"2292.3,1486.45 2292.3,1467.55 \"/>\n",
       "<path clip-path=\"url(#clip700)\" d=\"M495.604 1544.91 L511.923 1544.91 L511.923 1548.85 L489.979 1548.85 L489.979 1544.91 Q492.641 1542.16 497.224 1537.53 Q501.831 1532.88 503.011 1531.53 Q505.257 1529.01 506.136 1527.27 Q507.039 1525.51 507.039 1523.82 Q507.039 1521.07 505.095 1519.33 Q503.173 1517.6 500.071 1517.6 Q497.872 1517.6 495.419 1518.36 Q492.988 1519.13 490.21 1520.68 L490.21 1515.95 Q493.034 1514.82 495.488 1514.24 Q497.942 1513.66 499.979 1513.66 Q505.349 1513.66 508.544 1516.35 Q511.738 1519.03 511.738 1523.52 Q511.738 1525.65 510.928 1527.57 Q510.141 1529.47 508.034 1532.07 Q507.456 1532.74 504.354 1535.95 Q501.252 1539.15 495.604 1544.91 Z\" fill=\"#000000\" fill-rule=\"nonzero\" fill-opacity=\"1\" /><path clip-path=\"url(#clip700)\" d=\"M951.797 1518.36 L939.992 1536.81 L951.797 1536.81 L951.797 1518.36 M950.57 1514.29 L956.45 1514.29 L956.45 1536.81 L961.38 1536.81 L961.38 1540.7 L956.45 1540.7 L956.45 1548.85 L951.797 1548.85 L951.797 1540.7 L936.195 1540.7 L936.195 1536.19 L950.57 1514.29 Z\" fill=\"#000000\" fill-rule=\"nonzero\" fill-opacity=\"1\" /><path clip-path=\"url(#clip700)\" d=\"M1397.03 1529.7 Q1393.88 1529.7 1392.03 1531.86 Q1390.2 1534.01 1390.2 1537.76 Q1390.2 1541.49 1392.03 1543.66 Q1393.88 1545.82 1397.03 1545.82 Q1400.18 1545.82 1402.01 1543.66 Q1403.86 1541.49 1403.86 1537.76 Q1403.86 1534.01 1402.01 1531.86 Q1400.18 1529.7 1397.03 1529.7 M1406.31 1515.05 L1406.31 1519.31 Q1404.55 1518.48 1402.75 1518.04 Q1400.96 1517.6 1399.21 1517.6 Q1394.58 1517.6 1392.12 1520.72 Q1389.69 1523.85 1389.34 1530.17 Q1390.71 1528.15 1392.77 1527.09 Q1394.83 1526 1397.31 1526 Q1402.52 1526 1405.52 1529.17 Q1408.56 1532.32 1408.56 1537.76 Q1408.56 1543.08 1405.41 1546.3 Q1402.26 1549.52 1397.03 1549.52 Q1391.03 1549.52 1387.86 1544.94 Q1384.69 1540.33 1384.69 1531.6 Q1384.69 1523.41 1388.58 1518.55 Q1392.47 1513.66 1399.02 1513.66 Q1400.78 1513.66 1402.56 1514.01 Q1404.37 1514.36 1406.31 1515.05 Z\" fill=\"#000000\" fill-rule=\"nonzero\" fill-opacity=\"1\" /><path clip-path=\"url(#clip700)\" d=\"M1844.46 1532.44 Q1841.13 1532.44 1839.21 1534.22 Q1837.31 1536 1837.31 1539.13 Q1837.31 1542.25 1839.21 1544.03 Q1841.13 1545.82 1844.46 1545.82 Q1847.79 1545.82 1849.72 1544.03 Q1851.64 1542.23 1851.64 1539.13 Q1851.64 1536 1849.72 1534.22 Q1847.82 1532.44 1844.46 1532.44 M1839.79 1530.45 Q1836.78 1529.7 1835.09 1527.64 Q1833.42 1525.58 1833.42 1522.62 Q1833.42 1518.48 1836.36 1516.07 Q1839.32 1513.66 1844.46 1513.66 Q1849.62 1513.66 1852.56 1516.07 Q1855.5 1518.48 1855.5 1522.62 Q1855.5 1525.58 1853.81 1527.64 Q1852.15 1529.7 1849.16 1530.45 Q1852.54 1531.23 1854.41 1533.52 Q1856.31 1535.82 1856.31 1539.13 Q1856.31 1544.15 1853.23 1546.83 Q1850.18 1549.52 1844.46 1549.52 Q1838.74 1549.52 1835.66 1546.83 Q1832.61 1544.15 1832.61 1539.13 Q1832.61 1535.82 1834.51 1533.52 Q1836.41 1531.23 1839.79 1530.45 M1838.07 1523.06 Q1838.07 1525.75 1839.74 1527.25 Q1841.43 1528.76 1844.46 1528.76 Q1847.47 1528.76 1849.16 1527.25 Q1850.87 1525.75 1850.87 1523.06 Q1850.87 1520.38 1849.16 1518.87 Q1847.47 1517.37 1844.46 1517.37 Q1841.43 1517.37 1839.74 1518.87 Q1838.07 1520.38 1838.07 1523.06 Z\" fill=\"#000000\" fill-rule=\"nonzero\" fill-opacity=\"1\" /><path clip-path=\"url(#clip700)\" d=\"M2266.99 1544.91 L2274.62 1544.91 L2274.62 1518.55 L2266.31 1520.21 L2266.31 1515.95 L2274.58 1514.29 L2279.25 1514.29 L2279.25 1544.91 L2286.89 1544.91 L2286.89 1548.85 L2266.99 1548.85 L2266.99 1544.91 Z\" fill=\"#000000\" fill-rule=\"nonzero\" fill-opacity=\"1\" /><path clip-path=\"url(#clip700)\" d=\"M2306.34 1517.37 Q2302.73 1517.37 2300.9 1520.93 Q2299.09 1524.47 2299.09 1531.6 Q2299.09 1538.71 2300.9 1542.27 Q2302.73 1545.82 2306.34 1545.82 Q2309.97 1545.82 2311.78 1542.27 Q2313.61 1538.71 2313.61 1531.6 Q2313.61 1524.47 2311.78 1520.93 Q2309.97 1517.37 2306.34 1517.37 M2306.34 1513.66 Q2312.15 1513.66 2315.2 1518.27 Q2318.28 1522.85 2318.28 1531.6 Q2318.28 1540.33 2315.2 1544.94 Q2312.15 1549.52 2306.34 1549.52 Q2300.53 1549.52 2297.45 1544.94 Q2294.39 1540.33 2294.39 1531.6 Q2294.39 1522.85 2297.45 1518.27 Q2300.53 1513.66 2306.34 1513.66 Z\" fill=\"#000000\" fill-rule=\"nonzero\" fill-opacity=\"1\" /><polyline clip-path=\"url(#clip702)\" style=\"stroke:#000000; stroke-linecap:round; stroke-linejoin:round; stroke-width:2; stroke-opacity:0.1; fill:none\" points=\"216.575,1454.66 2352.76,1454.66 \"/>\n",
       "<polyline clip-path=\"url(#clip702)\" style=\"stroke:#000000; stroke-linecap:round; stroke-linejoin:round; stroke-width:2; stroke-opacity:0.1; fill:none\" points=\"216.575,1097.58 2352.76,1097.58 \"/>\n",
       "<polyline clip-path=\"url(#clip702)\" style=\"stroke:#000000; stroke-linecap:round; stroke-linejoin:round; stroke-width:2; stroke-opacity:0.1; fill:none\" points=\"216.575,740.504 2352.76,740.504 \"/>\n",
       "<polyline clip-path=\"url(#clip702)\" style=\"stroke:#000000; stroke-linecap:round; stroke-linejoin:round; stroke-width:2; stroke-opacity:0.1; fill:none\" points=\"216.575,383.428 2352.76,383.428 \"/>\n",
       "<polyline clip-path=\"url(#clip700)\" style=\"stroke:#000000; stroke-linecap:round; stroke-linejoin:round; stroke-width:4; stroke-opacity:1; fill:none\" points=\"216.575,1486.45 216.575,47.2441 \"/>\n",
       "<polyline clip-path=\"url(#clip700)\" style=\"stroke:#000000; stroke-linecap:round; stroke-linejoin:round; stroke-width:4; stroke-opacity:1; fill:none\" points=\"216.575,1454.66 235.472,1454.66 \"/>\n",
       "<polyline clip-path=\"url(#clip700)\" style=\"stroke:#000000; stroke-linecap:round; stroke-linejoin:round; stroke-width:4; stroke-opacity:1; fill:none\" points=\"216.575,1097.58 235.472,1097.58 \"/>\n",
       "<polyline clip-path=\"url(#clip700)\" style=\"stroke:#000000; stroke-linecap:round; stroke-linejoin:round; stroke-width:4; stroke-opacity:1; fill:none\" points=\"216.575,740.504 235.472,740.504 \"/>\n",
       "<polyline clip-path=\"url(#clip700)\" style=\"stroke:#000000; stroke-linecap:round; stroke-linejoin:round; stroke-width:4; stroke-opacity:1; fill:none\" points=\"216.575,383.428 235.472,383.428 \"/>\n",
       "<path clip-path=\"url(#clip700)\" d=\"M58.7004 1468 L75.0198 1468 L75.0198 1471.94 L53.0754 1471.94 L53.0754 1468 Q55.7375 1465.25 60.3208 1460.62 Q64.9272 1455.96 66.1078 1454.62 Q68.3531 1452.1 69.2328 1450.36 Q70.1355 1448.6 70.1355 1446.91 Q70.1355 1444.16 68.1911 1442.42 Q66.2698 1440.69 63.168 1440.69 Q60.9689 1440.69 58.5152 1441.45 Q56.0847 1442.21 53.3069 1443.76 L53.3069 1439.04 Q56.131 1437.91 58.5847 1437.33 Q61.0384 1436.75 63.0754 1436.75 Q68.4457 1436.75 71.6402 1439.44 Q74.8346 1442.12 74.8346 1446.61 Q74.8346 1448.74 74.0244 1450.66 Q73.2374 1452.56 71.1309 1455.15 Q70.5522 1455.82 67.4504 1459.04 Q64.3485 1462.24 58.7004 1468 Z\" fill=\"#000000\" fill-rule=\"nonzero\" fill-opacity=\"1\" /><path clip-path=\"url(#clip700)\" d=\"M84.8345 1466.06 L89.7188 1466.06 L89.7188 1471.94 L84.8345 1471.94 L84.8345 1466.06 Z\" fill=\"#000000\" fill-rule=\"nonzero\" fill-opacity=\"1\" /><path clip-path=\"url(#clip700)\" d=\"M100.043 1471.22 L100.043 1466.96 Q101.802 1467.79 103.608 1468.23 Q105.413 1468.67 107.149 1468.67 Q111.779 1468.67 114.209 1465.57 Q116.663 1462.44 117.01 1456.1 Q115.668 1458.09 113.608 1459.16 Q111.547 1460.22 109.047 1460.22 Q103.862 1460.22 100.83 1457.1 Q97.8206 1453.95 97.8206 1448.51 Q97.8206 1443.19 100.969 1439.97 Q104.117 1436.75 109.348 1436.75 Q115.344 1436.75 118.492 1441.36 Q121.663 1445.94 121.663 1454.69 Q121.663 1462.86 117.774 1467.75 Q113.908 1472.61 107.358 1472.61 Q105.598 1472.61 103.793 1472.26 Q101.987 1471.91 100.043 1471.22 M109.348 1456.56 Q112.496 1456.56 114.325 1454.41 Q116.177 1452.26 116.177 1448.51 Q116.177 1444.78 114.325 1442.63 Q112.496 1440.45 109.348 1440.45 Q106.2 1440.45 104.348 1442.63 Q102.52 1444.78 102.52 1448.51 Q102.52 1452.26 104.348 1454.41 Q106.2 1456.56 109.348 1456.56 Z\" fill=\"#000000\" fill-rule=\"nonzero\" fill-opacity=\"1\" /><path clip-path=\"url(#clip700)\" d=\"M142.913 1441.45 L131.107 1459.9 L142.913 1459.9 L142.913 1441.45 M141.686 1437.38 L147.566 1437.38 L147.566 1459.9 L152.496 1459.9 L152.496 1463.79 L147.566 1463.79 L147.566 1471.94 L142.913 1471.94 L142.913 1463.79 L127.311 1463.79 L127.311 1459.27 L141.686 1437.38 Z\" fill=\"#000000\" fill-rule=\"nonzero\" fill-opacity=\"1\" /><path clip-path=\"url(#clip700)\" d=\"M164.255 1468 L180.575 1468 L180.575 1471.94 L158.63 1471.94 L158.63 1468 Q161.292 1465.25 165.876 1460.62 Q170.482 1455.96 171.663 1454.62 Q173.908 1452.1 174.788 1450.36 Q175.691 1448.6 175.691 1446.91 Q175.691 1444.16 173.746 1442.42 Q171.825 1440.69 168.723 1440.69 Q166.524 1440.69 164.07 1441.45 Q161.64 1442.21 158.862 1443.76 L158.862 1439.04 Q161.686 1437.91 164.14 1437.33 Q166.593 1436.75 168.63 1436.75 Q174.001 1436.75 177.195 1439.44 Q180.39 1442.12 180.39 1446.61 Q180.39 1448.74 179.579 1450.66 Q178.792 1452.56 176.686 1455.15 Q176.107 1455.82 173.005 1459.04 Q169.904 1462.24 164.255 1468 Z\" fill=\"#000000\" fill-rule=\"nonzero\" fill-opacity=\"1\" /><path clip-path=\"url(#clip700)\" d=\"M57.7513 1110.92 L74.0707 1110.92 L74.0707 1114.86 L52.1264 1114.86 L52.1264 1110.92 Q54.7884 1108.17 59.3717 1103.54 Q63.9782 1098.89 65.1587 1097.54 Q67.4041 1095.02 68.2837 1093.29 Q69.1865 1091.53 69.1865 1089.84 Q69.1865 1087.08 67.242 1085.35 Q65.3208 1083.61 62.2189 1083.61 Q60.0199 1083.61 57.5662 1084.37 Q55.1356 1085.14 52.3579 1086.69 L52.3579 1081.97 Q55.1819 1080.83 57.6356 1080.25 Q60.0893 1079.67 62.1263 1079.67 Q67.4967 1079.67 70.6911 1082.36 Q73.8855 1085.04 73.8855 1089.54 Q73.8855 1091.67 73.0753 1093.59 Q72.2883 1095.48 70.1818 1098.08 Q69.6031 1098.75 66.5013 1101.97 Q63.3995 1105.16 57.7513 1110.92 Z\" fill=\"#000000\" fill-rule=\"nonzero\" fill-opacity=\"1\" /><path clip-path=\"url(#clip700)\" d=\"M83.8855 1108.98 L88.7697 1108.98 L88.7697 1114.86 L83.8855 1114.86 L83.8855 1108.98 Z\" fill=\"#000000\" fill-rule=\"nonzero\" fill-opacity=\"1\" /><path clip-path=\"url(#clip700)\" d=\"M99.0937 1114.14 L99.0937 1109.88 Q100.853 1110.72 102.659 1111.16 Q104.464 1111.6 106.2 1111.6 Q110.83 1111.6 113.26 1108.49 Q115.714 1105.37 116.061 1099.03 Q114.719 1101.02 112.658 1102.08 Q110.598 1103.15 108.098 1103.15 Q102.913 1103.15 99.8808 1100.02 Q96.8715 1096.87 96.8715 1091.43 Q96.8715 1086.11 100.02 1082.89 Q103.168 1079.67 108.399 1079.67 Q114.395 1079.67 117.543 1084.28 Q120.714 1088.86 120.714 1097.61 Q120.714 1105.79 116.825 1110.67 Q112.959 1115.53 106.408 1115.53 Q104.649 1115.53 102.844 1115.18 Q101.038 1114.84 99.0937 1114.14 M108.399 1099.49 Q111.547 1099.49 113.376 1097.34 Q115.228 1095.18 115.228 1091.43 Q115.228 1087.71 113.376 1085.55 Q111.547 1083.38 108.399 1083.38 Q105.251 1083.38 103.399 1085.55 Q101.571 1087.71 101.571 1091.43 Q101.571 1095.18 103.399 1097.34 Q105.251 1099.49 108.399 1099.49 Z\" fill=\"#000000\" fill-rule=\"nonzero\" fill-opacity=\"1\" /><path clip-path=\"url(#clip700)\" d=\"M141.964 1084.37 L130.158 1102.82 L141.964 1102.82 L141.964 1084.37 M140.737 1080.3 L146.617 1080.3 L146.617 1102.82 L151.547 1102.82 L151.547 1106.71 L146.617 1106.71 L146.617 1114.86 L141.964 1114.86 L141.964 1106.71 L126.362 1106.71 L126.362 1102.2 L140.737 1080.3 Z\" fill=\"#000000\" fill-rule=\"nonzero\" fill-opacity=\"1\" /><path clip-path=\"url(#clip700)\" d=\"M173.445 1096.23 Q176.802 1096.94 178.677 1099.21 Q180.575 1101.48 180.575 1104.81 Q180.575 1109.93 177.056 1112.73 Q173.538 1115.53 167.056 1115.53 Q164.88 1115.53 162.566 1115.09 Q160.274 1114.67 157.82 1113.82 L157.82 1109.3 Q159.765 1110.44 162.079 1111.02 Q164.394 1111.6 166.917 1111.6 Q171.316 1111.6 173.607 1109.86 Q175.922 1108.12 175.922 1104.81 Q175.922 1101.76 173.769 1100.04 Q171.64 1098.31 167.82 1098.31 L163.792 1098.31 L163.792 1094.47 L168.005 1094.47 Q171.454 1094.47 173.283 1093.1 Q175.112 1091.71 175.112 1089.12 Q175.112 1086.46 173.214 1085.04 Q171.339 1083.61 167.82 1083.61 Q165.899 1083.61 163.7 1084.03 Q161.501 1084.44 158.862 1085.32 L158.862 1081.16 Q161.524 1080.42 163.839 1080.04 Q166.177 1079.67 168.237 1079.67 Q173.561 1079.67 176.663 1082.1 Q179.765 1084.51 179.765 1088.63 Q179.765 1091.5 178.121 1093.49 Q176.478 1095.46 173.445 1096.23 Z\" fill=\"#000000\" fill-rule=\"nonzero\" fill-opacity=\"1\" /><path clip-path=\"url(#clip700)\" d=\"M56.6171 753.849 L72.9365 753.849 L72.9365 757.784 L50.9921 757.784 L50.9921 753.849 Q53.6541 751.094 58.2375 746.464 Q62.8439 741.812 64.0245 740.469 Q66.2698 737.946 67.1494 736.21 Q68.0522 734.45 68.0522 732.761 Q68.0522 730.006 66.1078 728.27 Q64.1865 726.534 61.0847 726.534 Q58.8856 726.534 56.4319 727.298 Q54.0014 728.062 51.2236 729.613 L51.2236 724.89 Q54.0477 723.756 56.5014 723.177 Q58.955 722.599 60.9921 722.599 Q66.3624 722.599 69.5568 725.284 Q72.7513 727.969 72.7513 732.46 Q72.7513 734.589 71.9411 736.511 Q71.1541 738.409 69.0476 741.001 Q68.4689 741.673 65.367 744.89 Q62.2652 748.085 56.6171 753.849 Z\" fill=\"#000000\" fill-rule=\"nonzero\" fill-opacity=\"1\" /><path clip-path=\"url(#clip700)\" d=\"M82.7512 751.904 L87.6354 751.904 L87.6354 757.784 L82.7512 757.784 L82.7512 751.904 Z\" fill=\"#000000\" fill-rule=\"nonzero\" fill-opacity=\"1\" /><path clip-path=\"url(#clip700)\" d=\"M97.9595 757.066 L97.9595 752.807 Q99.7187 753.64 101.524 754.08 Q103.33 754.52 105.066 754.52 Q109.696 754.52 112.126 751.418 Q114.58 748.293 114.927 741.95 Q113.584 743.941 111.524 745.006 Q109.464 746.071 106.964 746.071 Q101.779 746.071 98.7465 742.946 Q95.7373 739.798 95.7373 734.358 Q95.7373 729.034 98.8854 725.816 Q102.034 722.599 107.265 722.599 Q113.26 722.599 116.408 727.205 Q119.58 731.788 119.58 740.538 Q119.58 748.71 115.691 753.594 Q111.825 758.455 105.274 758.455 Q103.515 758.455 101.709 758.108 Q99.9039 757.761 97.9595 757.066 M107.265 742.413 Q110.413 742.413 112.242 740.261 Q114.094 738.108 114.094 734.358 Q114.094 730.631 112.242 728.478 Q110.413 726.302 107.265 726.302 Q104.117 726.302 102.265 728.478 Q100.436 730.631 100.436 734.358 Q100.436 738.108 102.265 740.261 Q104.117 742.413 107.265 742.413 Z\" fill=\"#000000\" fill-rule=\"nonzero\" fill-opacity=\"1\" /><path clip-path=\"url(#clip700)\" d=\"M140.83 727.298 L129.024 745.747 L140.83 745.747 L140.83 727.298 M139.603 723.224 L145.482 723.224 L145.482 745.747 L150.413 745.747 L150.413 749.636 L145.482 749.636 L145.482 757.784 L140.83 757.784 L140.83 749.636 L125.228 749.636 L125.228 745.122 L139.603 723.224 Z\" fill=\"#000000\" fill-rule=\"nonzero\" fill-opacity=\"1\" /><path clip-path=\"url(#clip700)\" d=\"M170.991 727.298 L159.186 745.747 L170.991 745.747 L170.991 727.298 M169.765 723.224 L175.644 723.224 L175.644 745.747 L180.575 745.747 L180.575 749.636 L175.644 749.636 L175.644 757.784 L170.991 757.784 L170.991 749.636 L155.39 749.636 L155.39 745.122 L169.765 723.224 Z\" fill=\"#000000\" fill-rule=\"nonzero\" fill-opacity=\"1\" /><path clip-path=\"url(#clip700)\" d=\"M58.0986 396.773 L74.4179 396.773 L74.4179 400.708 L52.4736 400.708 L52.4736 396.773 Q55.1356 394.018 59.7189 389.389 Q64.3254 384.736 65.5059 383.393 Q67.7513 380.87 68.6309 379.134 Q69.5337 377.375 69.5337 375.685 Q69.5337 372.93 67.5893 371.194 Q65.668 369.458 62.5661 369.458 Q60.3671 369.458 57.9134 370.222 Q55.4828 370.986 52.7051 372.537 L52.7051 367.815 Q55.5291 366.68 57.9828 366.102 Q60.4365 365.523 62.4735 365.523 Q67.8439 365.523 71.0383 368.208 Q74.2327 370.893 74.2327 375.384 Q74.2327 377.514 73.4226 379.435 Q72.6355 381.333 70.5291 383.926 Q69.9504 384.597 66.8485 387.815 Q63.7467 391.009 58.0986 396.773 Z\" fill=\"#000000\" fill-rule=\"nonzero\" fill-opacity=\"1\" /><path clip-path=\"url(#clip700)\" d=\"M84.2327 394.828 L89.1169 394.828 L89.1169 400.708 L84.2327 400.708 L84.2327 394.828 Z\" fill=\"#000000\" fill-rule=\"nonzero\" fill-opacity=\"1\" /><path clip-path=\"url(#clip700)\" d=\"M99.4409 399.99 L99.4409 395.731 Q101.2 396.565 103.006 397.004 Q104.811 397.444 106.547 397.444 Q111.177 397.444 113.608 394.342 Q116.061 391.217 116.408 384.875 Q115.066 386.866 113.006 387.93 Q110.946 388.995 108.446 388.995 Q103.26 388.995 100.228 385.87 Q97.2187 382.722 97.2187 377.282 Q97.2187 371.958 100.367 368.741 Q103.515 365.523 108.746 365.523 Q114.742 365.523 117.89 370.13 Q121.061 374.713 121.061 383.463 Q121.061 391.634 117.172 396.518 Q113.307 401.379 106.756 401.379 Q104.996 401.379 103.191 401.032 Q101.385 400.685 99.4409 399.99 M108.746 385.338 Q111.895 385.338 113.723 383.185 Q115.575 381.032 115.575 377.282 Q115.575 373.555 113.723 371.403 Q111.895 369.227 108.746 369.227 Q105.598 369.227 103.746 371.403 Q101.918 373.555 101.918 377.282 Q101.918 381.032 103.746 383.185 Q105.598 385.338 108.746 385.338 Z\" fill=\"#000000\" fill-rule=\"nonzero\" fill-opacity=\"1\" /><path clip-path=\"url(#clip700)\" d=\"M142.311 370.222 L130.506 388.671 L142.311 388.671 L142.311 370.222 M141.084 366.148 L146.964 366.148 L146.964 388.671 L151.894 388.671 L151.894 392.56 L146.964 392.56 L146.964 400.708 L142.311 400.708 L142.311 392.56 L126.709 392.56 L126.709 388.046 L141.084 366.148 Z\" fill=\"#000000\" fill-rule=\"nonzero\" fill-opacity=\"1\" /><path clip-path=\"url(#clip700)\" d=\"M159.672 366.148 L178.028 366.148 L178.028 370.083 L163.954 370.083 L163.954 378.555 Q164.973 378.208 165.992 378.046 Q167.01 377.861 168.029 377.861 Q173.816 377.861 177.195 381.032 Q180.575 384.204 180.575 389.62 Q180.575 395.199 177.103 398.301 Q173.63 401.379 167.311 401.379 Q165.135 401.379 162.867 401.009 Q160.621 400.639 158.214 399.898 L158.214 395.199 Q160.297 396.333 162.519 396.889 Q164.742 397.444 167.218 397.444 Q171.223 397.444 173.561 395.338 Q175.899 393.231 175.899 389.62 Q175.899 386.009 173.561 383.903 Q171.223 381.796 167.218 381.796 Q165.343 381.796 163.468 382.213 Q161.617 382.629 159.672 383.509 L159.672 366.148 Z\" fill=\"#000000\" fill-rule=\"nonzero\" fill-opacity=\"1\" /><polyline clip-path=\"url(#clip702)\" style=\"stroke:#009af9; stroke-linecap:round; stroke-linejoin:round; stroke-width:4; stroke-opacity:1; fill:none\" points=\"277.033,87.9763 500.951,1195.91 724.869,1389.09 948.788,1432.42 1172.71,1442.58 1396.62,1444.98 1620.54,1445.55 1844.46,1445.68 2068.38,1445.71 2292.3,1445.72 \"/>\n",
       "<path clip-path=\"url(#clip700)\" d=\"M1364.23 198.898 L2281.55 198.898 L2281.55 95.2176 L1364.23 95.2176  Z\" fill=\"#ffffff\" fill-rule=\"evenodd\" fill-opacity=\"1\"/>\n",
       "<polyline clip-path=\"url(#clip700)\" style=\"stroke:#000000; stroke-linecap:round; stroke-linejoin:round; stroke-width:4; stroke-opacity:1; fill:none\" points=\"1364.23,198.898 2281.55,198.898 2281.55,95.2176 1364.23,95.2176 1364.23,198.898 \"/>\n",
       "<polyline clip-path=\"url(#clip700)\" style=\"stroke:#009af9; stroke-linecap:round; stroke-linejoin:round; stroke-width:4; stroke-opacity:1; fill:none\" points=\"1387.97,147.058 1530.38,147.058 \"/>\n",
       "<path clip-path=\"url(#clip700)\" d=\"M1558.79 147.833 L1558.79 160.495 L1566.29 160.495 Q1570.06 160.495 1571.87 158.944 Q1573.7 157.37 1573.7 154.152 Q1573.7 150.912 1571.87 149.384 Q1570.06 147.833 1566.29 147.833 L1558.79 147.833 M1558.79 133.62 L1558.79 144.037 L1565.71 144.037 Q1569.14 144.037 1570.8 142.764 Q1572.49 141.467 1572.49 138.828 Q1572.49 136.213 1570.8 134.916 Q1569.14 133.62 1565.71 133.62 L1558.79 133.62 M1554.11 129.778 L1566.06 129.778 Q1571.41 129.778 1574.3 132 Q1577.19 134.222 1577.19 138.319 Q1577.19 141.49 1575.71 143.365 Q1574.23 145.24 1571.36 145.703 Q1574.81 146.444 1576.71 148.805 Q1578.63 151.143 1578.63 154.662 Q1578.63 159.291 1575.48 161.814 Q1572.33 164.338 1566.52 164.338 L1554.11 164.338 L1554.11 129.778 Z\" fill=\"#000000\" fill-rule=\"nonzero\" fill-opacity=\"1\" /><path clip-path=\"url(#clip700)\" d=\"M1608.63 150.31 L1608.63 152.393 L1589.04 152.393 Q1589.32 156.791 1591.68 159.106 Q1594.07 161.398 1598.3 161.398 Q1600.76 161.398 1603.05 160.796 Q1605.36 160.194 1607.63 158.99 L1607.63 163.018 Q1605.34 163.99 1602.93 164.5 Q1600.53 165.009 1598.05 165.009 Q1591.85 165.009 1588.21 161.398 Q1584.6 157.787 1584.6 151.629 Q1584.6 145.264 1588.03 141.537 Q1591.48 137.787 1597.31 137.787 Q1602.54 137.787 1605.57 141.166 Q1608.63 144.523 1608.63 150.31 M1604.37 149.06 Q1604.32 145.565 1602.4 143.481 Q1600.5 141.398 1597.36 141.398 Q1593.79 141.398 1591.64 143.412 Q1589.51 145.426 1589.18 149.083 L1604.37 149.06 Z\" fill=\"#000000\" fill-rule=\"nonzero\" fill-opacity=\"1\" /><path clip-path=\"url(#clip700)\" d=\"M1619.83 131.051 L1619.83 138.412 L1628.6 138.412 L1628.6 141.722 L1619.83 141.722 L1619.83 155.796 Q1619.83 158.967 1620.69 159.87 Q1621.57 160.773 1624.23 160.773 L1628.6 160.773 L1628.6 164.338 L1624.23 164.338 Q1619.3 164.338 1617.42 162.509 Q1615.55 160.657 1615.55 155.796 L1615.55 141.722 L1612.42 141.722 L1612.42 138.412 L1615.55 138.412 L1615.55 131.051 L1619.83 131.051 Z\" fill=\"#000000\" fill-rule=\"nonzero\" fill-opacity=\"1\" /><path clip-path=\"url(#clip700)\" d=\"M1655.76 148.689 L1655.76 164.338 L1651.5 164.338 L1651.5 148.828 Q1651.5 145.148 1650.06 143.319 Q1648.63 141.49 1645.76 141.49 Q1642.31 141.49 1640.32 143.69 Q1638.33 145.889 1638.33 149.685 L1638.33 164.338 L1634.04 164.338 L1634.04 128.319 L1638.33 128.319 L1638.33 142.44 Q1639.85 140.102 1641.92 138.944 Q1644 137.787 1646.71 137.787 Q1651.17 137.787 1653.47 140.565 Q1655.76 143.319 1655.76 148.689 Z\" fill=\"#000000\" fill-rule=\"nonzero\" fill-opacity=\"1\" /><path clip-path=\"url(#clip700)\" d=\"M1686.43 150.31 L1686.43 152.393 L1666.85 152.393 Q1667.12 156.791 1669.48 159.106 Q1671.87 161.398 1676.1 161.398 Q1678.56 161.398 1680.85 160.796 Q1683.16 160.194 1685.43 158.99 L1685.43 163.018 Q1683.14 163.99 1680.73 164.5 Q1678.33 165.009 1675.85 165.009 Q1669.65 165.009 1666.01 161.398 Q1662.4 157.787 1662.4 151.629 Q1662.4 145.264 1665.83 141.537 Q1669.28 137.787 1675.11 137.787 Q1680.34 137.787 1683.37 141.166 Q1686.43 144.523 1686.43 150.31 M1682.17 149.06 Q1682.12 145.565 1680.2 143.481 Q1678.3 141.398 1675.16 141.398 Q1671.59 141.398 1669.44 143.412 Q1667.31 145.426 1666.98 149.083 L1682.17 149.06 Z\" fill=\"#000000\" fill-rule=\"nonzero\" fill-opacity=\"1\" /><path clip-path=\"url(#clip700)\" d=\"M1708.67 129.778 L1728.53 129.778 L1728.53 133.713 L1713.35 133.713 L1713.35 143.898 L1727.05 143.898 L1727.05 147.833 L1713.35 147.833 L1713.35 164.338 L1708.67 164.338 L1708.67 129.778 Z\" fill=\"#000000\" fill-rule=\"nonzero\" fill-opacity=\"1\" /><path clip-path=\"url(#clip700)\" d=\"M1747.33 142.393 Q1746.61 141.977 1745.76 141.791 Q1744.92 141.583 1743.91 141.583 Q1740.29 141.583 1738.35 143.944 Q1736.43 146.282 1736.43 150.68 L1736.43 164.338 L1732.15 164.338 L1732.15 138.412 L1736.43 138.412 L1736.43 142.44 Q1737.77 140.078 1739.92 138.944 Q1742.08 137.787 1745.16 137.787 Q1745.6 137.787 1746.13 137.856 Q1746.66 137.903 1747.31 138.018 L1747.33 142.393 Z\" fill=\"#000000\" fill-rule=\"nonzero\" fill-opacity=\"1\" /><path clip-path=\"url(#clip700)\" d=\"M1772.93 150.31 L1772.93 152.393 L1753.35 152.393 Q1753.63 156.791 1755.99 159.106 Q1758.37 161.398 1762.61 161.398 Q1765.06 161.398 1767.35 160.796 Q1769.67 160.194 1771.94 158.99 L1771.94 163.018 Q1769.65 163.99 1767.24 164.5 Q1764.83 165.009 1762.35 165.009 Q1756.15 165.009 1752.52 161.398 Q1748.91 157.787 1748.91 151.629 Q1748.91 145.264 1752.33 141.537 Q1755.78 137.787 1761.61 137.787 Q1766.84 137.787 1769.88 141.166 Q1772.93 144.523 1772.93 150.31 M1768.67 149.06 Q1768.63 145.565 1766.71 143.481 Q1764.81 141.398 1761.66 141.398 Q1758.09 141.398 1755.94 143.412 Q1753.81 145.426 1753.49 149.083 L1768.67 149.06 Z\" fill=\"#000000\" fill-rule=\"nonzero\" fill-opacity=\"1\" /><path clip-path=\"url(#clip700)\" d=\"M1802.1 150.31 L1802.1 152.393 L1782.52 152.393 Q1782.79 156.791 1785.16 159.106 Q1787.54 161.398 1791.78 161.398 Q1794.23 161.398 1796.52 160.796 Q1798.84 160.194 1801.1 158.99 L1801.1 163.018 Q1798.81 163.99 1796.4 164.5 Q1794 165.009 1791.52 165.009 Q1785.32 165.009 1781.68 161.398 Q1778.07 157.787 1778.07 151.629 Q1778.07 145.264 1781.5 141.537 Q1784.95 137.787 1790.78 137.787 Q1796.01 137.787 1799.04 141.166 Q1802.1 144.523 1802.1 150.31 M1797.84 149.06 Q1797.79 145.565 1795.87 143.481 Q1793.97 141.398 1790.83 141.398 Q1787.26 141.398 1785.11 143.412 Q1782.98 145.426 1782.66 149.083 L1797.84 149.06 Z\" fill=\"#000000\" fill-rule=\"nonzero\" fill-opacity=\"1\" /><path clip-path=\"url(#clip700)\" d=\"M1824.34 129.778 L1846.2 129.778 L1846.2 133.713 L1829.02 133.713 L1829.02 143.944 L1845.48 143.944 L1845.48 147.879 L1829.02 147.879 L1829.02 160.402 L1846.61 160.402 L1846.61 164.338 L1824.34 164.338 L1824.34 129.778 Z\" fill=\"#000000\" fill-rule=\"nonzero\" fill-opacity=\"1\" /><path clip-path=\"url(#clip700)\" d=\"M1875.66 148.689 L1875.66 164.338 L1871.4 164.338 L1871.4 148.828 Q1871.4 145.148 1869.97 143.319 Q1868.53 141.49 1865.66 141.49 Q1862.21 141.49 1860.22 143.69 Q1858.23 145.889 1858.23 149.685 L1858.23 164.338 L1853.95 164.338 L1853.95 138.412 L1858.23 138.412 L1858.23 142.44 Q1859.76 140.102 1861.82 138.944 Q1863.9 137.787 1866.61 137.787 Q1871.08 137.787 1873.37 140.565 Q1875.66 143.319 1875.66 148.689 Z\" fill=\"#000000\" fill-rule=\"nonzero\" fill-opacity=\"1\" /><path clip-path=\"url(#clip700)\" d=\"M1906.33 150.31 L1906.33 152.393 L1886.75 152.393 Q1887.03 156.791 1889.39 159.106 Q1891.77 161.398 1896.01 161.398 Q1898.46 161.398 1900.76 160.796 Q1903.07 160.194 1905.34 158.99 L1905.34 163.018 Q1903.05 163.99 1900.64 164.5 Q1898.23 165.009 1895.76 165.009 Q1889.55 165.009 1885.92 161.398 Q1882.31 157.787 1882.31 151.629 Q1882.31 145.264 1885.73 141.537 Q1889.18 137.787 1895.02 137.787 Q1900.25 137.787 1903.28 141.166 Q1906.33 144.523 1906.33 150.31 M1902.08 149.06 Q1902.03 145.565 1900.11 143.481 Q1898.21 141.398 1895.06 141.398 Q1891.5 141.398 1889.34 143.412 Q1887.21 145.426 1886.89 149.083 L1902.08 149.06 Z\" fill=\"#000000\" fill-rule=\"nonzero\" fill-opacity=\"1\" /><path clip-path=\"url(#clip700)\" d=\"M1928.35 142.393 Q1927.63 141.977 1926.77 141.791 Q1925.94 141.583 1924.92 141.583 Q1921.31 141.583 1919.37 143.944 Q1917.45 146.282 1917.45 150.68 L1917.45 164.338 L1913.16 164.338 L1913.16 138.412 L1917.45 138.412 L1917.45 142.44 Q1918.79 140.078 1920.94 138.944 Q1923.09 137.787 1926.17 137.787 Q1926.61 137.787 1927.14 137.856 Q1927.68 137.903 1928.33 138.018 L1928.35 142.393 Z\" fill=\"#000000\" fill-rule=\"nonzero\" fill-opacity=\"1\" /><path clip-path=\"url(#clip700)\" d=\"M1949.04 151.074 Q1949.04 146.444 1947.12 143.898 Q1945.22 141.352 1941.77 141.352 Q1938.35 141.352 1936.43 143.898 Q1934.53 146.444 1934.53 151.074 Q1934.53 155.68 1936.43 158.226 Q1938.35 160.773 1941.77 160.773 Q1945.22 160.773 1947.12 158.226 Q1949.04 155.68 1949.04 151.074 M1953.3 161.12 Q1953.3 167.74 1950.36 170.958 Q1947.42 174.199 1941.36 174.199 Q1939.11 174.199 1937.12 173.851 Q1935.13 173.527 1933.26 172.833 L1933.26 168.689 Q1935.13 169.708 1936.96 170.194 Q1938.79 170.68 1940.69 170.68 Q1944.88 170.68 1946.96 168.481 Q1949.04 166.305 1949.04 161.884 L1949.04 159.777 Q1947.72 162.069 1945.66 163.203 Q1943.6 164.338 1940.73 164.338 Q1935.96 164.338 1933.05 160.703 Q1930.13 157.069 1930.13 151.074 Q1930.13 145.055 1933.05 141.421 Q1935.96 137.787 1940.73 137.787 Q1943.6 137.787 1945.66 138.921 Q1947.72 140.055 1949.04 142.347 L1949.04 138.412 L1953.3 138.412 L1953.3 161.12 Z\" fill=\"#000000\" fill-rule=\"nonzero\" fill-opacity=\"1\" /><path clip-path=\"url(#clip700)\" d=\"M1972.86 166.745 Q1971.06 171.375 1969.34 172.787 Q1967.63 174.199 1964.76 174.199 L1961.36 174.199 L1961.36 170.634 L1963.86 170.634 Q1965.62 170.634 1966.59 169.8 Q1967.56 168.967 1968.74 165.865 L1969.51 163.921 L1959.02 138.412 L1963.53 138.412 L1971.64 158.689 L1979.74 138.412 L1984.25 138.412 L1972.86 166.745 Z\" fill=\"#000000\" fill-rule=\"nonzero\" fill-opacity=\"1\" /><path clip-path=\"url(#clip700)\" d=\"M2015.43 128.366 Q2012.33 133.69 2010.83 138.898 Q2009.32 144.106 2009.32 149.453 Q2009.32 154.801 2010.83 160.055 Q2012.35 165.287 2015.43 170.588 L2011.73 170.588 Q2008.26 165.148 2006.52 159.893 Q2004.81 154.639 2004.81 149.453 Q2004.81 144.291 2006.52 139.06 Q2008.23 133.828 2011.73 128.366 L2015.43 128.366 Z\" fill=\"#000000\" fill-rule=\"nonzero\" fill-opacity=\"1\" /><path clip-path=\"url(#clip700)\" d=\"M2035.48 151.305 Q2030.32 151.305 2028.33 152.486 Q2026.33 153.666 2026.33 156.514 Q2026.33 158.782 2027.82 160.125 Q2029.32 161.444 2031.89 161.444 Q2035.43 161.444 2037.56 158.944 Q2039.71 156.421 2039.71 152.254 L2039.71 151.305 L2035.48 151.305 M2043.97 149.546 L2043.97 164.338 L2039.71 164.338 L2039.71 160.402 Q2038.26 162.763 2036.08 163.898 Q2033.9 165.009 2030.76 165.009 Q2026.77 165.009 2024.41 162.787 Q2022.08 160.541 2022.08 156.791 Q2022.08 152.416 2024.99 150.194 Q2027.93 147.972 2033.74 147.972 L2039.71 147.972 L2039.71 147.555 Q2039.71 144.615 2037.77 143.018 Q2035.85 141.398 2032.35 141.398 Q2030.13 141.398 2028.02 141.93 Q2025.92 142.463 2023.97 143.527 L2023.97 139.592 Q2026.31 138.69 2028.51 138.25 Q2030.71 137.787 2032.79 137.787 Q2038.42 137.787 2041.2 140.703 Q2043.97 143.62 2043.97 149.546 Z\" fill=\"#000000\" fill-rule=\"nonzero\" fill-opacity=\"1\" /><path clip-path=\"url(#clip700)\" d=\"M2049.69 138.412 L2054.2 138.412 L2062.31 160.171 L2070.41 138.412 L2074.92 138.412 L2065.2 164.338 L2059.41 164.338 L2049.69 138.412 Z\" fill=\"#000000\" fill-rule=\"nonzero\" fill-opacity=\"1\" /><path clip-path=\"url(#clip700)\" d=\"M2102.98 150.31 L2102.98 152.393 L2083.39 152.393 Q2083.67 156.791 2086.03 159.106 Q2088.42 161.398 2092.65 161.398 Q2095.11 161.398 2097.4 160.796 Q2099.71 160.194 2101.98 158.99 L2101.98 163.018 Q2099.69 163.99 2097.28 164.5 Q2094.88 165.009 2092.4 165.009 Q2086.2 165.009 2082.56 161.398 Q2078.95 157.787 2078.95 151.629 Q2078.95 145.264 2082.38 141.537 Q2085.82 137.787 2091.66 137.787 Q2096.89 137.787 2099.92 141.166 Q2102.98 144.523 2102.98 150.31 M2098.72 149.06 Q2098.67 145.565 2096.75 143.481 Q2094.85 141.398 2091.7 141.398 Q2088.14 141.398 2085.99 143.412 Q2083.86 145.426 2083.53 149.083 L2098.72 149.06 Z\" fill=\"#000000\" fill-rule=\"nonzero\" fill-opacity=\"1\" /><path clip-path=\"url(#clip700)\" d=\"M2124.99 142.393 Q2124.27 141.977 2123.42 141.791 Q2122.58 141.583 2121.57 141.583 Q2117.95 141.583 2116.01 143.944 Q2114.09 146.282 2114.09 150.68 L2114.09 164.338 L2109.81 164.338 L2109.81 138.412 L2114.09 138.412 L2114.09 142.44 Q2115.43 140.078 2117.58 138.944 Q2119.74 137.787 2122.82 137.787 Q2123.26 137.787 2123.79 137.856 Q2124.32 137.903 2124.97 138.018 L2124.99 142.393 Z\" fill=\"#000000\" fill-rule=\"nonzero\" fill-opacity=\"1\" /><path clip-path=\"url(#clip700)\" d=\"M2141.24 151.305 Q2136.08 151.305 2134.09 152.486 Q2132.1 153.666 2132.1 156.514 Q2132.1 158.782 2133.58 160.125 Q2135.08 161.444 2137.65 161.444 Q2141.19 161.444 2143.32 158.944 Q2145.48 156.421 2145.48 152.254 L2145.48 151.305 L2141.24 151.305 M2149.74 149.546 L2149.74 164.338 L2145.48 164.338 L2145.48 160.402 Q2144.02 162.763 2141.84 163.898 Q2139.67 165.009 2136.52 165.009 Q2132.54 165.009 2130.18 162.787 Q2127.84 160.541 2127.84 156.791 Q2127.84 152.416 2130.76 150.194 Q2133.69 147.972 2139.5 147.972 L2145.48 147.972 L2145.48 147.555 Q2145.48 144.615 2143.53 143.018 Q2141.61 141.398 2138.12 141.398 Q2135.89 141.398 2133.79 141.93 Q2131.68 142.463 2129.74 143.527 L2129.74 139.592 Q2132.07 138.69 2134.27 138.25 Q2136.47 137.787 2138.56 137.787 Q2144.18 137.787 2146.96 140.703 Q2149.74 143.62 2149.74 149.546 Z\" fill=\"#000000\" fill-rule=\"nonzero\" fill-opacity=\"1\" /><path clip-path=\"url(#clip700)\" d=\"M2175.57 151.074 Q2175.57 146.444 2173.65 143.898 Q2171.75 141.352 2168.3 141.352 Q2164.88 141.352 2162.95 143.898 Q2161.06 146.444 2161.06 151.074 Q2161.06 155.68 2162.95 158.226 Q2164.88 160.773 2168.3 160.773 Q2171.75 160.773 2173.65 158.226 Q2175.57 155.68 2175.57 151.074 M2179.83 161.12 Q2179.83 167.74 2176.89 170.958 Q2173.95 174.199 2167.88 174.199 Q2165.64 174.199 2163.65 173.851 Q2161.66 173.527 2159.78 172.833 L2159.78 168.689 Q2161.66 169.708 2163.49 170.194 Q2165.32 170.68 2167.21 170.68 Q2171.4 170.68 2173.49 168.481 Q2175.57 166.305 2175.57 161.884 L2175.57 159.777 Q2174.25 162.069 2172.19 163.203 Q2170.13 164.338 2167.26 164.338 Q2162.49 164.338 2159.57 160.703 Q2156.66 157.069 2156.66 151.074 Q2156.66 145.055 2159.57 141.421 Q2162.49 137.787 2167.26 137.787 Q2170.13 137.787 2172.19 138.921 Q2174.25 140.055 2175.57 142.347 L2175.57 138.412 L2179.83 138.412 L2179.83 161.12 Z\" fill=\"#000000\" fill-rule=\"nonzero\" fill-opacity=\"1\" /><path clip-path=\"url(#clip700)\" d=\"M2210.78 150.31 L2210.78 152.393 L2191.19 152.393 Q2191.47 156.791 2193.83 159.106 Q2196.22 161.398 2200.45 161.398 Q2202.91 161.398 2205.2 160.796 Q2207.51 160.194 2209.78 158.99 L2209.78 163.018 Q2207.49 163.99 2205.08 164.5 Q2202.68 165.009 2200.2 165.009 Q2194 165.009 2190.36 161.398 Q2186.75 157.787 2186.75 151.629 Q2186.75 145.264 2190.18 141.537 Q2193.63 137.787 2199.46 137.787 Q2204.69 137.787 2207.72 141.166 Q2210.78 144.523 2210.78 150.31 M2206.52 149.06 Q2206.47 145.565 2204.55 143.481 Q2202.65 141.398 2199.5 141.398 Q2195.94 141.398 2193.79 143.412 Q2191.66 145.426 2191.33 149.083 L2206.52 149.06 Z\" fill=\"#000000\" fill-rule=\"nonzero\" fill-opacity=\"1\" /><path clip-path=\"url(#clip700)\" d=\"M2234.83 142.347 L2234.83 128.319 L2239.09 128.319 L2239.09 164.338 L2234.83 164.338 L2234.83 160.449 Q2233.49 162.763 2231.43 163.898 Q2229.39 165.009 2226.52 165.009 Q2221.82 165.009 2218.86 161.259 Q2215.92 157.509 2215.92 151.398 Q2215.92 145.287 2218.86 141.537 Q2221.82 137.787 2226.52 137.787 Q2229.39 137.787 2231.43 138.921 Q2233.49 140.032 2234.83 142.347 M2220.31 151.398 Q2220.31 156.097 2222.24 158.782 Q2224.18 161.444 2227.56 161.444 Q2230.94 161.444 2232.88 158.782 Q2234.83 156.097 2234.83 151.398 Q2234.83 146.699 2232.88 144.037 Q2230.94 141.352 2227.56 141.352 Q2224.18 141.352 2222.24 144.037 Q2220.31 146.699 2220.31 151.398 Z\" fill=\"#000000\" fill-rule=\"nonzero\" fill-opacity=\"1\" /><path clip-path=\"url(#clip700)\" d=\"M2247.19 128.366 L2250.89 128.366 Q2254.37 133.828 2256.08 139.06 Q2257.81 144.291 2257.81 149.453 Q2257.81 154.639 2256.08 159.893 Q2254.37 165.148 2250.89 170.588 L2247.19 170.588 Q2250.27 165.287 2251.77 160.055 Q2253.3 154.801 2253.3 149.453 Q2253.3 144.106 2251.77 138.898 Q2250.27 133.69 2247.19 128.366 Z\" fill=\"#000000\" fill-rule=\"nonzero\" fill-opacity=\"1\" /></svg>\n"
      ],
      "text/html": [
       "<?xml version=\"1.0\" encoding=\"utf-8\"?>\n",
       "<svg xmlns=\"http://www.w3.org/2000/svg\" xmlns:xlink=\"http://www.w3.org/1999/xlink\" width=\"600\" height=\"400\" viewBox=\"0 0 2400 1600\">\n",
       "<defs>\n",
       "  <clipPath id=\"clip750\">\n",
       "    <rect x=\"0\" y=\"0\" width=\"2400\" height=\"1600\"/>\n",
       "  </clipPath>\n",
       "</defs>\n",
       "<path clip-path=\"url(#clip750)\" d=\"M0 1600 L2400 1600 L2400 8.88178e-14 L0 8.88178e-14  Z\" fill=\"#ffffff\" fill-rule=\"evenodd\" fill-opacity=\"1\"/>\n",
       "<defs>\n",
       "  <clipPath id=\"clip751\">\n",
       "    <rect x=\"480\" y=\"0\" width=\"1681\" height=\"1600\"/>\n",
       "  </clipPath>\n",
       "</defs>\n",
       "<path clip-path=\"url(#clip750)\" d=\"M216.575 1486.45 L2352.76 1486.45 L2352.76 47.2441 L216.575 47.2441  Z\" fill=\"#ffffff\" fill-rule=\"evenodd\" fill-opacity=\"1\"/>\n",
       "<defs>\n",
       "  <clipPath id=\"clip752\">\n",
       "    <rect x=\"216\" y=\"47\" width=\"2137\" height=\"1440\"/>\n",
       "  </clipPath>\n",
       "</defs>\n",
       "<polyline clip-path=\"url(#clip752)\" style=\"stroke:#000000; stroke-linecap:round; stroke-linejoin:round; stroke-width:2; stroke-opacity:0.1; fill:none\" points=\"500.951,1486.45 500.951,47.2441 \"/>\n",
       "<polyline clip-path=\"url(#clip752)\" style=\"stroke:#000000; stroke-linecap:round; stroke-linejoin:round; stroke-width:2; stroke-opacity:0.1; fill:none\" points=\"948.788,1486.45 948.788,47.2441 \"/>\n",
       "<polyline clip-path=\"url(#clip752)\" style=\"stroke:#000000; stroke-linecap:round; stroke-linejoin:round; stroke-width:2; stroke-opacity:0.1; fill:none\" points=\"1396.62,1486.45 1396.62,47.2441 \"/>\n",
       "<polyline clip-path=\"url(#clip752)\" style=\"stroke:#000000; stroke-linecap:round; stroke-linejoin:round; stroke-width:2; stroke-opacity:0.1; fill:none\" points=\"1844.46,1486.45 1844.46,47.2441 \"/>\n",
       "<polyline clip-path=\"url(#clip752)\" style=\"stroke:#000000; stroke-linecap:round; stroke-linejoin:round; stroke-width:2; stroke-opacity:0.1; fill:none\" points=\"2292.3,1486.45 2292.3,47.2441 \"/>\n",
       "<polyline clip-path=\"url(#clip750)\" style=\"stroke:#000000; stroke-linecap:round; stroke-linejoin:round; stroke-width:4; stroke-opacity:1; fill:none\" points=\"216.575,1486.45 2352.76,1486.45 \"/>\n",
       "<polyline clip-path=\"url(#clip750)\" style=\"stroke:#000000; stroke-linecap:round; stroke-linejoin:round; stroke-width:4; stroke-opacity:1; fill:none\" points=\"500.951,1486.45 500.951,1467.55 \"/>\n",
       "<polyline clip-path=\"url(#clip750)\" style=\"stroke:#000000; stroke-linecap:round; stroke-linejoin:round; stroke-width:4; stroke-opacity:1; fill:none\" points=\"948.788,1486.45 948.788,1467.55 \"/>\n",
       "<polyline clip-path=\"url(#clip750)\" style=\"stroke:#000000; stroke-linecap:round; stroke-linejoin:round; stroke-width:4; stroke-opacity:1; fill:none\" points=\"1396.62,1486.45 1396.62,1467.55 \"/>\n",
       "<polyline clip-path=\"url(#clip750)\" style=\"stroke:#000000; stroke-linecap:round; stroke-linejoin:round; stroke-width:4; stroke-opacity:1; fill:none\" points=\"1844.46,1486.45 1844.46,1467.55 \"/>\n",
       "<polyline clip-path=\"url(#clip750)\" style=\"stroke:#000000; stroke-linecap:round; stroke-linejoin:round; stroke-width:4; stroke-opacity:1; fill:none\" points=\"2292.3,1486.45 2292.3,1467.55 \"/>\n",
       "<path clip-path=\"url(#clip750)\" d=\"M495.604 1544.91 L511.923 1544.91 L511.923 1548.85 L489.979 1548.85 L489.979 1544.91 Q492.641 1542.16 497.224 1537.53 Q501.831 1532.88 503.011 1531.53 Q505.257 1529.01 506.136 1527.27 Q507.039 1525.51 507.039 1523.82 Q507.039 1521.07 505.095 1519.33 Q503.173 1517.6 500.071 1517.6 Q497.872 1517.6 495.419 1518.36 Q492.988 1519.13 490.21 1520.68 L490.21 1515.95 Q493.034 1514.82 495.488 1514.24 Q497.942 1513.66 499.979 1513.66 Q505.349 1513.66 508.544 1516.35 Q511.738 1519.03 511.738 1523.52 Q511.738 1525.65 510.928 1527.57 Q510.141 1529.47 508.034 1532.07 Q507.456 1532.74 504.354 1535.95 Q501.252 1539.15 495.604 1544.91 Z\" fill=\"#000000\" fill-rule=\"nonzero\" fill-opacity=\"1\" /><path clip-path=\"url(#clip750)\" d=\"M951.797 1518.36 L939.992 1536.81 L951.797 1536.81 L951.797 1518.36 M950.57 1514.29 L956.45 1514.29 L956.45 1536.81 L961.38 1536.81 L961.38 1540.7 L956.45 1540.7 L956.45 1548.85 L951.797 1548.85 L951.797 1540.7 L936.195 1540.7 L936.195 1536.19 L950.57 1514.29 Z\" fill=\"#000000\" fill-rule=\"nonzero\" fill-opacity=\"1\" /><path clip-path=\"url(#clip750)\" d=\"M1397.03 1529.7 Q1393.88 1529.7 1392.03 1531.86 Q1390.2 1534.01 1390.2 1537.76 Q1390.2 1541.49 1392.03 1543.66 Q1393.88 1545.82 1397.03 1545.82 Q1400.18 1545.82 1402.01 1543.66 Q1403.86 1541.49 1403.86 1537.76 Q1403.86 1534.01 1402.01 1531.86 Q1400.18 1529.7 1397.03 1529.7 M1406.31 1515.05 L1406.31 1519.31 Q1404.55 1518.48 1402.75 1518.04 Q1400.96 1517.6 1399.21 1517.6 Q1394.58 1517.6 1392.12 1520.72 Q1389.69 1523.85 1389.34 1530.17 Q1390.71 1528.15 1392.77 1527.09 Q1394.83 1526 1397.31 1526 Q1402.52 1526 1405.52 1529.17 Q1408.56 1532.32 1408.56 1537.76 Q1408.56 1543.08 1405.41 1546.3 Q1402.26 1549.52 1397.03 1549.52 Q1391.03 1549.52 1387.86 1544.94 Q1384.69 1540.33 1384.69 1531.6 Q1384.69 1523.41 1388.58 1518.55 Q1392.47 1513.66 1399.02 1513.66 Q1400.78 1513.66 1402.56 1514.01 Q1404.37 1514.36 1406.31 1515.05 Z\" fill=\"#000000\" fill-rule=\"nonzero\" fill-opacity=\"1\" /><path clip-path=\"url(#clip750)\" d=\"M1844.46 1532.44 Q1841.13 1532.44 1839.21 1534.22 Q1837.31 1536 1837.31 1539.13 Q1837.31 1542.25 1839.21 1544.03 Q1841.13 1545.82 1844.46 1545.82 Q1847.79 1545.82 1849.72 1544.03 Q1851.64 1542.23 1851.64 1539.13 Q1851.64 1536 1849.72 1534.22 Q1847.82 1532.44 1844.46 1532.44 M1839.79 1530.45 Q1836.78 1529.7 1835.09 1527.64 Q1833.42 1525.58 1833.42 1522.62 Q1833.42 1518.48 1836.36 1516.07 Q1839.32 1513.66 1844.46 1513.66 Q1849.62 1513.66 1852.56 1516.07 Q1855.5 1518.48 1855.5 1522.62 Q1855.5 1525.58 1853.81 1527.64 Q1852.15 1529.7 1849.16 1530.45 Q1852.54 1531.23 1854.41 1533.52 Q1856.31 1535.82 1856.31 1539.13 Q1856.31 1544.15 1853.23 1546.83 Q1850.18 1549.52 1844.46 1549.52 Q1838.74 1549.52 1835.66 1546.83 Q1832.61 1544.15 1832.61 1539.13 Q1832.61 1535.82 1834.51 1533.52 Q1836.41 1531.23 1839.79 1530.45 M1838.07 1523.06 Q1838.07 1525.75 1839.74 1527.25 Q1841.43 1528.76 1844.46 1528.76 Q1847.47 1528.76 1849.16 1527.25 Q1850.87 1525.75 1850.87 1523.06 Q1850.87 1520.38 1849.16 1518.87 Q1847.47 1517.37 1844.46 1517.37 Q1841.43 1517.37 1839.74 1518.87 Q1838.07 1520.38 1838.07 1523.06 Z\" fill=\"#000000\" fill-rule=\"nonzero\" fill-opacity=\"1\" /><path clip-path=\"url(#clip750)\" d=\"M2266.99 1544.91 L2274.62 1544.91 L2274.62 1518.55 L2266.31 1520.21 L2266.31 1515.95 L2274.58 1514.29 L2279.25 1514.29 L2279.25 1544.91 L2286.89 1544.91 L2286.89 1548.85 L2266.99 1548.85 L2266.99 1544.91 Z\" fill=\"#000000\" fill-rule=\"nonzero\" fill-opacity=\"1\" /><path clip-path=\"url(#clip750)\" d=\"M2306.34 1517.37 Q2302.73 1517.37 2300.9 1520.93 Q2299.09 1524.47 2299.09 1531.6 Q2299.09 1538.71 2300.9 1542.27 Q2302.73 1545.82 2306.34 1545.82 Q2309.97 1545.82 2311.78 1542.27 Q2313.61 1538.71 2313.61 1531.6 Q2313.61 1524.47 2311.78 1520.93 Q2309.97 1517.37 2306.34 1517.37 M2306.34 1513.66 Q2312.15 1513.66 2315.2 1518.27 Q2318.28 1522.85 2318.28 1531.6 Q2318.28 1540.33 2315.2 1544.94 Q2312.15 1549.52 2306.34 1549.52 Q2300.53 1549.52 2297.45 1544.94 Q2294.39 1540.33 2294.39 1531.6 Q2294.39 1522.85 2297.45 1518.27 Q2300.53 1513.66 2306.34 1513.66 Z\" fill=\"#000000\" fill-rule=\"nonzero\" fill-opacity=\"1\" /><polyline clip-path=\"url(#clip752)\" style=\"stroke:#000000; stroke-linecap:round; stroke-linejoin:round; stroke-width:2; stroke-opacity:0.1; fill:none\" points=\"216.575,1454.66 2352.76,1454.66 \"/>\n",
       "<polyline clip-path=\"url(#clip752)\" style=\"stroke:#000000; stroke-linecap:round; stroke-linejoin:round; stroke-width:2; stroke-opacity:0.1; fill:none\" points=\"216.575,1097.58 2352.76,1097.58 \"/>\n",
       "<polyline clip-path=\"url(#clip752)\" style=\"stroke:#000000; stroke-linecap:round; stroke-linejoin:round; stroke-width:2; stroke-opacity:0.1; fill:none\" points=\"216.575,740.504 2352.76,740.504 \"/>\n",
       "<polyline clip-path=\"url(#clip752)\" style=\"stroke:#000000; stroke-linecap:round; stroke-linejoin:round; stroke-width:2; stroke-opacity:0.1; fill:none\" points=\"216.575,383.428 2352.76,383.428 \"/>\n",
       "<polyline clip-path=\"url(#clip750)\" style=\"stroke:#000000; stroke-linecap:round; stroke-linejoin:round; stroke-width:4; stroke-opacity:1; fill:none\" points=\"216.575,1486.45 216.575,47.2441 \"/>\n",
       "<polyline clip-path=\"url(#clip750)\" style=\"stroke:#000000; stroke-linecap:round; stroke-linejoin:round; stroke-width:4; stroke-opacity:1; fill:none\" points=\"216.575,1454.66 235.472,1454.66 \"/>\n",
       "<polyline clip-path=\"url(#clip750)\" style=\"stroke:#000000; stroke-linecap:round; stroke-linejoin:round; stroke-width:4; stroke-opacity:1; fill:none\" points=\"216.575,1097.58 235.472,1097.58 \"/>\n",
       "<polyline clip-path=\"url(#clip750)\" style=\"stroke:#000000; stroke-linecap:round; stroke-linejoin:round; stroke-width:4; stroke-opacity:1; fill:none\" points=\"216.575,740.504 235.472,740.504 \"/>\n",
       "<polyline clip-path=\"url(#clip750)\" style=\"stroke:#000000; stroke-linecap:round; stroke-linejoin:round; stroke-width:4; stroke-opacity:1; fill:none\" points=\"216.575,383.428 235.472,383.428 \"/>\n",
       "<path clip-path=\"url(#clip750)\" d=\"M58.7004 1468 L75.0198 1468 L75.0198 1471.94 L53.0754 1471.94 L53.0754 1468 Q55.7375 1465.25 60.3208 1460.62 Q64.9272 1455.96 66.1078 1454.62 Q68.3531 1452.1 69.2328 1450.36 Q70.1355 1448.6 70.1355 1446.91 Q70.1355 1444.16 68.1911 1442.42 Q66.2698 1440.69 63.168 1440.69 Q60.9689 1440.69 58.5152 1441.45 Q56.0847 1442.21 53.3069 1443.76 L53.3069 1439.04 Q56.131 1437.91 58.5847 1437.33 Q61.0384 1436.75 63.0754 1436.75 Q68.4457 1436.75 71.6402 1439.44 Q74.8346 1442.12 74.8346 1446.61 Q74.8346 1448.74 74.0244 1450.66 Q73.2374 1452.56 71.1309 1455.15 Q70.5522 1455.82 67.4504 1459.04 Q64.3485 1462.24 58.7004 1468 Z\" fill=\"#000000\" fill-rule=\"nonzero\" fill-opacity=\"1\" /><path clip-path=\"url(#clip750)\" d=\"M84.8345 1466.06 L89.7188 1466.06 L89.7188 1471.94 L84.8345 1471.94 L84.8345 1466.06 Z\" fill=\"#000000\" fill-rule=\"nonzero\" fill-opacity=\"1\" /><path clip-path=\"url(#clip750)\" d=\"M100.043 1471.22 L100.043 1466.96 Q101.802 1467.79 103.608 1468.23 Q105.413 1468.67 107.149 1468.67 Q111.779 1468.67 114.209 1465.57 Q116.663 1462.44 117.01 1456.1 Q115.668 1458.09 113.608 1459.16 Q111.547 1460.22 109.047 1460.22 Q103.862 1460.22 100.83 1457.1 Q97.8206 1453.95 97.8206 1448.51 Q97.8206 1443.19 100.969 1439.97 Q104.117 1436.75 109.348 1436.75 Q115.344 1436.75 118.492 1441.36 Q121.663 1445.94 121.663 1454.69 Q121.663 1462.86 117.774 1467.75 Q113.908 1472.61 107.358 1472.61 Q105.598 1472.61 103.793 1472.26 Q101.987 1471.91 100.043 1471.22 M109.348 1456.56 Q112.496 1456.56 114.325 1454.41 Q116.177 1452.26 116.177 1448.51 Q116.177 1444.78 114.325 1442.63 Q112.496 1440.45 109.348 1440.45 Q106.2 1440.45 104.348 1442.63 Q102.52 1444.78 102.52 1448.51 Q102.52 1452.26 104.348 1454.41 Q106.2 1456.56 109.348 1456.56 Z\" fill=\"#000000\" fill-rule=\"nonzero\" fill-opacity=\"1\" /><path clip-path=\"url(#clip750)\" d=\"M142.913 1441.45 L131.107 1459.9 L142.913 1459.9 L142.913 1441.45 M141.686 1437.38 L147.566 1437.38 L147.566 1459.9 L152.496 1459.9 L152.496 1463.79 L147.566 1463.79 L147.566 1471.94 L142.913 1471.94 L142.913 1463.79 L127.311 1463.79 L127.311 1459.27 L141.686 1437.38 Z\" fill=\"#000000\" fill-rule=\"nonzero\" fill-opacity=\"1\" /><path clip-path=\"url(#clip750)\" d=\"M164.255 1468 L180.575 1468 L180.575 1471.94 L158.63 1471.94 L158.63 1468 Q161.292 1465.25 165.876 1460.62 Q170.482 1455.96 171.663 1454.62 Q173.908 1452.1 174.788 1450.36 Q175.691 1448.6 175.691 1446.91 Q175.691 1444.16 173.746 1442.42 Q171.825 1440.69 168.723 1440.69 Q166.524 1440.69 164.07 1441.45 Q161.64 1442.21 158.862 1443.76 L158.862 1439.04 Q161.686 1437.91 164.14 1437.33 Q166.593 1436.75 168.63 1436.75 Q174.001 1436.75 177.195 1439.44 Q180.39 1442.12 180.39 1446.61 Q180.39 1448.74 179.579 1450.66 Q178.792 1452.56 176.686 1455.15 Q176.107 1455.82 173.005 1459.04 Q169.904 1462.24 164.255 1468 Z\" fill=\"#000000\" fill-rule=\"nonzero\" fill-opacity=\"1\" /><path clip-path=\"url(#clip750)\" d=\"M57.7513 1110.92 L74.0707 1110.92 L74.0707 1114.86 L52.1264 1114.86 L52.1264 1110.92 Q54.7884 1108.17 59.3717 1103.54 Q63.9782 1098.89 65.1587 1097.54 Q67.4041 1095.02 68.2837 1093.29 Q69.1865 1091.53 69.1865 1089.84 Q69.1865 1087.08 67.242 1085.35 Q65.3208 1083.61 62.2189 1083.61 Q60.0199 1083.61 57.5662 1084.37 Q55.1356 1085.14 52.3579 1086.69 L52.3579 1081.97 Q55.1819 1080.83 57.6356 1080.25 Q60.0893 1079.67 62.1263 1079.67 Q67.4967 1079.67 70.6911 1082.36 Q73.8855 1085.04 73.8855 1089.54 Q73.8855 1091.67 73.0753 1093.59 Q72.2883 1095.48 70.1818 1098.08 Q69.6031 1098.75 66.5013 1101.97 Q63.3995 1105.16 57.7513 1110.92 Z\" fill=\"#000000\" fill-rule=\"nonzero\" fill-opacity=\"1\" /><path clip-path=\"url(#clip750)\" d=\"M83.8855 1108.98 L88.7697 1108.98 L88.7697 1114.86 L83.8855 1114.86 L83.8855 1108.98 Z\" fill=\"#000000\" fill-rule=\"nonzero\" fill-opacity=\"1\" /><path clip-path=\"url(#clip750)\" d=\"M99.0937 1114.14 L99.0937 1109.88 Q100.853 1110.72 102.659 1111.16 Q104.464 1111.6 106.2 1111.6 Q110.83 1111.6 113.26 1108.49 Q115.714 1105.37 116.061 1099.03 Q114.719 1101.02 112.658 1102.08 Q110.598 1103.15 108.098 1103.15 Q102.913 1103.15 99.8808 1100.02 Q96.8715 1096.87 96.8715 1091.43 Q96.8715 1086.11 100.02 1082.89 Q103.168 1079.67 108.399 1079.67 Q114.395 1079.67 117.543 1084.28 Q120.714 1088.86 120.714 1097.61 Q120.714 1105.79 116.825 1110.67 Q112.959 1115.53 106.408 1115.53 Q104.649 1115.53 102.844 1115.18 Q101.038 1114.84 99.0937 1114.14 M108.399 1099.49 Q111.547 1099.49 113.376 1097.34 Q115.228 1095.18 115.228 1091.43 Q115.228 1087.71 113.376 1085.55 Q111.547 1083.38 108.399 1083.38 Q105.251 1083.38 103.399 1085.55 Q101.571 1087.71 101.571 1091.43 Q101.571 1095.18 103.399 1097.34 Q105.251 1099.49 108.399 1099.49 Z\" fill=\"#000000\" fill-rule=\"nonzero\" fill-opacity=\"1\" /><path clip-path=\"url(#clip750)\" d=\"M141.964 1084.37 L130.158 1102.82 L141.964 1102.82 L141.964 1084.37 M140.737 1080.3 L146.617 1080.3 L146.617 1102.82 L151.547 1102.82 L151.547 1106.71 L146.617 1106.71 L146.617 1114.86 L141.964 1114.86 L141.964 1106.71 L126.362 1106.71 L126.362 1102.2 L140.737 1080.3 Z\" fill=\"#000000\" fill-rule=\"nonzero\" fill-opacity=\"1\" /><path clip-path=\"url(#clip750)\" d=\"M173.445 1096.23 Q176.802 1096.94 178.677 1099.21 Q180.575 1101.48 180.575 1104.81 Q180.575 1109.93 177.056 1112.73 Q173.538 1115.53 167.056 1115.53 Q164.88 1115.53 162.566 1115.09 Q160.274 1114.67 157.82 1113.82 L157.82 1109.3 Q159.765 1110.44 162.079 1111.02 Q164.394 1111.6 166.917 1111.6 Q171.316 1111.6 173.607 1109.86 Q175.922 1108.12 175.922 1104.81 Q175.922 1101.76 173.769 1100.04 Q171.64 1098.31 167.82 1098.31 L163.792 1098.31 L163.792 1094.47 L168.005 1094.47 Q171.454 1094.47 173.283 1093.1 Q175.112 1091.71 175.112 1089.12 Q175.112 1086.46 173.214 1085.04 Q171.339 1083.61 167.82 1083.61 Q165.899 1083.61 163.7 1084.03 Q161.501 1084.44 158.862 1085.32 L158.862 1081.16 Q161.524 1080.42 163.839 1080.04 Q166.177 1079.67 168.237 1079.67 Q173.561 1079.67 176.663 1082.1 Q179.765 1084.51 179.765 1088.63 Q179.765 1091.5 178.121 1093.49 Q176.478 1095.46 173.445 1096.23 Z\" fill=\"#000000\" fill-rule=\"nonzero\" fill-opacity=\"1\" /><path clip-path=\"url(#clip750)\" d=\"M56.6171 753.849 L72.9365 753.849 L72.9365 757.784 L50.9921 757.784 L50.9921 753.849 Q53.6541 751.094 58.2375 746.464 Q62.8439 741.812 64.0245 740.469 Q66.2698 737.946 67.1494 736.21 Q68.0522 734.45 68.0522 732.761 Q68.0522 730.006 66.1078 728.27 Q64.1865 726.534 61.0847 726.534 Q58.8856 726.534 56.4319 727.298 Q54.0014 728.062 51.2236 729.613 L51.2236 724.89 Q54.0477 723.756 56.5014 723.177 Q58.955 722.599 60.9921 722.599 Q66.3624 722.599 69.5568 725.284 Q72.7513 727.969 72.7513 732.46 Q72.7513 734.589 71.9411 736.511 Q71.1541 738.409 69.0476 741.001 Q68.4689 741.673 65.367 744.89 Q62.2652 748.085 56.6171 753.849 Z\" fill=\"#000000\" fill-rule=\"nonzero\" fill-opacity=\"1\" /><path clip-path=\"url(#clip750)\" d=\"M82.7512 751.904 L87.6354 751.904 L87.6354 757.784 L82.7512 757.784 L82.7512 751.904 Z\" fill=\"#000000\" fill-rule=\"nonzero\" fill-opacity=\"1\" /><path clip-path=\"url(#clip750)\" d=\"M97.9595 757.066 L97.9595 752.807 Q99.7187 753.64 101.524 754.08 Q103.33 754.52 105.066 754.52 Q109.696 754.52 112.126 751.418 Q114.58 748.293 114.927 741.95 Q113.584 743.941 111.524 745.006 Q109.464 746.071 106.964 746.071 Q101.779 746.071 98.7465 742.946 Q95.7373 739.798 95.7373 734.358 Q95.7373 729.034 98.8854 725.816 Q102.034 722.599 107.265 722.599 Q113.26 722.599 116.408 727.205 Q119.58 731.788 119.58 740.538 Q119.58 748.71 115.691 753.594 Q111.825 758.455 105.274 758.455 Q103.515 758.455 101.709 758.108 Q99.9039 757.761 97.9595 757.066 M107.265 742.413 Q110.413 742.413 112.242 740.261 Q114.094 738.108 114.094 734.358 Q114.094 730.631 112.242 728.478 Q110.413 726.302 107.265 726.302 Q104.117 726.302 102.265 728.478 Q100.436 730.631 100.436 734.358 Q100.436 738.108 102.265 740.261 Q104.117 742.413 107.265 742.413 Z\" fill=\"#000000\" fill-rule=\"nonzero\" fill-opacity=\"1\" /><path clip-path=\"url(#clip750)\" d=\"M140.83 727.298 L129.024 745.747 L140.83 745.747 L140.83 727.298 M139.603 723.224 L145.482 723.224 L145.482 745.747 L150.413 745.747 L150.413 749.636 L145.482 749.636 L145.482 757.784 L140.83 757.784 L140.83 749.636 L125.228 749.636 L125.228 745.122 L139.603 723.224 Z\" fill=\"#000000\" fill-rule=\"nonzero\" fill-opacity=\"1\" /><path clip-path=\"url(#clip750)\" d=\"M170.991 727.298 L159.186 745.747 L170.991 745.747 L170.991 727.298 M169.765 723.224 L175.644 723.224 L175.644 745.747 L180.575 745.747 L180.575 749.636 L175.644 749.636 L175.644 757.784 L170.991 757.784 L170.991 749.636 L155.39 749.636 L155.39 745.122 L169.765 723.224 Z\" fill=\"#000000\" fill-rule=\"nonzero\" fill-opacity=\"1\" /><path clip-path=\"url(#clip750)\" d=\"M58.0986 396.773 L74.4179 396.773 L74.4179 400.708 L52.4736 400.708 L52.4736 396.773 Q55.1356 394.018 59.7189 389.389 Q64.3254 384.736 65.5059 383.393 Q67.7513 380.87 68.6309 379.134 Q69.5337 377.375 69.5337 375.685 Q69.5337 372.93 67.5893 371.194 Q65.668 369.458 62.5661 369.458 Q60.3671 369.458 57.9134 370.222 Q55.4828 370.986 52.7051 372.537 L52.7051 367.815 Q55.5291 366.68 57.9828 366.102 Q60.4365 365.523 62.4735 365.523 Q67.8439 365.523 71.0383 368.208 Q74.2327 370.893 74.2327 375.384 Q74.2327 377.514 73.4226 379.435 Q72.6355 381.333 70.5291 383.926 Q69.9504 384.597 66.8485 387.815 Q63.7467 391.009 58.0986 396.773 Z\" fill=\"#000000\" fill-rule=\"nonzero\" fill-opacity=\"1\" /><path clip-path=\"url(#clip750)\" d=\"M84.2327 394.828 L89.1169 394.828 L89.1169 400.708 L84.2327 400.708 L84.2327 394.828 Z\" fill=\"#000000\" fill-rule=\"nonzero\" fill-opacity=\"1\" /><path clip-path=\"url(#clip750)\" d=\"M99.4409 399.99 L99.4409 395.731 Q101.2 396.565 103.006 397.004 Q104.811 397.444 106.547 397.444 Q111.177 397.444 113.608 394.342 Q116.061 391.217 116.408 384.875 Q115.066 386.866 113.006 387.93 Q110.946 388.995 108.446 388.995 Q103.26 388.995 100.228 385.87 Q97.2187 382.722 97.2187 377.282 Q97.2187 371.958 100.367 368.741 Q103.515 365.523 108.746 365.523 Q114.742 365.523 117.89 370.13 Q121.061 374.713 121.061 383.463 Q121.061 391.634 117.172 396.518 Q113.307 401.379 106.756 401.379 Q104.996 401.379 103.191 401.032 Q101.385 400.685 99.4409 399.99 M108.746 385.338 Q111.895 385.338 113.723 383.185 Q115.575 381.032 115.575 377.282 Q115.575 373.555 113.723 371.403 Q111.895 369.227 108.746 369.227 Q105.598 369.227 103.746 371.403 Q101.918 373.555 101.918 377.282 Q101.918 381.032 103.746 383.185 Q105.598 385.338 108.746 385.338 Z\" fill=\"#000000\" fill-rule=\"nonzero\" fill-opacity=\"1\" /><path clip-path=\"url(#clip750)\" d=\"M142.311 370.222 L130.506 388.671 L142.311 388.671 L142.311 370.222 M141.084 366.148 L146.964 366.148 L146.964 388.671 L151.894 388.671 L151.894 392.56 L146.964 392.56 L146.964 400.708 L142.311 400.708 L142.311 392.56 L126.709 392.56 L126.709 388.046 L141.084 366.148 Z\" fill=\"#000000\" fill-rule=\"nonzero\" fill-opacity=\"1\" /><path clip-path=\"url(#clip750)\" d=\"M159.672 366.148 L178.028 366.148 L178.028 370.083 L163.954 370.083 L163.954 378.555 Q164.973 378.208 165.992 378.046 Q167.01 377.861 168.029 377.861 Q173.816 377.861 177.195 381.032 Q180.575 384.204 180.575 389.62 Q180.575 395.199 177.103 398.301 Q173.63 401.379 167.311 401.379 Q165.135 401.379 162.867 401.009 Q160.621 400.639 158.214 399.898 L158.214 395.199 Q160.297 396.333 162.519 396.889 Q164.742 397.444 167.218 397.444 Q171.223 397.444 173.561 395.338 Q175.899 393.231 175.899 389.62 Q175.899 386.009 173.561 383.903 Q171.223 381.796 167.218 381.796 Q165.343 381.796 163.468 382.213 Q161.617 382.629 159.672 383.509 L159.672 366.148 Z\" fill=\"#000000\" fill-rule=\"nonzero\" fill-opacity=\"1\" /><polyline clip-path=\"url(#clip752)\" style=\"stroke:#009af9; stroke-linecap:round; stroke-linejoin:round; stroke-width:4; stroke-opacity:1; fill:none\" points=\"277.033,87.9763 500.951,1195.91 724.869,1389.09 948.788,1432.42 1172.71,1442.58 1396.62,1444.98 1620.54,1445.55 1844.46,1445.68 2068.38,1445.71 2292.3,1445.72 \"/>\n",
       "<path clip-path=\"url(#clip750)\" d=\"M1364.23 198.898 L2281.55 198.898 L2281.55 95.2176 L1364.23 95.2176  Z\" fill=\"#ffffff\" fill-rule=\"evenodd\" fill-opacity=\"1\"/>\n",
       "<polyline clip-path=\"url(#clip750)\" style=\"stroke:#000000; stroke-linecap:round; stroke-linejoin:round; stroke-width:4; stroke-opacity:1; fill:none\" points=\"1364.23,198.898 2281.55,198.898 2281.55,95.2176 1364.23,95.2176 1364.23,198.898 \"/>\n",
       "<polyline clip-path=\"url(#clip750)\" style=\"stroke:#009af9; stroke-linecap:round; stroke-linejoin:round; stroke-width:4; stroke-opacity:1; fill:none\" points=\"1387.97,147.058 1530.38,147.058 \"/>\n",
       "<path clip-path=\"url(#clip750)\" d=\"M1558.79 147.833 L1558.79 160.495 L1566.29 160.495 Q1570.06 160.495 1571.87 158.944 Q1573.7 157.37 1573.7 154.152 Q1573.7 150.912 1571.87 149.384 Q1570.06 147.833 1566.29 147.833 L1558.79 147.833 M1558.79 133.62 L1558.79 144.037 L1565.71 144.037 Q1569.14 144.037 1570.8 142.764 Q1572.49 141.467 1572.49 138.828 Q1572.49 136.213 1570.8 134.916 Q1569.14 133.62 1565.71 133.62 L1558.79 133.62 M1554.11 129.778 L1566.06 129.778 Q1571.41 129.778 1574.3 132 Q1577.19 134.222 1577.19 138.319 Q1577.19 141.49 1575.71 143.365 Q1574.23 145.24 1571.36 145.703 Q1574.81 146.444 1576.71 148.805 Q1578.63 151.143 1578.63 154.662 Q1578.63 159.291 1575.48 161.814 Q1572.33 164.338 1566.52 164.338 L1554.11 164.338 L1554.11 129.778 Z\" fill=\"#000000\" fill-rule=\"nonzero\" fill-opacity=\"1\" /><path clip-path=\"url(#clip750)\" d=\"M1608.63 150.31 L1608.63 152.393 L1589.04 152.393 Q1589.32 156.791 1591.68 159.106 Q1594.07 161.398 1598.3 161.398 Q1600.76 161.398 1603.05 160.796 Q1605.36 160.194 1607.63 158.99 L1607.63 163.018 Q1605.34 163.99 1602.93 164.5 Q1600.53 165.009 1598.05 165.009 Q1591.85 165.009 1588.21 161.398 Q1584.6 157.787 1584.6 151.629 Q1584.6 145.264 1588.03 141.537 Q1591.48 137.787 1597.31 137.787 Q1602.54 137.787 1605.57 141.166 Q1608.63 144.523 1608.63 150.31 M1604.37 149.06 Q1604.32 145.565 1602.4 143.481 Q1600.5 141.398 1597.36 141.398 Q1593.79 141.398 1591.64 143.412 Q1589.51 145.426 1589.18 149.083 L1604.37 149.06 Z\" fill=\"#000000\" fill-rule=\"nonzero\" fill-opacity=\"1\" /><path clip-path=\"url(#clip750)\" d=\"M1619.83 131.051 L1619.83 138.412 L1628.6 138.412 L1628.6 141.722 L1619.83 141.722 L1619.83 155.796 Q1619.83 158.967 1620.69 159.87 Q1621.57 160.773 1624.23 160.773 L1628.6 160.773 L1628.6 164.338 L1624.23 164.338 Q1619.3 164.338 1617.42 162.509 Q1615.55 160.657 1615.55 155.796 L1615.55 141.722 L1612.42 141.722 L1612.42 138.412 L1615.55 138.412 L1615.55 131.051 L1619.83 131.051 Z\" fill=\"#000000\" fill-rule=\"nonzero\" fill-opacity=\"1\" /><path clip-path=\"url(#clip750)\" d=\"M1655.76 148.689 L1655.76 164.338 L1651.5 164.338 L1651.5 148.828 Q1651.5 145.148 1650.06 143.319 Q1648.63 141.49 1645.76 141.49 Q1642.31 141.49 1640.32 143.69 Q1638.33 145.889 1638.33 149.685 L1638.33 164.338 L1634.04 164.338 L1634.04 128.319 L1638.33 128.319 L1638.33 142.44 Q1639.85 140.102 1641.92 138.944 Q1644 137.787 1646.71 137.787 Q1651.17 137.787 1653.47 140.565 Q1655.76 143.319 1655.76 148.689 Z\" fill=\"#000000\" fill-rule=\"nonzero\" fill-opacity=\"1\" /><path clip-path=\"url(#clip750)\" d=\"M1686.43 150.31 L1686.43 152.393 L1666.85 152.393 Q1667.12 156.791 1669.48 159.106 Q1671.87 161.398 1676.1 161.398 Q1678.56 161.398 1680.85 160.796 Q1683.16 160.194 1685.43 158.99 L1685.43 163.018 Q1683.14 163.99 1680.73 164.5 Q1678.33 165.009 1675.85 165.009 Q1669.65 165.009 1666.01 161.398 Q1662.4 157.787 1662.4 151.629 Q1662.4 145.264 1665.83 141.537 Q1669.28 137.787 1675.11 137.787 Q1680.34 137.787 1683.37 141.166 Q1686.43 144.523 1686.43 150.31 M1682.17 149.06 Q1682.12 145.565 1680.2 143.481 Q1678.3 141.398 1675.16 141.398 Q1671.59 141.398 1669.44 143.412 Q1667.31 145.426 1666.98 149.083 L1682.17 149.06 Z\" fill=\"#000000\" fill-rule=\"nonzero\" fill-opacity=\"1\" /><path clip-path=\"url(#clip750)\" d=\"M1708.67 129.778 L1728.53 129.778 L1728.53 133.713 L1713.35 133.713 L1713.35 143.898 L1727.05 143.898 L1727.05 147.833 L1713.35 147.833 L1713.35 164.338 L1708.67 164.338 L1708.67 129.778 Z\" fill=\"#000000\" fill-rule=\"nonzero\" fill-opacity=\"1\" /><path clip-path=\"url(#clip750)\" d=\"M1747.33 142.393 Q1746.61 141.977 1745.76 141.791 Q1744.92 141.583 1743.91 141.583 Q1740.29 141.583 1738.35 143.944 Q1736.43 146.282 1736.43 150.68 L1736.43 164.338 L1732.15 164.338 L1732.15 138.412 L1736.43 138.412 L1736.43 142.44 Q1737.77 140.078 1739.92 138.944 Q1742.08 137.787 1745.16 137.787 Q1745.6 137.787 1746.13 137.856 Q1746.66 137.903 1747.31 138.018 L1747.33 142.393 Z\" fill=\"#000000\" fill-rule=\"nonzero\" fill-opacity=\"1\" /><path clip-path=\"url(#clip750)\" d=\"M1772.93 150.31 L1772.93 152.393 L1753.35 152.393 Q1753.63 156.791 1755.99 159.106 Q1758.37 161.398 1762.61 161.398 Q1765.06 161.398 1767.35 160.796 Q1769.67 160.194 1771.94 158.99 L1771.94 163.018 Q1769.65 163.99 1767.24 164.5 Q1764.83 165.009 1762.35 165.009 Q1756.15 165.009 1752.52 161.398 Q1748.91 157.787 1748.91 151.629 Q1748.91 145.264 1752.33 141.537 Q1755.78 137.787 1761.61 137.787 Q1766.84 137.787 1769.88 141.166 Q1772.93 144.523 1772.93 150.31 M1768.67 149.06 Q1768.63 145.565 1766.71 143.481 Q1764.81 141.398 1761.66 141.398 Q1758.09 141.398 1755.94 143.412 Q1753.81 145.426 1753.49 149.083 L1768.67 149.06 Z\" fill=\"#000000\" fill-rule=\"nonzero\" fill-opacity=\"1\" /><path clip-path=\"url(#clip750)\" d=\"M1802.1 150.31 L1802.1 152.393 L1782.52 152.393 Q1782.79 156.791 1785.16 159.106 Q1787.54 161.398 1791.78 161.398 Q1794.23 161.398 1796.52 160.796 Q1798.84 160.194 1801.1 158.99 L1801.1 163.018 Q1798.81 163.99 1796.4 164.5 Q1794 165.009 1791.52 165.009 Q1785.32 165.009 1781.68 161.398 Q1778.07 157.787 1778.07 151.629 Q1778.07 145.264 1781.5 141.537 Q1784.95 137.787 1790.78 137.787 Q1796.01 137.787 1799.04 141.166 Q1802.1 144.523 1802.1 150.31 M1797.84 149.06 Q1797.79 145.565 1795.87 143.481 Q1793.97 141.398 1790.83 141.398 Q1787.26 141.398 1785.11 143.412 Q1782.98 145.426 1782.66 149.083 L1797.84 149.06 Z\" fill=\"#000000\" fill-rule=\"nonzero\" fill-opacity=\"1\" /><path clip-path=\"url(#clip750)\" d=\"M1824.34 129.778 L1846.2 129.778 L1846.2 133.713 L1829.02 133.713 L1829.02 143.944 L1845.48 143.944 L1845.48 147.879 L1829.02 147.879 L1829.02 160.402 L1846.61 160.402 L1846.61 164.338 L1824.34 164.338 L1824.34 129.778 Z\" fill=\"#000000\" fill-rule=\"nonzero\" fill-opacity=\"1\" /><path clip-path=\"url(#clip750)\" d=\"M1875.66 148.689 L1875.66 164.338 L1871.4 164.338 L1871.4 148.828 Q1871.4 145.148 1869.97 143.319 Q1868.53 141.49 1865.66 141.49 Q1862.21 141.49 1860.22 143.69 Q1858.23 145.889 1858.23 149.685 L1858.23 164.338 L1853.95 164.338 L1853.95 138.412 L1858.23 138.412 L1858.23 142.44 Q1859.76 140.102 1861.82 138.944 Q1863.9 137.787 1866.61 137.787 Q1871.08 137.787 1873.37 140.565 Q1875.66 143.319 1875.66 148.689 Z\" fill=\"#000000\" fill-rule=\"nonzero\" fill-opacity=\"1\" /><path clip-path=\"url(#clip750)\" d=\"M1906.33 150.31 L1906.33 152.393 L1886.75 152.393 Q1887.03 156.791 1889.39 159.106 Q1891.77 161.398 1896.01 161.398 Q1898.46 161.398 1900.76 160.796 Q1903.07 160.194 1905.34 158.99 L1905.34 163.018 Q1903.05 163.99 1900.64 164.5 Q1898.23 165.009 1895.76 165.009 Q1889.55 165.009 1885.92 161.398 Q1882.31 157.787 1882.31 151.629 Q1882.31 145.264 1885.73 141.537 Q1889.18 137.787 1895.02 137.787 Q1900.25 137.787 1903.28 141.166 Q1906.33 144.523 1906.33 150.31 M1902.08 149.06 Q1902.03 145.565 1900.11 143.481 Q1898.21 141.398 1895.06 141.398 Q1891.5 141.398 1889.34 143.412 Q1887.21 145.426 1886.89 149.083 L1902.08 149.06 Z\" fill=\"#000000\" fill-rule=\"nonzero\" fill-opacity=\"1\" /><path clip-path=\"url(#clip750)\" d=\"M1928.35 142.393 Q1927.63 141.977 1926.77 141.791 Q1925.94 141.583 1924.92 141.583 Q1921.31 141.583 1919.37 143.944 Q1917.45 146.282 1917.45 150.68 L1917.45 164.338 L1913.16 164.338 L1913.16 138.412 L1917.45 138.412 L1917.45 142.44 Q1918.79 140.078 1920.94 138.944 Q1923.09 137.787 1926.17 137.787 Q1926.61 137.787 1927.14 137.856 Q1927.68 137.903 1928.33 138.018 L1928.35 142.393 Z\" fill=\"#000000\" fill-rule=\"nonzero\" fill-opacity=\"1\" /><path clip-path=\"url(#clip750)\" d=\"M1949.04 151.074 Q1949.04 146.444 1947.12 143.898 Q1945.22 141.352 1941.77 141.352 Q1938.35 141.352 1936.43 143.898 Q1934.53 146.444 1934.53 151.074 Q1934.53 155.68 1936.43 158.226 Q1938.35 160.773 1941.77 160.773 Q1945.22 160.773 1947.12 158.226 Q1949.04 155.68 1949.04 151.074 M1953.3 161.12 Q1953.3 167.74 1950.36 170.958 Q1947.42 174.199 1941.36 174.199 Q1939.11 174.199 1937.12 173.851 Q1935.13 173.527 1933.26 172.833 L1933.26 168.689 Q1935.13 169.708 1936.96 170.194 Q1938.79 170.68 1940.69 170.68 Q1944.88 170.68 1946.96 168.481 Q1949.04 166.305 1949.04 161.884 L1949.04 159.777 Q1947.72 162.069 1945.66 163.203 Q1943.6 164.338 1940.73 164.338 Q1935.96 164.338 1933.05 160.703 Q1930.13 157.069 1930.13 151.074 Q1930.13 145.055 1933.05 141.421 Q1935.96 137.787 1940.73 137.787 Q1943.6 137.787 1945.66 138.921 Q1947.72 140.055 1949.04 142.347 L1949.04 138.412 L1953.3 138.412 L1953.3 161.12 Z\" fill=\"#000000\" fill-rule=\"nonzero\" fill-opacity=\"1\" /><path clip-path=\"url(#clip750)\" d=\"M1972.86 166.745 Q1971.06 171.375 1969.34 172.787 Q1967.63 174.199 1964.76 174.199 L1961.36 174.199 L1961.36 170.634 L1963.86 170.634 Q1965.62 170.634 1966.59 169.8 Q1967.56 168.967 1968.74 165.865 L1969.51 163.921 L1959.02 138.412 L1963.53 138.412 L1971.64 158.689 L1979.74 138.412 L1984.25 138.412 L1972.86 166.745 Z\" fill=\"#000000\" fill-rule=\"nonzero\" fill-opacity=\"1\" /><path clip-path=\"url(#clip750)\" d=\"M2015.43 128.366 Q2012.33 133.69 2010.83 138.898 Q2009.32 144.106 2009.32 149.453 Q2009.32 154.801 2010.83 160.055 Q2012.35 165.287 2015.43 170.588 L2011.73 170.588 Q2008.26 165.148 2006.52 159.893 Q2004.81 154.639 2004.81 149.453 Q2004.81 144.291 2006.52 139.06 Q2008.23 133.828 2011.73 128.366 L2015.43 128.366 Z\" fill=\"#000000\" fill-rule=\"nonzero\" fill-opacity=\"1\" /><path clip-path=\"url(#clip750)\" d=\"M2035.48 151.305 Q2030.32 151.305 2028.33 152.486 Q2026.33 153.666 2026.33 156.514 Q2026.33 158.782 2027.82 160.125 Q2029.32 161.444 2031.89 161.444 Q2035.43 161.444 2037.56 158.944 Q2039.71 156.421 2039.71 152.254 L2039.71 151.305 L2035.48 151.305 M2043.97 149.546 L2043.97 164.338 L2039.71 164.338 L2039.71 160.402 Q2038.26 162.763 2036.08 163.898 Q2033.9 165.009 2030.76 165.009 Q2026.77 165.009 2024.41 162.787 Q2022.08 160.541 2022.08 156.791 Q2022.08 152.416 2024.99 150.194 Q2027.93 147.972 2033.74 147.972 L2039.71 147.972 L2039.71 147.555 Q2039.71 144.615 2037.77 143.018 Q2035.85 141.398 2032.35 141.398 Q2030.13 141.398 2028.02 141.93 Q2025.92 142.463 2023.97 143.527 L2023.97 139.592 Q2026.31 138.69 2028.51 138.25 Q2030.71 137.787 2032.79 137.787 Q2038.42 137.787 2041.2 140.703 Q2043.97 143.62 2043.97 149.546 Z\" fill=\"#000000\" fill-rule=\"nonzero\" fill-opacity=\"1\" /><path clip-path=\"url(#clip750)\" d=\"M2049.69 138.412 L2054.2 138.412 L2062.31 160.171 L2070.41 138.412 L2074.92 138.412 L2065.2 164.338 L2059.41 164.338 L2049.69 138.412 Z\" fill=\"#000000\" fill-rule=\"nonzero\" fill-opacity=\"1\" /><path clip-path=\"url(#clip750)\" d=\"M2102.98 150.31 L2102.98 152.393 L2083.39 152.393 Q2083.67 156.791 2086.03 159.106 Q2088.42 161.398 2092.65 161.398 Q2095.11 161.398 2097.4 160.796 Q2099.71 160.194 2101.98 158.99 L2101.98 163.018 Q2099.69 163.99 2097.28 164.5 Q2094.88 165.009 2092.4 165.009 Q2086.2 165.009 2082.56 161.398 Q2078.95 157.787 2078.95 151.629 Q2078.95 145.264 2082.38 141.537 Q2085.82 137.787 2091.66 137.787 Q2096.89 137.787 2099.92 141.166 Q2102.98 144.523 2102.98 150.31 M2098.72 149.06 Q2098.67 145.565 2096.75 143.481 Q2094.85 141.398 2091.7 141.398 Q2088.14 141.398 2085.99 143.412 Q2083.86 145.426 2083.53 149.083 L2098.72 149.06 Z\" fill=\"#000000\" fill-rule=\"nonzero\" fill-opacity=\"1\" /><path clip-path=\"url(#clip750)\" d=\"M2124.99 142.393 Q2124.27 141.977 2123.42 141.791 Q2122.58 141.583 2121.57 141.583 Q2117.95 141.583 2116.01 143.944 Q2114.09 146.282 2114.09 150.68 L2114.09 164.338 L2109.81 164.338 L2109.81 138.412 L2114.09 138.412 L2114.09 142.44 Q2115.43 140.078 2117.58 138.944 Q2119.74 137.787 2122.82 137.787 Q2123.26 137.787 2123.79 137.856 Q2124.32 137.903 2124.97 138.018 L2124.99 142.393 Z\" fill=\"#000000\" fill-rule=\"nonzero\" fill-opacity=\"1\" /><path clip-path=\"url(#clip750)\" d=\"M2141.24 151.305 Q2136.08 151.305 2134.09 152.486 Q2132.1 153.666 2132.1 156.514 Q2132.1 158.782 2133.58 160.125 Q2135.08 161.444 2137.65 161.444 Q2141.19 161.444 2143.32 158.944 Q2145.48 156.421 2145.48 152.254 L2145.48 151.305 L2141.24 151.305 M2149.74 149.546 L2149.74 164.338 L2145.48 164.338 L2145.48 160.402 Q2144.02 162.763 2141.84 163.898 Q2139.67 165.009 2136.52 165.009 Q2132.54 165.009 2130.18 162.787 Q2127.84 160.541 2127.84 156.791 Q2127.84 152.416 2130.76 150.194 Q2133.69 147.972 2139.5 147.972 L2145.48 147.972 L2145.48 147.555 Q2145.48 144.615 2143.53 143.018 Q2141.61 141.398 2138.12 141.398 Q2135.89 141.398 2133.79 141.93 Q2131.68 142.463 2129.74 143.527 L2129.74 139.592 Q2132.07 138.69 2134.27 138.25 Q2136.47 137.787 2138.56 137.787 Q2144.18 137.787 2146.96 140.703 Q2149.74 143.62 2149.74 149.546 Z\" fill=\"#000000\" fill-rule=\"nonzero\" fill-opacity=\"1\" /><path clip-path=\"url(#clip750)\" d=\"M2175.57 151.074 Q2175.57 146.444 2173.65 143.898 Q2171.75 141.352 2168.3 141.352 Q2164.88 141.352 2162.95 143.898 Q2161.06 146.444 2161.06 151.074 Q2161.06 155.68 2162.95 158.226 Q2164.88 160.773 2168.3 160.773 Q2171.75 160.773 2173.65 158.226 Q2175.57 155.68 2175.57 151.074 M2179.83 161.12 Q2179.83 167.74 2176.89 170.958 Q2173.95 174.199 2167.88 174.199 Q2165.64 174.199 2163.65 173.851 Q2161.66 173.527 2159.78 172.833 L2159.78 168.689 Q2161.66 169.708 2163.49 170.194 Q2165.32 170.68 2167.21 170.68 Q2171.4 170.68 2173.49 168.481 Q2175.57 166.305 2175.57 161.884 L2175.57 159.777 Q2174.25 162.069 2172.19 163.203 Q2170.13 164.338 2167.26 164.338 Q2162.49 164.338 2159.57 160.703 Q2156.66 157.069 2156.66 151.074 Q2156.66 145.055 2159.57 141.421 Q2162.49 137.787 2167.26 137.787 Q2170.13 137.787 2172.19 138.921 Q2174.25 140.055 2175.57 142.347 L2175.57 138.412 L2179.83 138.412 L2179.83 161.12 Z\" fill=\"#000000\" fill-rule=\"nonzero\" fill-opacity=\"1\" /><path clip-path=\"url(#clip750)\" d=\"M2210.78 150.31 L2210.78 152.393 L2191.19 152.393 Q2191.47 156.791 2193.83 159.106 Q2196.22 161.398 2200.45 161.398 Q2202.91 161.398 2205.2 160.796 Q2207.51 160.194 2209.78 158.99 L2209.78 163.018 Q2207.49 163.99 2205.08 164.5 Q2202.68 165.009 2200.2 165.009 Q2194 165.009 2190.36 161.398 Q2186.75 157.787 2186.75 151.629 Q2186.75 145.264 2190.18 141.537 Q2193.63 137.787 2199.46 137.787 Q2204.69 137.787 2207.72 141.166 Q2210.78 144.523 2210.78 150.31 M2206.52 149.06 Q2206.47 145.565 2204.55 143.481 Q2202.65 141.398 2199.5 141.398 Q2195.94 141.398 2193.79 143.412 Q2191.66 145.426 2191.33 149.083 L2206.52 149.06 Z\" fill=\"#000000\" fill-rule=\"nonzero\" fill-opacity=\"1\" /><path clip-path=\"url(#clip750)\" d=\"M2234.83 142.347 L2234.83 128.319 L2239.09 128.319 L2239.09 164.338 L2234.83 164.338 L2234.83 160.449 Q2233.49 162.763 2231.43 163.898 Q2229.39 165.009 2226.52 165.009 Q2221.82 165.009 2218.86 161.259 Q2215.92 157.509 2215.92 151.398 Q2215.92 145.287 2218.86 141.537 Q2221.82 137.787 2226.52 137.787 Q2229.39 137.787 2231.43 138.921 Q2233.49 140.032 2234.83 142.347 M2220.31 151.398 Q2220.31 156.097 2222.24 158.782 Q2224.18 161.444 2227.56 161.444 Q2230.94 161.444 2232.88 158.782 Q2234.83 156.097 2234.83 151.398 Q2234.83 146.699 2232.88 144.037 Q2230.94 141.352 2227.56 141.352 Q2224.18 141.352 2222.24 144.037 Q2220.31 146.699 2220.31 151.398 Z\" fill=\"#000000\" fill-rule=\"nonzero\" fill-opacity=\"1\" /><path clip-path=\"url(#clip750)\" d=\"M2247.19 128.366 L2250.89 128.366 Q2254.37 133.828 2256.08 139.06 Q2257.81 144.291 2257.81 149.453 Q2257.81 154.639 2256.08 159.893 Q2254.37 165.148 2250.89 170.588 L2247.19 170.588 Q2250.27 165.287 2251.77 160.055 Q2253.3 154.801 2253.3 149.453 Q2253.3 144.106 2251.77 138.898 Q2250.27 133.69 2247.19 128.366 Z\" fill=\"#000000\" fill-rule=\"nonzero\" fill-opacity=\"1\" /></svg>\n"
      ]
     },
     "metadata": {},
     "output_type": "display_data"
    }
   ],
   "source": [
    "plot(result.free_energy_history, label = \"Bethe Free Energy (averaged)\") "
   ]
  },
  {
   "attachments": {},
   "cell_type": "markdown",
   "metadata": {},
   "source": [
    "## Filtering on realtime dataset\n",
    "\n",
    "Next lets create a \"real\" infinite stream. We use `timer()` observable from `Rocket.jl`to emulate real-world scenario. In our example we are going to generate a new data point every `~41ms` (24 data points per second). For demonstration purposes we force stop after `n` data points, but there is no principled limitation to run inference indefinite:"
   ]
  },
  {
   "cell_type": "code",
   "execution_count": 12,
   "metadata": {},
   "outputs": [
    {
     "data": {
      "text/plain": [
       "run_and_plot (generic function with 1 method)"
      ]
     },
     "metadata": {},
     "output_type": "display_data"
    }
   ],
   "source": [
    "function run_and_plot(environment, datastream)\n",
    "    \n",
    "    # `@autoupdates` structure specifies how to update our priors based on new posteriors\n",
    "    # For example, every time we have updated a posterior over `x_current` we update our priors\n",
    "    # over `x_prev`\n",
    "    autoupdates = @autoupdates begin \n",
    "        x_prev_mean, x_prev_var = mean_var(q(x_current))\n",
    "        τ_shape = shape(q(τ))\n",
    "        τ_rate = rate(q(τ))\n",
    "    end\n",
    "    \n",
    "    posteriors = []\n",
    "    \n",
    "    plotfn = (q_current) -> begin \n",
    "        IJulia.clear_output(true)\n",
    "        \n",
    "        push!(posteriors, q_current)\n",
    "\n",
    "        p = plot(mean.(posteriors), ribbon = var.(posteriors), label = \"Estimation\")\n",
    "        p = plot!(gethistory(environment), label = \"Real states\")    \n",
    "        p = scatter!(getobservations(environment), ms = 2, label = \"Observations\")\n",
    "        p = plot(p, size = (1000, 300), legend = :bottomright)\n",
    "\n",
    "        display(p)\n",
    "    end\n",
    "    \n",
    "    init = @initialization begin\n",
    "        q(x_current) = NormalMeanVariance(0.0, 1e3)\n",
    "        q(τ) = GammaShapeRate(1.0, 1.0)\n",
    "    end\n",
    "\n",
    "    engine = infer(\n",
    "        model         = kalman_filter(),\n",
    "        constraints   = filter_constraints(),\n",
    "        datastream    = datastream,\n",
    "        autoupdates   = autoupdates,\n",
    "        returnvars    = (:x_current, ),\n",
    "        initialization = init,\n",
    "        iterations    = 10,\n",
    "        autostart     = false,\n",
    "    )\n",
    "    \n",
    "    qsubscription = subscribe!(engine.posteriors[:x_current], plotfn)\n",
    "    \n",
    "    RxInfer.start(engine)\n",
    "    \n",
    "    return engine\n",
    "end"
   ]
  },
  {
   "cell_type": "code",
   "execution_count": 13,
   "metadata": {},
   "outputs": [],
   "source": [
    "# This example runs in our documentation pipeline, which does not support \"real-time\" execution context\n",
    "# We skip this code if run not in Jupyter notebook (see below an example with gif)\n",
    "engine = nothing \n",
    "if isdefined(Main, :IJulia)\n",
    "    timegen      = 41 # 41 ms\n",
    "    environment  = Environment(initial_state, observation_precision);\n",
    "    observations = timer(timegen, timegen) |> map(Float64, (_) -> getnext!(environment)) |> take(n) # `take!` automatically stops after `n` observations\n",
    "    datastream   = observations |> map(NamedTuple{(:y,), Tuple{Float64}}, (d) -> (y = d, ));\n",
    "    engine = run_and_plot(environment, datastream)\n",
    "end;"
   ]
  },
  {
   "attachments": {},
   "cell_type": "markdown",
   "metadata": {},
   "source": [
    "The plot above is fully interactive and we can stop and unsubscribe from our `datastream` before it ends:"
   ]
  },
  {
   "cell_type": "code",
   "execution_count": 14,
   "metadata": {},
   "outputs": [],
   "source": [
    "if !isnothing(engine) && isdefined(Main, :IJulia)\n",
    "    RxInfer.stop(engine)\n",
    "    IJulia.clear_output(true)\n",
    "end;"
   ]
  }
 ],
 "metadata": {
  "@webio": {
   "lastCommId": null,
   "lastKernelId": null
  },
  "kernelspec": {
   "display_name": "Julia 1.10.2",
   "language": "julia",
   "name": "julia-1.10"
  },
  "language_info": {
   "file_extension": ".jl",
   "mimetype": "application/julia",
   "name": "julia",
   "version": "1.10.2"
  }
 },
 "nbformat": 4,
 "nbformat_minor": 4
}
