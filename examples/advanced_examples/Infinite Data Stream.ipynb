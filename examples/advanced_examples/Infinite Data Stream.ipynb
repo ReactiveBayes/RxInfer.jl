{
 "cells": [
  {
   "attachments": {},
   "cell_type": "markdown",
   "metadata": {},
   "source": [
    "# Infinite Data Stream"
   ]
  },
  {
   "cell_type": "code",
   "execution_count": null,
   "metadata": {},
   "outputs": [],
   "source": [
    "# Activate local environment, see `Project.toml`\n",
    "import Pkg; Pkg.activate(\"..\"); Pkg.instantiate();"
   ]
  },
  {
   "attachments": {},
   "cell_type": "markdown",
   "metadata": {},
   "source": [
    "This example shows the capabilities of `RxInfer` to perform Bayesian inference on real-time signals. As usual, first, we start with importing necessary packages:"
   ]
  },
  {
   "cell_type": "code",
   "execution_count": null,
   "metadata": {},
   "outputs": [],
   "source": [
    "using RxInfer, Plots, Random, StableRNGs"
   ]
  },
  {
   "attachments": {},
   "cell_type": "markdown",
   "metadata": {},
   "source": [
    "For demonstration purposes we will create a synthetic environment that has a hidden underlying signal, which we cannot observer directly. Instead, we will observe a noised realisation of this hidden signal:"
   ]
  },
  {
   "cell_type": "code",
   "execution_count": null,
   "metadata": {},
   "outputs": [],
   "source": [
    "mutable struct Environment\n",
    "    rng                   :: AbstractRNG\n",
    "    current_state         :: Float64\n",
    "    observation_precision :: Float64\n",
    "    history               :: Vector{Float64}\n",
    "    observations          :: Vector{Float64}\n",
    "    \n",
    "    Environment(current_state, observation_precision; seed = 123) = begin \n",
    "         return new(StableRNG(seed), current_state, observation_precision, [], [])\n",
    "    end\n",
    "end\n",
    "\n",
    "function getnext!(environment::Environment)\n",
    "    environment.current_state = environment.current_state + 1.0\n",
    "    nextstate  = 10sin(0.1 * environment.current_state)\n",
    "    observation = rand(NormalMeanPrecision(nextstate, environment.observation_precision))\n",
    "    push!(environment.history, nextstate)\n",
    "    push!(environment.observations, observation)\n",
    "    return observation\n",
    "end\n",
    "\n",
    "function gethistory(environment::Environment)\n",
    "    return environment.history\n",
    "end\n",
    "\n",
    "function getobservations(environment::Environment)\n",
    "    return environment.observations\n",
    "end"
   ]
  },
  {
   "attachments": {},
   "cell_type": "markdown",
   "metadata": {},
   "source": [
    "## Model specification\n",
    "\n",
    "We assume that we don't know the shape of our signal in advance. So we try to fit a simple gaussian random walk with unknown observation noise:"
   ]
  },
  {
   "cell_type": "code",
   "execution_count": null,
   "metadata": {},
   "outputs": [],
   "source": [
    "@model function kalman_filter()\n",
    "    \n",
    "    # Prior for the previous state\n",
    "    x_prev_mean = datavar(Float64)\n",
    "    x_prev_var  = datavar(Float64)\n",
    "    \n",
    "    x_prev ~ Normal(mean = x_prev_mean, variance = x_prev_var)\n",
    "    \n",
    "    # Prior for the observation noise\n",
    "    τ_shape = datavar(Float64)\n",
    "    τ_rate  = datavar(Float64)\n",
    "    \n",
    "    τ ~ Gamma(shape = τ_shape, rate = τ_rate)\n",
    "    \n",
    "    # Random walk with fixed precision\n",
    "    x_current ~ Normal(mean = x_prev, precision = 1.0)\n",
    "    \n",
    "    # Noisy observation\n",
    "    y = datavar(Float64)\n",
    "    y ~ Normal(mean = x_current, precision = τ)\n",
    "    \n",
    "end\n",
    "\n",
    "# We assume the following factorisation between variables \n",
    "# in the variational distribution\n",
    "@constraints function filter_constraints()\n",
    "    q(x_prev, x_current, τ) = q(x_prev, x_current)q(τ)\n",
    "end"
   ]
  },
  {
   "attachments": {},
   "cell_type": "markdown",
   "metadata": {},
   "source": [
    "## Prepare environment"
   ]
  },
  {
   "cell_type": "code",
   "execution_count": null,
   "metadata": {},
   "outputs": [],
   "source": [
    "initial_state         = 0.0\n",
    "observation_precision = 0.1"
   ]
  },
  {
   "attachments": {},
   "cell_type": "markdown",
   "metadata": {},
   "source": [
    "After we have created the environment we can observe how our signal behaves:"
   ]
  },
  {
   "cell_type": "code",
   "execution_count": null,
   "metadata": {},
   "outputs": [],
   "source": [
    "testenvironment = Environment(initial_state, observation_precision);\n",
    "\n",
    "animation = @animate for i in 1:100\n",
    "    getnext!(testenvironment)\n",
    "    \n",
    "    history = gethistory(testenvironment)\n",
    "    observations = getobservations(testenvironment)\n",
    "    \n",
    "    p = plot(size = (1000, 300))\n",
    "    \n",
    "    p = plot!(p, 1:i, history[1:i], label = \"Hidden signal\")\n",
    "    p = scatter!(p, 1:i, observations[1:i], ms = 4, alpha = 0.7, label = \"Observation\")\n",
    "end\n",
    "\n",
    "gif(animation, \"../pics/infinite-data-stream.gif\", fps = 24, show_msg = false);"
   ]
  },
  {
   "attachments": {},
   "cell_type": "markdown",
   "metadata": {},
   "source": [
    "![](../pics/infinite-data-stream.gif)"
   ]
  },
  {
   "attachments": {},
   "cell_type": "markdown",
   "metadata": {
    "tags": []
   },
   "source": [
    "## Filtering on static dataset\n",
    "\n",
    "`RxInfer` is flexible and allows for running inference both on real-time and static datasets. In the next section we show how to perform the filtering procedure on a static dataset. We also will verify our inference procedure by checking on the Bethe Free Energy values:"
   ]
  },
  {
   "cell_type": "code",
   "execution_count": null,
   "metadata": {},
   "outputs": [],
   "source": [
    "n                  = 300\n",
    "static_environment = Environment(initial_state, observation_precision);\n",
    "\n",
    "for i in 1:n\n",
    "    getnext!(static_environment)\n",
    "end\n",
    "\n",
    "static_history      = gethistory(static_environment)\n",
    "static_observations = getobservations(static_environment);\n",
    "static_datastream   = from(static_observations) |> map(NamedTuple{(:y,), Tuple{Float64}}, (d) -> (y = d, ));"
   ]
  },
  {
   "cell_type": "code",
   "execution_count": null,
   "metadata": {},
   "outputs": [],
   "source": [
    "function run_static(environment, datastream)\n",
    "    \n",
    "    # `@autoupdates` structure specifies how to update our priors based on new posteriors\n",
    "    # For example, every time we have updated a posterior over `x_current` we update our priors\n",
    "    # over `x_prev`\n",
    "    autoupdates = @autoupdates begin \n",
    "        x_prev_mean, x_prev_var = mean_var(q(x_current))\n",
    "        τ_shape = shape(q(τ))\n",
    "        τ_rate = rate(q(τ))\n",
    "    end\n",
    "    \n",
    "    engine = rxinference(\n",
    "        model         = kalman_filter(),\n",
    "        constraints   = filter_constraints(),\n",
    "        datastream    = datastream,\n",
    "        autoupdates   = autoupdates,\n",
    "        returnvars    = (:x_current, ),\n",
    "        keephistory   = 10_000,\n",
    "        historyvars   = (x_current = KeepLast(), τ = KeepLast()),\n",
    "        initmarginals = (x_current = NormalMeanVariance(0.0, 1e3), τ = GammaShapeRate(1.0, 1.0)),\n",
    "        iterations    = 10,\n",
    "        free_energy   = true,\n",
    "        autostart     = true,\n",
    "    )\n",
    "    \n",
    "    return engine\n",
    "end"
   ]
  },
  {
   "cell_type": "code",
   "execution_count": null,
   "metadata": {},
   "outputs": [],
   "source": [
    "result = run_static(static_environment, static_datastream);"
   ]
  },
  {
   "cell_type": "code",
   "execution_count": null,
   "metadata": {},
   "outputs": [],
   "source": [
    "static_inference = @animate for i in 1:n\n",
    "    estimated = result.history[:x_current]\n",
    "    p = plot(1:i, mean.(estimated[1:i]), ribbon = var.(estimated[1:n]), label = \"Estimation\")\n",
    "    p = plot!(static_history[1:i], label = \"Real states\")    \n",
    "    p = scatter!(static_observations[1:i], ms = 2, label = \"Observations\")\n",
    "    p = plot(p, size = (1000, 300), legend = :bottomright)\n",
    "end\n",
    "\n",
    "gif(static_inference, \"../pics/infinite-data-stream-inference.gif\", fps = 24, show_msg = false);"
   ]
  },
  {
   "attachments": {},
   "cell_type": "markdown",
   "metadata": {},
   "source": [
    "![](../pics/infinite-data-stream-inference.gif)"
   ]
  },
  {
   "cell_type": "code",
   "execution_count": null,
   "metadata": {},
   "outputs": [],
   "source": [
    "plot(result.free_energy_history, label = \"Bethe Free Energy (averaged)\") "
   ]
  },
  {
   "attachments": {},
   "cell_type": "markdown",
   "metadata": {},
   "source": [
    "## Filtering on realtime dataset\n",
    "\n",
    "Next lets create a \"real\" infinite stream. We use `timer()` observable from `Rocket.jl`to emulate real-world scenario. In our example we are going to generate a new data point every `~41ms` (24 data points per second). For demonstration purposes we force stop after `n` data points, but there is no principled limitation to run inference indefinite:"
   ]
  },
  {
   "cell_type": "code",
   "execution_count": null,
   "metadata": {},
   "outputs": [],
   "source": [
    "function run_and_plot(environment, datastream)\n",
    "    \n",
    "    # `@autoupdates` structure specifies how to update our priors based on new posteriors\n",
    "    # For example, every time we have updated a posterior over `x_current` we update our priors\n",
    "    # over `x_prev`\n",
    "    autoupdates = @autoupdates begin \n",
    "        x_prev_mean, x_prev_var = mean_var(q(x_current))\n",
    "        τ_shape = shape(q(τ))\n",
    "        τ_rate = rate(q(τ))\n",
    "    end\n",
    "    \n",
    "    posteriors = []\n",
    "    \n",
    "    plotfn = (q_current) -> begin \n",
    "        IJulia.clear_output(true)\n",
    "        \n",
    "        push!(posteriors, q_current)\n",
    "\n",
    "        p = plot(mean.(posteriors), ribbon = var.(posteriors), label = \"Estimation\")\n",
    "        p = plot!(gethistory(environment), label = \"Real states\")    \n",
    "        p = scatter!(getobservations(environment), ms = 2, label = \"Observations\")\n",
    "        p = plot(p, size = (1000, 300), legend = :bottomright)\n",
    "\n",
    "        display(p)\n",
    "    end\n",
    "    \n",
    "    engine = rxinference(\n",
    "        model         = kalman_filter(),\n",
    "        constraints   = filter_constraints(),\n",
    "        datastream    = datastream,\n",
    "        autoupdates   = autoupdates,\n",
    "        returnvars    = (:x_current, ),\n",
    "        initmarginals = (x_current = NormalMeanVariance(0.0, 1e3), τ = GammaShapeRate(1.0, 1.0)),\n",
    "        iterations    = 10,\n",
    "        autostart     = false,\n",
    "    )\n",
    "    \n",
    "    qsubscription = subscribe!(engine.posteriors[:x_current], plotfn)\n",
    "    \n",
    "    RxInfer.start(engine)\n",
    "    \n",
    "    return engine\n",
    "end"
   ]
  },
  {
   "cell_type": "code",
   "execution_count": null,
   "metadata": {},
   "outputs": [],
   "source": [
    "# This example runs in our documentation pipeline, which does not support \"real-time\" execution context\n",
    "# We skip this code if run not in Jupyter notebook (see below an example with gif)\n",
    "engine = nothing \n",
    "if isdefined(Main, :IJulia)\n",
    "    timegen      = 41 # 41 ms\n",
    "    environment  = Environment(initial_state, observation_precision);\n",
    "    observations = timer(timegen, timegen) |> map(Float64, (_) -> getnext!(environment)) |> take(n) # `take!` automatically stops after `n` observations\n",
    "    datastream   = observations |> map(NamedTuple{(:y,), Tuple{Float64}}, (d) -> (y = d, ));\n",
    "    engine = run_and_plot(environment, datastream)\n",
    "end;"
   ]
  },
  {
   "attachments": {},
   "cell_type": "markdown",
   "metadata": {},
   "source": [
    "The plot above is fully interactive and we can stop and unsubscribe from our `datastream` before it ends:"
   ]
  },
  {
   "cell_type": "code",
   "execution_count": null,
   "metadata": {},
   "outputs": [],
   "source": [
    "if !isnothing(engine) && isdefined(Main, :IJulia)\n",
    "    RxInfer.stop(engine)\n",
    "    IJulia.clear_output(true)\n",
    "end;"
   ]
  }
 ],
 "metadata": {
  "@webio": {
   "lastCommId": null,
   "lastKernelId": null
  },
  "kernelspec": {
   "display_name": "Julia 1.9.0",
   "language": "julia",
   "name": "julia-1.9"
  },
  "language_info": {
   "file_extension": ".jl",
   "mimetype": "application/julia",
   "name": "julia",
   "version": "1.9.0"
  }
 },
 "nbformat": 4,
 "nbformat_minor": 4
}
