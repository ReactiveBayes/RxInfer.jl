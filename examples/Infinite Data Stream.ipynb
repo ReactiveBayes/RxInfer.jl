{
 "cells": [
  {
   "cell_type": "markdown",
   "metadata": {},
   "source": [
    "# Infinite Data Stream"
   ]
  },
  {
   "cell_type": "code",
   "execution_count": 1,
   "metadata": {},
   "outputs": [
    {
     "name": "stderr",
     "output_type": "stream",
     "text": [
      "\u001b[32m\u001b[1m  Activating\u001b[22m\u001b[39m project at `~/.julia/dev/RxInfer.jl/examples`\n",
      "\u001b[32m\u001b[1mPrecompiling\u001b[22m\u001b[39m project...\n",
      "\u001b[32m  ✓ \u001b[39m\u001b[90mReactiveMP\u001b[39m\n",
      "\u001b[32m  ✓ \u001b[39mRxInfer\n",
      "  2 dependencies successfully precompiled in 34 seconds. 291 already precompiled.\n"
     ]
    }
   ],
   "source": [
    "# Activate local environment, see `Project.toml`\n",
    "import Pkg; Pkg.activate(\".\"); Pkg.instantiate();"
   ]
  },
  {
   "cell_type": "markdown",
   "metadata": {},
   "source": [
    "This example shows the capabilities of `RxInfer` to perform Bayesian inference on real-time signals. As usual, first, we start with importing necessary packages:"
   ]
  },
  {
   "cell_type": "code",
   "execution_count": 2,
   "metadata": {},
   "outputs": [],
   "source": [
    "using RxInfer, Plots, Random, StableRNGs"
   ]
  },
  {
   "cell_type": "markdown",
   "metadata": {},
   "source": [
    "For demonstration purposes we will create a synthetic environment that has a hidden underlying signal, which we cannot observer directly. Instead, we will observe a noised realisation of this hidden signal:"
   ]
  },
  {
   "cell_type": "code",
   "execution_count": 3,
   "metadata": {},
   "outputs": [
    {
     "data": {
      "text/plain": [
       "getobservations (generic function with 1 method)"
      ]
     },
     "execution_count": 3,
     "metadata": {},
     "output_type": "execute_result"
    }
   ],
   "source": [
    "mutable struct Environment\n",
    "    rng                   :: AbstractRNG\n",
    "    current_state         :: Float64\n",
    "    observation_precision :: Float64\n",
    "    history               :: Vector{Float64}\n",
    "    observations          :: Vector{Float64}\n",
    "    \n",
    "    Environment(current_state, observation_precision; seed = 123) = begin \n",
    "         return new(StableRNG(seed), current_state, observation_precision, [], [])\n",
    "    end\n",
    "end\n",
    "\n",
    "function getnext!(environment::Environment)\n",
    "    environment.current_state = environment.current_state + 1.0\n",
    "    nextstate  = 10sin(0.1 * environment.current_state)\n",
    "    observation = rand(NormalMeanPrecision(nextstate, environment.observation_precision))\n",
    "    push!(environment.history, nextstate)\n",
    "    push!(environment.observations, observation)\n",
    "    return observation\n",
    "end\n",
    "\n",
    "function gethistory(environment::Environment)\n",
    "    return environment.history\n",
    "end\n",
    "\n",
    "function getobservations(environment::Environment)\n",
    "    return environment.observations\n",
    "end"
   ]
  },
  {
   "cell_type": "markdown",
   "metadata": {},
   "source": [
    "## Model specification\n",
    "\n",
    "We assume that we don't know the shape of our signal in advance. So we try to fit a simple gaussian random walk with unknown observation noise:"
   ]
  },
  {
   "cell_type": "code",
   "execution_count": 4,
   "metadata": {},
   "outputs": [
    {
     "data": {
      "text/plain": [
       "filter_constraints (generic function with 1 method)"
      ]
     },
     "execution_count": 4,
     "metadata": {},
     "output_type": "execute_result"
    }
   ],
   "source": [
    "@model function kalman_filter()\n",
    "    \n",
    "    # Prior for the previous state\n",
    "    x_prev_mean = datavar(Float64)\n",
    "    x_prev_var  = datavar(Float64)\n",
    "    \n",
    "    x_prev ~ Normal(mean = x_prev_mean, variance = x_prev_var)\n",
    "    \n",
    "    # Prior for the observation noise\n",
    "    τ_shape = datavar(Float64)\n",
    "    τ_rate  = datavar(Float64)\n",
    "    \n",
    "    τ ~ Gamma(shape = τ_shape, rate = τ_rate)\n",
    "    \n",
    "    # Random walk with fixed precision\n",
    "    x_current ~ Normal(mean = x_prev, precision = 1.0)\n",
    "    \n",
    "    # Noisy observation\n",
    "    y = datavar(Float64)\n",
    "    y ~ Normal(mean = x_current, precision = τ)\n",
    "    \n",
    "end\n",
    "\n",
    "# We assume the following factorisation between variables \n",
    "# in the variational distribution\n",
    "@constraints function filter_constraints()\n",
    "    q(x_prev, x_current, τ) = q(x_prev, x_current)q(τ)\n",
    "end"
   ]
  },
  {
   "cell_type": "markdown",
   "metadata": {},
   "source": [
    "## Prepare environment"
   ]
  },
  {
   "cell_type": "code",
   "execution_count": 5,
   "metadata": {},
   "outputs": [
    {
     "data": {
      "text/plain": [
       "0.1"
      ]
     },
     "execution_count": 5,
     "metadata": {},
     "output_type": "execute_result"
    }
   ],
   "source": [
    "initial_state         = 0.0\n",
    "observation_precision = 0.1"
   ]
  },
  {
   "cell_type": "markdown",
   "metadata": {},
   "source": [
    "After we have created the environment we can observe how our signal behaves:"
   ]
  },
  {
   "cell_type": "code",
   "execution_count": 6,
   "metadata": {},
   "outputs": [],
   "source": [
    "testenvironment = Environment(initial_state, observation_precision);\n",
    "\n",
    "animation = @animate for i in 1:100\n",
    "    getnext!(testenvironment)\n",
    "    \n",
    "    history = gethistory(testenvironment)\n",
    "    observations = getobservations(testenvironment)\n",
    "    \n",
    "    p = plot(size = (1000, 300))\n",
    "    \n",
    "    p = plot!(p, 1:i, history[1:i], label = \"Hidden signal\")\n",
    "    p = scatter!(p, 1:i, observations[1:i], ms = 4, alpha = 0.7, label = \"Observation\")\n",
    "end\n",
    "\n",
    "gif(animation, \"./infinite-data-stream.gif\", fps = 24, show_msg = false);"
   ]
  },
  {
   "cell_type": "markdown",
   "metadata": {},
   "source": [
    "![](infinite-data-stream.gif)"
   ]
  },
  {
   "cell_type": "markdown",
   "metadata": {
    "tags": []
   },
   "source": [
    "## Filtering on static dataset\n",
    "\n",
    "`RxInfer` is flexible and allows for running inference both on real-time and static datasets. In the next section we show how to perform the filtering procedure on a static dataset. We also will verify our inference procedure by checking on the Bethe Free Energy values:"
   ]
  },
  {
   "cell_type": "code",
   "execution_count": 7,
   "metadata": {},
   "outputs": [],
   "source": [
    "n                  = 300\n",
    "static_environment = Environment(initial_state, observation_precision);\n",
    "\n",
    "for i in 1:n\n",
    "    getnext!(static_environment)\n",
    "end\n",
    "\n",
    "static_history      = gethistory(static_environment)\n",
    "static_observations = getobservations(static_environment);\n",
    "static_datastream   = from(static_observations) |> map(NamedTuple{(:y,), Tuple{Float64}}, (d) -> (y = d, ));"
   ]
  },
  {
   "cell_type": "code",
   "execution_count": 8,
   "metadata": {},
   "outputs": [
    {
     "data": {
      "text/plain": [
       "run_static (generic function with 1 method)"
      ]
     },
     "execution_count": 8,
     "metadata": {},
     "output_type": "execute_result"
    }
   ],
   "source": [
    "function run_static(environment, datastream)\n",
    "    \n",
    "    # `@autoupdates` structure specifies how to update our priors based on new posteriors\n",
    "    # For example, every time we have updated a posterior over `x_current` we update our priors\n",
    "    # over `x_prev`\n",
    "    autoupdates = @autoupdates begin \n",
    "        x_prev_mean, x_prev_var = mean_var(q(x_current))\n",
    "        τ_shape = shape(q(τ))\n",
    "        τ_rate = rate(q(τ))\n",
    "    end\n",
    "    \n",
    "    engine = rxinference(\n",
    "        model         = kalman_filter(),\n",
    "        constraints   = filter_constraints(),\n",
    "        datastream    = datastream,\n",
    "        autoupdates   = autoupdates,\n",
    "        returnvars    = (:x_current, ),\n",
    "        keephistory   = 10_000,\n",
    "        historyvars   = (x_current = KeepLast(), τ = KeepLast()),\n",
    "        initmarginals = (x_current = NormalMeanVariance(0.0, 1e3), τ = GammaShapeRate(1.0, 1.0)),\n",
    "        iterations    = 10,\n",
    "        free_energy   = true,\n",
    "        autostart     = true,\n",
    "    )\n",
    "    \n",
    "    return engine\n",
    "end"
   ]
  },
  {
   "cell_type": "code",
   "execution_count": 9,
   "metadata": {},
   "outputs": [],
   "source": [
    "result = run_static(static_environment, static_datastream);"
   ]
  },
  {
   "cell_type": "code",
   "execution_count": 10,
   "metadata": {},
   "outputs": [],
   "source": [
    "static_inference = @animate for i in 1:n\n",
    "    estimated = result.history[:x_current]\n",
    "    p = plot(1:i, mean.(estimated[1:i]), ribbon = var.(estimated[1:n]), label = \"Estimation\")\n",
    "    p = plot!(static_history[1:i], label = \"Real states\")    \n",
    "    p = scatter!(static_observations[1:i], ms = 2, label = \"Observations\")\n",
    "    p = plot(p, size = (1000, 300), legend = :bottomright)\n",
    "end\n",
    "\n",
    "gif(static_inference, \"./infinite-data-stream-inference.gif\", fps = 24, show_msg = false);"
   ]
  },
  {
   "cell_type": "markdown",
   "metadata": {},
   "source": [
    "![](infinite-data-stream-inference.gif)"
   ]
  },
  {
   "cell_type": "code",
   "execution_count": 11,
   "metadata": {},
   "outputs": [
    {
     "data": {
      "image/svg+xml": [
       "<?xml version=\"1.0\" encoding=\"utf-8\"?>\n",
       "<svg xmlns=\"http://www.w3.org/2000/svg\" xmlns:xlink=\"http://www.w3.org/1999/xlink\" width=\"600\" height=\"400\" viewBox=\"0 0 2400 1600\">\n",
       "<defs>\n",
       "  <clipPath id=\"clip120\">\n",
       "    <rect x=\"0\" y=\"0\" width=\"2400\" height=\"1600\"/>\n",
       "  </clipPath>\n",
       "</defs>\n",
       "<path clip-path=\"url(#clip120)\" d=\"\n",
       "M0 1600 L2400 1600 L2400 0 L0 0  Z\n",
       "  \" fill=\"#ffffff\" fill-rule=\"evenodd\" fill-opacity=\"1\"/>\n",
       "<defs>\n",
       "  <clipPath id=\"clip121\">\n",
       "    <rect x=\"480\" y=\"0\" width=\"1681\" height=\"1600\"/>\n",
       "  </clipPath>\n",
       "</defs>\n",
       "<path clip-path=\"url(#clip120)\" d=\"\n",
       "M246.737 1486.45 L2352.76 1486.45 L2352.76 47.2441 L246.737 47.2441  Z\n",
       "  \" fill=\"#ffffff\" fill-rule=\"evenodd\" fill-opacity=\"1\"/>\n",
       "<defs>\n",
       "  <clipPath id=\"clip122\">\n",
       "    <rect x=\"246\" y=\"47\" width=\"2107\" height=\"1440\"/>\n",
       "  </clipPath>\n",
       "</defs>\n",
       "<polyline clip-path=\"url(#clip122)\" style=\"stroke:#000000; stroke-linecap:round; stroke-linejoin:round; stroke-width:2; stroke-opacity:0.1; fill:none\" points=\"\n",
       "  527.098,1486.45 527.098,47.2441 \n",
       "  \"/>\n",
       "<polyline clip-path=\"url(#clip122)\" style=\"stroke:#000000; stroke-linecap:round; stroke-linejoin:round; stroke-width:2; stroke-opacity:0.1; fill:none\" points=\"\n",
       "  968.611,1486.45 968.611,47.2441 \n",
       "  \"/>\n",
       "<polyline clip-path=\"url(#clip122)\" style=\"stroke:#000000; stroke-linecap:round; stroke-linejoin:round; stroke-width:2; stroke-opacity:0.1; fill:none\" points=\"\n",
       "  1410.12,1486.45 1410.12,47.2441 \n",
       "  \"/>\n",
       "<polyline clip-path=\"url(#clip122)\" style=\"stroke:#000000; stroke-linecap:round; stroke-linejoin:round; stroke-width:2; stroke-opacity:0.1; fill:none\" points=\"\n",
       "  1851.64,1486.45 1851.64,47.2441 \n",
       "  \"/>\n",
       "<polyline clip-path=\"url(#clip122)\" style=\"stroke:#000000; stroke-linecap:round; stroke-linejoin:round; stroke-width:2; stroke-opacity:0.1; fill:none\" points=\"\n",
       "  2293.15,1486.45 2293.15,47.2441 \n",
       "  \"/>\n",
       "<polyline clip-path=\"url(#clip120)\" style=\"stroke:#000000; stroke-linecap:round; stroke-linejoin:round; stroke-width:4; stroke-opacity:1; fill:none\" points=\"\n",
       "  246.737,1486.45 2352.76,1486.45 \n",
       "  \"/>\n",
       "<polyline clip-path=\"url(#clip120)\" style=\"stroke:#000000; stroke-linecap:round; stroke-linejoin:round; stroke-width:4; stroke-opacity:1; fill:none\" points=\"\n",
       "  527.098,1486.45 527.098,1467.55 \n",
       "  \"/>\n",
       "<polyline clip-path=\"url(#clip120)\" style=\"stroke:#000000; stroke-linecap:round; stroke-linejoin:round; stroke-width:4; stroke-opacity:1; fill:none\" points=\"\n",
       "  968.611,1486.45 968.611,1467.55 \n",
       "  \"/>\n",
       "<polyline clip-path=\"url(#clip120)\" style=\"stroke:#000000; stroke-linecap:round; stroke-linejoin:round; stroke-width:4; stroke-opacity:1; fill:none\" points=\"\n",
       "  1410.12,1486.45 1410.12,1467.55 \n",
       "  \"/>\n",
       "<polyline clip-path=\"url(#clip120)\" style=\"stroke:#000000; stroke-linecap:round; stroke-linejoin:round; stroke-width:4; stroke-opacity:1; fill:none\" points=\"\n",
       "  1851.64,1486.45 1851.64,1467.55 \n",
       "  \"/>\n",
       "<polyline clip-path=\"url(#clip120)\" style=\"stroke:#000000; stroke-linecap:round; stroke-linejoin:round; stroke-width:4; stroke-opacity:1; fill:none\" points=\"\n",
       "  2293.15,1486.45 2293.15,1467.55 \n",
       "  \"/>\n",
       "<path clip-path=\"url(#clip120)\" d=\"M521.751 1544.91 L538.07 1544.91 L538.07 1548.85 L516.126 1548.85 L516.126 1544.91 Q518.788 1542.16 523.371 1537.53 Q527.977 1532.88 529.158 1531.53 Q531.403 1529.01 532.283 1527.27 Q533.186 1525.51 533.186 1523.82 Q533.186 1521.07 531.241 1519.33 Q529.32 1517.6 526.218 1517.6 Q524.019 1517.6 521.565 1518.36 Q519.135 1519.13 516.357 1520.68 L516.357 1515.95 Q519.181 1514.82 521.635 1514.24 Q524.088 1513.66 526.125 1513.66 Q531.496 1513.66 534.69 1516.35 Q537.885 1519.03 537.885 1523.52 Q537.885 1525.65 537.074 1527.57 Q536.287 1529.47 534.181 1532.07 Q533.602 1532.74 530.5 1535.95 Q527.399 1539.15 521.751 1544.91 Z\" fill=\"#000000\" fill-rule=\"evenodd\" fill-opacity=\"1\" /><path clip-path=\"url(#clip120)\" d=\"M971.62 1518.36 L959.815 1536.81 L971.62 1536.81 L971.62 1518.36 M970.394 1514.29 L976.273 1514.29 L976.273 1536.81 L981.204 1536.81 L981.204 1540.7 L976.273 1540.7 L976.273 1548.85 L971.62 1548.85 L971.62 1540.7 L956.019 1540.7 L956.019 1536.19 L970.394 1514.29 Z\" fill=\"#000000\" fill-rule=\"evenodd\" fill-opacity=\"1\" /><path clip-path=\"url(#clip120)\" d=\"M1410.53 1529.7 Q1407.38 1529.7 1405.53 1531.86 Q1403.7 1534.01 1403.7 1537.76 Q1403.7 1541.49 1405.53 1543.66 Q1407.38 1545.82 1410.53 1545.82 Q1413.68 1545.82 1415.51 1543.66 Q1417.36 1541.49 1417.36 1537.76 Q1417.36 1534.01 1415.51 1531.86 Q1413.68 1529.7 1410.53 1529.7 M1419.81 1515.05 L1419.81 1519.31 Q1418.05 1518.48 1416.25 1518.04 Q1414.46 1517.6 1412.71 1517.6 Q1408.08 1517.6 1405.62 1520.72 Q1403.19 1523.85 1402.84 1530.17 Q1404.21 1528.15 1406.27 1527.09 Q1408.33 1526 1410.81 1526 Q1416.02 1526 1419.03 1529.17 Q1422.06 1532.32 1422.06 1537.76 Q1422.06 1543.08 1418.91 1546.3 Q1415.76 1549.52 1410.53 1549.52 Q1404.53 1549.52 1401.36 1544.94 Q1398.19 1540.33 1398.19 1531.6 Q1398.19 1523.41 1402.08 1518.55 Q1405.97 1513.66 1412.52 1513.66 Q1414.28 1513.66 1416.06 1514.01 Q1417.87 1514.36 1419.81 1515.05 Z\" fill=\"#000000\" fill-rule=\"evenodd\" fill-opacity=\"1\" /><path clip-path=\"url(#clip120)\" d=\"M1851.64 1532.44 Q1848.3 1532.44 1846.38 1534.22 Q1844.49 1536 1844.49 1539.13 Q1844.49 1542.25 1846.38 1544.03 Q1848.3 1545.82 1851.64 1545.82 Q1854.97 1545.82 1856.89 1544.03 Q1858.81 1542.23 1858.81 1539.13 Q1858.81 1536 1856.89 1534.22 Q1854.99 1532.44 1851.64 1532.44 M1846.96 1530.45 Q1843.95 1529.7 1842.26 1527.64 Q1840.6 1525.58 1840.6 1522.62 Q1840.6 1518.48 1843.54 1516.07 Q1846.5 1513.66 1851.64 1513.66 Q1856.8 1513.66 1859.74 1516.07 Q1862.68 1518.48 1862.68 1522.62 Q1862.68 1525.58 1860.99 1527.64 Q1859.32 1529.7 1856.34 1530.45 Q1859.72 1531.23 1861.59 1533.52 Q1863.49 1535.82 1863.49 1539.13 Q1863.49 1544.15 1860.41 1546.83 Q1857.36 1549.52 1851.64 1549.52 Q1845.92 1549.52 1842.84 1546.83 Q1839.79 1544.15 1839.79 1539.13 Q1839.79 1535.82 1841.68 1533.52 Q1843.58 1531.23 1846.96 1530.45 M1845.25 1523.06 Q1845.25 1525.75 1846.92 1527.25 Q1848.61 1528.76 1851.64 1528.76 Q1854.65 1528.76 1856.34 1527.25 Q1858.05 1525.75 1858.05 1523.06 Q1858.05 1520.38 1856.34 1518.87 Q1854.65 1517.37 1851.64 1517.37 Q1848.61 1517.37 1846.92 1518.87 Q1845.25 1520.38 1845.25 1523.06 Z\" fill=\"#000000\" fill-rule=\"evenodd\" fill-opacity=\"1\" /><path clip-path=\"url(#clip120)\" d=\"M2267.84 1544.91 L2275.48 1544.91 L2275.48 1518.55 L2267.17 1520.21 L2267.17 1515.95 L2275.43 1514.29 L2280.11 1514.29 L2280.11 1544.91 L2287.75 1544.91 L2287.75 1548.85 L2267.84 1548.85 L2267.84 1544.91 Z\" fill=\"#000000\" fill-rule=\"evenodd\" fill-opacity=\"1\" /><path clip-path=\"url(#clip120)\" d=\"M2307.19 1517.37 Q2303.58 1517.37 2301.75 1520.93 Q2299.95 1524.47 2299.95 1531.6 Q2299.95 1538.71 2301.75 1542.27 Q2303.58 1545.82 2307.19 1545.82 Q2310.83 1545.82 2312.63 1542.27 Q2314.46 1538.71 2314.46 1531.6 Q2314.46 1524.47 2312.63 1520.93 Q2310.83 1517.37 2307.19 1517.37 M2307.19 1513.66 Q2313 1513.66 2316.06 1518.27 Q2319.14 1522.85 2319.14 1531.6 Q2319.14 1540.33 2316.06 1544.94 Q2313 1549.52 2307.19 1549.52 Q2301.38 1549.52 2298.3 1544.94 Q2295.25 1540.33 2295.25 1531.6 Q2295.25 1522.85 2298.3 1518.27 Q2301.38 1513.66 2307.19 1513.66 Z\" fill=\"#000000\" fill-rule=\"evenodd\" fill-opacity=\"1\" /><polyline clip-path=\"url(#clip122)\" style=\"stroke:#000000; stroke-linecap:round; stroke-linejoin:round; stroke-width:2; stroke-opacity:0.1; fill:none\" points=\"\n",
       "  246.737,1318.98 2352.76,1318.98 \n",
       "  \"/>\n",
       "<polyline clip-path=\"url(#clip122)\" style=\"stroke:#000000; stroke-linecap:round; stroke-linejoin:round; stroke-width:2; stroke-opacity:0.1; fill:none\" points=\"\n",
       "  246.737,1124.8 2352.76,1124.8 \n",
       "  \"/>\n",
       "<polyline clip-path=\"url(#clip122)\" style=\"stroke:#000000; stroke-linecap:round; stroke-linejoin:round; stroke-width:2; stroke-opacity:0.1; fill:none\" points=\"\n",
       "  246.737,930.62 2352.76,930.62 \n",
       "  \"/>\n",
       "<polyline clip-path=\"url(#clip122)\" style=\"stroke:#000000; stroke-linecap:round; stroke-linejoin:round; stroke-width:2; stroke-opacity:0.1; fill:none\" points=\"\n",
       "  246.737,736.438 2352.76,736.438 \n",
       "  \"/>\n",
       "<polyline clip-path=\"url(#clip122)\" style=\"stroke:#000000; stroke-linecap:round; stroke-linejoin:round; stroke-width:2; stroke-opacity:0.1; fill:none\" points=\"\n",
       "  246.737,542.256 2352.76,542.256 \n",
       "  \"/>\n",
       "<polyline clip-path=\"url(#clip122)\" style=\"stroke:#000000; stroke-linecap:round; stroke-linejoin:round; stroke-width:2; stroke-opacity:0.1; fill:none\" points=\"\n",
       "  246.737,348.074 2352.76,348.074 \n",
       "  \"/>\n",
       "<polyline clip-path=\"url(#clip122)\" style=\"stroke:#000000; stroke-linecap:round; stroke-linejoin:round; stroke-width:2; stroke-opacity:0.1; fill:none\" points=\"\n",
       "  246.737,153.892 2352.76,153.892 \n",
       "  \"/>\n",
       "<polyline clip-path=\"url(#clip120)\" style=\"stroke:#000000; stroke-linecap:round; stroke-linejoin:round; stroke-width:4; stroke-opacity:1; fill:none\" points=\"\n",
       "  246.737,1486.45 246.737,47.2441 \n",
       "  \"/>\n",
       "<polyline clip-path=\"url(#clip120)\" style=\"stroke:#000000; stroke-linecap:round; stroke-linejoin:round; stroke-width:4; stroke-opacity:1; fill:none\" points=\"\n",
       "  246.737,1318.98 265.634,1318.98 \n",
       "  \"/>\n",
       "<polyline clip-path=\"url(#clip120)\" style=\"stroke:#000000; stroke-linecap:round; stroke-linejoin:round; stroke-width:4; stroke-opacity:1; fill:none\" points=\"\n",
       "  246.737,1124.8 265.634,1124.8 \n",
       "  \"/>\n",
       "<polyline clip-path=\"url(#clip120)\" style=\"stroke:#000000; stroke-linecap:round; stroke-linejoin:round; stroke-width:4; stroke-opacity:1; fill:none\" points=\"\n",
       "  246.737,930.62 265.634,930.62 \n",
       "  \"/>\n",
       "<polyline clip-path=\"url(#clip120)\" style=\"stroke:#000000; stroke-linecap:round; stroke-linejoin:round; stroke-width:4; stroke-opacity:1; fill:none\" points=\"\n",
       "  246.737,736.438 265.634,736.438 \n",
       "  \"/>\n",
       "<polyline clip-path=\"url(#clip120)\" style=\"stroke:#000000; stroke-linecap:round; stroke-linejoin:round; stroke-width:4; stroke-opacity:1; fill:none\" points=\"\n",
       "  246.737,542.256 265.634,542.256 \n",
       "  \"/>\n",
       "<polyline clip-path=\"url(#clip120)\" style=\"stroke:#000000; stroke-linecap:round; stroke-linejoin:round; stroke-width:4; stroke-opacity:1; fill:none\" points=\"\n",
       "  246.737,348.074 265.634,348.074 \n",
       "  \"/>\n",
       "<polyline clip-path=\"url(#clip120)\" style=\"stroke:#000000; stroke-linecap:round; stroke-linejoin:round; stroke-width:4; stroke-opacity:1; fill:none\" points=\"\n",
       "  246.737,153.892 265.634,153.892 \n",
       "  \"/>\n",
       "<path clip-path=\"url(#clip120)\" d=\"M57.1958 1332.33 L73.5152 1332.33 L73.5152 1336.26 L51.5708 1336.26 L51.5708 1332.33 Q54.2328 1329.57 58.8162 1324.94 Q63.4226 1320.29 64.6032 1318.95 Q66.8485 1316.43 67.7281 1314.69 Q68.6309 1312.93 68.6309 1311.24 Q68.6309 1308.49 66.6865 1306.75 Q64.7652 1305.01 61.6634 1305.01 Q59.4643 1305.01 57.0106 1305.78 Q54.5801 1306.54 51.8023 1308.09 L51.8023 1303.37 Q54.6264 1302.24 57.0801 1301.66 Q59.5337 1301.08 61.5708 1301.08 Q66.9411 1301.08 70.1355 1303.76 Q73.33 1306.45 73.33 1310.94 Q73.33 1313.07 72.5198 1314.99 Q71.7328 1316.89 69.6263 1319.48 Q69.0476 1320.15 65.9457 1323.37 Q62.8439 1326.57 57.1958 1332.33 Z\" fill=\"#000000\" fill-rule=\"evenodd\" fill-opacity=\"1\" /><path clip-path=\"url(#clip120)\" d=\"M83.3299 1330.38 L88.2141 1330.38 L88.2141 1336.26 L83.3299 1336.26 L83.3299 1330.38 Z\" fill=\"#000000\" fill-rule=\"evenodd\" fill-opacity=\"1\" /><path clip-path=\"url(#clip120)\" d=\"M98.5382 1335.55 L98.5382 1331.29 Q100.297 1332.12 102.103 1332.56 Q103.909 1333 105.645 1333 Q110.274 1333 112.705 1329.9 Q115.158 1326.77 115.506 1320.43 Q114.163 1322.42 112.103 1323.49 Q110.043 1324.55 107.543 1324.55 Q102.358 1324.55 99.3252 1321.43 Q96.316 1318.28 96.316 1312.84 Q96.316 1307.51 99.4641 1304.3 Q102.612 1301.08 107.844 1301.08 Q113.839 1301.08 116.987 1305.69 Q120.158 1310.27 120.158 1319.02 Q120.158 1327.19 116.27 1332.07 Q112.404 1336.94 105.853 1336.94 Q104.094 1336.94 102.288 1336.59 Q100.483 1336.24 98.5382 1335.55 M107.844 1320.89 Q110.992 1320.89 112.82 1318.74 Q114.672 1316.59 114.672 1312.84 Q114.672 1309.11 112.82 1306.96 Q110.992 1304.78 107.844 1304.78 Q104.696 1304.78 102.844 1306.96 Q101.015 1309.11 101.015 1312.84 Q101.015 1316.59 102.844 1318.74 Q104.696 1320.89 107.844 1320.89 Z\" fill=\"#000000\" fill-rule=\"evenodd\" fill-opacity=\"1\" /><path clip-path=\"url(#clip120)\" d=\"M138.561 1304.78 Q134.95 1304.78 133.121 1308.35 Q131.316 1311.89 131.316 1319.02 Q131.316 1326.13 133.121 1329.69 Q134.95 1333.23 138.561 1333.23 Q142.195 1333.23 144.001 1329.69 Q145.83 1326.13 145.83 1319.02 Q145.83 1311.89 144.001 1308.35 Q142.195 1304.78 138.561 1304.78 M138.561 1301.08 Q144.371 1301.08 147.427 1305.69 Q150.505 1310.27 150.505 1319.02 Q150.505 1327.75 147.427 1332.35 Q144.371 1336.94 138.561 1336.94 Q132.751 1336.94 129.672 1332.35 Q126.617 1327.75 126.617 1319.02 Q126.617 1310.27 129.672 1305.69 Q132.751 1301.08 138.561 1301.08 Z\" fill=\"#000000\" fill-rule=\"evenodd\" fill-opacity=\"1\" /><path clip-path=\"url(#clip120)\" d=\"M162.751 1332.33 L179.07 1332.33 L179.07 1336.26 L157.126 1336.26 L157.126 1332.33 Q159.788 1329.57 164.371 1324.94 Q168.978 1320.29 170.158 1318.95 Q172.404 1316.43 173.283 1314.69 Q174.186 1312.93 174.186 1311.24 Q174.186 1308.49 172.241 1306.75 Q170.32 1305.01 167.218 1305.01 Q165.019 1305.01 162.566 1305.78 Q160.135 1306.54 157.357 1308.09 L157.357 1303.37 Q160.181 1302.24 162.635 1301.66 Q165.089 1301.08 167.126 1301.08 Q172.496 1301.08 175.691 1303.76 Q178.885 1306.45 178.885 1310.94 Q178.885 1313.07 178.075 1314.99 Q177.288 1316.89 175.181 1319.48 Q174.603 1320.15 171.501 1323.37 Q168.399 1326.57 162.751 1332.33 Z\" fill=\"#000000\" fill-rule=\"evenodd\" fill-opacity=\"1\" /><path clip-path=\"url(#clip120)\" d=\"M198.885 1319.85 Q195.552 1319.85 193.63 1321.63 Q191.732 1323.42 191.732 1326.54 Q191.732 1329.67 193.63 1331.45 Q195.552 1333.23 198.885 1333.23 Q202.218 1333.23 204.139 1331.45 Q206.061 1329.64 206.061 1326.54 Q206.061 1323.42 204.139 1321.63 Q202.241 1319.85 198.885 1319.85 M194.209 1317.86 Q191.2 1317.12 189.51 1315.06 Q187.843 1313 187.843 1310.04 Q187.843 1305.89 190.783 1303.49 Q193.746 1301.08 198.885 1301.08 Q204.047 1301.08 206.987 1303.49 Q209.926 1305.89 209.926 1310.04 Q209.926 1313 208.237 1315.06 Q206.57 1317.12 203.584 1317.86 Q206.964 1318.65 208.839 1320.94 Q210.737 1323.23 210.737 1326.54 Q210.737 1331.57 207.658 1334.25 Q204.602 1336.94 198.885 1336.94 Q193.167 1336.94 190.089 1334.25 Q187.033 1331.57 187.033 1326.54 Q187.033 1323.23 188.931 1320.94 Q190.829 1318.65 194.209 1317.86 M192.496 1310.48 Q192.496 1313.16 194.163 1314.67 Q195.852 1316.17 198.885 1316.17 Q201.894 1316.17 203.584 1314.67 Q205.297 1313.16 205.297 1310.48 Q205.297 1307.79 203.584 1306.29 Q201.894 1304.78 198.885 1304.78 Q195.852 1304.78 194.163 1306.29 Q192.496 1307.79 192.496 1310.48 Z\" fill=\"#000000\" fill-rule=\"evenodd\" fill-opacity=\"1\" /><path clip-path=\"url(#clip120)\" d=\"M57.1032 1138.15 L73.4226 1138.15 L73.4226 1142.08 L51.4782 1142.08 L51.4782 1138.15 Q54.1403 1135.39 58.7236 1130.76 Q63.33 1126.11 64.5106 1124.77 Q66.7559 1122.24 67.6356 1120.51 Q68.5383 1118.75 68.5383 1117.06 Q68.5383 1114.3 66.5939 1112.57 Q64.6726 1110.83 61.5708 1110.83 Q59.3717 1110.83 56.918 1111.6 Q54.4875 1112.36 51.7097 1113.91 L51.7097 1109.19 Q54.5338 1108.05 56.9875 1107.48 Q59.4412 1106.9 61.4782 1106.9 Q66.8485 1106.9 70.0429 1109.58 Q73.2374 1112.27 73.2374 1116.76 Q73.2374 1118.89 72.4272 1120.81 Q71.6402 1122.71 69.5337 1125.3 Q68.955 1125.97 65.8532 1129.19 Q62.7513 1132.38 57.1032 1138.15 Z\" fill=\"#000000\" fill-rule=\"evenodd\" fill-opacity=\"1\" /><path clip-path=\"url(#clip120)\" d=\"M83.2373 1136.2 L88.1216 1136.2 L88.1216 1142.08 L83.2373 1142.08 L83.2373 1136.2 Z\" fill=\"#000000\" fill-rule=\"evenodd\" fill-opacity=\"1\" /><path clip-path=\"url(#clip120)\" d=\"M98.4456 1141.36 L98.4456 1137.11 Q100.205 1137.94 102.01 1138.38 Q103.816 1138.82 105.552 1138.82 Q110.182 1138.82 112.612 1135.72 Q115.066 1132.59 115.413 1126.25 Q114.07 1128.24 112.01 1129.3 Q109.95 1130.37 107.45 1130.37 Q102.265 1130.37 99.2326 1127.24 Q96.2234 1124.1 96.2234 1118.66 Q96.2234 1113.33 99.3715 1110.11 Q102.52 1106.9 107.751 1106.9 Q113.746 1106.9 116.895 1111.5 Q120.066 1116.09 120.066 1124.84 Q120.066 1133.01 116.177 1137.89 Q112.311 1142.75 105.76 1142.75 Q104.001 1142.75 102.196 1142.41 Q100.39 1142.06 98.4456 1141.36 M107.751 1126.71 Q110.899 1126.71 112.728 1124.56 Q114.58 1122.41 114.58 1118.66 Q114.58 1114.93 112.728 1112.78 Q110.899 1110.6 107.751 1110.6 Q104.603 1110.6 102.751 1112.78 Q100.922 1114.93 100.922 1118.66 Q100.922 1122.41 102.751 1124.56 Q104.603 1126.71 107.751 1126.71 Z\" fill=\"#000000\" fill-rule=\"evenodd\" fill-opacity=\"1\" /><path clip-path=\"url(#clip120)\" d=\"M138.469 1110.6 Q134.857 1110.6 133.029 1114.17 Q131.223 1117.71 131.223 1124.84 Q131.223 1131.94 133.029 1135.51 Q134.857 1139.05 138.469 1139.05 Q142.103 1139.05 143.908 1135.51 Q145.737 1131.94 145.737 1124.84 Q145.737 1117.71 143.908 1114.17 Q142.103 1110.6 138.469 1110.6 M138.469 1106.9 Q144.279 1106.9 147.334 1111.5 Q150.413 1116.09 150.413 1124.84 Q150.413 1133.56 147.334 1138.17 Q144.279 1142.75 138.469 1142.75 Q132.658 1142.75 129.58 1138.17 Q126.524 1133.56 126.524 1124.84 Q126.524 1116.09 129.58 1111.5 Q132.658 1106.9 138.469 1106.9 Z\" fill=\"#000000\" fill-rule=\"evenodd\" fill-opacity=\"1\" /><path clip-path=\"url(#clip120)\" d=\"M172.797 1123.45 Q176.153 1124.17 178.028 1126.43 Q179.927 1128.7 179.927 1132.04 Q179.927 1137.15 176.408 1139.95 Q172.89 1142.75 166.408 1142.75 Q164.232 1142.75 161.917 1142.31 Q159.626 1141.9 157.172 1141.04 L157.172 1136.53 Q159.117 1137.66 161.431 1138.24 Q163.746 1138.82 166.269 1138.82 Q170.667 1138.82 172.959 1137.08 Q175.274 1135.35 175.274 1132.04 Q175.274 1128.98 173.121 1127.27 Q170.991 1125.53 167.172 1125.53 L163.144 1125.53 L163.144 1121.69 L167.357 1121.69 Q170.806 1121.69 172.635 1120.32 Q174.464 1118.93 174.464 1116.34 Q174.464 1113.68 172.566 1112.27 Q170.691 1110.83 167.172 1110.83 Q165.251 1110.83 163.052 1111.25 Q160.853 1111.67 158.214 1112.55 L158.214 1108.38 Q160.876 1107.64 163.191 1107.27 Q165.529 1106.9 167.589 1106.9 Q172.913 1106.9 176.015 1109.33 Q179.116 1111.74 179.116 1115.86 Q179.116 1118.73 177.473 1120.72 Q175.829 1122.68 172.797 1123.45 Z\" fill=\"#000000\" fill-rule=\"evenodd\" fill-opacity=\"1\" /><path clip-path=\"url(#clip120)\" d=\"M198.792 1110.6 Q195.181 1110.6 193.352 1114.17 Q191.547 1117.71 191.547 1124.84 Q191.547 1131.94 193.352 1135.51 Q195.181 1139.05 198.792 1139.05 Q202.426 1139.05 204.232 1135.51 Q206.061 1131.94 206.061 1124.84 Q206.061 1117.71 204.232 1114.17 Q202.426 1110.6 198.792 1110.6 M198.792 1106.9 Q204.602 1106.9 207.658 1111.5 Q210.737 1116.09 210.737 1124.84 Q210.737 1133.56 207.658 1138.17 Q204.602 1142.75 198.792 1142.75 Q192.982 1142.75 189.903 1138.17 Q186.848 1133.56 186.848 1124.84 Q186.848 1116.09 189.903 1111.5 Q192.982 1106.9 198.792 1106.9 Z\" fill=\"#000000\" fill-rule=\"evenodd\" fill-opacity=\"1\" /><path clip-path=\"url(#clip120)\" d=\"M58.7004 943.965 L75.0198 943.965 L75.0198 947.9 L53.0754 947.9 L53.0754 943.965 Q55.7375 941.21 60.3208 936.581 Q64.9272 931.928 66.1078 930.585 Q68.3531 928.062 69.2328 926.326 Q70.1355 924.567 70.1355 922.877 Q70.1355 920.122 68.1911 918.386 Q66.2698 916.65 63.168 916.65 Q60.9689 916.65 58.5152 917.414 Q56.0847 918.178 53.3069 919.729 L53.3069 915.007 Q56.131 913.872 58.5847 913.294 Q61.0384 912.715 63.0754 912.715 Q68.4457 912.715 71.6402 915.4 Q74.8346 918.085 74.8346 922.576 Q74.8346 924.706 74.0244 926.627 Q73.2374 928.525 71.1309 931.118 Q70.5522 931.789 67.4504 935.007 Q64.3485 938.201 58.7004 943.965 Z\" fill=\"#000000\" fill-rule=\"evenodd\" fill-opacity=\"1\" /><path clip-path=\"url(#clip120)\" d=\"M84.8345 942.02 L89.7188 942.02 L89.7188 947.9 L84.8345 947.9 L84.8345 942.02 Z\" fill=\"#000000\" fill-rule=\"evenodd\" fill-opacity=\"1\" /><path clip-path=\"url(#clip120)\" d=\"M100.043 947.182 L100.043 942.923 Q101.802 943.757 103.608 944.196 Q105.413 944.636 107.149 944.636 Q111.779 944.636 114.209 941.534 Q116.663 938.409 117.01 932.067 Q115.668 934.057 113.608 935.122 Q111.547 936.187 109.047 936.187 Q103.862 936.187 100.83 933.062 Q97.8206 929.914 97.8206 924.474 Q97.8206 919.15 100.969 915.933 Q104.117 912.715 109.348 912.715 Q115.344 912.715 118.492 917.321 Q121.663 921.905 121.663 930.655 Q121.663 938.826 117.774 943.71 Q113.908 948.571 107.358 948.571 Q105.598 948.571 103.793 948.224 Q101.987 947.877 100.043 947.182 M109.348 932.53 Q112.496 932.53 114.325 930.377 Q116.177 928.224 116.177 924.474 Q116.177 920.747 114.325 918.595 Q112.496 916.419 109.348 916.419 Q106.2 916.419 104.348 918.595 Q102.52 920.747 102.52 924.474 Q102.52 928.224 104.348 930.377 Q106.2 932.53 109.348 932.53 Z\" fill=\"#000000\" fill-rule=\"evenodd\" fill-opacity=\"1\" /><path clip-path=\"url(#clip120)\" d=\"M140.066 916.419 Q136.455 916.419 134.626 919.983 Q132.82 923.525 132.82 930.655 Q132.82 937.761 134.626 941.326 Q136.455 944.868 140.066 944.868 Q143.7 944.868 145.506 941.326 Q147.334 937.761 147.334 930.655 Q147.334 923.525 145.506 919.983 Q143.7 916.419 140.066 916.419 M140.066 912.715 Q145.876 912.715 148.931 917.321 Q152.01 921.905 152.01 930.655 Q152.01 939.382 148.931 943.988 Q145.876 948.571 140.066 948.571 Q134.256 948.571 131.177 943.988 Q128.121 939.382 128.121 930.655 Q128.121 921.905 131.177 917.321 Q134.256 912.715 140.066 912.715 Z\" fill=\"#000000\" fill-rule=\"evenodd\" fill-opacity=\"1\" /><path clip-path=\"url(#clip120)\" d=\"M174.394 929.266 Q177.751 929.983 179.626 932.252 Q181.524 934.52 181.524 937.854 Q181.524 942.969 178.005 945.77 Q174.487 948.571 168.005 948.571 Q165.829 948.571 163.515 948.131 Q161.223 947.715 158.769 946.858 L158.769 942.344 Q160.714 943.479 163.029 944.057 Q165.343 944.636 167.866 944.636 Q172.265 944.636 174.556 942.9 Q176.871 941.164 176.871 937.854 Q176.871 934.798 174.718 933.085 Q172.589 931.349 168.769 931.349 L164.742 931.349 L164.742 927.507 L168.954 927.507 Q172.404 927.507 174.232 926.141 Q176.061 924.752 176.061 922.159 Q176.061 919.497 174.163 918.085 Q172.288 916.65 168.769 916.65 Q166.848 916.65 164.649 917.067 Q162.45 917.484 159.811 918.363 L159.811 914.196 Q162.473 913.456 164.788 913.085 Q167.126 912.715 169.186 912.715 Q174.51 912.715 177.612 915.146 Q180.714 917.553 180.714 921.673 Q180.714 924.544 179.07 926.534 Q177.427 928.502 174.394 929.266 Z\" fill=\"#000000\" fill-rule=\"evenodd\" fill-opacity=\"1\" /><path clip-path=\"url(#clip120)\" d=\"M194.417 943.965 L210.737 943.965 L210.737 947.9 L188.792 947.9 L188.792 943.965 Q191.454 941.21 196.038 936.581 Q200.644 931.928 201.825 930.585 Q204.07 928.062 204.95 926.326 Q205.852 924.567 205.852 922.877 Q205.852 920.122 203.908 918.386 Q201.987 916.65 198.885 916.65 Q196.686 916.65 194.232 917.414 Q191.802 918.178 189.024 919.729 L189.024 915.007 Q191.848 913.872 194.302 913.294 Q196.755 912.715 198.792 912.715 Q204.163 912.715 207.357 915.4 Q210.551 918.085 210.551 922.576 Q210.551 924.706 209.741 926.627 Q208.954 928.525 206.848 931.118 Q206.269 931.789 203.167 935.007 Q200.065 938.201 194.417 943.965 Z\" fill=\"#000000\" fill-rule=\"evenodd\" fill-opacity=\"1\" /><path clip-path=\"url(#clip120)\" d=\"M56.6171 749.783 L72.9365 749.783 L72.9365 753.718 L50.9921 753.718 L50.9921 749.783 Q53.6541 747.028 58.2375 742.399 Q62.8439 737.746 64.0245 736.403 Q66.2698 733.88 67.1494 732.144 Q68.0522 730.385 68.0522 728.695 Q68.0522 725.94 66.1078 724.204 Q64.1865 722.468 61.0847 722.468 Q58.8856 722.468 56.4319 723.232 Q54.0014 723.996 51.2236 725.547 L51.2236 720.825 Q54.0477 719.69 56.5014 719.112 Q58.955 718.533 60.9921 718.533 Q66.3624 718.533 69.5568 721.218 Q72.7513 723.903 72.7513 728.394 Q72.7513 730.524 71.9411 732.445 Q71.1541 734.343 69.0476 736.936 Q68.4689 737.607 65.367 740.824 Q62.2652 744.019 56.6171 749.783 Z\" fill=\"#000000\" fill-rule=\"evenodd\" fill-opacity=\"1\" /><path clip-path=\"url(#clip120)\" d=\"M82.7512 747.838 L87.6354 747.838 L87.6354 753.718 L82.7512 753.718 L82.7512 747.838 Z\" fill=\"#000000\" fill-rule=\"evenodd\" fill-opacity=\"1\" /><path clip-path=\"url(#clip120)\" d=\"M97.9595 753 L97.9595 748.741 Q99.7187 749.574 101.524 750.014 Q103.33 750.454 105.066 750.454 Q109.696 750.454 112.126 747.352 Q114.58 744.227 114.927 737.885 Q113.584 739.875 111.524 740.94 Q109.464 742.005 106.964 742.005 Q101.779 742.005 98.7465 738.88 Q95.7373 735.732 95.7373 730.292 Q95.7373 724.968 98.8854 721.75 Q102.034 718.533 107.265 718.533 Q113.26 718.533 116.408 723.139 Q119.58 727.723 119.58 736.473 Q119.58 744.644 115.691 749.528 Q111.825 754.389 105.274 754.389 Q103.515 754.389 101.709 754.042 Q99.9039 753.695 97.9595 753 M107.265 738.348 Q110.413 738.348 112.242 736.195 Q114.094 734.042 114.094 730.292 Q114.094 726.565 112.242 724.413 Q110.413 722.237 107.265 722.237 Q104.117 722.237 102.265 724.413 Q100.436 726.565 100.436 730.292 Q100.436 734.042 102.265 736.195 Q104.117 738.348 107.265 738.348 Z\" fill=\"#000000\" fill-rule=\"evenodd\" fill-opacity=\"1\" /><path clip-path=\"url(#clip120)\" d=\"M137.982 722.237 Q134.371 722.237 132.543 725.801 Q130.737 729.343 130.737 736.473 Q130.737 743.579 132.543 747.144 Q134.371 750.686 137.982 750.686 Q141.617 750.686 143.422 747.144 Q145.251 743.579 145.251 736.473 Q145.251 729.343 143.422 725.801 Q141.617 722.237 137.982 722.237 M137.982 718.533 Q143.793 718.533 146.848 723.139 Q149.927 727.723 149.927 736.473 Q149.927 745.199 146.848 749.806 Q143.793 754.389 137.982 754.389 Q132.172 754.389 129.094 749.806 Q126.038 745.199 126.038 736.473 Q126.038 727.723 129.094 723.139 Q132.172 718.533 137.982 718.533 Z\" fill=\"#000000\" fill-rule=\"evenodd\" fill-opacity=\"1\" /><path clip-path=\"url(#clip120)\" d=\"M172.311 735.084 Q175.667 735.801 177.542 738.07 Q179.441 740.338 179.441 743.672 Q179.441 748.787 175.922 751.588 Q172.404 754.389 165.922 754.389 Q163.746 754.389 161.431 753.949 Q159.14 753.533 156.686 752.676 L156.686 748.162 Q158.63 749.297 160.945 749.875 Q163.26 750.454 165.783 750.454 Q170.181 750.454 172.473 748.718 Q174.788 746.982 174.788 743.672 Q174.788 740.616 172.635 738.903 Q170.505 737.167 166.686 737.167 L162.658 737.167 L162.658 733.324 L166.871 733.324 Q170.32 733.324 172.149 731.959 Q173.978 730.57 173.978 727.977 Q173.978 725.315 172.079 723.903 Q170.204 722.468 166.686 722.468 Q164.765 722.468 162.566 722.885 Q160.367 723.301 157.728 724.181 L157.728 720.014 Q160.39 719.274 162.704 718.903 Q165.042 718.533 167.103 718.533 Q172.427 718.533 175.528 720.963 Q178.63 723.371 178.63 727.491 Q178.63 730.362 176.987 732.352 Q175.343 734.32 172.311 735.084 Z\" fill=\"#000000\" fill-rule=\"evenodd\" fill-opacity=\"1\" /><path clip-path=\"url(#clip120)\" d=\"M201.153 723.232 L189.348 741.681 L201.153 741.681 L201.153 723.232 M199.927 719.158 L205.806 719.158 L205.806 741.681 L210.737 741.681 L210.737 745.57 L205.806 745.57 L205.806 753.718 L201.153 753.718 L201.153 745.57 L185.552 745.57 L185.552 741.056 L199.927 719.158 Z\" fill=\"#000000\" fill-rule=\"evenodd\" fill-opacity=\"1\" /><path clip-path=\"url(#clip120)\" d=\"M56.9412 555.601 L73.2605 555.601 L73.2605 559.536 L51.3162 559.536 L51.3162 555.601 Q53.9782 552.846 58.5615 548.216 Q63.168 543.564 64.3485 542.221 Q66.5939 539.698 67.4735 537.962 Q68.3763 536.203 68.3763 534.513 Q68.3763 531.758 66.4319 530.022 Q64.5106 528.286 61.4087 528.286 Q59.2097 528.286 56.756 529.05 Q54.3254 529.814 51.5477 531.365 L51.5477 526.642 Q54.3717 525.508 56.8254 524.929 Q59.2791 524.351 61.3161 524.351 Q66.6865 524.351 69.8809 527.036 Q73.0753 529.721 73.0753 534.212 Q73.0753 536.341 72.2652 538.263 Q71.4781 540.161 69.3717 542.753 Q68.793 543.425 65.6911 546.642 Q62.5893 549.837 56.9412 555.601 Z\" fill=\"#000000\" fill-rule=\"evenodd\" fill-opacity=\"1\" /><path clip-path=\"url(#clip120)\" d=\"M83.0753 553.656 L87.9595 553.656 L87.9595 559.536 L83.0753 559.536 L83.0753 553.656 Z\" fill=\"#000000\" fill-rule=\"evenodd\" fill-opacity=\"1\" /><path clip-path=\"url(#clip120)\" d=\"M98.2835 558.818 L98.2835 554.559 Q100.043 555.392 101.848 555.832 Q103.654 556.272 105.39 556.272 Q110.02 556.272 112.45 553.17 Q114.904 550.045 115.251 543.703 Q113.908 545.693 111.848 546.758 Q109.788 547.823 107.288 547.823 Q102.103 547.823 99.0706 544.698 Q96.0613 541.55 96.0613 536.11 Q96.0613 530.786 99.2095 527.568 Q102.358 524.351 107.589 524.351 Q113.584 524.351 116.733 528.957 Q119.904 533.541 119.904 542.291 Q119.904 550.462 116.015 555.346 Q112.149 560.207 105.598 560.207 Q103.839 560.207 102.034 559.86 Q100.228 559.513 98.2835 558.818 M107.589 544.165 Q110.737 544.165 112.566 542.013 Q114.418 539.86 114.418 536.11 Q114.418 532.383 112.566 530.23 Q110.737 528.054 107.589 528.054 Q104.441 528.054 102.589 530.23 Q100.76 532.383 100.76 536.11 Q100.76 539.86 102.589 542.013 Q104.441 544.165 107.589 544.165 Z\" fill=\"#000000\" fill-rule=\"evenodd\" fill-opacity=\"1\" /><path clip-path=\"url(#clip120)\" d=\"M138.306 528.054 Q134.695 528.054 132.867 531.619 Q131.061 535.161 131.061 542.291 Q131.061 549.397 132.867 552.962 Q134.695 556.503 138.306 556.503 Q141.941 556.503 143.746 552.962 Q145.575 549.397 145.575 542.291 Q145.575 535.161 143.746 531.619 Q141.941 528.054 138.306 528.054 M138.306 524.351 Q144.117 524.351 147.172 528.957 Q150.251 533.541 150.251 542.291 Q150.251 551.017 147.172 555.624 Q144.117 560.207 138.306 560.207 Q132.496 560.207 129.418 555.624 Q126.362 551.017 126.362 542.291 Q126.362 533.541 129.418 528.957 Q132.496 524.351 138.306 524.351 Z\" fill=\"#000000\" fill-rule=\"evenodd\" fill-opacity=\"1\" /><path clip-path=\"url(#clip120)\" d=\"M172.635 540.902 Q175.991 541.619 177.866 543.888 Q179.765 546.156 179.765 549.49 Q179.765 554.605 176.246 557.406 Q172.728 560.207 166.246 560.207 Q164.07 560.207 161.755 559.767 Q159.464 559.351 157.01 558.494 L157.01 553.98 Q158.955 555.115 161.269 555.693 Q163.584 556.272 166.107 556.272 Q170.505 556.272 172.797 554.536 Q175.112 552.8 175.112 549.49 Q175.112 546.434 172.959 544.721 Q170.829 542.985 167.01 542.985 L162.982 542.985 L162.982 539.142 L167.195 539.142 Q170.644 539.142 172.473 537.777 Q174.302 536.388 174.302 533.795 Q174.302 531.133 172.404 529.721 Q170.529 528.286 167.01 528.286 Q165.089 528.286 162.89 528.703 Q160.691 529.119 158.052 529.999 L158.052 525.832 Q160.714 525.092 163.029 524.721 Q165.367 524.351 167.427 524.351 Q172.751 524.351 175.853 526.781 Q178.954 529.189 178.954 533.309 Q178.954 536.179 177.311 538.17 Q175.667 540.138 172.635 540.902 Z\" fill=\"#000000\" fill-rule=\"evenodd\" fill-opacity=\"1\" /><path clip-path=\"url(#clip120)\" d=\"M199.209 540.392 Q196.061 540.392 194.209 542.545 Q192.38 544.698 192.38 548.448 Q192.38 552.175 194.209 554.351 Q196.061 556.503 199.209 556.503 Q202.357 556.503 204.186 554.351 Q206.038 552.175 206.038 548.448 Q206.038 544.698 204.186 542.545 Q202.357 540.392 199.209 540.392 M208.491 525.74 L208.491 529.999 Q206.732 529.166 204.926 528.726 Q203.144 528.286 201.385 528.286 Q196.755 528.286 194.302 531.411 Q191.871 534.536 191.524 540.855 Q192.89 538.841 194.95 537.777 Q197.01 536.689 199.487 536.689 Q204.695 536.689 207.704 539.86 Q210.737 543.008 210.737 548.448 Q210.737 553.772 207.589 556.99 Q204.44 560.207 199.209 560.207 Q193.214 560.207 190.042 555.624 Q186.871 551.017 186.871 542.291 Q186.871 534.096 190.76 529.235 Q194.649 524.351 201.2 524.351 Q202.959 524.351 204.741 524.698 Q206.547 525.045 208.491 525.74 Z\" fill=\"#000000\" fill-rule=\"evenodd\" fill-opacity=\"1\" /><path clip-path=\"url(#clip120)\" d=\"M57.1958 361.419 L73.5152 361.419 L73.5152 365.354 L51.5708 365.354 L51.5708 361.419 Q54.2328 358.664 58.8162 354.034 Q63.4226 349.382 64.6032 348.039 Q66.8485 345.516 67.7281 343.78 Q68.6309 342.02 68.6309 340.331 Q68.6309 337.576 66.6865 335.84 Q64.7652 334.104 61.6634 334.104 Q59.4643 334.104 57.0106 334.868 Q54.5801 335.632 51.8023 337.183 L51.8023 332.46 Q54.6264 331.326 57.0801 330.747 Q59.5337 330.169 61.5708 330.169 Q66.9411 330.169 70.1355 332.854 Q73.33 335.539 73.33 340.03 Q73.33 342.159 72.5198 344.081 Q71.7328 345.979 69.6263 348.571 Q69.0476 349.243 65.9457 352.46 Q62.8439 355.655 57.1958 361.419 Z\" fill=\"#000000\" fill-rule=\"evenodd\" fill-opacity=\"1\" /><path clip-path=\"url(#clip120)\" d=\"M83.3299 359.474 L88.2141 359.474 L88.2141 365.354 L83.3299 365.354 L83.3299 359.474 Z\" fill=\"#000000\" fill-rule=\"evenodd\" fill-opacity=\"1\" /><path clip-path=\"url(#clip120)\" d=\"M98.5382 364.636 L98.5382 360.377 Q100.297 361.21 102.103 361.65 Q103.909 362.09 105.645 362.09 Q110.274 362.09 112.705 358.988 Q115.158 355.863 115.506 349.52 Q114.163 351.511 112.103 352.576 Q110.043 353.641 107.543 353.641 Q102.358 353.641 99.3252 350.516 Q96.316 347.368 96.316 341.928 Q96.316 336.604 99.4641 333.386 Q102.612 330.169 107.844 330.169 Q113.839 330.169 116.987 334.775 Q120.158 339.358 120.158 348.108 Q120.158 356.28 116.27 361.164 Q112.404 366.025 105.853 366.025 Q104.094 366.025 102.288 365.678 Q100.483 365.331 98.5382 364.636 M107.844 349.983 Q110.992 349.983 112.82 347.831 Q114.672 345.678 114.672 341.928 Q114.672 338.201 112.82 336.048 Q110.992 333.872 107.844 333.872 Q104.696 333.872 102.844 336.048 Q101.015 338.201 101.015 341.928 Q101.015 345.678 102.844 347.831 Q104.696 349.983 107.844 349.983 Z\" fill=\"#000000\" fill-rule=\"evenodd\" fill-opacity=\"1\" /><path clip-path=\"url(#clip120)\" d=\"M138.561 333.872 Q134.95 333.872 133.121 337.437 Q131.316 340.979 131.316 348.108 Q131.316 355.215 133.121 358.78 Q134.95 362.321 138.561 362.321 Q142.195 362.321 144.001 358.78 Q145.83 355.215 145.83 348.108 Q145.83 340.979 144.001 337.437 Q142.195 333.872 138.561 333.872 M138.561 330.169 Q144.371 330.169 147.427 334.775 Q150.505 339.358 150.505 348.108 Q150.505 356.835 147.427 361.442 Q144.371 366.025 138.561 366.025 Q132.751 366.025 129.672 361.442 Q126.617 356.835 126.617 348.108 Q126.617 339.358 129.672 334.775 Q132.751 330.169 138.561 330.169 Z\" fill=\"#000000\" fill-rule=\"evenodd\" fill-opacity=\"1\" /><path clip-path=\"url(#clip120)\" d=\"M172.89 346.72 Q176.246 347.437 178.121 349.706 Q180.019 351.974 180.019 355.307 Q180.019 360.423 176.501 363.224 Q172.982 366.025 166.501 366.025 Q164.325 366.025 162.01 365.585 Q159.718 365.168 157.265 364.312 L157.265 359.798 Q159.209 360.932 161.524 361.511 Q163.839 362.09 166.362 362.09 Q170.76 362.09 173.052 360.354 Q175.366 358.618 175.366 355.307 Q175.366 352.252 173.214 350.539 Q171.084 348.803 167.265 348.803 L163.237 348.803 L163.237 344.96 L167.45 344.96 Q170.899 344.96 172.728 343.595 Q174.556 342.206 174.556 339.613 Q174.556 336.951 172.658 335.539 Q170.783 334.104 167.265 334.104 Q165.343 334.104 163.144 334.521 Q160.945 334.937 158.306 335.817 L158.306 331.65 Q160.968 330.909 163.283 330.539 Q165.621 330.169 167.681 330.169 Q173.005 330.169 176.107 332.599 Q179.209 335.007 179.209 339.127 Q179.209 341.997 177.566 343.988 Q175.922 345.956 172.89 346.72 Z\" fill=\"#000000\" fill-rule=\"evenodd\" fill-opacity=\"1\" /><path clip-path=\"url(#clip120)\" d=\"M198.885 348.942 Q195.552 348.942 193.63 350.724 Q191.732 352.507 191.732 355.631 Q191.732 358.756 193.63 360.539 Q195.552 362.321 198.885 362.321 Q202.218 362.321 204.139 360.539 Q206.061 358.733 206.061 355.631 Q206.061 352.507 204.139 350.724 Q202.241 348.942 198.885 348.942 M194.209 346.951 Q191.2 346.21 189.51 344.15 Q187.843 342.09 187.843 339.127 Q187.843 334.983 190.783 332.576 Q193.746 330.169 198.885 330.169 Q204.047 330.169 206.987 332.576 Q209.926 334.983 209.926 339.127 Q209.926 342.09 208.237 344.15 Q206.57 346.21 203.584 346.951 Q206.964 347.738 208.839 350.03 Q210.737 352.321 210.737 355.631 Q210.737 360.655 207.658 363.34 Q204.602 366.025 198.885 366.025 Q193.167 366.025 190.089 363.34 Q187.033 360.655 187.033 355.631 Q187.033 352.321 188.931 350.03 Q190.829 347.738 194.209 346.951 M192.496 339.567 Q192.496 342.252 194.163 343.757 Q195.852 345.261 198.885 345.261 Q201.894 345.261 203.584 343.757 Q205.297 342.252 205.297 339.567 Q205.297 336.882 203.584 335.377 Q201.894 333.872 198.885 333.872 Q195.852 333.872 194.163 335.377 Q192.496 336.882 192.496 339.567 Z\" fill=\"#000000\" fill-rule=\"evenodd\" fill-opacity=\"1\" /><path clip-path=\"url(#clip120)\" d=\"M57.1032 167.236 L73.4226 167.236 L73.4226 171.172 L51.4782 171.172 L51.4782 167.236 Q54.1403 164.482 58.7236 159.852 Q63.33 155.199 64.5106 153.857 Q66.7559 151.334 67.6356 149.598 Q68.5383 147.838 68.5383 146.149 Q68.5383 143.394 66.5939 141.658 Q64.6726 139.922 61.5708 139.922 Q59.3717 139.922 56.918 140.686 Q54.4875 141.449 51.7097 143 L51.7097 138.278 Q54.5338 137.144 56.9875 136.565 Q59.4412 135.987 61.4782 135.987 Q66.8485 135.987 70.0429 138.672 Q73.2374 141.357 73.2374 145.848 Q73.2374 147.977 72.4272 149.899 Q71.6402 151.797 69.5337 154.389 Q68.955 155.061 65.8532 158.278 Q62.7513 161.473 57.1032 167.236 Z\" fill=\"#000000\" fill-rule=\"evenodd\" fill-opacity=\"1\" /><path clip-path=\"url(#clip120)\" d=\"M83.2373 165.292 L88.1216 165.292 L88.1216 171.172 L83.2373 171.172 L83.2373 165.292 Z\" fill=\"#000000\" fill-rule=\"evenodd\" fill-opacity=\"1\" /><path clip-path=\"url(#clip120)\" d=\"M98.4456 170.454 L98.4456 166.195 Q100.205 167.028 102.01 167.468 Q103.816 167.908 105.552 167.908 Q110.182 167.908 112.612 164.806 Q115.066 161.681 115.413 155.338 Q114.07 157.329 112.01 158.394 Q109.95 159.459 107.45 159.459 Q102.265 159.459 99.2326 156.334 Q96.2234 153.186 96.2234 147.746 Q96.2234 142.422 99.3715 139.204 Q102.52 135.987 107.751 135.987 Q113.746 135.987 116.895 140.593 Q120.066 145.176 120.066 153.926 Q120.066 162.098 116.177 166.982 Q112.311 171.843 105.76 171.843 Q104.001 171.843 102.196 171.496 Q100.39 171.148 98.4456 170.454 M107.751 155.801 Q110.899 155.801 112.728 153.648 Q114.58 151.496 114.58 147.746 Q114.58 144.019 112.728 141.866 Q110.899 139.69 107.751 139.69 Q104.603 139.69 102.751 141.866 Q100.922 144.019 100.922 147.746 Q100.922 151.496 102.751 153.648 Q104.603 155.801 107.751 155.801 Z\" fill=\"#000000\" fill-rule=\"evenodd\" fill-opacity=\"1\" /><path clip-path=\"url(#clip120)\" d=\"M138.469 139.69 Q134.857 139.69 133.029 143.255 Q131.223 146.797 131.223 153.926 Q131.223 161.033 133.029 164.598 Q134.857 168.139 138.469 168.139 Q142.103 168.139 143.908 164.598 Q145.737 161.033 145.737 153.926 Q145.737 146.797 143.908 143.255 Q142.103 139.69 138.469 139.69 M138.469 135.987 Q144.279 135.987 147.334 140.593 Q150.413 145.176 150.413 153.926 Q150.413 162.653 147.334 167.26 Q144.279 171.843 138.469 171.843 Q132.658 171.843 129.58 167.26 Q126.524 162.653 126.524 153.926 Q126.524 145.176 129.58 140.593 Q132.658 135.987 138.469 135.987 Z\" fill=\"#000000\" fill-rule=\"evenodd\" fill-opacity=\"1\" /><path clip-path=\"url(#clip120)\" d=\"M171.478 140.686 L159.672 159.135 L171.478 159.135 L171.478 140.686 M170.251 136.612 L176.13 136.612 L176.13 159.135 L181.061 159.135 L181.061 163.023 L176.13 163.023 L176.13 171.172 L171.478 171.172 L171.478 163.023 L155.876 163.023 L155.876 158.51 L170.251 136.612 Z\" fill=\"#000000\" fill-rule=\"evenodd\" fill-opacity=\"1\" /><path clip-path=\"url(#clip120)\" d=\"M198.792 139.69 Q195.181 139.69 193.352 143.255 Q191.547 146.797 191.547 153.926 Q191.547 161.033 193.352 164.598 Q195.181 168.139 198.792 168.139 Q202.426 168.139 204.232 164.598 Q206.061 161.033 206.061 153.926 Q206.061 146.797 204.232 143.255 Q202.426 139.69 198.792 139.69 M198.792 135.987 Q204.602 135.987 207.658 140.593 Q210.737 145.176 210.737 153.926 Q210.737 162.653 207.658 167.26 Q204.602 171.843 198.792 171.843 Q192.982 171.843 189.903 167.26 Q186.848 162.653 186.848 153.926 Q186.848 145.176 189.903 140.593 Q192.982 135.987 198.792 135.987 Z\" fill=\"#000000\" fill-rule=\"evenodd\" fill-opacity=\"1\" /><polyline clip-path=\"url(#clip122)\" style=\"stroke:#009af9; stroke-linecap:round; stroke-linejoin:round; stroke-width:4; stroke-opacity:1; fill:none\" points=\"\n",
       "  306.341,87.9763 527.098,1237.5 747.854,1383.77 968.611,1425.4 1189.37,1439.01 1410.12,1443.52 1630.88,1445.01 1851.64,1445.5 2072.39,1445.66 2293.15,1445.72 \n",
       "  \n",
       "  \"/>\n",
       "<path clip-path=\"url(#clip120)\" d=\"\n",
       "M1368.25 198.898 L2282.56 198.898 L2282.56 95.2176 L1368.25 95.2176  Z\n",
       "  \" fill=\"#ffffff\" fill-rule=\"evenodd\" fill-opacity=\"1\"/>\n",
       "<polyline clip-path=\"url(#clip120)\" style=\"stroke:#000000; stroke-linecap:round; stroke-linejoin:round; stroke-width:4; stroke-opacity:1; fill:none\" points=\"\n",
       "  1368.25,198.898 2282.56,198.898 2282.56,95.2176 1368.25,95.2176 1368.25,198.898 \n",
       "  \"/>\n",
       "<polyline clip-path=\"url(#clip120)\" style=\"stroke:#009af9; stroke-linecap:round; stroke-linejoin:round; stroke-width:4; stroke-opacity:1; fill:none\" points=\"\n",
       "  1391.65,147.058 1532.05,147.058 \n",
       "  \"/>\n",
       "<path clip-path=\"url(#clip120)\" d=\"M1560.13 147.833 L1560.13 160.495 L1567.63 160.495 Q1571.4 160.495 1573.21 158.944 Q1575.04 157.37 1575.04 154.152 Q1575.04 150.912 1573.21 149.384 Q1571.4 147.833 1567.63 147.833 L1560.13 147.833 M1560.13 133.62 L1560.13 144.037 L1567.05 144.037 Q1570.48 144.037 1572.14 142.764 Q1573.83 141.467 1573.83 138.828 Q1573.83 136.213 1572.14 134.916 Q1570.48 133.62 1567.05 133.62 L1560.13 133.62 M1555.46 129.778 L1567.4 129.778 Q1572.75 129.778 1575.64 132 Q1578.53 134.222 1578.53 138.319 Q1578.53 141.49 1577.05 143.365 Q1575.57 145.24 1572.7 145.703 Q1576.15 146.444 1578.05 148.805 Q1579.97 151.143 1579.97 154.662 Q1579.97 159.291 1576.82 161.814 Q1573.67 164.338 1567.86 164.338 L1555.46 164.338 L1555.46 129.778 Z\" fill=\"#000000\" fill-rule=\"evenodd\" fill-opacity=\"1\" /><path clip-path=\"url(#clip120)\" d=\"M1609.97 150.31 L1609.97 152.393 L1590.39 152.393 Q1590.66 156.791 1593.02 159.106 Q1595.41 161.398 1599.64 161.398 Q1602.1 161.398 1604.39 160.796 Q1606.7 160.194 1608.97 158.99 L1608.97 163.018 Q1606.68 163.99 1604.27 164.5 Q1601.87 165.009 1599.39 165.009 Q1593.19 165.009 1589.55 161.398 Q1585.94 157.787 1585.94 151.629 Q1585.94 145.264 1589.37 141.537 Q1592.82 137.787 1598.65 137.787 Q1603.88 137.787 1606.91 141.166 Q1609.97 144.523 1609.97 150.31 M1605.71 149.06 Q1605.66 145.565 1603.74 143.481 Q1601.84 141.398 1598.7 141.398 Q1595.13 141.398 1592.98 143.412 Q1590.85 145.426 1590.52 149.083 L1605.71 149.06 Z\" fill=\"#000000\" fill-rule=\"evenodd\" fill-opacity=\"1\" /><path clip-path=\"url(#clip120)\" d=\"M1621.17 131.051 L1621.17 138.412 L1629.95 138.412 L1629.95 141.722 L1621.17 141.722 L1621.17 155.796 Q1621.17 158.967 1622.03 159.87 Q1622.91 160.773 1625.57 160.773 L1629.95 160.773 L1629.95 164.338 L1625.57 164.338 Q1620.64 164.338 1618.76 162.509 Q1616.89 160.657 1616.89 155.796 L1616.89 141.722 L1613.76 141.722 L1613.76 138.412 L1616.89 138.412 L1616.89 131.051 L1621.17 131.051 Z\" fill=\"#000000\" fill-rule=\"evenodd\" fill-opacity=\"1\" /><path clip-path=\"url(#clip120)\" d=\"M1657.1 148.689 L1657.1 164.338 L1652.84 164.338 L1652.84 148.828 Q1652.84 145.148 1651.4 143.319 Q1649.97 141.49 1647.1 141.49 Q1643.65 141.49 1641.66 143.69 Q1639.67 145.889 1639.67 149.685 L1639.67 164.338 L1635.39 164.338 L1635.39 128.319 L1639.67 128.319 L1639.67 142.44 Q1641.2 140.102 1643.26 138.944 Q1645.34 137.787 1648.05 137.787 Q1652.51 137.787 1654.81 140.565 Q1657.1 143.319 1657.1 148.689 Z\" fill=\"#000000\" fill-rule=\"evenodd\" fill-opacity=\"1\" /><path clip-path=\"url(#clip120)\" d=\"M1687.77 150.31 L1687.77 152.393 L1668.19 152.393 Q1668.46 156.791 1670.82 159.106 Q1673.21 161.398 1677.45 161.398 Q1679.9 161.398 1682.19 160.796 Q1684.51 160.194 1686.77 158.99 L1686.77 163.018 Q1684.48 163.99 1682.07 164.5 Q1679.67 165.009 1677.19 165.009 Q1670.99 165.009 1667.35 161.398 Q1663.74 157.787 1663.74 151.629 Q1663.74 145.264 1667.17 141.537 Q1670.62 137.787 1676.45 137.787 Q1681.68 137.787 1684.71 141.166 Q1687.77 144.523 1687.77 150.31 M1683.51 149.06 Q1683.46 145.565 1681.54 143.481 Q1679.64 141.398 1676.5 141.398 Q1672.93 141.398 1670.78 143.412 Q1668.65 145.426 1668.32 149.083 L1683.51 149.06 Z\" fill=\"#000000\" fill-rule=\"evenodd\" fill-opacity=\"1\" /><path clip-path=\"url(#clip120)\" d=\"M1710.01 129.778 L1729.88 129.778 L1729.88 133.713 L1714.69 133.713 L1714.69 143.898 L1728.39 143.898 L1728.39 147.833 L1714.69 147.833 L1714.69 164.338 L1710.01 164.338 L1710.01 129.778 Z\" fill=\"#000000\" fill-rule=\"evenodd\" fill-opacity=\"1\" /><path clip-path=\"url(#clip120)\" d=\"M1748.67 142.393 Q1747.95 141.977 1747.1 141.791 Q1746.26 141.583 1745.25 141.583 Q1741.63 141.583 1739.69 143.944 Q1737.77 146.282 1737.77 150.68 L1737.77 164.338 L1733.49 164.338 L1733.49 138.412 L1737.77 138.412 L1737.77 142.44 Q1739.11 140.078 1741.26 138.944 Q1743.42 137.787 1746.5 137.787 Q1746.94 137.787 1747.47 137.856 Q1748 137.903 1748.65 138.018 L1748.67 142.393 Z\" fill=\"#000000\" fill-rule=\"evenodd\" fill-opacity=\"1\" /><path clip-path=\"url(#clip120)\" d=\"M1774.27 150.31 L1774.27 152.393 L1754.69 152.393 Q1754.97 156.791 1757.33 159.106 Q1759.71 161.398 1763.95 161.398 Q1766.4 161.398 1768.69 160.796 Q1771.01 160.194 1773.28 158.99 L1773.28 163.018 Q1770.99 163.99 1768.58 164.5 Q1766.17 165.009 1763.69 165.009 Q1757.49 165.009 1753.86 161.398 Q1750.25 157.787 1750.25 151.629 Q1750.25 145.264 1753.67 141.537 Q1757.12 137.787 1762.95 137.787 Q1768.19 137.787 1771.22 141.166 Q1774.27 144.523 1774.27 150.31 M1770.01 149.06 Q1769.97 145.565 1768.05 143.481 Q1766.15 141.398 1763 141.398 Q1759.44 141.398 1757.28 143.412 Q1755.15 145.426 1754.83 149.083 L1770.01 149.06 Z\" fill=\"#000000\" fill-rule=\"evenodd\" fill-opacity=\"1\" /><path clip-path=\"url(#clip120)\" d=\"M1803.44 150.31 L1803.44 152.393 L1783.86 152.393 Q1784.13 156.791 1786.5 159.106 Q1788.88 161.398 1793.12 161.398 Q1795.57 161.398 1797.86 160.796 Q1800.18 160.194 1802.44 158.99 L1802.44 163.018 Q1800.15 163.99 1797.75 164.5 Q1795.34 165.009 1792.86 165.009 Q1786.66 165.009 1783.02 161.398 Q1779.41 157.787 1779.41 151.629 Q1779.41 145.264 1782.84 141.537 Q1786.29 137.787 1792.12 137.787 Q1797.35 137.787 1800.38 141.166 Q1803.44 144.523 1803.44 150.31 M1799.18 149.06 Q1799.13 145.565 1797.21 143.481 Q1795.31 141.398 1792.17 141.398 Q1788.6 141.398 1786.45 143.412 Q1784.32 145.426 1784 149.083 L1799.18 149.06 Z\" fill=\"#000000\" fill-rule=\"evenodd\" fill-opacity=\"1\" /><path clip-path=\"url(#clip120)\" d=\"M1825.69 129.778 L1847.54 129.778 L1847.54 133.713 L1830.36 133.713 L1830.36 143.944 L1846.82 143.944 L1846.82 147.879 L1830.36 147.879 L1830.36 160.402 L1847.95 160.402 L1847.95 164.338 L1825.69 164.338 L1825.69 129.778 Z\" fill=\"#000000\" fill-rule=\"evenodd\" fill-opacity=\"1\" /><path clip-path=\"url(#clip120)\" d=\"M1877 148.689 L1877 164.338 L1872.75 164.338 L1872.75 148.828 Q1872.75 145.148 1871.31 143.319 Q1869.87 141.49 1867 141.49 Q1863.56 141.49 1861.56 143.69 Q1859.57 145.889 1859.57 149.685 L1859.57 164.338 L1855.29 164.338 L1855.29 138.412 L1859.57 138.412 L1859.57 142.44 Q1861.1 140.102 1863.16 138.944 Q1865.25 137.787 1867.95 137.787 Q1872.42 137.787 1874.71 140.565 Q1877 143.319 1877 148.689 Z\" fill=\"#000000\" fill-rule=\"evenodd\" fill-opacity=\"1\" /><path clip-path=\"url(#clip120)\" d=\"M1907.68 150.31 L1907.68 152.393 L1888.09 152.393 Q1888.37 156.791 1890.73 159.106 Q1893.12 161.398 1897.35 161.398 Q1899.81 161.398 1902.1 160.796 Q1904.41 160.194 1906.68 158.99 L1906.68 163.018 Q1904.39 163.99 1901.98 164.5 Q1899.57 165.009 1897.1 165.009 Q1890.89 165.009 1887.26 161.398 Q1883.65 157.787 1883.65 151.629 Q1883.65 145.264 1887.07 141.537 Q1890.52 137.787 1896.36 137.787 Q1901.59 137.787 1904.62 141.166 Q1907.68 144.523 1907.68 150.31 M1903.42 149.06 Q1903.37 145.565 1901.45 143.481 Q1899.55 141.398 1896.4 141.398 Q1892.84 141.398 1890.68 143.412 Q1888.56 145.426 1888.23 149.083 L1903.42 149.06 Z\" fill=\"#000000\" fill-rule=\"evenodd\" fill-opacity=\"1\" /><path clip-path=\"url(#clip120)\" d=\"M1929.69 142.393 Q1928.97 141.977 1928.12 141.791 Q1927.28 141.583 1926.26 141.583 Q1922.65 141.583 1920.71 143.944 Q1918.79 146.282 1918.79 150.68 L1918.79 164.338 L1914.5 164.338 L1914.5 138.412 L1918.79 138.412 L1918.79 142.44 Q1920.13 140.078 1922.28 138.944 Q1924.43 137.787 1927.51 137.787 Q1927.95 137.787 1928.49 137.856 Q1929.02 137.903 1929.67 138.018 L1929.69 142.393 Z\" fill=\"#000000\" fill-rule=\"evenodd\" fill-opacity=\"1\" /><path clip-path=\"url(#clip120)\" d=\"M1950.38 151.074 Q1950.38 146.444 1948.46 143.898 Q1946.56 141.352 1943.12 141.352 Q1939.69 141.352 1937.77 143.898 Q1935.87 146.444 1935.87 151.074 Q1935.87 155.68 1937.77 158.226 Q1939.69 160.773 1943.12 160.773 Q1946.56 160.773 1948.46 158.226 Q1950.38 155.68 1950.38 151.074 M1954.64 161.12 Q1954.64 167.74 1951.7 170.958 Q1948.76 174.199 1942.7 174.199 Q1940.45 174.199 1938.46 173.851 Q1936.47 173.527 1934.6 172.833 L1934.6 168.689 Q1936.47 169.708 1938.3 170.194 Q1940.13 170.68 1942.03 170.68 Q1946.22 170.68 1948.3 168.481 Q1950.38 166.305 1950.38 161.884 L1950.38 159.777 Q1949.06 162.069 1947 163.203 Q1944.94 164.338 1942.07 164.338 Q1937.3 164.338 1934.39 160.703 Q1931.47 157.069 1931.47 151.074 Q1931.47 145.055 1934.39 141.421 Q1937.3 137.787 1942.07 137.787 Q1944.94 137.787 1947 138.921 Q1949.06 140.055 1950.38 142.347 L1950.38 138.412 L1954.64 138.412 L1954.64 161.12 Z\" fill=\"#000000\" fill-rule=\"evenodd\" fill-opacity=\"1\" /><path clip-path=\"url(#clip120)\" d=\"M1974.2 166.745 Q1972.4 171.375 1970.68 172.787 Q1968.97 174.199 1966.1 174.199 L1962.7 174.199 L1962.7 170.634 L1965.2 170.634 Q1966.96 170.634 1967.93 169.8 Q1968.9 168.967 1970.08 165.865 L1970.85 163.921 L1960.36 138.412 L1964.87 138.412 L1972.98 158.689 L1981.08 138.412 L1985.59 138.412 L1974.2 166.745 Z\" fill=\"#000000\" fill-rule=\"evenodd\" fill-opacity=\"1\" /><path clip-path=\"url(#clip120)\" d=\"M2016.77 128.366 Q2013.67 133.69 2012.17 138.898 Q2010.66 144.106 2010.66 149.453 Q2010.66 154.801 2012.17 160.055 Q2013.69 165.287 2016.77 170.588 L2013.07 170.588 Q2009.6 165.148 2007.86 159.893 Q2006.15 154.639 2006.15 149.453 Q2006.15 144.291 2007.86 139.06 Q2009.57 133.828 2013.07 128.366 L2016.77 128.366 Z\" fill=\"#000000\" fill-rule=\"evenodd\" fill-opacity=\"1\" /><path clip-path=\"url(#clip120)\" d=\"M2036.82 151.305 Q2031.66 151.305 2029.67 152.486 Q2027.67 153.666 2027.67 156.514 Q2027.67 158.782 2029.16 160.125 Q2030.66 161.444 2033.23 161.444 Q2036.77 161.444 2038.9 158.944 Q2041.05 156.421 2041.05 152.254 L2041.05 151.305 L2036.82 151.305 M2045.31 149.546 L2045.31 164.338 L2041.05 164.338 L2041.05 160.402 Q2039.6 162.763 2037.42 163.898 Q2035.24 165.009 2032.1 165.009 Q2028.11 165.009 2025.75 162.787 Q2023.42 160.541 2023.42 156.791 Q2023.42 152.416 2026.33 150.194 Q2029.27 147.972 2035.08 147.972 L2041.05 147.972 L2041.05 147.555 Q2041.05 144.615 2039.11 143.018 Q2037.19 141.398 2033.69 141.398 Q2031.47 141.398 2029.36 141.93 Q2027.26 142.463 2025.31 143.527 L2025.31 139.592 Q2027.65 138.69 2029.85 138.25 Q2032.05 137.787 2034.13 137.787 Q2039.76 137.787 2042.54 140.703 Q2045.31 143.62 2045.31 149.546 Z\" fill=\"#000000\" fill-rule=\"evenodd\" fill-opacity=\"1\" /><path clip-path=\"url(#clip120)\" d=\"M2051.03 138.412 L2055.55 138.412 L2063.65 160.171 L2071.75 138.412 L2076.26 138.412 L2066.54 164.338 L2060.75 164.338 L2051.03 138.412 Z\" fill=\"#000000\" fill-rule=\"evenodd\" fill-opacity=\"1\" /><path clip-path=\"url(#clip120)\" d=\"M2104.32 150.31 L2104.32 152.393 L2084.73 152.393 Q2085.01 156.791 2087.37 159.106 Q2089.76 161.398 2093.99 161.398 Q2096.45 161.398 2098.74 160.796 Q2101.05 160.194 2103.32 158.99 L2103.32 163.018 Q2101.03 163.99 2098.62 164.5 Q2096.22 165.009 2093.74 165.009 Q2087.54 165.009 2083.9 161.398 Q2080.29 157.787 2080.29 151.629 Q2080.29 145.264 2083.72 141.537 Q2087.17 137.787 2093 137.787 Q2098.23 137.787 2101.26 141.166 Q2104.32 144.523 2104.32 150.31 M2100.06 149.06 Q2100.01 145.565 2098.09 143.481 Q2096.19 141.398 2093.04 141.398 Q2089.48 141.398 2087.33 143.412 Q2085.2 145.426 2084.87 149.083 L2100.06 149.06 Z\" fill=\"#000000\" fill-rule=\"evenodd\" fill-opacity=\"1\" /><path clip-path=\"url(#clip120)\" d=\"M2126.33 142.393 Q2125.61 141.977 2124.76 141.791 Q2123.92 141.583 2122.91 141.583 Q2119.29 141.583 2117.35 143.944 Q2115.43 146.282 2115.43 150.68 L2115.43 164.338 L2111.15 164.338 L2111.15 138.412 L2115.43 138.412 L2115.43 142.44 Q2116.77 140.078 2118.92 138.944 Q2121.08 137.787 2124.16 137.787 Q2124.6 137.787 2125.13 137.856 Q2125.66 137.903 2126.31 138.018 L2126.33 142.393 Z\" fill=\"#000000\" fill-rule=\"evenodd\" fill-opacity=\"1\" /><path clip-path=\"url(#clip120)\" d=\"M2142.58 151.305 Q2137.42 151.305 2135.43 152.486 Q2133.44 153.666 2133.44 156.514 Q2133.44 158.782 2134.92 160.125 Q2136.42 161.444 2138.99 161.444 Q2142.54 161.444 2144.66 158.944 Q2146.82 156.421 2146.82 152.254 L2146.82 151.305 L2142.58 151.305 M2151.08 149.546 L2151.08 164.338 L2146.82 164.338 L2146.82 160.402 Q2145.36 162.763 2143.18 163.898 Q2141.01 165.009 2137.86 165.009 Q2133.88 165.009 2131.52 162.787 Q2129.18 160.541 2129.18 156.791 Q2129.18 152.416 2132.1 150.194 Q2135.04 147.972 2140.85 147.972 L2146.82 147.972 L2146.82 147.555 Q2146.82 144.615 2144.87 143.018 Q2142.95 141.398 2139.46 141.398 Q2137.23 141.398 2135.13 141.93 Q2133.02 142.463 2131.08 143.527 L2131.08 139.592 Q2133.41 138.69 2135.61 138.25 Q2137.81 137.787 2139.9 137.787 Q2145.52 137.787 2148.3 140.703 Q2151.08 143.62 2151.08 149.546 Z\" fill=\"#000000\" fill-rule=\"evenodd\" fill-opacity=\"1\" /><path clip-path=\"url(#clip120)\" d=\"M2176.91 151.074 Q2176.91 146.444 2174.99 143.898 Q2173.09 141.352 2169.64 141.352 Q2166.22 141.352 2164.29 143.898 Q2162.4 146.444 2162.4 151.074 Q2162.4 155.68 2164.29 158.226 Q2166.22 160.773 2169.64 160.773 Q2173.09 160.773 2174.99 158.226 Q2176.91 155.68 2176.91 151.074 M2181.17 161.12 Q2181.17 167.74 2178.23 170.958 Q2175.29 174.199 2169.22 174.199 Q2166.98 174.199 2164.99 173.851 Q2163 173.527 2161.12 172.833 L2161.12 168.689 Q2163 169.708 2164.83 170.194 Q2166.66 170.68 2168.55 170.68 Q2172.74 170.68 2174.83 168.481 Q2176.91 166.305 2176.91 161.884 L2176.91 159.777 Q2175.59 162.069 2173.53 163.203 Q2171.47 164.338 2168.6 164.338 Q2163.83 164.338 2160.91 160.703 Q2158 157.069 2158 151.074 Q2158 145.055 2160.91 141.421 Q2163.83 137.787 2168.6 137.787 Q2171.47 137.787 2173.53 138.921 Q2175.59 140.055 2176.91 142.347 L2176.91 138.412 L2181.17 138.412 L2181.17 161.12 Z\" fill=\"#000000\" fill-rule=\"evenodd\" fill-opacity=\"1\" /><path clip-path=\"url(#clip120)\" d=\"M2212.12 150.31 L2212.12 152.393 L2192.54 152.393 Q2192.81 156.791 2195.17 159.106 Q2197.56 161.398 2201.79 161.398 Q2204.25 161.398 2206.54 160.796 Q2208.85 160.194 2211.12 158.99 L2211.12 163.018 Q2208.83 163.99 2206.42 164.5 Q2204.02 165.009 2201.54 165.009 Q2195.34 165.009 2191.7 161.398 Q2188.09 157.787 2188.09 151.629 Q2188.09 145.264 2191.52 141.537 Q2194.97 137.787 2200.8 137.787 Q2206.03 137.787 2209.06 141.166 Q2212.12 144.523 2212.12 150.31 M2207.86 149.06 Q2207.81 145.565 2205.89 143.481 Q2203.99 141.398 2200.85 141.398 Q2197.28 141.398 2195.13 143.412 Q2193 145.426 2192.67 149.083 L2207.86 149.06 Z\" fill=\"#000000\" fill-rule=\"evenodd\" fill-opacity=\"1\" /><path clip-path=\"url(#clip120)\" d=\"M2236.17 142.347 L2236.17 128.319 L2240.43 128.319 L2240.43 164.338 L2236.17 164.338 L2236.17 160.449 Q2234.83 162.763 2232.77 163.898 Q2230.73 165.009 2227.86 165.009 Q2223.16 165.009 2220.2 161.259 Q2217.26 157.509 2217.26 151.398 Q2217.26 145.287 2220.2 141.537 Q2223.16 137.787 2227.86 137.787 Q2230.73 137.787 2232.77 138.921 Q2234.83 140.032 2236.17 142.347 M2221.66 151.398 Q2221.66 156.097 2223.58 158.782 Q2225.52 161.444 2228.9 161.444 Q2232.28 161.444 2234.22 158.782 Q2236.17 156.097 2236.17 151.398 Q2236.17 146.699 2234.22 144.037 Q2232.28 141.352 2228.9 141.352 Q2225.52 141.352 2223.58 144.037 Q2221.66 146.699 2221.66 151.398 Z\" fill=\"#000000\" fill-rule=\"evenodd\" fill-opacity=\"1\" /><path clip-path=\"url(#clip120)\" d=\"M2248.53 128.366 L2252.23 128.366 Q2255.71 133.828 2257.42 139.06 Q2259.16 144.291 2259.16 149.453 Q2259.16 154.639 2257.42 159.893 Q2255.71 165.148 2252.23 170.588 L2248.53 170.588 Q2251.61 165.287 2253.11 160.055 Q2254.64 154.801 2254.64 149.453 Q2254.64 144.106 2253.11 138.898 Q2251.61 133.69 2248.53 128.366 Z\" fill=\"#000000\" fill-rule=\"evenodd\" fill-opacity=\"1\" /></svg>\n"
      ]
     },
     "execution_count": 11,
     "metadata": {},
     "output_type": "execute_result"
    }
   ],
   "source": [
    "plot(result.free_energy_history, label = \"Bethe Free Energy (averaged)\") "
   ]
  },
  {
   "cell_type": "markdown",
   "metadata": {},
   "source": [
    "## Filtering on realtime dataset\n",
    "\n",
    "Next lets create a \"real\" infinite stream. We use `timer()` observable from `Rocket.jl`to emulate real-world scenario. In our example we are going to generate a new data point every `~41ms` (24 data points per second). For demonstration purposes we force stop after `n` data points, but there is no principled limitation to run inference indefinite:"
   ]
  },
  {
   "cell_type": "code",
   "execution_count": 12,
   "metadata": {},
   "outputs": [
    {
     "data": {
      "text/plain": [
       "run_and_plot (generic function with 1 method)"
      ]
     },
     "execution_count": 12,
     "metadata": {},
     "output_type": "execute_result"
    }
   ],
   "source": [
    "function run_and_plot(environment, datastream)\n",
    "    \n",
    "    # `@autoupdates` structure specifies how to update our priors based on new posteriors\n",
    "    # For example, every time we have updated a posterior over `x_current` we update our priors\n",
    "    # over `x_prev`\n",
    "    autoupdates = @autoupdates begin \n",
    "        x_prev_mean, x_prev_var = mean_var(q(x_current))\n",
    "        τ_shape = shape(q(τ))\n",
    "        τ_rate = rate(q(τ))\n",
    "    end\n",
    "    \n",
    "    posteriors = []\n",
    "    \n",
    "    plotfn = (q_current) -> begin \n",
    "        IJulia.clear_output(true)\n",
    "        \n",
    "        push!(posteriors, q_current)\n",
    "\n",
    "        p = plot(mean.(posteriors), ribbon = var.(posteriors), label = \"Estimation\")\n",
    "        p = plot!(gethistory(environment), label = \"Real states\")    \n",
    "        p = scatter!(getobservations(environment), ms = 2, label = \"Observations\")\n",
    "        p = plot(p, size = (1000, 300), legend = :bottomright)\n",
    "\n",
    "        display(p)\n",
    "    end\n",
    "    \n",
    "    engine = rxinference(\n",
    "        model         = kalman_filter(),\n",
    "        constraints   = filter_constraints(),\n",
    "        datastream    = datastream,\n",
    "        autoupdates   = autoupdates,\n",
    "        returnvars    = (:x_current, ),\n",
    "        initmarginals = (x_current = NormalMeanVariance(0.0, 1e3), τ = GammaShapeRate(1.0, 1.0)),\n",
    "        iterations    = 10,\n",
    "        autostart     = false,\n",
    "    )\n",
    "    \n",
    "    qsubscription = subscribe!(engine.posteriors[:x_current], plotfn)\n",
    "    \n",
    "    RxInfer.start(engine)\n",
    "    \n",
    "    return engine\n",
    "end"
   ]
  },
  {
   "cell_type": "code",
   "execution_count": 13,
   "metadata": {},
   "outputs": [],
   "source": [
    "# This example runs in our documentation pipeline, which does not support \"real-time\" execution context\n",
    "# We skip this code if run not in Jupyter notebook (see below an example with gif)\n",
    "engine = nothing \n",
    "if isdefined(Main, :IJulia)\n",
    "    timegen      = 41 # 41 ms\n",
    "    environment  = Environment(initial_state, observation_precision);\n",
    "    observations = timer(timegen, timegen) |> map(Float64, (_) -> getnext!(environment)) |> take(n) # `take!` automatically stops after `n` observations\n",
    "    datastream   = observations |> map(NamedTuple{(:y,), Tuple{Float64}}, (d) -> (y = d, ));\n",
    "    engine = run_and_plot(environment, datastream)\n",
    "end;"
   ]
  },
  {
   "cell_type": "markdown",
   "metadata": {},
   "source": [
    "The plot above is fully interactive and we can stop and unsubscribe from our `datastream` before it ends:"
   ]
  },
  {
   "cell_type": "code",
   "execution_count": 14,
   "metadata": {},
   "outputs": [],
   "source": [
    "if !isnothing(engine) && isdefined(Main, :IJulia)\n",
    "    RxInfer.stop(engine)\n",
    "    IJulia.clear_output(true)\n",
    "end;"
   ]
  },
  {
   "cell_type": "code",
   "execution_count": null,
   "metadata": {},
   "outputs": [],
   "source": []
  }
 ],
 "metadata": {
  "@webio": {
   "lastCommId": null,
   "lastKernelId": null
  },
  "kernelspec": {
   "display_name": "Julia 1.8.3",
   "language": "julia",
   "name": "julia-1.8"
  },
  "language_info": {
   "file_extension": ".jl",
   "mimetype": "application/julia",
   "name": "julia",
   "version": "1.8.3"
  }
 },
 "nbformat": 4,
 "nbformat_minor": 4
}
