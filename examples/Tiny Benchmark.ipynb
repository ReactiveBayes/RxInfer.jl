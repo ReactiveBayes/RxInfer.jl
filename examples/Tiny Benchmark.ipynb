{
 "cells": [
  {
   "cell_type": "markdown",
   "metadata": {},
   "source": [
    "# Tiny Benchmark"
   ]
  },
  {
   "cell_type": "code",
   "execution_count": 1,
   "metadata": {},
   "outputs": [
    {
     "name": "stderr",
     "output_type": "stream",
     "text": [
      "\u001b[32m\u001b[1m  Activating\u001b[22m\u001b[39m project at `~/.julia/dev/RxInfer.jl/examples`\n"
     ]
    }
   ],
   "source": [
    "# Activate local environment, see `Project.toml`\n",
    "import Pkg; Pkg.activate(\".\"); Pkg.instantiate(); "
   ]
  },
  {
   "cell_type": "markdown",
   "metadata": {},
   "source": [
    "This notebook is used to test small performance differences in **RxInfer.jl** during the development process for a very simple model. This benchmark does not represent the whole range of possible regressions but it is quick and easy to execute."
   ]
  },
  {
   "cell_type": "code",
   "execution_count": 2,
   "metadata": {},
   "outputs": [
    {
     "name": "stderr",
     "output_type": "stream",
     "text": [
      "┌ Info: Precompiling RxInfer [86711068-29c9-4ff7-b620-ae75d7495b3d]\n",
      "└ @ Base loading.jl:1664\n"
     ]
    }
   ],
   "source": [
    "using RxInfer, BenchmarkTools, Random, Plots"
   ]
  },
  {
   "cell_type": "markdown",
   "metadata": {},
   "source": [
    "## Synthetic dataset"
   ]
  },
  {
   "cell_type": "code",
   "execution_count": 3,
   "metadata": {},
   "outputs": [],
   "source": [
    "seed = 123\n",
    "\n",
    "rng = MersenneTwister(seed)\n",
    "\n",
    "v = 100.0\n",
    "\n",
    "n = 500\n",
    "\n",
    "hidden     = collect(1:n)\n",
    "data       = hidden + rand(rng, Normal(0.0, sqrt(v)), n);\n",
    "datastream = from(data) |> map(NamedTuple{(:y, ), Tuple{Float64}}, (d) -> (y = d, ));"
   ]
  },
  {
   "cell_type": "markdown",
   "metadata": {},
   "source": [
    "## Filtering"
   ]
  },
  {
   "cell_type": "code",
   "execution_count": 4,
   "metadata": {},
   "outputs": [],
   "source": [
    "@model function filtering(; c::ConstVariable, v::ConstVariable)\n",
    "    \n",
    "    x_prior_mean = datavar(Float64)\n",
    "    x_prior_var  = datavar(Float64)\n",
    "    \n",
    "    x_prior ~ Normal(mean = x_prior_mean, variance = x_prior_var) \n",
    "    x_next ~ x_prior + c\n",
    "    \n",
    "    y = datavar(Float64)\n",
    "    y ~ Normal(mean = x_next, variance = v)\n",
    "    \n",
    "end"
   ]
  },
  {
   "cell_type": "code",
   "execution_count": 5,
   "metadata": {},
   "outputs": [
    {
     "data": {
      "text/plain": [
       "run_filtering (generic function with 1 method)"
      ]
     },
     "execution_count": 5,
     "metadata": {},
     "output_type": "execute_result"
    }
   ],
   "source": [
    "function run_filtering(datastream, n, v)\n",
    "    \n",
    "    autoupdates = @autoupdates begin \n",
    "        x_prior_mean, x_prior_var = mean_var(q(x_next))\n",
    "    end\n",
    "\n",
    "    return rxinference(\n",
    "        model       = filtering(c = 1.0, v = v),\n",
    "        datastream  = datastream,\n",
    "        autoupdates = autoupdates,\n",
    "        initmarginals = (x_next = NormalMeanVariance(0.0, 10000.0), ),\n",
    "        keephistory = n,\n",
    "        historyvars = (x_next = KeepLast(), ),\n",
    "        free_energy = true,\n",
    "        autostart = true,\n",
    "        postprocess = UnpackMarginalPostprocess()\n",
    "    )\n",
    "    \n",
    "end"
   ]
  },
  {
   "cell_type": "code",
   "execution_count": 6,
   "metadata": {},
   "outputs": [
    {
     "data": {
      "text/plain": [
       "RxInferenceEngine:\n",
       "  Posteriors stream    | enabled for (x_next, x_prior)\n",
       "  Free Energy stream   | enabled\n",
       "  Posteriors history   | available for (x_next)\n",
       "  Free Energy history  | available\n",
       "  Enabled events       | [  ]"
      ]
     },
     "execution_count": 6,
     "metadata": {},
     "output_type": "execute_result"
    }
   ],
   "source": [
    "result_filtering = run_filtering(datastream, n, v)"
   ]
  },
  {
   "cell_type": "code",
   "execution_count": 7,
   "metadata": {},
   "outputs": [
    {
     "data": {
      "image/svg+xml": [
       "<?xml version=\"1.0\" encoding=\"utf-8\"?>\n",
       "<svg xmlns=\"http://www.w3.org/2000/svg\" xmlns:xlink=\"http://www.w3.org/1999/xlink\" width=\"600\" height=\"400\" viewBox=\"0 0 2400 1600\">\n",
       "<defs>\n",
       "  <clipPath id=\"clip680\">\n",
       "    <rect x=\"0\" y=\"0\" width=\"2400\" height=\"1600\"/>\n",
       "  </clipPath>\n",
       "</defs>\n",
       "<path clip-path=\"url(#clip680)\" d=\"\n",
       "M0 1600 L2400 1600 L2400 0 L0 0  Z\n",
       "  \" fill=\"#ffffff\" fill-rule=\"evenodd\" fill-opacity=\"1\"/>\n",
       "<defs>\n",
       "  <clipPath id=\"clip681\">\n",
       "    <rect x=\"480\" y=\"0\" width=\"1681\" height=\"1600\"/>\n",
       "  </clipPath>\n",
       "</defs>\n",
       "<path clip-path=\"url(#clip680)\" d=\"\n",
       "M141.853 1486.45 L2352.76 1486.45 L2352.76 47.2441 L141.853 47.2441  Z\n",
       "  \" fill=\"#ffffff\" fill-rule=\"evenodd\" fill-opacity=\"1\"/>\n",
       "<defs>\n",
       "  <clipPath id=\"clip682\">\n",
       "    <rect x=\"141\" y=\"47\" width=\"2212\" height=\"1440\"/>\n",
       "  </clipPath>\n",
       "</defs>\n",
       "<polyline clip-path=\"url(#clip682)\" style=\"stroke:#000000; stroke-linecap:round; stroke-linejoin:round; stroke-width:2; stroke-opacity:0.1; fill:none\" points=\"\n",
       "  161.859,1486.45 161.859,47.2441 \n",
       "  \"/>\n",
       "<polyline clip-path=\"url(#clip682)\" style=\"stroke:#000000; stroke-linecap:round; stroke-linejoin:round; stroke-width:2; stroke-opacity:0.1; fill:none\" points=\"\n",
       "  587.524,1486.45 587.524,47.2441 \n",
       "  \"/>\n",
       "<polyline clip-path=\"url(#clip682)\" style=\"stroke:#000000; stroke-linecap:round; stroke-linejoin:round; stroke-width:2; stroke-opacity:0.1; fill:none\" points=\"\n",
       "  1013.19,1486.45 1013.19,47.2441 \n",
       "  \"/>\n",
       "<polyline clip-path=\"url(#clip682)\" style=\"stroke:#000000; stroke-linecap:round; stroke-linejoin:round; stroke-width:2; stroke-opacity:0.1; fill:none\" points=\"\n",
       "  1438.85,1486.45 1438.85,47.2441 \n",
       "  \"/>\n",
       "<polyline clip-path=\"url(#clip682)\" style=\"stroke:#000000; stroke-linecap:round; stroke-linejoin:round; stroke-width:2; stroke-opacity:0.1; fill:none\" points=\"\n",
       "  1864.52,1486.45 1864.52,47.2441 \n",
       "  \"/>\n",
       "<polyline clip-path=\"url(#clip682)\" style=\"stroke:#000000; stroke-linecap:round; stroke-linejoin:round; stroke-width:2; stroke-opacity:0.1; fill:none\" points=\"\n",
       "  2290.18,1486.45 2290.18,47.2441 \n",
       "  \"/>\n",
       "<polyline clip-path=\"url(#clip680)\" style=\"stroke:#000000; stroke-linecap:round; stroke-linejoin:round; stroke-width:4; stroke-opacity:1; fill:none\" points=\"\n",
       "  141.853,1486.45 2352.76,1486.45 \n",
       "  \"/>\n",
       "<polyline clip-path=\"url(#clip680)\" style=\"stroke:#000000; stroke-linecap:round; stroke-linejoin:round; stroke-width:4; stroke-opacity:1; fill:none\" points=\"\n",
       "  161.859,1486.45 161.859,1467.55 \n",
       "  \"/>\n",
       "<polyline clip-path=\"url(#clip680)\" style=\"stroke:#000000; stroke-linecap:round; stroke-linejoin:round; stroke-width:4; stroke-opacity:1; fill:none\" points=\"\n",
       "  587.524,1486.45 587.524,1467.55 \n",
       "  \"/>\n",
       "<polyline clip-path=\"url(#clip680)\" style=\"stroke:#000000; stroke-linecap:round; stroke-linejoin:round; stroke-width:4; stroke-opacity:1; fill:none\" points=\"\n",
       "  1013.19,1486.45 1013.19,1467.55 \n",
       "  \"/>\n",
       "<polyline clip-path=\"url(#clip680)\" style=\"stroke:#000000; stroke-linecap:round; stroke-linejoin:round; stroke-width:4; stroke-opacity:1; fill:none\" points=\"\n",
       "  1438.85,1486.45 1438.85,1467.55 \n",
       "  \"/>\n",
       "<polyline clip-path=\"url(#clip680)\" style=\"stroke:#000000; stroke-linecap:round; stroke-linejoin:round; stroke-width:4; stroke-opacity:1; fill:none\" points=\"\n",
       "  1864.52,1486.45 1864.52,1467.55 \n",
       "  \"/>\n",
       "<polyline clip-path=\"url(#clip680)\" style=\"stroke:#000000; stroke-linecap:round; stroke-linejoin:round; stroke-width:4; stroke-opacity:1; fill:none\" points=\"\n",
       "  2290.18,1486.45 2290.18,1467.55 \n",
       "  \"/>\n",
       "<path clip-path=\"url(#clip680)\" d=\"M161.859 1517.37 Q158.248 1517.37 156.419 1520.93 Q154.614 1524.47 154.614 1531.6 Q154.614 1538.71 156.419 1542.27 Q158.248 1545.82 161.859 1545.82 Q165.493 1545.82 167.299 1542.27 Q169.128 1538.71 169.128 1531.6 Q169.128 1524.47 167.299 1520.93 Q165.493 1517.37 161.859 1517.37 M161.859 1513.66 Q167.669 1513.66 170.725 1518.27 Q173.804 1522.85 173.804 1531.6 Q173.804 1540.33 170.725 1544.94 Q167.669 1549.52 161.859 1549.52 Q156.049 1549.52 152.97 1544.94 Q149.915 1540.33 149.915 1531.6 Q149.915 1522.85 152.97 1518.27 Q156.049 1513.66 161.859 1513.66 Z\" fill=\"#000000\" fill-rule=\"evenodd\" fill-opacity=\"1\" /><path clip-path=\"url(#clip680)\" d=\"M562.212 1544.91 L569.85 1544.91 L569.85 1518.55 L561.54 1520.21 L561.54 1515.95 L569.804 1514.29 L574.48 1514.29 L574.48 1544.91 L582.119 1544.91 L582.119 1548.85 L562.212 1548.85 L562.212 1544.91 Z\" fill=\"#000000\" fill-rule=\"evenodd\" fill-opacity=\"1\" /><path clip-path=\"url(#clip680)\" d=\"M601.563 1517.37 Q597.952 1517.37 596.123 1520.93 Q594.318 1524.47 594.318 1531.6 Q594.318 1538.71 596.123 1542.27 Q597.952 1545.82 601.563 1545.82 Q605.198 1545.82 607.003 1542.27 Q608.832 1538.71 608.832 1531.6 Q608.832 1524.47 607.003 1520.93 Q605.198 1517.37 601.563 1517.37 M601.563 1513.66 Q607.373 1513.66 610.429 1518.27 Q613.508 1522.85 613.508 1531.6 Q613.508 1540.33 610.429 1544.94 Q607.373 1549.52 601.563 1549.52 Q595.753 1549.52 592.674 1544.94 Q589.619 1540.33 589.619 1531.6 Q589.619 1522.85 592.674 1518.27 Q595.753 1513.66 601.563 1513.66 Z\" fill=\"#000000\" fill-rule=\"evenodd\" fill-opacity=\"1\" /><path clip-path=\"url(#clip680)\" d=\"M991.962 1544.91 L1008.28 1544.91 L1008.28 1548.85 L986.337 1548.85 L986.337 1544.91 Q988.999 1542.16 993.582 1537.53 Q998.189 1532.88 999.369 1531.53 Q1001.61 1529.01 1002.49 1527.27 Q1003.4 1525.51 1003.4 1523.82 Q1003.4 1521.07 1001.45 1519.33 Q999.531 1517.6 996.43 1517.6 Q994.231 1517.6 991.777 1518.36 Q989.346 1519.13 986.569 1520.68 L986.569 1515.95 Q989.393 1514.82 991.846 1514.24 Q994.3 1513.66 996.337 1513.66 Q1001.71 1513.66 1004.9 1516.35 Q1008.1 1519.03 1008.1 1523.52 Q1008.1 1525.65 1007.29 1527.57 Q1006.5 1529.47 1004.39 1532.07 Q1003.81 1532.74 1000.71 1535.95 Q997.61 1539.15 991.962 1544.91 Z\" fill=\"#000000\" fill-rule=\"evenodd\" fill-opacity=\"1\" /><path clip-path=\"url(#clip680)\" d=\"M1028.1 1517.37 Q1024.49 1517.37 1022.66 1520.93 Q1020.85 1524.47 1020.85 1531.6 Q1020.85 1538.71 1022.66 1542.27 Q1024.49 1545.82 1028.1 1545.82 Q1031.73 1545.82 1033.54 1542.27 Q1035.36 1538.71 1035.36 1531.6 Q1035.36 1524.47 1033.54 1520.93 Q1031.73 1517.37 1028.1 1517.37 M1028.1 1513.66 Q1033.91 1513.66 1036.96 1518.27 Q1040.04 1522.85 1040.04 1531.6 Q1040.04 1540.33 1036.96 1544.94 Q1033.91 1549.52 1028.1 1549.52 Q1022.29 1549.52 1019.21 1544.94 Q1016.15 1540.33 1016.15 1531.6 Q1016.15 1522.85 1019.21 1518.27 Q1022.29 1513.66 1028.1 1513.66 Z\" fill=\"#000000\" fill-rule=\"evenodd\" fill-opacity=\"1\" /><path clip-path=\"url(#clip680)\" d=\"M1427.7 1530.21 Q1431.05 1530.93 1432.93 1533.2 Q1434.83 1535.47 1434.83 1538.8 Q1434.83 1543.92 1431.31 1546.72 Q1427.79 1549.52 1421.31 1549.52 Q1419.13 1549.52 1416.82 1549.08 Q1414.53 1548.66 1412.07 1547.81 L1412.07 1543.29 Q1414.02 1544.43 1416.33 1545.01 Q1418.65 1545.58 1421.17 1545.58 Q1425.57 1545.58 1427.86 1543.85 Q1430.17 1542.11 1430.17 1538.8 Q1430.17 1535.75 1428.02 1534.03 Q1425.89 1532.3 1422.07 1532.3 L1418.04 1532.3 L1418.04 1528.45 L1422.26 1528.45 Q1425.71 1528.45 1427.53 1527.09 Q1429.36 1525.7 1429.36 1523.11 Q1429.36 1520.45 1427.46 1519.03 Q1425.59 1517.6 1422.07 1517.6 Q1420.15 1517.6 1417.95 1518.01 Q1415.75 1518.43 1413.11 1519.31 L1413.11 1515.14 Q1415.78 1514.4 1418.09 1514.03 Q1420.43 1513.66 1422.49 1513.66 Q1427.81 1513.66 1430.91 1516.09 Q1434.02 1518.5 1434.02 1522.62 Q1434.02 1525.49 1432.37 1527.48 Q1430.73 1529.45 1427.7 1530.21 Z\" fill=\"#000000\" fill-rule=\"evenodd\" fill-opacity=\"1\" /><path clip-path=\"url(#clip680)\" d=\"M1453.69 1517.37 Q1450.08 1517.37 1448.25 1520.93 Q1446.45 1524.47 1446.45 1531.6 Q1446.45 1538.71 1448.25 1542.27 Q1450.08 1545.82 1453.69 1545.82 Q1457.33 1545.82 1459.13 1542.27 Q1460.96 1538.71 1460.96 1531.6 Q1460.96 1524.47 1459.13 1520.93 Q1457.33 1517.37 1453.69 1517.37 M1453.69 1513.66 Q1459.5 1513.66 1462.56 1518.27 Q1465.64 1522.85 1465.64 1531.6 Q1465.64 1540.33 1462.56 1544.94 Q1459.5 1549.52 1453.69 1549.52 Q1447.88 1549.52 1444.8 1544.94 Q1441.75 1540.33 1441.75 1531.6 Q1441.75 1522.85 1444.8 1518.27 Q1447.88 1513.66 1453.69 1513.66 Z\" fill=\"#000000\" fill-rule=\"evenodd\" fill-opacity=\"1\" /><path clip-path=\"url(#clip680)\" d=\"M1852.69 1518.36 L1840.88 1536.81 L1852.69 1536.81 L1852.69 1518.36 M1851.46 1514.29 L1857.34 1514.29 L1857.34 1536.81 L1862.27 1536.81 L1862.27 1540.7 L1857.34 1540.7 L1857.34 1548.85 L1852.69 1548.85 L1852.69 1540.7 L1837.09 1540.7 L1837.09 1536.19 L1851.46 1514.29 Z\" fill=\"#000000\" fill-rule=\"evenodd\" fill-opacity=\"1\" /><path clip-path=\"url(#clip680)\" d=\"M1880 1517.37 Q1876.39 1517.37 1874.56 1520.93 Q1872.76 1524.47 1872.76 1531.6 Q1872.76 1538.71 1874.56 1542.27 Q1876.39 1545.82 1880 1545.82 Q1883.64 1545.82 1885.44 1542.27 Q1887.27 1538.71 1887.27 1531.6 Q1887.27 1524.47 1885.44 1520.93 Q1883.64 1517.37 1880 1517.37 M1880 1513.66 Q1885.81 1513.66 1888.87 1518.27 Q1891.95 1522.85 1891.95 1531.6 Q1891.95 1540.33 1888.87 1544.94 Q1885.81 1549.52 1880 1549.52 Q1874.19 1549.52 1871.12 1544.94 Q1868.06 1540.33 1868.06 1531.6 Q1868.06 1522.85 1871.12 1518.27 Q1874.19 1513.66 1880 1513.66 Z\" fill=\"#000000\" fill-rule=\"evenodd\" fill-opacity=\"1\" /><path clip-path=\"url(#clip680)\" d=\"M2264.88 1514.29 L2283.24 1514.29 L2283.24 1518.22 L2269.16 1518.22 L2269.16 1526.7 Q2270.18 1526.35 2271.2 1526.19 Q2272.22 1526 2273.24 1526 Q2279.03 1526 2282.41 1529.17 Q2285.79 1532.34 2285.79 1537.76 Q2285.79 1543.34 2282.31 1546.44 Q2278.84 1549.52 2272.52 1549.52 Q2270.35 1549.52 2268.08 1549.15 Q2265.83 1548.78 2263.42 1548.04 L2263.42 1543.34 Q2265.51 1544.47 2267.73 1545.03 Q2269.95 1545.58 2272.43 1545.58 Q2276.43 1545.58 2278.77 1543.48 Q2281.11 1541.37 2281.11 1537.76 Q2281.11 1534.15 2278.77 1532.04 Q2276.43 1529.94 2272.43 1529.94 Q2270.55 1529.94 2268.68 1530.35 Q2266.83 1530.77 2264.88 1531.65 L2264.88 1514.29 Z\" fill=\"#000000\" fill-rule=\"evenodd\" fill-opacity=\"1\" /><path clip-path=\"url(#clip680)\" d=\"M2305 1517.37 Q2301.39 1517.37 2299.56 1520.93 Q2297.75 1524.47 2297.75 1531.6 Q2297.75 1538.71 2299.56 1542.27 Q2301.39 1545.82 2305 1545.82 Q2308.63 1545.82 2310.44 1542.27 Q2312.27 1538.71 2312.27 1531.6 Q2312.27 1524.47 2310.44 1520.93 Q2308.63 1517.37 2305 1517.37 M2305 1513.66 Q2310.81 1513.66 2313.86 1518.27 Q2316.94 1522.85 2316.94 1531.6 Q2316.94 1540.33 2313.86 1544.94 Q2310.81 1549.52 2305 1549.52 Q2299.19 1549.52 2296.11 1544.94 Q2293.05 1540.33 2293.05 1531.6 Q2293.05 1522.85 2296.11 1518.27 Q2299.19 1513.66 2305 1513.66 Z\" fill=\"#000000\" fill-rule=\"evenodd\" fill-opacity=\"1\" /><polyline clip-path=\"url(#clip682)\" style=\"stroke:#000000; stroke-linecap:round; stroke-linejoin:round; stroke-width:2; stroke-opacity:0.1; fill:none\" points=\"\n",
       "  141.853,1417.77 2352.76,1417.77 \n",
       "  \"/>\n",
       "<polyline clip-path=\"url(#clip682)\" style=\"stroke:#000000; stroke-linecap:round; stroke-linejoin:round; stroke-width:2; stroke-opacity:0.1; fill:none\" points=\"\n",
       "  141.853,1207.75 2352.76,1207.75 \n",
       "  \"/>\n",
       "<polyline clip-path=\"url(#clip682)\" style=\"stroke:#000000; stroke-linecap:round; stroke-linejoin:round; stroke-width:2; stroke-opacity:0.1; fill:none\" points=\"\n",
       "  141.853,997.735 2352.76,997.735 \n",
       "  \"/>\n",
       "<polyline clip-path=\"url(#clip682)\" style=\"stroke:#000000; stroke-linecap:round; stroke-linejoin:round; stroke-width:2; stroke-opacity:0.1; fill:none\" points=\"\n",
       "  141.853,787.717 2352.76,787.717 \n",
       "  \"/>\n",
       "<polyline clip-path=\"url(#clip682)\" style=\"stroke:#000000; stroke-linecap:round; stroke-linejoin:round; stroke-width:2; stroke-opacity:0.1; fill:none\" points=\"\n",
       "  141.853,577.699 2352.76,577.699 \n",
       "  \"/>\n",
       "<polyline clip-path=\"url(#clip682)\" style=\"stroke:#000000; stroke-linecap:round; stroke-linejoin:round; stroke-width:2; stroke-opacity:0.1; fill:none\" points=\"\n",
       "  141.853,367.681 2352.76,367.681 \n",
       "  \"/>\n",
       "<polyline clip-path=\"url(#clip682)\" style=\"stroke:#000000; stroke-linecap:round; stroke-linejoin:round; stroke-width:2; stroke-opacity:0.1; fill:none\" points=\"\n",
       "  141.853,157.664 2352.76,157.664 \n",
       "  \"/>\n",
       "<polyline clip-path=\"url(#clip680)\" style=\"stroke:#000000; stroke-linecap:round; stroke-linejoin:round; stroke-width:4; stroke-opacity:1; fill:none\" points=\"\n",
       "  141.853,1486.45 141.853,47.2441 \n",
       "  \"/>\n",
       "<polyline clip-path=\"url(#clip680)\" style=\"stroke:#000000; stroke-linecap:round; stroke-linejoin:round; stroke-width:4; stroke-opacity:1; fill:none\" points=\"\n",
       "  141.853,1417.77 160.751,1417.77 \n",
       "  \"/>\n",
       "<polyline clip-path=\"url(#clip680)\" style=\"stroke:#000000; stroke-linecap:round; stroke-linejoin:round; stroke-width:4; stroke-opacity:1; fill:none\" points=\"\n",
       "  141.853,1207.75 160.751,1207.75 \n",
       "  \"/>\n",
       "<polyline clip-path=\"url(#clip680)\" style=\"stroke:#000000; stroke-linecap:round; stroke-linejoin:round; stroke-width:4; stroke-opacity:1; fill:none\" points=\"\n",
       "  141.853,997.735 160.751,997.735 \n",
       "  \"/>\n",
       "<polyline clip-path=\"url(#clip680)\" style=\"stroke:#000000; stroke-linecap:round; stroke-linejoin:round; stroke-width:4; stroke-opacity:1; fill:none\" points=\"\n",
       "  141.853,787.717 160.751,787.717 \n",
       "  \"/>\n",
       "<polyline clip-path=\"url(#clip680)\" style=\"stroke:#000000; stroke-linecap:round; stroke-linejoin:round; stroke-width:4; stroke-opacity:1; fill:none\" points=\"\n",
       "  141.853,577.699 160.751,577.699 \n",
       "  \"/>\n",
       "<polyline clip-path=\"url(#clip680)\" style=\"stroke:#000000; stroke-linecap:round; stroke-linejoin:round; stroke-width:4; stroke-opacity:1; fill:none\" points=\"\n",
       "  141.853,367.681 160.751,367.681 \n",
       "  \"/>\n",
       "<polyline clip-path=\"url(#clip680)\" style=\"stroke:#000000; stroke-linecap:round; stroke-linejoin:round; stroke-width:4; stroke-opacity:1; fill:none\" points=\"\n",
       "  141.853,157.664 160.751,157.664 \n",
       "  \"/>\n",
       "<path clip-path=\"url(#clip680)\" d=\"M93.9086 1403.57 Q90.2975 1403.57 88.4688 1407.13 Q86.6632 1410.68 86.6632 1417.81 Q86.6632 1424.91 88.4688 1428.48 Q90.2975 1432.02 93.9086 1432.02 Q97.5428 1432.02 99.3483 1428.48 Q101.177 1424.91 101.177 1417.81 Q101.177 1410.68 99.3483 1407.13 Q97.5428 1403.57 93.9086 1403.57 M93.9086 1399.87 Q99.7187 1399.87 102.774 1404.47 Q105.853 1409.06 105.853 1417.81 Q105.853 1426.53 102.774 1431.14 Q99.7187 1435.72 93.9086 1435.72 Q88.0984 1435.72 85.0197 1431.14 Q81.9642 1426.53 81.9642 1417.81 Q81.9642 1409.06 85.0197 1404.47 Q88.0984 1399.87 93.9086 1399.87 Z\" fill=\"#000000\" fill-rule=\"evenodd\" fill-opacity=\"1\" /><path clip-path=\"url(#clip680)\" d=\"M54.5569 1221.1 L62.1958 1221.1 L62.1958 1194.73 L53.8856 1196.4 L53.8856 1192.14 L62.1495 1190.47 L66.8254 1190.47 L66.8254 1221.1 L74.4642 1221.1 L74.4642 1225.03 L54.5569 1225.03 L54.5569 1221.1 Z\" fill=\"#000000\" fill-rule=\"evenodd\" fill-opacity=\"1\" /><path clip-path=\"url(#clip680)\" d=\"M93.9086 1193.55 Q90.2975 1193.55 88.4688 1197.12 Q86.6632 1200.66 86.6632 1207.79 Q86.6632 1214.89 88.4688 1218.46 Q90.2975 1222 93.9086 1222 Q97.5428 1222 99.3483 1218.46 Q101.177 1214.89 101.177 1207.79 Q101.177 1200.66 99.3483 1197.12 Q97.5428 1193.55 93.9086 1193.55 M93.9086 1189.85 Q99.7187 1189.85 102.774 1194.45 Q105.853 1199.04 105.853 1207.79 Q105.853 1216.51 102.774 1221.12 Q99.7187 1225.7 93.9086 1225.7 Q88.0984 1225.7 85.0197 1221.12 Q81.9642 1216.51 81.9642 1207.79 Q81.9642 1199.04 85.0197 1194.45 Q88.0984 1189.85 93.9086 1189.85 Z\" fill=\"#000000\" fill-rule=\"evenodd\" fill-opacity=\"1\" /><path clip-path=\"url(#clip680)\" d=\"M57.7745 1011.08 L74.0939 1011.08 L74.0939 1015.02 L52.1495 1015.02 L52.1495 1011.08 Q54.8115 1008.33 59.3949 1003.7 Q64.0013 999.043 65.1819 997.7 Q67.4272 995.177 68.3068 993.441 Q69.2096 991.682 69.2096 989.992 Q69.2096 987.237 67.2652 985.501 Q65.3439 983.765 62.2421 983.765 Q60.043 983.765 57.5893 984.529 Q55.1588 985.293 52.381 986.844 L52.381 982.122 Q55.2051 980.987 57.6588 980.409 Q60.1124 979.83 62.1495 979.83 Q67.5198 979.83 70.7142 982.515 Q73.9087 985.2 73.9087 989.691 Q73.9087 991.821 73.0985 993.742 Q72.3115 995.64 70.205 998.233 Q69.6263 998.904 66.5245 1002.12 Q63.4226 1005.32 57.7745 1011.08 Z\" fill=\"#000000\" fill-rule=\"evenodd\" fill-opacity=\"1\" /><path clip-path=\"url(#clip680)\" d=\"M93.9086 983.534 Q90.2975 983.534 88.4688 987.099 Q86.6632 990.64 86.6632 997.77 Q86.6632 1004.88 88.4688 1008.44 Q90.2975 1011.98 93.9086 1011.98 Q97.5428 1011.98 99.3483 1008.44 Q101.177 1004.88 101.177 997.77 Q101.177 990.64 99.3483 987.099 Q97.5428 983.534 93.9086 983.534 M93.9086 979.83 Q99.7187 979.83 102.774 984.437 Q105.853 989.02 105.853 997.77 Q105.853 1006.5 102.774 1011.1 Q99.7187 1015.69 93.9086 1015.69 Q88.0984 1015.69 85.0197 1011.1 Q81.9642 1006.5 81.9642 997.77 Q81.9642 989.02 85.0197 984.437 Q88.0984 979.83 93.9086 979.83 Z\" fill=\"#000000\" fill-rule=\"evenodd\" fill-opacity=\"1\" /><path clip-path=\"url(#clip680)\" d=\"M67.9133 786.363 Q71.2698 787.081 73.1448 789.349 Q75.0429 791.618 75.0429 794.951 Q75.0429 800.067 71.5244 802.868 Q68.0059 805.668 61.5245 805.668 Q59.3486 805.668 57.0338 805.229 Q54.7421 804.812 52.2884 803.956 L52.2884 799.442 Q54.2328 800.576 56.5477 801.155 Q58.8625 801.733 61.3856 801.733 Q65.7837 801.733 68.0754 799.997 Q70.3902 798.261 70.3902 794.951 Q70.3902 791.895 68.2374 790.182 Q66.1078 788.446 62.2884 788.446 L58.2606 788.446 L58.2606 784.604 L62.4735 784.604 Q65.9226 784.604 67.7513 783.238 Q69.58 781.849 69.58 779.257 Q69.58 776.595 67.6819 775.183 Q65.8069 773.747 62.2884 773.747 Q60.3671 773.747 58.168 774.164 Q55.969 774.581 53.3301 775.46 L53.3301 771.294 Q55.9921 770.553 58.3069 770.183 Q60.6449 769.812 62.705 769.812 Q68.0291 769.812 71.1309 772.243 Q74.2327 774.65 74.2327 778.77 Q74.2327 781.641 72.5892 783.632 Q70.9457 785.599 67.9133 786.363 Z\" fill=\"#000000\" fill-rule=\"evenodd\" fill-opacity=\"1\" /><path clip-path=\"url(#clip680)\" d=\"M93.9086 773.516 Q90.2975 773.516 88.4688 777.081 Q86.6632 780.622 86.6632 787.752 Q86.6632 794.858 88.4688 798.423 Q90.2975 801.965 93.9086 801.965 Q97.5428 801.965 99.3483 798.423 Q101.177 794.858 101.177 787.752 Q101.177 780.622 99.3483 777.081 Q97.5428 773.516 93.9086 773.516 M93.9086 769.812 Q99.7187 769.812 102.774 774.419 Q105.853 779.002 105.853 787.752 Q105.853 796.479 102.774 801.085 Q99.7187 805.668 93.9086 805.668 Q88.0984 805.668 85.0197 801.085 Q81.9642 796.479 81.9642 787.752 Q81.9642 779.002 85.0197 774.419 Q88.0984 769.812 93.9086 769.812 Z\" fill=\"#000000\" fill-rule=\"evenodd\" fill-opacity=\"1\" /><path clip-path=\"url(#clip680)\" d=\"M66.5939 564.493 L54.7884 582.942 L66.5939 582.942 L66.5939 564.493 M65.367 560.419 L71.2466 560.419 L71.2466 582.942 L76.1772 582.942 L76.1772 586.831 L71.2466 586.831 L71.2466 594.979 L66.5939 594.979 L66.5939 586.831 L50.9921 586.831 L50.9921 582.317 L65.367 560.419 Z\" fill=\"#000000\" fill-rule=\"evenodd\" fill-opacity=\"1\" /><path clip-path=\"url(#clip680)\" d=\"M93.9086 563.498 Q90.2975 563.498 88.4688 567.063 Q86.6632 570.604 86.6632 577.734 Q86.6632 584.84 88.4688 588.405 Q90.2975 591.947 93.9086 591.947 Q97.5428 591.947 99.3483 588.405 Q101.177 584.84 101.177 577.734 Q101.177 570.604 99.3483 567.063 Q97.5428 563.498 93.9086 563.498 M93.9086 559.794 Q99.7187 559.794 102.774 564.401 Q105.853 568.984 105.853 577.734 Q105.853 586.461 102.774 591.067 Q99.7187 595.651 93.9086 595.651 Q88.0984 595.651 85.0197 591.067 Q81.9642 586.461 81.9642 577.734 Q81.9642 568.984 85.0197 564.401 Q88.0984 559.794 93.9086 559.794 Z\" fill=\"#000000\" fill-rule=\"evenodd\" fill-opacity=\"1\" /><path clip-path=\"url(#clip680)\" d=\"M53.793 350.401 L72.1494 350.401 L72.1494 354.337 L58.0754 354.337 L58.0754 362.809 Q59.0939 362.462 60.1124 362.3 Q61.131 362.114 62.1495 362.114 Q67.9365 362.114 71.3161 365.286 Q74.6957 368.457 74.6957 373.874 Q74.6957 379.452 71.2235 382.554 Q67.7513 385.633 61.4319 385.633 Q59.256 385.633 56.9875 385.262 Q54.7421 384.892 52.3347 384.151 L52.3347 379.452 Q54.418 380.586 56.6402 381.142 Q58.8625 381.698 61.3393 381.698 Q65.3439 381.698 67.6819 379.591 Q70.0198 377.485 70.0198 373.874 Q70.0198 370.262 67.6819 368.156 Q65.3439 366.049 61.3393 366.049 Q59.4643 366.049 57.5893 366.466 Q55.7375 366.883 53.793 367.762 L53.793 350.401 Z\" fill=\"#000000\" fill-rule=\"evenodd\" fill-opacity=\"1\" /><path clip-path=\"url(#clip680)\" d=\"M93.9086 353.48 Q90.2975 353.48 88.4688 357.045 Q86.6632 360.587 86.6632 367.716 Q86.6632 374.823 88.4688 378.387 Q90.2975 381.929 93.9086 381.929 Q97.5428 381.929 99.3483 378.387 Q101.177 374.823 101.177 367.716 Q101.177 360.587 99.3483 357.045 Q97.5428 353.48 93.9086 353.48 M93.9086 349.776 Q99.7187 349.776 102.774 354.383 Q105.853 358.966 105.853 367.716 Q105.853 376.443 102.774 381.049 Q99.7187 385.633 93.9086 385.633 Q88.0984 385.633 85.0197 381.049 Q81.9642 376.443 81.9642 367.716 Q81.9642 358.966 85.0197 354.383 Q88.0984 349.776 93.9086 349.776 Z\" fill=\"#000000\" fill-rule=\"evenodd\" fill-opacity=\"1\" /><path clip-path=\"url(#clip680)\" d=\"M64.3254 155.8 Q61.1773 155.8 59.3254 157.953 Q57.4967 160.106 57.4967 163.856 Q57.4967 167.582 59.3254 169.758 Q61.1773 171.911 64.3254 171.911 Q67.4735 171.911 69.3022 169.758 Q71.1541 167.582 71.1541 163.856 Q71.1541 160.106 69.3022 157.953 Q67.4735 155.8 64.3254 155.8 M73.6077 141.147 L73.6077 145.407 Q71.8485 144.573 70.0429 144.134 Q68.2606 143.694 66.5013 143.694 Q61.8717 143.694 59.418 146.819 Q56.9875 149.944 56.6402 156.263 Q58.006 154.249 60.0662 153.184 Q62.1263 152.096 64.6032 152.096 Q69.8115 152.096 72.8207 155.268 Q75.8531 158.416 75.8531 163.856 Q75.8531 169.18 72.705 172.397 Q69.5568 175.615 64.3254 175.615 Q58.33 175.615 55.1588 171.032 Q51.9875 166.425 51.9875 157.698 Q51.9875 149.504 55.8764 144.643 Q59.7652 139.759 66.3161 139.759 Q68.0754 139.759 69.8578 140.106 Q71.6633 140.453 73.6077 141.147 Z\" fill=\"#000000\" fill-rule=\"evenodd\" fill-opacity=\"1\" /><path clip-path=\"url(#clip680)\" d=\"M93.9086 143.462 Q90.2975 143.462 88.4688 147.027 Q86.6632 150.569 86.6632 157.698 Q86.6632 164.805 88.4688 168.37 Q90.2975 171.911 93.9086 171.911 Q97.5428 171.911 99.3483 168.37 Q101.177 164.805 101.177 157.698 Q101.177 150.569 99.3483 147.027 Q97.5428 143.462 93.9086 143.462 M93.9086 139.759 Q99.7187 139.759 102.774 144.365 Q105.853 148.948 105.853 157.698 Q105.853 166.425 102.774 171.032 Q99.7187 175.615 93.9086 175.615 Q88.0984 175.615 85.0197 171.032 Q81.9642 166.425 81.9642 157.698 Q81.9642 148.948 85.0197 144.365 Q88.0984 139.759 93.9086 139.759 Z\" fill=\"#000000\" fill-rule=\"evenodd\" fill-opacity=\"1\" /><path clip-path=\"url(#clip682)\" d=\"\n",
       "M204.426 1358.24 L246.992 1185.53 L289.559 1170.13 L332.125 1185.13 L374.692 1220.31 L417.258 1245.37 L459.825 1207.47 L502.391 1201.13 L544.958 1183.14 L587.524 1174.18 \n",
       "  L630.09 1165.64 L672.657 1163.73 L715.223 1159.52 L757.79 1134.6 L800.356 1106.42 L842.923 1082.03 L885.489 1066 L928.056 1054.67 L970.622 1042.09 L1013.19 1029.24 \n",
       "  L1055.76 1017.64 L1098.32 993.322 L1140.89 975.924 L1183.45 961.814 L1226.02 937.406 L1268.59 903.181 L1311.15 895.592 L1353.72 895.695 L1396.29 867.434 L1438.85 828.929 \n",
       "  L1481.42 813.11 L1523.99 788.975 L1566.55 768.213 L1609.12 732.058 L1651.69 716.746 L1694.25 694.898 L1736.82 683.367 L1779.39 666.559 L1821.95 646.156 L1864.52 620.113 \n",
       "  L1907.08 604.239 L1949.65 584.216 L1992.22 563.644 L2034.78 534.581 L2077.35 511.092 L2119.92 490.633 L2162.48 469.96 L2205.05 441.757 L2247.62 433.878 L2290.18 418.318 \n",
       "  L2290.18 358.922 L2247.62 373.879 L2205.05 381.136 L2162.48 408.698 L2119.92 428.708 L2077.35 448.483 L2034.78 471.266 L1992.22 499.597 L1949.65 519.41 L1907.08 538.649 \n",
       "  L1864.52 553.707 L1821.95 578.905 L1779.39 598.429 L1736.82 614.323 L1694.25 624.902 L1651.69 645.757 L1609.12 660.033 L1566.55 695.105 L1523.99 714.734 L1481.42 737.682 \n",
       "  L1438.85 752.254 L1396.29 789.449 L1353.72 816.33 L1311.15 814.771 L1268.59 820.821 L1226.02 853.415 L1183.45 876.093 L1140.89 888.36 L1098.32 903.79 L1055.76 926 \n",
       "  L1013.19 935.345 L970.622 945.753 L928.056 955.691 L885.489 964.154 L842.923 977.05 L800.356 998.002 L757.79 1022.38 L715.223 1043.06 L672.657 1042.53 L630.09 1039.05 \n",
       "  L587.524 1041.42 L544.958 1043.21 L502.391 1052.72 L459.825 1048.82 L417.258 1074.03 L374.692 1032.65 L332.125 975.371 L289.559 928.029 L246.992 889.258 L204.426 940.291 \n",
       "   Z\n",
       "  \" fill=\"#009af9\" fill-rule=\"evenodd\" fill-opacity=\"0.5\"/>\n",
       "<polyline clip-path=\"url(#clip682)\" style=\"stroke:#009af9; stroke-linecap:round; stroke-linejoin:round; stroke-width:4; stroke-opacity:1; fill:none\" points=\"\n",
       "  204.426,1149.27 246.992,1037.39 289.559,1049.08 332.125,1080.25 374.692,1126.48 417.258,1159.7 459.825,1128.15 502.391,1126.93 544.958,1113.18 587.524,1107.8 \n",
       "  630.09,1102.35 672.657,1103.13 715.223,1101.29 757.79,1078.49 800.356,1052.21 842.923,1029.54 885.489,1015.08 928.056,1005.18 970.622,993.921 1013.19,982.295 \n",
       "  1055.76,971.819 1098.32,948.556 1140.89,932.142 1183.45,918.953 1226.02,895.41 1268.59,862.001 1311.15,855.182 1353.72,856.013 1396.29,828.441 1438.85,790.591 \n",
       "  1481.42,775.396 1523.99,751.855 1566.55,731.659 1609.12,696.046 1651.69,681.252 1694.25,659.9 1736.82,648.845 1779.39,632.494 1821.95,612.53 1864.52,586.91 \n",
       "  1907.08,571.444 1949.65,551.813 1992.22,531.621 2034.78,502.924 2077.35,479.788 2119.92,459.67 2162.48,439.329 2205.05,411.446 2247.62,403.878 2290.18,388.62 \n",
       "  \n",
       "  \"/>\n",
       "<polyline clip-path=\"url(#clip682)\" style=\"stroke:#e26f46; stroke-linecap:round; stroke-linejoin:round; stroke-width:4; stroke-opacity:1; fill:none\" points=\"\n",
       "  204.426,1396.77 246.992,1375.77 289.559,1354.77 332.125,1333.76 374.692,1312.76 417.258,1291.76 459.825,1270.76 502.391,1249.76 544.958,1228.75 587.524,1207.75 \n",
       "  630.09,1186.75 672.657,1165.75 715.223,1144.75 757.79,1123.75 800.356,1102.74 842.923,1081.74 885.489,1060.74 928.056,1039.74 970.622,1018.74 1013.19,997.735 \n",
       "  1055.76,976.733 1098.32,955.731 1140.89,934.73 1183.45,913.728 1226.02,892.726 1268.59,871.724 1311.15,850.723 1353.72,829.721 1396.29,808.719 1438.85,787.717 \n",
       "  1481.42,766.715 1523.99,745.714 1566.55,724.712 1609.12,703.71 1651.69,682.708 1694.25,661.706 1736.82,640.705 1779.39,619.703 1821.95,598.701 1864.52,577.699 \n",
       "  1907.08,556.698 1949.65,535.696 1992.22,514.694 2034.78,493.692 2077.35,472.69 2119.92,451.689 2162.48,430.687 2205.05,409.685 2247.62,388.683 2290.18,367.681 \n",
       "  \n",
       "  \"/>\n",
       "<circle clip-path=\"url(#clip682)\" cx=\"204.426\" cy=\"1146.79\" r=\"14.4\" fill=\"#3da44d\" fill-rule=\"evenodd\" fill-opacity=\"1\" stroke=\"#000000\" stroke-opacity=\"1\" stroke-width=\"3.2\"/>\n",
       "<circle clip-path=\"url(#clip682)\" cx=\"246.992\" cy=\"945.613\" r=\"14.4\" fill=\"#3da44d\" fill-rule=\"evenodd\" fill-opacity=\"1\" stroke=\"#000000\" stroke-opacity=\"1\" stroke-width=\"3.2\"/>\n",
       "<circle clip-path=\"url(#clip682)\" cx=\"289.559\" cy=\"1114.79\" r=\"14.4\" fill=\"#3da44d\" fill-rule=\"evenodd\" fill-opacity=\"1\" stroke=\"#000000\" stroke-opacity=\"1\" stroke-width=\"3.2\"/>\n",
       "<circle clip-path=\"url(#clip682)\" cx=\"332.125\" cy=\"1237.28\" r=\"14.4\" fill=\"#3da44d\" fill-rule=\"evenodd\" fill-opacity=\"1\" stroke=\"#000000\" stroke-opacity=\"1\" stroke-width=\"3.2\"/>\n",
       "<circle clip-path=\"url(#clip682)\" cx=\"374.692\" cy=\"1396.07\" r=\"14.4\" fill=\"#3da44d\" fill-rule=\"evenodd\" fill-opacity=\"1\" stroke=\"#000000\" stroke-opacity=\"1\" stroke-width=\"3.2\"/>\n",
       "<circle clip-path=\"url(#clip682)\" cx=\"417.258\" cy=\"1431.36\" r=\"14.4\" fill=\"#3da44d\" fill-rule=\"evenodd\" fill-opacity=\"1\" stroke=\"#000000\" stroke-opacity=\"1\" stroke-width=\"3.2\"/>\n",
       "<circle clip-path=\"url(#clip682)\" cx=\"459.825\" cy=\"1064.74\" r=\"14.4\" fill=\"#3da44d\" fill-rule=\"evenodd\" fill-opacity=\"1\" stroke=\"#000000\" stroke-opacity=\"1\" stroke-width=\"3.2\"/>\n",
       "<circle clip-path=\"url(#clip682)\" cx=\"502.391\" cy=\"1265.61\" r=\"14.4\" fill=\"#3da44d\" fill-rule=\"evenodd\" fill-opacity=\"1\" stroke=\"#000000\" stroke-opacity=\"1\" stroke-width=\"3.2\"/>\n",
       "<circle clip-path=\"url(#clip682)\" cx=\"544.958\" cy=\"1171.25\" r=\"14.4\" fill=\"#3da44d\" fill-rule=\"evenodd\" fill-opacity=\"1\" stroke=\"#000000\" stroke-opacity=\"1\" stroke-width=\"3.2\"/>\n",
       "<circle clip-path=\"url(#clip682)\" cx=\"587.524\" cy=\"1248.54\" r=\"14.4\" fill=\"#3da44d\" fill-rule=\"evenodd\" fill-opacity=\"1\" stroke=\"#000000\" stroke-opacity=\"1\" stroke-width=\"3.2\"/>\n",
       "<circle clip-path=\"url(#clip682)\" cx=\"630.09\" cy=\"1258.02\" r=\"14.4\" fill=\"#3da44d\" fill-rule=\"evenodd\" fill-opacity=\"1\" stroke=\"#000000\" stroke-opacity=\"1\" stroke-width=\"3.2\"/>\n",
       "<circle clip-path=\"url(#clip682)\" cx=\"672.657\" cy=\"1342.98\" r=\"14.4\" fill=\"#3da44d\" fill-rule=\"evenodd\" fill-opacity=\"1\" stroke=\"#000000\" stroke-opacity=\"1\" stroke-width=\"3.2\"/>\n",
       "<circle clip-path=\"url(#clip682)\" cx=\"715.223\" cy=\"1331.44\" r=\"14.4\" fill=\"#3da44d\" fill-rule=\"evenodd\" fill-opacity=\"1\" stroke=\"#000000\" stroke-opacity=\"1\" stroke-width=\"3.2\"/>\n",
       "<circle clip-path=\"url(#clip682)\" cx=\"757.79\" cy=\"1055.02\" r=\"14.4\" fill=\"#3da44d\" fill-rule=\"evenodd\" fill-opacity=\"1\" stroke=\"#000000\" stroke-opacity=\"1\" stroke-width=\"3.2\"/>\n",
       "<circle clip-path=\"url(#clip682)\" cx=\"800.356\" cy=\"978.329\" r=\"14.4\" fill=\"#3da44d\" fill-rule=\"evenodd\" fill-opacity=\"1\" stroke=\"#000000\" stroke-opacity=\"1\" stroke-width=\"3.2\"/>\n",
       "<circle clip-path=\"url(#clip682)\" cx=\"842.923\" cy=\"1004.46\" r=\"14.4\" fill=\"#3da44d\" fill-rule=\"evenodd\" fill-opacity=\"1\" stroke=\"#000000\" stroke-opacity=\"1\" stroke-width=\"3.2\"/>\n",
       "<circle clip-path=\"url(#clip682)\" cx=\"885.489\" cy=\"1119.78\" r=\"14.4\" fill=\"#3da44d\" fill-rule=\"evenodd\" fill-opacity=\"1\" stroke=\"#000000\" stroke-opacity=\"1\" stroke-width=\"3.2\"/>\n",
       "<circle clip-path=\"url(#clip682)\" cx=\"928.056\" cy=\"1194.08\" r=\"14.4\" fill=\"#3da44d\" fill-rule=\"evenodd\" fill-opacity=\"1\" stroke=\"#000000\" stroke-opacity=\"1\" stroke-width=\"3.2\"/>\n",
       "<circle clip-path=\"url(#clip682)\" cx=\"970.622\" cy=\"1169.41\" r=\"14.4\" fill=\"#3da44d\" fill-rule=\"evenodd\" fill-opacity=\"1\" stroke=\"#000000\" stroke-opacity=\"1\" stroke-width=\"3.2\"/>\n",
       "<circle clip-path=\"url(#clip682)\" cx=\"1013.19\" cy=\"1160.51\" r=\"14.4\" fill=\"#3da44d\" fill-rule=\"evenodd\" fill-opacity=\"1\" stroke=\"#000000\" stroke-opacity=\"1\" stroke-width=\"3.2\"/>\n",
       "<circle clip-path=\"url(#clip682)\" cx=\"1055.76\" cy=\"1182.45\" r=\"14.4\" fill=\"#3da44d\" fill-rule=\"evenodd\" fill-opacity=\"1\" stroke=\"#000000\" stroke-opacity=\"1\" stroke-width=\"3.2\"/>\n",
       "<circle clip-path=\"url(#clip682)\" cx=\"1098.32\" cy=\"901.042\" r=\"14.4\" fill=\"#3da44d\" fill-rule=\"evenodd\" fill-opacity=\"1\" stroke=\"#000000\" stroke-opacity=\"1\" stroke-width=\"3.2\"/>\n",
       "<circle clip-path=\"url(#clip682)\" cx=\"1140.89\" cy=\"1033.12\" r=\"14.4\" fill=\"#3da44d\" fill-rule=\"evenodd\" fill-opacity=\"1\" stroke=\"#000000\" stroke-opacity=\"1\" stroke-width=\"3.2\"/>\n",
       "<circle clip-path=\"url(#clip682)\" cx=\"1183.45\" cy=\"1098.73\" r=\"14.4\" fill=\"#3da44d\" fill-rule=\"evenodd\" fill-opacity=\"1\" stroke=\"#000000\" stroke-opacity=\"1\" stroke-width=\"3.2\"/>\n",
       "<circle clip-path=\"url(#clip682)\" cx=\"1226.02\" cy=\"834.399\" r=\"14.4\" fill=\"#3da44d\" fill-rule=\"evenodd\" fill-opacity=\"1\" stroke=\"#000000\" stroke-opacity=\"1\" stroke-width=\"3.2\"/>\n",
       "<circle clip-path=\"url(#clip682)\" cx=\"1268.59\" cy=\"551.675\" r=\"14.4\" fill=\"#3da44d\" fill-rule=\"evenodd\" fill-opacity=\"1\" stroke=\"#000000\" stroke-opacity=\"1\" stroke-width=\"3.2\"/>\n",
       "<circle clip-path=\"url(#clip682)\" cx=\"1311.15\" cy=\"1224.08\" r=\"14.4\" fill=\"#3da44d\" fill-rule=\"evenodd\" fill-opacity=\"1\" stroke=\"#000000\" stroke-opacity=\"1\" stroke-width=\"3.2\"/>\n",
       "<circle clip-path=\"url(#clip682)\" cx=\"1353.72\" cy=\"1445.72\" r=\"14.4\" fill=\"#3da44d\" fill-rule=\"evenodd\" fill-opacity=\"1\" stroke=\"#000000\" stroke-opacity=\"1\" stroke-width=\"3.2\"/>\n",
       "<circle clip-path=\"url(#clip682)\" cx=\"1396.29\" cy=\"644.431\" r=\"14.4\" fill=\"#3da44d\" fill-rule=\"evenodd\" fill-opacity=\"1\" stroke=\"#000000\" stroke-opacity=\"1\" stroke-width=\"3.2\"/>\n",
       "<circle clip-path=\"url(#clip682)\" cx=\"1438.85\" cy=\"301.824\" r=\"14.4\" fill=\"#3da44d\" fill-rule=\"evenodd\" fill-opacity=\"1\" stroke=\"#000000\" stroke-opacity=\"1\" stroke-width=\"3.2\"/>\n",
       "<circle clip-path=\"url(#clip682)\" cx=\"1481.42\" cy=\"949.653\" r=\"14.4\" fill=\"#3da44d\" fill-rule=\"evenodd\" fill-opacity=\"1\" stroke=\"#000000\" stroke-opacity=\"1\" stroke-width=\"3.2\"/>\n",
       "<circle clip-path=\"url(#clip682)\" cx=\"1523.99\" cy=\"673.105\" r=\"14.4\" fill=\"#3da44d\" fill-rule=\"evenodd\" fill-opacity=\"1\" stroke=\"#000000\" stroke-opacity=\"1\" stroke-width=\"3.2\"/>\n",
       "<circle clip-path=\"url(#clip682)\" cx=\"1566.55\" cy=\"757.444\" r=\"14.4\" fill=\"#3da44d\" fill-rule=\"evenodd\" fill-opacity=\"1\" stroke=\"#000000\" stroke-opacity=\"1\" stroke-width=\"3.2\"/>\n",
       "<circle clip-path=\"url(#clip682)\" cx=\"1609.12\" cy=\"213.736\" r=\"14.4\" fill=\"#3da44d\" fill-rule=\"evenodd\" fill-opacity=\"1\" stroke=\"#000000\" stroke-opacity=\"1\" stroke-width=\"3.2\"/>\n",
       "<circle clip-path=\"url(#clip682)\" cx=\"1651.69\" cy=\"892.38\" r=\"14.4\" fill=\"#3da44d\" fill-rule=\"evenodd\" fill-opacity=\"1\" stroke=\"#000000\" stroke-opacity=\"1\" stroke-width=\"3.2\"/>\n",
       "<circle clip-path=\"url(#clip682)\" cx=\"1694.25\" cy=\"647.645\" r=\"14.4\" fill=\"#3da44d\" fill-rule=\"evenodd\" fill-opacity=\"1\" stroke=\"#000000\" stroke-opacity=\"1\" stroke-width=\"3.2\"/>\n",
       "<circle clip-path=\"url(#clip682)\" cx=\"1736.82\" cy=\"1007.02\" r=\"14.4\" fill=\"#3da44d\" fill-rule=\"evenodd\" fill-opacity=\"1\" stroke=\"#000000\" stroke-opacity=\"1\" stroke-width=\"3.2\"/>\n",
       "<circle clip-path=\"url(#clip682)\" cx=\"1779.39\" cy=\"804.629\" r=\"14.4\" fill=\"#3da44d\" fill-rule=\"evenodd\" fill-opacity=\"1\" stroke=\"#000000\" stroke-opacity=\"1\" stroke-width=\"3.2\"/>\n",
       "<circle clip-path=\"url(#clip682)\" cx=\"1821.95\" cy=\"651.996\" r=\"14.4\" fill=\"#3da44d\" fill-rule=\"evenodd\" fill-opacity=\"1\" stroke=\"#000000\" stroke-opacity=\"1\" stroke-width=\"3.2\"/>\n",
       "<circle clip-path=\"url(#clip682)\" cx=\"1864.52\" cy=\"406.739\" r=\"14.4\" fill=\"#3da44d\" fill-rule=\"evenodd\" fill-opacity=\"1\" stroke=\"#000000\" stroke-opacity=\"1\" stroke-width=\"3.2\"/>\n",
       "<circle clip-path=\"url(#clip682)\" cx=\"1907.08\" cy=\"792.935\" r=\"14.4\" fill=\"#3da44d\" fill-rule=\"evenodd\" fill-opacity=\"1\" stroke=\"#000000\" stroke-opacity=\"1\" stroke-width=\"3.2\"/>\n",
       "<circle clip-path=\"url(#clip682)\" cx=\"1949.65\" cy=\"608.025\" r=\"14.4\" fill=\"#3da44d\" fill-rule=\"evenodd\" fill-opacity=\"1\" stroke=\"#000000\" stroke-opacity=\"1\" stroke-width=\"3.2\"/>\n",
       "<circle clip-path=\"url(#clip682)\" cx=\"1992.22\" cy=\"565.623\" r=\"14.4\" fill=\"#3da44d\" fill-rule=\"evenodd\" fill-opacity=\"1\" stroke=\"#000000\" stroke-opacity=\"1\" stroke-width=\"3.2\"/>\n",
       "<circle clip-path=\"url(#clip682)\" cx=\"2034.78\" cy=\"171.946\" r=\"14.4\" fill=\"#3da44d\" fill-rule=\"evenodd\" fill-opacity=\"1\" stroke=\"#000000\" stroke-opacity=\"1\" stroke-width=\"3.2\"/>\n",
       "<circle clip-path=\"url(#clip682)\" cx=\"2077.35\" cy=\"385.86\" r=\"14.4\" fill=\"#3da44d\" fill-rule=\"evenodd\" fill-opacity=\"1\" stroke=\"#000000\" stroke-opacity=\"1\" stroke-width=\"3.2\"/>\n",
       "<circle clip-path=\"url(#clip682)\" cx=\"2119.92\" cy=\"499.491\" r=\"14.4\" fill=\"#3da44d\" fill-rule=\"evenodd\" fill-opacity=\"1\" stroke=\"#000000\" stroke-opacity=\"1\" stroke-width=\"3.2\"/>\n",
       "<circle clip-path=\"url(#clip682)\" cx=\"2162.48\" cy=\"469.718\" r=\"14.4\" fill=\"#3da44d\" fill-rule=\"evenodd\" fill-opacity=\"1\" stroke=\"#000000\" stroke-opacity=\"1\" stroke-width=\"3.2\"/>\n",
       "<circle clip-path=\"url(#clip682)\" cx=\"2205.05\" cy=\"87.9763\" r=\"14.4\" fill=\"#3da44d\" fill-rule=\"evenodd\" fill-opacity=\"1\" stroke=\"#000000\" stroke-opacity=\"1\" stroke-width=\"3.2\"/>\n",
       "<circle clip-path=\"url(#clip682)\" cx=\"2247.62\" cy=\"1048.82\" r=\"14.4\" fill=\"#3da44d\" fill-rule=\"evenodd\" fill-opacity=\"1\" stroke=\"#000000\" stroke-opacity=\"1\" stroke-width=\"3.2\"/>\n",
       "<circle clip-path=\"url(#clip682)\" cx=\"2290.18\" cy=\"670.12\" r=\"14.4\" fill=\"#3da44d\" fill-rule=\"evenodd\" fill-opacity=\"1\" stroke=\"#000000\" stroke-opacity=\"1\" stroke-width=\"3.2\"/>\n",
       "<path clip-path=\"url(#clip680)\" d=\"\n",
       "M215.55 302.578 L822.332 302.578 L822.332 95.2176 L215.55 95.2176  Z\n",
       "  \" fill=\"#ffffff\" fill-rule=\"evenodd\" fill-opacity=\"1\"/>\n",
       "<polyline clip-path=\"url(#clip680)\" style=\"stroke:#000000; stroke-linecap:round; stroke-linejoin:round; stroke-width:4; stroke-opacity:1; fill:none\" points=\"\n",
       "  215.55,302.578 822.332,302.578 822.332,95.2176 215.55,95.2176 215.55,302.578 \n",
       "  \"/>\n",
       "<polyline clip-path=\"url(#clip680)\" style=\"stroke:#009af9; stroke-linecap:round; stroke-linejoin:round; stroke-width:4; stroke-opacity:1; fill:none\" points=\"\n",
       "  240.115,147.058 387.509,147.058 \n",
       "  \"/>\n",
       "<path clip-path=\"url(#clip680)\" d=\"M412.074 129.778 L433.926 129.778 L433.926 133.713 L416.75 133.713 L416.75 143.944 L433.209 143.944 L433.209 147.879 L416.75 147.879 L416.75 160.402 L434.343 160.402 L434.343 164.338 L412.074 164.338 L412.074 129.778 Z\" fill=\"#000000\" fill-rule=\"evenodd\" fill-opacity=\"1\" /><path clip-path=\"url(#clip680)\" d=\"M458.37 139.176 L458.37 143.203 Q456.565 142.277 454.62 141.815 Q452.676 141.352 450.593 141.352 Q447.421 141.352 445.824 142.324 Q444.25 143.296 444.25 145.24 Q444.25 146.722 445.384 147.578 Q446.519 148.412 449.945 149.176 L451.403 149.5 Q455.94 150.472 457.838 152.254 Q459.759 154.014 459.759 157.185 Q459.759 160.796 456.889 162.902 Q454.042 165.009 449.042 165.009 Q446.958 165.009 444.69 164.592 Q442.445 164.199 439.945 163.388 L439.945 158.99 Q442.306 160.217 444.597 160.842 Q446.889 161.444 449.134 161.444 Q452.144 161.444 453.764 160.426 Q455.384 159.384 455.384 157.509 Q455.384 155.773 454.204 154.847 Q453.046 153.921 449.088 153.064 L447.607 152.717 Q443.648 151.884 441.889 150.171 Q440.13 148.435 440.13 145.426 Q440.13 141.768 442.722 139.778 Q445.315 137.787 450.083 137.787 Q452.445 137.787 454.528 138.134 Q456.611 138.481 458.37 139.176 Z\" fill=\"#000000\" fill-rule=\"evenodd\" fill-opacity=\"1\" /><path clip-path=\"url(#clip680)\" d=\"M470.755 131.051 L470.755 138.412 L479.528 138.412 L479.528 141.722 L470.755 141.722 L470.755 155.796 Q470.755 158.967 471.611 159.87 Q472.491 160.773 475.153 160.773 L479.528 160.773 L479.528 164.338 L475.153 164.338 Q470.222 164.338 468.347 162.509 Q466.472 160.657 466.472 155.796 L466.472 141.722 L463.347 141.722 L463.347 138.412 L466.472 138.412 L466.472 131.051 L470.755 131.051 Z\" fill=\"#000000\" fill-rule=\"evenodd\" fill-opacity=\"1\" /><path clip-path=\"url(#clip680)\" d=\"M485.13 138.412 L489.389 138.412 L489.389 164.338 L485.13 164.338 L485.13 138.412 M485.13 128.319 L489.389 128.319 L489.389 133.713 L485.13 133.713 L485.13 128.319 Z\" fill=\"#000000\" fill-rule=\"evenodd\" fill-opacity=\"1\" /><path clip-path=\"url(#clip680)\" d=\"M518.486 143.389 Q520.083 140.518 522.305 139.153 Q524.528 137.787 527.537 137.787 Q531.588 137.787 533.787 140.634 Q535.986 143.458 535.986 148.689 L535.986 164.338 L531.703 164.338 L531.703 148.828 Q531.703 145.102 530.384 143.296 Q529.065 141.49 526.356 141.49 Q523.046 141.49 521.125 143.69 Q519.203 145.889 519.203 149.685 L519.203 164.338 L514.921 164.338 L514.921 148.828 Q514.921 145.078 513.602 143.296 Q512.282 141.49 509.528 141.49 Q506.264 141.49 504.342 143.713 Q502.421 145.912 502.421 149.685 L502.421 164.338 L498.139 164.338 L498.139 138.412 L502.421 138.412 L502.421 142.44 Q503.879 140.055 505.917 138.921 Q507.954 137.787 510.754 137.787 Q513.579 137.787 515.546 139.222 Q517.537 140.657 518.486 143.389 Z\" fill=\"#000000\" fill-rule=\"evenodd\" fill-opacity=\"1\" /><path clip-path=\"url(#clip680)\" d=\"M556.263 151.305 Q551.101 151.305 549.111 152.486 Q547.12 153.666 547.12 156.514 Q547.12 158.782 548.601 160.125 Q550.106 161.444 552.676 161.444 Q556.217 161.444 558.347 158.944 Q560.5 156.421 560.5 152.254 L560.5 151.305 L556.263 151.305 M564.759 149.546 L564.759 164.338 L560.5 164.338 L560.5 160.402 Q559.041 162.763 556.865 163.898 Q554.689 165.009 551.541 165.009 Q547.56 165.009 545.199 162.787 Q542.861 160.541 542.861 156.791 Q542.861 152.416 545.777 150.194 Q548.717 147.972 554.527 147.972 L560.5 147.972 L560.5 147.555 Q560.5 144.615 558.555 143.018 Q556.634 141.398 553.138 141.398 Q550.916 141.398 548.81 141.93 Q546.703 142.463 544.759 143.527 L544.759 139.592 Q547.097 138.69 549.296 138.25 Q551.495 137.787 553.578 137.787 Q559.203 137.787 561.981 140.703 Q564.759 143.62 564.759 149.546 Z\" fill=\"#000000\" fill-rule=\"evenodd\" fill-opacity=\"1\" /><path clip-path=\"url(#clip680)\" d=\"M577.745 131.051 L577.745 138.412 L586.518 138.412 L586.518 141.722 L577.745 141.722 L577.745 155.796 Q577.745 158.967 578.601 159.87 Q579.481 160.773 582.143 160.773 L586.518 160.773 L586.518 164.338 L582.143 164.338 Q577.212 164.338 575.337 162.509 Q573.462 160.657 573.462 155.796 L573.462 141.722 L570.337 141.722 L570.337 138.412 L573.462 138.412 L573.462 131.051 L577.745 131.051 Z\" fill=\"#000000\" fill-rule=\"evenodd\" fill-opacity=\"1\" /><path clip-path=\"url(#clip680)\" d=\"M614.296 150.31 L614.296 152.393 L594.712 152.393 Q594.99 156.791 597.351 159.106 Q599.735 161.398 603.972 161.398 Q606.425 161.398 608.717 160.796 Q611.032 160.194 613.3 158.99 L613.3 163.018 Q611.009 163.99 608.601 164.5 Q606.194 165.009 603.717 165.009 Q597.513 165.009 593.879 161.398 Q590.268 157.787 590.268 151.629 Q590.268 145.264 593.694 141.537 Q597.143 137.787 602.976 137.787 Q608.208 137.787 611.24 141.166 Q614.296 144.523 614.296 150.31 M610.036 149.06 Q609.99 145.565 608.069 143.481 Q606.171 141.398 603.022 141.398 Q599.458 141.398 597.305 143.412 Q595.175 145.426 594.851 149.083 L610.036 149.06 Z\" fill=\"#000000\" fill-rule=\"evenodd\" fill-opacity=\"1\" /><path clip-path=\"url(#clip680)\" d=\"M638.346 142.347 L638.346 128.319 L642.606 128.319 L642.606 164.338 L638.346 164.338 L638.346 160.449 Q637.004 162.763 634.944 163.898 Q632.907 165.009 630.036 165.009 Q625.337 165.009 622.374 161.259 Q619.434 157.509 619.434 151.398 Q619.434 145.287 622.374 141.537 Q625.337 137.787 630.036 137.787 Q632.907 137.787 634.944 138.921 Q637.004 140.032 638.346 142.347 M623.833 151.398 Q623.833 156.097 625.754 158.782 Q627.698 161.444 631.078 161.444 Q634.457 161.444 636.402 158.782 Q638.346 156.097 638.346 151.398 Q638.346 146.699 636.402 144.037 Q634.457 141.352 631.078 141.352 Q627.698 141.352 625.754 144.037 Q623.833 146.699 623.833 151.398 Z\" fill=\"#000000\" fill-rule=\"evenodd\" fill-opacity=\"1\" /><path clip-path=\"url(#clip680)\" d=\"M682.976 139.176 L682.976 143.203 Q681.17 142.277 679.226 141.815 Q677.281 141.352 675.198 141.352 Q672.027 141.352 670.43 142.324 Q668.855 143.296 668.855 145.24 Q668.855 146.722 669.99 147.578 Q671.124 148.412 674.55 149.176 L676.008 149.5 Q680.545 150.472 682.443 152.254 Q684.365 154.014 684.365 157.185 Q684.365 160.796 681.494 162.902 Q678.647 165.009 673.647 165.009 Q671.564 165.009 669.295 164.592 Q667.05 164.199 664.55 163.388 L664.55 158.99 Q666.911 160.217 669.203 160.842 Q671.494 161.444 673.74 161.444 Q676.749 161.444 678.369 160.426 Q679.99 159.384 679.99 157.509 Q679.99 155.773 678.809 154.847 Q677.652 153.921 673.693 153.064 L672.212 152.717 Q668.254 151.884 666.494 150.171 Q664.735 148.435 664.735 145.426 Q664.735 141.768 667.328 139.778 Q669.92 137.787 674.689 137.787 Q677.05 137.787 679.133 138.134 Q681.216 138.481 682.976 139.176 Z\" fill=\"#000000\" fill-rule=\"evenodd\" fill-opacity=\"1\" /><path clip-path=\"url(#clip680)\" d=\"M691.147 138.412 L695.406 138.412 L695.406 164.338 L691.147 164.338 L691.147 138.412 M691.147 128.319 L695.406 128.319 L695.406 133.713 L691.147 133.713 L691.147 128.319 Z\" fill=\"#000000\" fill-rule=\"evenodd\" fill-opacity=\"1\" /><path clip-path=\"url(#clip680)\" d=\"M721.378 151.074 Q721.378 146.444 719.457 143.898 Q717.559 141.352 714.11 141.352 Q710.684 141.352 708.763 143.898 Q706.865 146.444 706.865 151.074 Q706.865 155.68 708.763 158.226 Q710.684 160.773 714.11 160.773 Q717.559 160.773 719.457 158.226 Q721.378 155.68 721.378 151.074 M725.638 161.12 Q725.638 167.74 722.698 170.958 Q719.758 174.199 713.693 174.199 Q711.448 174.199 709.457 173.851 Q707.466 173.527 705.591 172.833 L705.591 168.689 Q707.466 169.708 709.295 170.194 Q711.124 170.68 713.022 170.68 Q717.212 170.68 719.295 168.481 Q721.378 166.305 721.378 161.884 L721.378 159.777 Q720.059 162.069 717.999 163.203 Q715.939 164.338 713.068 164.338 Q708.3 164.338 705.383 160.703 Q702.466 157.069 702.466 151.074 Q702.466 145.055 705.383 141.421 Q708.3 137.787 713.068 137.787 Q715.939 137.787 717.999 138.921 Q720.059 140.055 721.378 142.347 L721.378 138.412 L725.638 138.412 L725.638 161.12 Z\" fill=\"#000000\" fill-rule=\"evenodd\" fill-opacity=\"1\" /><path clip-path=\"url(#clip680)\" d=\"M755.961 148.689 L755.961 164.338 L751.702 164.338 L751.702 148.828 Q751.702 145.148 750.267 143.319 Q748.832 141.49 745.962 141.49 Q742.512 141.49 740.522 143.69 Q738.531 145.889 738.531 149.685 L738.531 164.338 L734.249 164.338 L734.249 138.412 L738.531 138.412 L738.531 142.44 Q740.059 140.102 742.119 138.944 Q744.202 137.787 746.911 137.787 Q751.378 137.787 753.67 140.565 Q755.961 143.319 755.961 148.689 Z\" fill=\"#000000\" fill-rule=\"evenodd\" fill-opacity=\"1\" /><path clip-path=\"url(#clip680)\" d=\"M776.239 151.305 Q771.077 151.305 769.086 152.486 Q767.096 153.666 767.096 156.514 Q767.096 158.782 768.577 160.125 Q770.082 161.444 772.651 161.444 Q776.193 161.444 778.322 158.944 Q780.475 156.421 780.475 152.254 L780.475 151.305 L776.239 151.305 M784.734 149.546 L784.734 164.338 L780.475 164.338 L780.475 160.402 Q779.017 162.763 776.841 163.898 Q774.665 165.009 771.517 165.009 Q767.535 165.009 765.174 162.787 Q762.836 160.541 762.836 156.791 Q762.836 152.416 765.753 150.194 Q768.693 147.972 774.503 147.972 L780.475 147.972 L780.475 147.555 Q780.475 144.615 778.531 143.018 Q776.61 141.398 773.114 141.398 Q770.892 141.398 768.785 141.93 Q766.679 142.463 764.735 143.527 L764.735 139.592 Q767.073 138.69 769.272 138.25 Q771.471 137.787 773.554 137.787 Q779.179 137.787 781.957 140.703 Q784.734 143.62 784.734 149.546 Z\" fill=\"#000000\" fill-rule=\"evenodd\" fill-opacity=\"1\" /><path clip-path=\"url(#clip680)\" d=\"M793.508 128.319 L797.767 128.319 L797.767 164.338 L793.508 164.338 L793.508 128.319 Z\" fill=\"#000000\" fill-rule=\"evenodd\" fill-opacity=\"1\" /><polyline clip-path=\"url(#clip680)\" style=\"stroke:#e26f46; stroke-linecap:round; stroke-linejoin:round; stroke-width:4; stroke-opacity:1; fill:none\" points=\"\n",
       "  240.115,198.898 387.509,198.898 \n",
       "  \"/>\n",
       "<path clip-path=\"url(#clip680)\" d=\"M412.074 181.618 L416.75 181.618 L416.75 195.784 L433.741 195.784 L433.741 181.618 L438.417 181.618 L438.417 216.178 L433.741 216.178 L433.741 199.719 L416.75 199.719 L416.75 216.178 L412.074 216.178 L412.074 181.618 Z\" fill=\"#000000\" fill-rule=\"evenodd\" fill-opacity=\"1\" /><path clip-path=\"url(#clip680)\" d=\"M447.537 190.252 L451.796 190.252 L451.796 216.178 L447.537 216.178 L447.537 190.252 M447.537 180.159 L451.796 180.159 L451.796 185.553 L447.537 185.553 L447.537 180.159 Z\" fill=\"#000000\" fill-rule=\"evenodd\" fill-opacity=\"1\" /><path clip-path=\"url(#clip680)\" d=\"M477.769 194.187 L477.769 180.159 L482.028 180.159 L482.028 216.178 L477.769 216.178 L477.769 212.289 Q476.426 214.603 474.366 215.738 Q472.329 216.849 469.458 216.849 Q464.759 216.849 461.796 213.099 Q458.857 209.349 458.857 203.238 Q458.857 197.127 461.796 193.377 Q464.759 189.627 469.458 189.627 Q472.329 189.627 474.366 190.761 Q476.426 191.872 477.769 194.187 M463.255 203.238 Q463.255 207.937 465.176 210.622 Q467.12 213.284 470.5 213.284 Q473.88 213.284 475.824 210.622 Q477.769 207.937 477.769 203.238 Q477.769 198.539 475.824 195.877 Q473.88 193.192 470.5 193.192 Q467.12 193.192 465.176 195.877 Q463.255 198.539 463.255 203.238 Z\" fill=\"#000000\" fill-rule=\"evenodd\" fill-opacity=\"1\" /><path clip-path=\"url(#clip680)\" d=\"M507.861 194.187 L507.861 180.159 L512.12 180.159 L512.12 216.178 L507.861 216.178 L507.861 212.289 Q506.518 214.603 504.458 215.738 Q502.421 216.849 499.551 216.849 Q494.852 216.849 491.889 213.099 Q488.949 209.349 488.949 203.238 Q488.949 197.127 491.889 193.377 Q494.852 189.627 499.551 189.627 Q502.421 189.627 504.458 190.761 Q506.518 191.872 507.861 194.187 M493.347 203.238 Q493.347 207.937 495.268 210.622 Q497.213 213.284 500.592 213.284 Q503.972 213.284 505.917 210.622 Q507.861 207.937 507.861 203.238 Q507.861 198.539 505.917 195.877 Q503.972 193.192 500.592 193.192 Q497.213 193.192 495.268 195.877 Q493.347 198.539 493.347 203.238 Z\" fill=\"#000000\" fill-rule=\"evenodd\" fill-opacity=\"1\" /><path clip-path=\"url(#clip680)\" d=\"M543.069 202.15 L543.069 204.233 L523.486 204.233 Q523.764 208.631 526.125 210.946 Q528.509 213.238 532.745 213.238 Q535.199 213.238 537.49 212.636 Q539.805 212.034 542.074 210.83 L542.074 214.858 Q539.782 215.83 537.375 216.34 Q534.967 216.849 532.49 216.849 Q526.287 216.849 522.653 213.238 Q519.041 209.627 519.041 203.469 Q519.041 197.104 522.467 193.377 Q525.916 189.627 531.75 189.627 Q536.981 189.627 540.014 193.006 Q543.069 196.363 543.069 202.15 M538.81 200.9 Q538.764 197.405 536.842 195.321 Q534.944 193.238 531.796 193.238 Q528.231 193.238 526.078 195.252 Q523.949 197.266 523.625 200.923 L538.81 200.9 Z\" fill=\"#000000\" fill-rule=\"evenodd\" fill-opacity=\"1\" /><path clip-path=\"url(#clip680)\" d=\"M571.611 200.529 L571.611 216.178 L567.351 216.178 L567.351 200.668 Q567.351 196.988 565.916 195.159 Q564.481 193.33 561.611 193.33 Q558.162 193.33 556.171 195.53 Q554.18 197.729 554.18 201.525 L554.18 216.178 L549.898 216.178 L549.898 190.252 L554.18 190.252 L554.18 194.28 Q555.708 191.942 557.768 190.784 Q559.851 189.627 562.56 189.627 Q567.027 189.627 569.319 192.405 Q571.611 195.159 571.611 200.529 Z\" fill=\"#000000\" fill-rule=\"evenodd\" fill-opacity=\"1\" /><path clip-path=\"url(#clip680)\" d=\"M611.703 191.016 L611.703 195.043 Q609.897 194.117 607.953 193.655 Q606.009 193.192 603.925 193.192 Q600.754 193.192 599.157 194.164 Q597.583 195.136 597.583 197.08 Q597.583 198.562 598.717 199.418 Q599.851 200.252 603.277 201.016 L604.735 201.34 Q609.272 202.312 611.171 204.094 Q613.092 205.854 613.092 209.025 Q613.092 212.636 610.222 214.742 Q607.374 216.849 602.374 216.849 Q600.291 216.849 598.022 216.432 Q595.777 216.039 593.277 215.228 L593.277 210.83 Q595.638 212.057 597.93 212.682 Q600.222 213.284 602.467 213.284 Q605.476 213.284 607.097 212.266 Q608.717 211.224 608.717 209.349 Q608.717 207.613 607.536 206.687 Q606.379 205.761 602.421 204.904 L600.939 204.557 Q596.981 203.724 595.222 202.011 Q593.462 200.275 593.462 197.266 Q593.462 193.608 596.055 191.618 Q598.647 189.627 603.416 189.627 Q605.777 189.627 607.86 189.974 Q609.944 190.321 611.703 191.016 Z\" fill=\"#000000\" fill-rule=\"evenodd\" fill-opacity=\"1\" /><path clip-path=\"url(#clip680)\" d=\"M619.874 190.252 L624.133 190.252 L624.133 216.178 L619.874 216.178 L619.874 190.252 M619.874 180.159 L624.133 180.159 L624.133 185.553 L619.874 185.553 L619.874 180.159 Z\" fill=\"#000000\" fill-rule=\"evenodd\" fill-opacity=\"1\" /><path clip-path=\"url(#clip680)\" d=\"M650.106 202.914 Q650.106 198.284 648.184 195.738 Q646.286 193.192 642.837 193.192 Q639.411 193.192 637.49 195.738 Q635.592 198.284 635.592 202.914 Q635.592 207.52 637.49 210.066 Q639.411 212.613 642.837 212.613 Q646.286 212.613 648.184 210.066 Q650.106 207.52 650.106 202.914 M654.365 212.96 Q654.365 219.58 651.425 222.798 Q648.485 226.039 642.42 226.039 Q640.175 226.039 638.184 225.691 Q636.194 225.367 634.319 224.673 L634.319 220.529 Q636.194 221.548 638.022 222.034 Q639.851 222.52 641.749 222.52 Q645.939 222.52 648.022 220.321 Q650.106 218.145 650.106 213.724 L650.106 211.617 Q648.786 213.909 646.726 215.043 Q644.666 216.178 641.795 216.178 Q637.027 216.178 634.11 212.543 Q631.194 208.909 631.194 202.914 Q631.194 196.895 634.11 193.261 Q637.027 189.627 641.795 189.627 Q644.666 189.627 646.726 190.761 Q648.786 191.895 650.106 194.187 L650.106 190.252 L654.365 190.252 L654.365 212.96 Z\" fill=\"#000000\" fill-rule=\"evenodd\" fill-opacity=\"1\" /><path clip-path=\"url(#clip680)\" d=\"M684.689 200.529 L684.689 216.178 L680.429 216.178 L680.429 200.668 Q680.429 196.988 678.994 195.159 Q677.559 193.33 674.689 193.33 Q671.24 193.33 669.249 195.53 Q667.258 197.729 667.258 201.525 L667.258 216.178 L662.976 216.178 L662.976 190.252 L667.258 190.252 L667.258 194.28 Q668.786 191.942 670.846 190.784 Q672.93 189.627 675.638 189.627 Q680.105 189.627 682.397 192.405 Q684.689 195.159 684.689 200.529 Z\" fill=\"#000000\" fill-rule=\"evenodd\" fill-opacity=\"1\" /><path clip-path=\"url(#clip680)\" d=\"M704.966 203.145 Q699.804 203.145 697.814 204.326 Q695.823 205.506 695.823 208.354 Q695.823 210.622 697.304 211.965 Q698.809 213.284 701.378 213.284 Q704.92 213.284 707.05 210.784 Q709.202 208.261 709.202 204.094 L709.202 203.145 L704.966 203.145 M713.462 201.386 L713.462 216.178 L709.202 216.178 L709.202 212.242 Q707.744 214.603 705.568 215.738 Q703.392 216.849 700.244 216.849 Q696.263 216.849 693.902 214.627 Q691.564 212.381 691.564 208.631 Q691.564 204.256 694.48 202.034 Q697.42 199.812 703.23 199.812 L709.202 199.812 L709.202 199.395 Q709.202 196.455 707.258 194.858 Q705.337 193.238 701.841 193.238 Q699.619 193.238 697.513 193.77 Q695.406 194.303 693.462 195.367 L693.462 191.432 Q695.8 190.53 697.999 190.09 Q700.198 189.627 702.281 189.627 Q707.906 189.627 710.684 192.543 Q713.462 195.46 713.462 201.386 Z\" fill=\"#000000\" fill-rule=\"evenodd\" fill-opacity=\"1\" /><path clip-path=\"url(#clip680)\" d=\"M722.235 180.159 L726.494 180.159 L726.494 216.178 L722.235 216.178 L722.235 180.159 Z\" fill=\"#000000\" fill-rule=\"evenodd\" fill-opacity=\"1\" /><circle clip-path=\"url(#clip680)\" cx=\"313.812\" cy=\"250.738\" r=\"23.04\" fill=\"#3da44d\" fill-rule=\"evenodd\" fill-opacity=\"1\" stroke=\"#000000\" stroke-opacity=\"1\" stroke-width=\"5.12\"/>\n",
       "<path clip-path=\"url(#clip680)\" d=\"M428.093 236.629 Q423 236.629 419.991 240.425 Q417.005 244.221 417.005 250.772 Q417.005 257.3 419.991 261.096 Q423 264.893 428.093 264.893 Q433.185 264.893 436.148 261.096 Q439.134 257.3 439.134 250.772 Q439.134 244.221 436.148 240.425 Q433.185 236.629 428.093 236.629 M428.093 232.833 Q435.361 232.833 439.713 237.717 Q444.065 242.578 444.065 250.772 Q444.065 258.944 439.713 263.828 Q435.361 268.689 428.093 268.689 Q420.801 268.689 416.426 263.828 Q412.074 258.967 412.074 250.772 Q412.074 242.578 416.426 237.717 Q420.801 232.833 428.093 232.833 Z\" fill=\"#000000\" fill-rule=\"evenodd\" fill-opacity=\"1\" /><path clip-path=\"url(#clip680)\" d=\"M469.806 255.078 Q469.806 250.379 467.861 247.717 Q465.94 245.032 462.56 245.032 Q459.181 245.032 457.236 247.717 Q455.315 250.379 455.315 255.078 Q455.315 259.777 457.236 262.462 Q459.181 265.124 462.56 265.124 Q465.94 265.124 467.861 262.462 Q469.806 259.777 469.806 255.078 M455.315 246.027 Q456.658 243.712 458.695 242.601 Q460.755 241.467 463.602 241.467 Q468.324 241.467 471.264 245.217 Q474.227 248.967 474.227 255.078 Q474.227 261.189 471.264 264.939 Q468.324 268.689 463.602 268.689 Q460.755 268.689 458.695 267.578 Q456.658 266.443 455.315 264.129 L455.315 268.018 L451.033 268.018 L451.033 231.999 L455.315 231.999 L455.315 246.027 Z\" fill=\"#000000\" fill-rule=\"evenodd\" fill-opacity=\"1\" /><path clip-path=\"url(#clip680)\" d=\"M497.815 242.856 L497.815 246.883 Q496.009 245.957 494.065 245.495 Q492.12 245.032 490.037 245.032 Q486.866 245.032 485.268 246.004 Q483.694 246.976 483.694 248.92 Q483.694 250.402 484.829 251.258 Q485.963 252.092 489.389 252.856 L490.847 253.18 Q495.384 254.152 497.282 255.934 Q499.204 257.694 499.204 260.865 Q499.204 264.476 496.333 266.582 Q493.486 268.689 488.486 268.689 Q486.403 268.689 484.134 268.272 Q481.889 267.879 479.389 267.068 L479.389 262.67 Q481.75 263.897 484.042 264.522 Q486.333 265.124 488.579 265.124 Q491.588 265.124 493.208 264.106 Q494.829 263.064 494.829 261.189 Q494.829 259.453 493.648 258.527 Q492.491 257.601 488.532 256.744 L487.051 256.397 Q483.093 255.564 481.333 253.851 Q479.574 252.115 479.574 249.106 Q479.574 245.448 482.167 243.458 Q484.759 241.467 489.528 241.467 Q491.889 241.467 493.972 241.814 Q496.055 242.161 497.815 242.856 Z\" fill=\"#000000\" fill-rule=\"evenodd\" fill-opacity=\"1\" /><path clip-path=\"url(#clip680)\" d=\"M528.162 253.99 L528.162 256.073 L508.579 256.073 Q508.856 260.471 511.217 262.786 Q513.602 265.078 517.838 265.078 Q520.291 265.078 522.583 264.476 Q524.898 263.874 527.166 262.67 L527.166 266.698 Q524.875 267.67 522.467 268.18 Q520.06 268.689 517.583 268.689 Q511.379 268.689 507.745 265.078 Q504.134 261.467 504.134 255.309 Q504.134 248.944 507.56 245.217 Q511.009 241.467 516.842 241.467 Q522.074 241.467 525.106 244.846 Q528.162 248.203 528.162 253.99 M523.903 252.74 Q523.856 249.245 521.935 247.161 Q520.037 245.078 516.889 245.078 Q513.324 245.078 511.171 247.092 Q509.041 249.106 508.717 252.763 L523.903 252.74 Z\" fill=\"#000000\" fill-rule=\"evenodd\" fill-opacity=\"1\" /><path clip-path=\"url(#clip680)\" d=\"M550.176 246.073 Q549.458 245.657 548.601 245.471 Q547.768 245.263 546.75 245.263 Q543.139 245.263 541.194 247.624 Q539.273 249.962 539.273 254.36 L539.273 268.018 L534.99 268.018 L534.99 242.092 L539.273 242.092 L539.273 246.12 Q540.615 243.758 542.768 242.624 Q544.921 241.467 548 241.467 Q548.439 241.467 548.972 241.536 Q549.504 241.583 550.152 241.698 L550.176 246.073 Z\" fill=\"#000000\" fill-rule=\"evenodd\" fill-opacity=\"1\" /><path clip-path=\"url(#clip680)\" d=\"M551.588 242.092 L556.101 242.092 L564.203 263.851 L572.305 242.092 L576.819 242.092 L567.097 268.018 L561.31 268.018 L551.588 242.092 Z\" fill=\"#000000\" fill-rule=\"evenodd\" fill-opacity=\"1\" /><path clip-path=\"url(#clip680)\" d=\"M594.481 254.985 Q589.319 254.985 587.328 256.166 Q585.337 257.346 585.337 260.194 Q585.337 262.462 586.819 263.805 Q588.323 265.124 590.893 265.124 Q594.435 265.124 596.564 262.624 Q598.717 260.101 598.717 255.934 L598.717 254.985 L594.481 254.985 M602.976 253.226 L602.976 268.018 L598.717 268.018 L598.717 264.082 Q597.259 266.443 595.083 267.578 Q592.907 268.689 589.759 268.689 Q585.777 268.689 583.416 266.467 Q581.078 264.221 581.078 260.471 Q581.078 256.096 583.995 253.874 Q586.935 251.652 592.745 251.652 L598.717 251.652 L598.717 251.235 Q598.717 248.295 596.773 246.698 Q594.851 245.078 591.356 245.078 Q589.134 245.078 587.027 245.61 Q584.921 246.143 582.976 247.207 L582.976 243.272 Q585.314 242.37 587.513 241.93 Q589.712 241.467 591.796 241.467 Q597.421 241.467 600.198 244.383 Q602.976 247.3 602.976 253.226 Z\" fill=\"#000000\" fill-rule=\"evenodd\" fill-opacity=\"1\" /><path clip-path=\"url(#clip680)\" d=\"M615.962 234.731 L615.962 242.092 L624.735 242.092 L624.735 245.402 L615.962 245.402 L615.962 259.476 Q615.962 262.647 616.819 263.55 Q617.698 264.453 620.36 264.453 L624.735 264.453 L624.735 268.018 L620.36 268.018 Q615.43 268.018 613.555 266.189 Q611.68 264.337 611.68 259.476 L611.68 245.402 L608.555 245.402 L608.555 242.092 L611.68 242.092 L611.68 234.731 L615.962 234.731 Z\" fill=\"#000000\" fill-rule=\"evenodd\" fill-opacity=\"1\" /><path clip-path=\"url(#clip680)\" d=\"M630.337 242.092 L634.596 242.092 L634.596 268.018 L630.337 268.018 L630.337 242.092 M630.337 231.999 L634.596 231.999 L634.596 237.393 L630.337 237.393 L630.337 231.999 Z\" fill=\"#000000\" fill-rule=\"evenodd\" fill-opacity=\"1\" /><path clip-path=\"url(#clip680)\" d=\"M653.555 245.078 Q650.129 245.078 648.138 247.763 Q646.147 250.425 646.147 255.078 Q646.147 259.731 648.115 262.416 Q650.106 265.078 653.555 265.078 Q656.957 265.078 658.948 262.393 Q660.939 259.707 660.939 255.078 Q660.939 250.471 658.948 247.786 Q656.957 245.078 653.555 245.078 M653.555 241.467 Q659.11 241.467 662.281 245.078 Q665.453 248.689 665.453 255.078 Q665.453 261.444 662.281 265.078 Q659.11 268.689 653.555 268.689 Q647.976 268.689 644.805 265.078 Q641.657 261.444 641.657 255.078 Q641.657 248.689 644.805 245.078 Q647.976 241.467 653.555 241.467 Z\" fill=\"#000000\" fill-rule=\"evenodd\" fill-opacity=\"1\" /><path clip-path=\"url(#clip680)\" d=\"M694.064 252.369 L694.064 268.018 L689.804 268.018 L689.804 252.508 Q689.804 248.828 688.369 246.999 Q686.934 245.17 684.064 245.17 Q680.615 245.17 678.624 247.37 Q676.633 249.569 676.633 253.365 L676.633 268.018 L672.351 268.018 L672.351 242.092 L676.633 242.092 L676.633 246.12 Q678.161 243.782 680.221 242.624 Q682.304 241.467 685.013 241.467 Q689.48 241.467 691.772 244.245 Q694.064 246.999 694.064 252.369 Z\" fill=\"#000000\" fill-rule=\"evenodd\" fill-opacity=\"1\" /><path clip-path=\"url(#clip680)\" d=\"M719.087 242.856 L719.087 246.883 Q717.281 245.957 715.337 245.495 Q713.392 245.032 711.309 245.032 Q708.138 245.032 706.54 246.004 Q704.966 246.976 704.966 248.92 Q704.966 250.402 706.101 251.258 Q707.235 252.092 710.661 252.856 L712.119 253.18 Q716.656 254.152 718.554 255.934 Q720.476 257.694 720.476 260.865 Q720.476 264.476 717.605 266.582 Q714.758 268.689 709.758 268.689 Q707.675 268.689 705.406 268.272 Q703.161 267.879 700.661 267.068 L700.661 262.67 Q703.022 263.897 705.314 264.522 Q707.605 265.124 709.851 265.124 Q712.86 265.124 714.48 264.106 Q716.101 263.064 716.101 261.189 Q716.101 259.453 714.92 258.527 Q713.763 257.601 709.804 256.744 L708.323 256.397 Q704.365 255.564 702.605 253.851 Q700.846 252.115 700.846 249.106 Q700.846 245.448 703.439 243.458 Q706.031 241.467 710.8 241.467 Q713.161 241.467 715.244 241.814 Q717.327 242.161 719.087 242.856 Z\" fill=\"#000000\" fill-rule=\"evenodd\" fill-opacity=\"1\" /></svg>\n"
      ]
     },
     "execution_count": 7,
     "metadata": {},
     "output_type": "execute_result"
    }
   ],
   "source": [
    "let \n",
    "    results = result_filtering.history[:x_next]\n",
    "    subrange = 1:50\n",
    "    \n",
    "    m = mean.(results)[subrange]\n",
    "    s = std.(results)[subrange]\n",
    "    \n",
    "    p = plot()\n",
    "    \n",
    "    p = plot!(subrange, m, ribbon = s, label = \"Estimated signal\")\n",
    "    p = plot!(subrange, hidden[subrange], label = \"Hidden signal\")\n",
    "    p = scatter!(subrange, data[subrange], label = \"Observations\")\n",
    "    \n",
    "    plot(p)\n",
    "end"
   ]
  },
  {
   "cell_type": "markdown",
   "metadata": {},
   "source": [
    "## Smoothing"
   ]
  },
  {
   "cell_type": "code",
   "execution_count": 8,
   "metadata": {},
   "outputs": [],
   "source": [
    "@model function smoothing(n; c::ConstVariable, v::ConstVariable)\n",
    "    \n",
    "    x_prior ~ Normal(mean = 0.0, variance = 10000.0) \n",
    "\n",
    "    x = randomvar(n)\n",
    "    y = datavar(Float64, n)\n",
    "    \n",
    "    x_prev = x_prior\n",
    "    \n",
    "    for i in 1:n\n",
    "        x[i] ~ x_prev + c\n",
    "        y[i] ~ Normal(mean = x[i], variance = v)\n",
    "        x_prev = x[i]\n",
    "    end\n",
    "    \n",
    "    return x, y\n",
    "end"
   ]
  },
  {
   "cell_type": "code",
   "execution_count": 9,
   "metadata": {},
   "outputs": [
    {
     "data": {
      "text/plain": [
       "run_smoothing (generic function with 1 method)"
      ]
     },
     "execution_count": 9,
     "metadata": {},
     "output_type": "execute_result"
    }
   ],
   "source": [
    "function run_smoothing(data, n, v)\n",
    "    return inference(\n",
    "        model = smoothing(n, c = 1.0, v = v), \n",
    "        data  = (y = data, ), \n",
    "        returnvars = KeepLast(),\n",
    "        free_energy = true,\n",
    "        postprocess = UnpackMarginalPostprocess()\n",
    "    )\n",
    "end"
   ]
  },
  {
   "cell_type": "code",
   "execution_count": 10,
   "metadata": {},
   "outputs": [
    {
     "data": {
      "text/plain": [
       "Inference results:\n",
       "  Posteriors       | available for (x_prior, x)\n",
       "  Free Energy:     | Real[1896.16]\n"
      ]
     },
     "execution_count": 10,
     "metadata": {},
     "output_type": "execute_result"
    }
   ],
   "source": [
    "result_smoothing = run_smoothing(data, n, v)"
   ]
  },
  {
   "cell_type": "code",
   "execution_count": 11,
   "metadata": {},
   "outputs": [
    {
     "data": {
      "image/svg+xml": [
       "<?xml version=\"1.0\" encoding=\"utf-8\"?>\n",
       "<svg xmlns=\"http://www.w3.org/2000/svg\" xmlns:xlink=\"http://www.w3.org/1999/xlink\" width=\"600\" height=\"400\" viewBox=\"0 0 2400 1600\">\n",
       "<defs>\n",
       "  <clipPath id=\"clip720\">\n",
       "    <rect x=\"0\" y=\"0\" width=\"2400\" height=\"1600\"/>\n",
       "  </clipPath>\n",
       "</defs>\n",
       "<path clip-path=\"url(#clip720)\" d=\"\n",
       "M0 1600 L2400 1600 L2400 0 L0 0  Z\n",
       "  \" fill=\"#ffffff\" fill-rule=\"evenodd\" fill-opacity=\"1\"/>\n",
       "<defs>\n",
       "  <clipPath id=\"clip721\">\n",
       "    <rect x=\"480\" y=\"0\" width=\"1681\" height=\"1600\"/>\n",
       "  </clipPath>\n",
       "</defs>\n",
       "<path clip-path=\"url(#clip720)\" d=\"\n",
       "M141.853 1486.45 L2352.76 1486.45 L2352.76 47.2441 L141.853 47.2441  Z\n",
       "  \" fill=\"#ffffff\" fill-rule=\"evenodd\" fill-opacity=\"1\"/>\n",
       "<defs>\n",
       "  <clipPath id=\"clip722\">\n",
       "    <rect x=\"141\" y=\"47\" width=\"2212\" height=\"1440\"/>\n",
       "  </clipPath>\n",
       "</defs>\n",
       "<polyline clip-path=\"url(#clip722)\" style=\"stroke:#000000; stroke-linecap:round; stroke-linejoin:round; stroke-width:2; stroke-opacity:0.1; fill:none\" points=\"\n",
       "  161.859,1486.45 161.859,47.2441 \n",
       "  \"/>\n",
       "<polyline clip-path=\"url(#clip722)\" style=\"stroke:#000000; stroke-linecap:round; stroke-linejoin:round; stroke-width:2; stroke-opacity:0.1; fill:none\" points=\"\n",
       "  587.524,1486.45 587.524,47.2441 \n",
       "  \"/>\n",
       "<polyline clip-path=\"url(#clip722)\" style=\"stroke:#000000; stroke-linecap:round; stroke-linejoin:round; stroke-width:2; stroke-opacity:0.1; fill:none\" points=\"\n",
       "  1013.19,1486.45 1013.19,47.2441 \n",
       "  \"/>\n",
       "<polyline clip-path=\"url(#clip722)\" style=\"stroke:#000000; stroke-linecap:round; stroke-linejoin:round; stroke-width:2; stroke-opacity:0.1; fill:none\" points=\"\n",
       "  1438.85,1486.45 1438.85,47.2441 \n",
       "  \"/>\n",
       "<polyline clip-path=\"url(#clip722)\" style=\"stroke:#000000; stroke-linecap:round; stroke-linejoin:round; stroke-width:2; stroke-opacity:0.1; fill:none\" points=\"\n",
       "  1864.52,1486.45 1864.52,47.2441 \n",
       "  \"/>\n",
       "<polyline clip-path=\"url(#clip722)\" style=\"stroke:#000000; stroke-linecap:round; stroke-linejoin:round; stroke-width:2; stroke-opacity:0.1; fill:none\" points=\"\n",
       "  2290.18,1486.45 2290.18,47.2441 \n",
       "  \"/>\n",
       "<polyline clip-path=\"url(#clip720)\" style=\"stroke:#000000; stroke-linecap:round; stroke-linejoin:round; stroke-width:4; stroke-opacity:1; fill:none\" points=\"\n",
       "  141.853,1486.45 2352.76,1486.45 \n",
       "  \"/>\n",
       "<polyline clip-path=\"url(#clip720)\" style=\"stroke:#000000; stroke-linecap:round; stroke-linejoin:round; stroke-width:4; stroke-opacity:1; fill:none\" points=\"\n",
       "  161.859,1486.45 161.859,1467.55 \n",
       "  \"/>\n",
       "<polyline clip-path=\"url(#clip720)\" style=\"stroke:#000000; stroke-linecap:round; stroke-linejoin:round; stroke-width:4; stroke-opacity:1; fill:none\" points=\"\n",
       "  587.524,1486.45 587.524,1467.55 \n",
       "  \"/>\n",
       "<polyline clip-path=\"url(#clip720)\" style=\"stroke:#000000; stroke-linecap:round; stroke-linejoin:round; stroke-width:4; stroke-opacity:1; fill:none\" points=\"\n",
       "  1013.19,1486.45 1013.19,1467.55 \n",
       "  \"/>\n",
       "<polyline clip-path=\"url(#clip720)\" style=\"stroke:#000000; stroke-linecap:round; stroke-linejoin:round; stroke-width:4; stroke-opacity:1; fill:none\" points=\"\n",
       "  1438.85,1486.45 1438.85,1467.55 \n",
       "  \"/>\n",
       "<polyline clip-path=\"url(#clip720)\" style=\"stroke:#000000; stroke-linecap:round; stroke-linejoin:round; stroke-width:4; stroke-opacity:1; fill:none\" points=\"\n",
       "  1864.52,1486.45 1864.52,1467.55 \n",
       "  \"/>\n",
       "<polyline clip-path=\"url(#clip720)\" style=\"stroke:#000000; stroke-linecap:round; stroke-linejoin:round; stroke-width:4; stroke-opacity:1; fill:none\" points=\"\n",
       "  2290.18,1486.45 2290.18,1467.55 \n",
       "  \"/>\n",
       "<path clip-path=\"url(#clip720)\" d=\"M161.859 1517.37 Q158.248 1517.37 156.419 1520.93 Q154.614 1524.47 154.614 1531.6 Q154.614 1538.71 156.419 1542.27 Q158.248 1545.82 161.859 1545.82 Q165.493 1545.82 167.299 1542.27 Q169.128 1538.71 169.128 1531.6 Q169.128 1524.47 167.299 1520.93 Q165.493 1517.37 161.859 1517.37 M161.859 1513.66 Q167.669 1513.66 170.725 1518.27 Q173.804 1522.85 173.804 1531.6 Q173.804 1540.33 170.725 1544.94 Q167.669 1549.52 161.859 1549.52 Q156.049 1549.52 152.97 1544.94 Q149.915 1540.33 149.915 1531.6 Q149.915 1522.85 152.97 1518.27 Q156.049 1513.66 161.859 1513.66 Z\" fill=\"#000000\" fill-rule=\"evenodd\" fill-opacity=\"1\" /><path clip-path=\"url(#clip720)\" d=\"M562.212 1544.91 L569.85 1544.91 L569.85 1518.55 L561.54 1520.21 L561.54 1515.95 L569.804 1514.29 L574.48 1514.29 L574.48 1544.91 L582.119 1544.91 L582.119 1548.85 L562.212 1548.85 L562.212 1544.91 Z\" fill=\"#000000\" fill-rule=\"evenodd\" fill-opacity=\"1\" /><path clip-path=\"url(#clip720)\" d=\"M601.563 1517.37 Q597.952 1517.37 596.123 1520.93 Q594.318 1524.47 594.318 1531.6 Q594.318 1538.71 596.123 1542.27 Q597.952 1545.82 601.563 1545.82 Q605.198 1545.82 607.003 1542.27 Q608.832 1538.71 608.832 1531.6 Q608.832 1524.47 607.003 1520.93 Q605.198 1517.37 601.563 1517.37 M601.563 1513.66 Q607.373 1513.66 610.429 1518.27 Q613.508 1522.85 613.508 1531.6 Q613.508 1540.33 610.429 1544.94 Q607.373 1549.52 601.563 1549.52 Q595.753 1549.52 592.674 1544.94 Q589.619 1540.33 589.619 1531.6 Q589.619 1522.85 592.674 1518.27 Q595.753 1513.66 601.563 1513.66 Z\" fill=\"#000000\" fill-rule=\"evenodd\" fill-opacity=\"1\" /><path clip-path=\"url(#clip720)\" d=\"M991.962 1544.91 L1008.28 1544.91 L1008.28 1548.85 L986.337 1548.85 L986.337 1544.91 Q988.999 1542.16 993.582 1537.53 Q998.189 1532.88 999.369 1531.53 Q1001.61 1529.01 1002.49 1527.27 Q1003.4 1525.51 1003.4 1523.82 Q1003.4 1521.07 1001.45 1519.33 Q999.531 1517.6 996.43 1517.6 Q994.231 1517.6 991.777 1518.36 Q989.346 1519.13 986.569 1520.68 L986.569 1515.95 Q989.393 1514.82 991.846 1514.24 Q994.3 1513.66 996.337 1513.66 Q1001.71 1513.66 1004.9 1516.35 Q1008.1 1519.03 1008.1 1523.52 Q1008.1 1525.65 1007.29 1527.57 Q1006.5 1529.47 1004.39 1532.07 Q1003.81 1532.74 1000.71 1535.95 Q997.61 1539.15 991.962 1544.91 Z\" fill=\"#000000\" fill-rule=\"evenodd\" fill-opacity=\"1\" /><path clip-path=\"url(#clip720)\" d=\"M1028.1 1517.37 Q1024.49 1517.37 1022.66 1520.93 Q1020.85 1524.47 1020.85 1531.6 Q1020.85 1538.71 1022.66 1542.27 Q1024.49 1545.82 1028.1 1545.82 Q1031.73 1545.82 1033.54 1542.27 Q1035.36 1538.71 1035.36 1531.6 Q1035.36 1524.47 1033.54 1520.93 Q1031.73 1517.37 1028.1 1517.37 M1028.1 1513.66 Q1033.91 1513.66 1036.96 1518.27 Q1040.04 1522.85 1040.04 1531.6 Q1040.04 1540.33 1036.96 1544.94 Q1033.91 1549.52 1028.1 1549.52 Q1022.29 1549.52 1019.21 1544.94 Q1016.15 1540.33 1016.15 1531.6 Q1016.15 1522.85 1019.21 1518.27 Q1022.29 1513.66 1028.1 1513.66 Z\" fill=\"#000000\" fill-rule=\"evenodd\" fill-opacity=\"1\" /><path clip-path=\"url(#clip720)\" d=\"M1427.7 1530.21 Q1431.05 1530.93 1432.93 1533.2 Q1434.83 1535.47 1434.83 1538.8 Q1434.83 1543.92 1431.31 1546.72 Q1427.79 1549.52 1421.31 1549.52 Q1419.13 1549.52 1416.82 1549.08 Q1414.53 1548.66 1412.07 1547.81 L1412.07 1543.29 Q1414.02 1544.43 1416.33 1545.01 Q1418.65 1545.58 1421.17 1545.58 Q1425.57 1545.58 1427.86 1543.85 Q1430.17 1542.11 1430.17 1538.8 Q1430.17 1535.75 1428.02 1534.03 Q1425.89 1532.3 1422.07 1532.3 L1418.04 1532.3 L1418.04 1528.45 L1422.26 1528.45 Q1425.71 1528.45 1427.53 1527.09 Q1429.36 1525.7 1429.36 1523.11 Q1429.36 1520.45 1427.46 1519.03 Q1425.59 1517.6 1422.07 1517.6 Q1420.15 1517.6 1417.95 1518.01 Q1415.75 1518.43 1413.11 1519.31 L1413.11 1515.14 Q1415.78 1514.4 1418.09 1514.03 Q1420.43 1513.66 1422.49 1513.66 Q1427.81 1513.66 1430.91 1516.09 Q1434.02 1518.5 1434.02 1522.62 Q1434.02 1525.49 1432.37 1527.48 Q1430.73 1529.45 1427.7 1530.21 Z\" fill=\"#000000\" fill-rule=\"evenodd\" fill-opacity=\"1\" /><path clip-path=\"url(#clip720)\" d=\"M1453.69 1517.37 Q1450.08 1517.37 1448.25 1520.93 Q1446.45 1524.47 1446.45 1531.6 Q1446.45 1538.71 1448.25 1542.27 Q1450.08 1545.82 1453.69 1545.82 Q1457.33 1545.82 1459.13 1542.27 Q1460.96 1538.71 1460.96 1531.6 Q1460.96 1524.47 1459.13 1520.93 Q1457.33 1517.37 1453.69 1517.37 M1453.69 1513.66 Q1459.5 1513.66 1462.56 1518.27 Q1465.64 1522.85 1465.64 1531.6 Q1465.64 1540.33 1462.56 1544.94 Q1459.5 1549.52 1453.69 1549.52 Q1447.88 1549.52 1444.8 1544.94 Q1441.75 1540.33 1441.75 1531.6 Q1441.75 1522.85 1444.8 1518.27 Q1447.88 1513.66 1453.69 1513.66 Z\" fill=\"#000000\" fill-rule=\"evenodd\" fill-opacity=\"1\" /><path clip-path=\"url(#clip720)\" d=\"M1852.69 1518.36 L1840.88 1536.81 L1852.69 1536.81 L1852.69 1518.36 M1851.46 1514.29 L1857.34 1514.29 L1857.34 1536.81 L1862.27 1536.81 L1862.27 1540.7 L1857.34 1540.7 L1857.34 1548.85 L1852.69 1548.85 L1852.69 1540.7 L1837.09 1540.7 L1837.09 1536.19 L1851.46 1514.29 Z\" fill=\"#000000\" fill-rule=\"evenodd\" fill-opacity=\"1\" /><path clip-path=\"url(#clip720)\" d=\"M1880 1517.37 Q1876.39 1517.37 1874.56 1520.93 Q1872.76 1524.47 1872.76 1531.6 Q1872.76 1538.71 1874.56 1542.27 Q1876.39 1545.82 1880 1545.82 Q1883.64 1545.82 1885.44 1542.27 Q1887.27 1538.71 1887.27 1531.6 Q1887.27 1524.47 1885.44 1520.93 Q1883.64 1517.37 1880 1517.37 M1880 1513.66 Q1885.81 1513.66 1888.87 1518.27 Q1891.95 1522.85 1891.95 1531.6 Q1891.95 1540.33 1888.87 1544.94 Q1885.81 1549.52 1880 1549.52 Q1874.19 1549.52 1871.12 1544.94 Q1868.06 1540.33 1868.06 1531.6 Q1868.06 1522.85 1871.12 1518.27 Q1874.19 1513.66 1880 1513.66 Z\" fill=\"#000000\" fill-rule=\"evenodd\" fill-opacity=\"1\" /><path clip-path=\"url(#clip720)\" d=\"M2264.88 1514.29 L2283.24 1514.29 L2283.24 1518.22 L2269.16 1518.22 L2269.16 1526.7 Q2270.18 1526.35 2271.2 1526.19 Q2272.22 1526 2273.24 1526 Q2279.03 1526 2282.41 1529.17 Q2285.79 1532.34 2285.79 1537.76 Q2285.79 1543.34 2282.31 1546.44 Q2278.84 1549.52 2272.52 1549.52 Q2270.35 1549.52 2268.08 1549.15 Q2265.83 1548.78 2263.42 1548.04 L2263.42 1543.34 Q2265.51 1544.47 2267.73 1545.03 Q2269.95 1545.58 2272.43 1545.58 Q2276.43 1545.58 2278.77 1543.48 Q2281.11 1541.37 2281.11 1537.76 Q2281.11 1534.15 2278.77 1532.04 Q2276.43 1529.94 2272.43 1529.94 Q2270.55 1529.94 2268.68 1530.35 Q2266.83 1530.77 2264.88 1531.65 L2264.88 1514.29 Z\" fill=\"#000000\" fill-rule=\"evenodd\" fill-opacity=\"1\" /><path clip-path=\"url(#clip720)\" d=\"M2305 1517.37 Q2301.39 1517.37 2299.56 1520.93 Q2297.75 1524.47 2297.75 1531.6 Q2297.75 1538.71 2299.56 1542.27 Q2301.39 1545.82 2305 1545.82 Q2308.63 1545.82 2310.44 1542.27 Q2312.27 1538.71 2312.27 1531.6 Q2312.27 1524.47 2310.44 1520.93 Q2308.63 1517.37 2305 1517.37 M2305 1513.66 Q2310.81 1513.66 2313.86 1518.27 Q2316.94 1522.85 2316.94 1531.6 Q2316.94 1540.33 2313.86 1544.94 Q2310.81 1549.52 2305 1549.52 Q2299.19 1549.52 2296.11 1544.94 Q2293.05 1540.33 2293.05 1531.6 Q2293.05 1522.85 2296.11 1518.27 Q2299.19 1513.66 2305 1513.66 Z\" fill=\"#000000\" fill-rule=\"evenodd\" fill-opacity=\"1\" /><polyline clip-path=\"url(#clip722)\" style=\"stroke:#000000; stroke-linecap:round; stroke-linejoin:round; stroke-width:2; stroke-opacity:0.1; fill:none\" points=\"\n",
       "  141.853,1417.77 2352.76,1417.77 \n",
       "  \"/>\n",
       "<polyline clip-path=\"url(#clip722)\" style=\"stroke:#000000; stroke-linecap:round; stroke-linejoin:round; stroke-width:2; stroke-opacity:0.1; fill:none\" points=\"\n",
       "  141.853,1207.75 2352.76,1207.75 \n",
       "  \"/>\n",
       "<polyline clip-path=\"url(#clip722)\" style=\"stroke:#000000; stroke-linecap:round; stroke-linejoin:round; stroke-width:2; stroke-opacity:0.1; fill:none\" points=\"\n",
       "  141.853,997.735 2352.76,997.735 \n",
       "  \"/>\n",
       "<polyline clip-path=\"url(#clip722)\" style=\"stroke:#000000; stroke-linecap:round; stroke-linejoin:round; stroke-width:2; stroke-opacity:0.1; fill:none\" points=\"\n",
       "  141.853,787.717 2352.76,787.717 \n",
       "  \"/>\n",
       "<polyline clip-path=\"url(#clip722)\" style=\"stroke:#000000; stroke-linecap:round; stroke-linejoin:round; stroke-width:2; stroke-opacity:0.1; fill:none\" points=\"\n",
       "  141.853,577.699 2352.76,577.699 \n",
       "  \"/>\n",
       "<polyline clip-path=\"url(#clip722)\" style=\"stroke:#000000; stroke-linecap:round; stroke-linejoin:round; stroke-width:2; stroke-opacity:0.1; fill:none\" points=\"\n",
       "  141.853,367.681 2352.76,367.681 \n",
       "  \"/>\n",
       "<polyline clip-path=\"url(#clip722)\" style=\"stroke:#000000; stroke-linecap:round; stroke-linejoin:round; stroke-width:2; stroke-opacity:0.1; fill:none\" points=\"\n",
       "  141.853,157.664 2352.76,157.664 \n",
       "  \"/>\n",
       "<polyline clip-path=\"url(#clip720)\" style=\"stroke:#000000; stroke-linecap:round; stroke-linejoin:round; stroke-width:4; stroke-opacity:1; fill:none\" points=\"\n",
       "  141.853,1486.45 141.853,47.2441 \n",
       "  \"/>\n",
       "<polyline clip-path=\"url(#clip720)\" style=\"stroke:#000000; stroke-linecap:round; stroke-linejoin:round; stroke-width:4; stroke-opacity:1; fill:none\" points=\"\n",
       "  141.853,1417.77 160.751,1417.77 \n",
       "  \"/>\n",
       "<polyline clip-path=\"url(#clip720)\" style=\"stroke:#000000; stroke-linecap:round; stroke-linejoin:round; stroke-width:4; stroke-opacity:1; fill:none\" points=\"\n",
       "  141.853,1207.75 160.751,1207.75 \n",
       "  \"/>\n",
       "<polyline clip-path=\"url(#clip720)\" style=\"stroke:#000000; stroke-linecap:round; stroke-linejoin:round; stroke-width:4; stroke-opacity:1; fill:none\" points=\"\n",
       "  141.853,997.735 160.751,997.735 \n",
       "  \"/>\n",
       "<polyline clip-path=\"url(#clip720)\" style=\"stroke:#000000; stroke-linecap:round; stroke-linejoin:round; stroke-width:4; stroke-opacity:1; fill:none\" points=\"\n",
       "  141.853,787.717 160.751,787.717 \n",
       "  \"/>\n",
       "<polyline clip-path=\"url(#clip720)\" style=\"stroke:#000000; stroke-linecap:round; stroke-linejoin:round; stroke-width:4; stroke-opacity:1; fill:none\" points=\"\n",
       "  141.853,577.699 160.751,577.699 \n",
       "  \"/>\n",
       "<polyline clip-path=\"url(#clip720)\" style=\"stroke:#000000; stroke-linecap:round; stroke-linejoin:round; stroke-width:4; stroke-opacity:1; fill:none\" points=\"\n",
       "  141.853,367.681 160.751,367.681 \n",
       "  \"/>\n",
       "<polyline clip-path=\"url(#clip720)\" style=\"stroke:#000000; stroke-linecap:round; stroke-linejoin:round; stroke-width:4; stroke-opacity:1; fill:none\" points=\"\n",
       "  141.853,157.664 160.751,157.664 \n",
       "  \"/>\n",
       "<path clip-path=\"url(#clip720)\" d=\"M93.9086 1403.57 Q90.2975 1403.57 88.4688 1407.13 Q86.6632 1410.68 86.6632 1417.81 Q86.6632 1424.91 88.4688 1428.48 Q90.2975 1432.02 93.9086 1432.02 Q97.5428 1432.02 99.3483 1428.48 Q101.177 1424.91 101.177 1417.81 Q101.177 1410.68 99.3483 1407.13 Q97.5428 1403.57 93.9086 1403.57 M93.9086 1399.87 Q99.7187 1399.87 102.774 1404.47 Q105.853 1409.06 105.853 1417.81 Q105.853 1426.53 102.774 1431.14 Q99.7187 1435.72 93.9086 1435.72 Q88.0984 1435.72 85.0197 1431.14 Q81.9642 1426.53 81.9642 1417.81 Q81.9642 1409.06 85.0197 1404.47 Q88.0984 1399.87 93.9086 1399.87 Z\" fill=\"#000000\" fill-rule=\"evenodd\" fill-opacity=\"1\" /><path clip-path=\"url(#clip720)\" d=\"M54.5569 1221.1 L62.1958 1221.1 L62.1958 1194.73 L53.8856 1196.4 L53.8856 1192.14 L62.1495 1190.47 L66.8254 1190.47 L66.8254 1221.1 L74.4642 1221.1 L74.4642 1225.03 L54.5569 1225.03 L54.5569 1221.1 Z\" fill=\"#000000\" fill-rule=\"evenodd\" fill-opacity=\"1\" /><path clip-path=\"url(#clip720)\" d=\"M93.9086 1193.55 Q90.2975 1193.55 88.4688 1197.12 Q86.6632 1200.66 86.6632 1207.79 Q86.6632 1214.89 88.4688 1218.46 Q90.2975 1222 93.9086 1222 Q97.5428 1222 99.3483 1218.46 Q101.177 1214.89 101.177 1207.79 Q101.177 1200.66 99.3483 1197.12 Q97.5428 1193.55 93.9086 1193.55 M93.9086 1189.85 Q99.7187 1189.85 102.774 1194.45 Q105.853 1199.04 105.853 1207.79 Q105.853 1216.51 102.774 1221.12 Q99.7187 1225.7 93.9086 1225.7 Q88.0984 1225.7 85.0197 1221.12 Q81.9642 1216.51 81.9642 1207.79 Q81.9642 1199.04 85.0197 1194.45 Q88.0984 1189.85 93.9086 1189.85 Z\" fill=\"#000000\" fill-rule=\"evenodd\" fill-opacity=\"1\" /><path clip-path=\"url(#clip720)\" d=\"M57.7745 1011.08 L74.0939 1011.08 L74.0939 1015.02 L52.1495 1015.02 L52.1495 1011.08 Q54.8115 1008.33 59.3949 1003.7 Q64.0013 999.043 65.1819 997.7 Q67.4272 995.177 68.3068 993.441 Q69.2096 991.682 69.2096 989.992 Q69.2096 987.237 67.2652 985.501 Q65.3439 983.765 62.2421 983.765 Q60.043 983.765 57.5893 984.529 Q55.1588 985.293 52.381 986.844 L52.381 982.122 Q55.2051 980.987 57.6588 980.409 Q60.1124 979.83 62.1495 979.83 Q67.5198 979.83 70.7142 982.515 Q73.9087 985.2 73.9087 989.691 Q73.9087 991.821 73.0985 993.742 Q72.3115 995.64 70.205 998.233 Q69.6263 998.904 66.5245 1002.12 Q63.4226 1005.32 57.7745 1011.08 Z\" fill=\"#000000\" fill-rule=\"evenodd\" fill-opacity=\"1\" /><path clip-path=\"url(#clip720)\" d=\"M93.9086 983.534 Q90.2975 983.534 88.4688 987.099 Q86.6632 990.64 86.6632 997.77 Q86.6632 1004.88 88.4688 1008.44 Q90.2975 1011.98 93.9086 1011.98 Q97.5428 1011.98 99.3483 1008.44 Q101.177 1004.88 101.177 997.77 Q101.177 990.64 99.3483 987.099 Q97.5428 983.534 93.9086 983.534 M93.9086 979.83 Q99.7187 979.83 102.774 984.437 Q105.853 989.02 105.853 997.77 Q105.853 1006.5 102.774 1011.1 Q99.7187 1015.69 93.9086 1015.69 Q88.0984 1015.69 85.0197 1011.1 Q81.9642 1006.5 81.9642 997.77 Q81.9642 989.02 85.0197 984.437 Q88.0984 979.83 93.9086 979.83 Z\" fill=\"#000000\" fill-rule=\"evenodd\" fill-opacity=\"1\" /><path clip-path=\"url(#clip720)\" d=\"M67.9133 786.363 Q71.2698 787.081 73.1448 789.349 Q75.0429 791.618 75.0429 794.951 Q75.0429 800.067 71.5244 802.868 Q68.0059 805.668 61.5245 805.668 Q59.3486 805.668 57.0338 805.229 Q54.7421 804.812 52.2884 803.956 L52.2884 799.442 Q54.2328 800.576 56.5477 801.155 Q58.8625 801.733 61.3856 801.733 Q65.7837 801.733 68.0754 799.997 Q70.3902 798.261 70.3902 794.951 Q70.3902 791.895 68.2374 790.182 Q66.1078 788.446 62.2884 788.446 L58.2606 788.446 L58.2606 784.604 L62.4735 784.604 Q65.9226 784.604 67.7513 783.238 Q69.58 781.849 69.58 779.257 Q69.58 776.595 67.6819 775.183 Q65.8069 773.747 62.2884 773.747 Q60.3671 773.747 58.168 774.164 Q55.969 774.581 53.3301 775.46 L53.3301 771.294 Q55.9921 770.553 58.3069 770.183 Q60.6449 769.812 62.705 769.812 Q68.0291 769.812 71.1309 772.243 Q74.2327 774.65 74.2327 778.77 Q74.2327 781.641 72.5892 783.632 Q70.9457 785.599 67.9133 786.363 Z\" fill=\"#000000\" fill-rule=\"evenodd\" fill-opacity=\"1\" /><path clip-path=\"url(#clip720)\" d=\"M93.9086 773.516 Q90.2975 773.516 88.4688 777.081 Q86.6632 780.622 86.6632 787.752 Q86.6632 794.858 88.4688 798.423 Q90.2975 801.965 93.9086 801.965 Q97.5428 801.965 99.3483 798.423 Q101.177 794.858 101.177 787.752 Q101.177 780.622 99.3483 777.081 Q97.5428 773.516 93.9086 773.516 M93.9086 769.812 Q99.7187 769.812 102.774 774.419 Q105.853 779.002 105.853 787.752 Q105.853 796.479 102.774 801.085 Q99.7187 805.668 93.9086 805.668 Q88.0984 805.668 85.0197 801.085 Q81.9642 796.479 81.9642 787.752 Q81.9642 779.002 85.0197 774.419 Q88.0984 769.812 93.9086 769.812 Z\" fill=\"#000000\" fill-rule=\"evenodd\" fill-opacity=\"1\" /><path clip-path=\"url(#clip720)\" d=\"M66.5939 564.493 L54.7884 582.942 L66.5939 582.942 L66.5939 564.493 M65.367 560.419 L71.2466 560.419 L71.2466 582.942 L76.1772 582.942 L76.1772 586.831 L71.2466 586.831 L71.2466 594.979 L66.5939 594.979 L66.5939 586.831 L50.9921 586.831 L50.9921 582.317 L65.367 560.419 Z\" fill=\"#000000\" fill-rule=\"evenodd\" fill-opacity=\"1\" /><path clip-path=\"url(#clip720)\" d=\"M93.9086 563.498 Q90.2975 563.498 88.4688 567.063 Q86.6632 570.604 86.6632 577.734 Q86.6632 584.84 88.4688 588.405 Q90.2975 591.947 93.9086 591.947 Q97.5428 591.947 99.3483 588.405 Q101.177 584.84 101.177 577.734 Q101.177 570.604 99.3483 567.063 Q97.5428 563.498 93.9086 563.498 M93.9086 559.794 Q99.7187 559.794 102.774 564.401 Q105.853 568.984 105.853 577.734 Q105.853 586.461 102.774 591.067 Q99.7187 595.651 93.9086 595.651 Q88.0984 595.651 85.0197 591.067 Q81.9642 586.461 81.9642 577.734 Q81.9642 568.984 85.0197 564.401 Q88.0984 559.794 93.9086 559.794 Z\" fill=\"#000000\" fill-rule=\"evenodd\" fill-opacity=\"1\" /><path clip-path=\"url(#clip720)\" d=\"M53.793 350.401 L72.1494 350.401 L72.1494 354.337 L58.0754 354.337 L58.0754 362.809 Q59.0939 362.462 60.1124 362.3 Q61.131 362.114 62.1495 362.114 Q67.9365 362.114 71.3161 365.286 Q74.6957 368.457 74.6957 373.874 Q74.6957 379.452 71.2235 382.554 Q67.7513 385.633 61.4319 385.633 Q59.256 385.633 56.9875 385.262 Q54.7421 384.892 52.3347 384.151 L52.3347 379.452 Q54.418 380.586 56.6402 381.142 Q58.8625 381.698 61.3393 381.698 Q65.3439 381.698 67.6819 379.591 Q70.0198 377.485 70.0198 373.874 Q70.0198 370.262 67.6819 368.156 Q65.3439 366.049 61.3393 366.049 Q59.4643 366.049 57.5893 366.466 Q55.7375 366.883 53.793 367.762 L53.793 350.401 Z\" fill=\"#000000\" fill-rule=\"evenodd\" fill-opacity=\"1\" /><path clip-path=\"url(#clip720)\" d=\"M93.9086 353.48 Q90.2975 353.48 88.4688 357.045 Q86.6632 360.587 86.6632 367.716 Q86.6632 374.823 88.4688 378.387 Q90.2975 381.929 93.9086 381.929 Q97.5428 381.929 99.3483 378.387 Q101.177 374.823 101.177 367.716 Q101.177 360.587 99.3483 357.045 Q97.5428 353.48 93.9086 353.48 M93.9086 349.776 Q99.7187 349.776 102.774 354.383 Q105.853 358.966 105.853 367.716 Q105.853 376.443 102.774 381.049 Q99.7187 385.633 93.9086 385.633 Q88.0984 385.633 85.0197 381.049 Q81.9642 376.443 81.9642 367.716 Q81.9642 358.966 85.0197 354.383 Q88.0984 349.776 93.9086 349.776 Z\" fill=\"#000000\" fill-rule=\"evenodd\" fill-opacity=\"1\" /><path clip-path=\"url(#clip720)\" d=\"M64.3254 155.8 Q61.1773 155.8 59.3254 157.953 Q57.4967 160.106 57.4967 163.856 Q57.4967 167.582 59.3254 169.758 Q61.1773 171.911 64.3254 171.911 Q67.4735 171.911 69.3022 169.758 Q71.1541 167.582 71.1541 163.856 Q71.1541 160.106 69.3022 157.953 Q67.4735 155.8 64.3254 155.8 M73.6077 141.147 L73.6077 145.407 Q71.8485 144.573 70.0429 144.134 Q68.2606 143.694 66.5013 143.694 Q61.8717 143.694 59.418 146.819 Q56.9875 149.944 56.6402 156.263 Q58.006 154.249 60.0662 153.184 Q62.1263 152.096 64.6032 152.096 Q69.8115 152.096 72.8207 155.268 Q75.8531 158.416 75.8531 163.856 Q75.8531 169.18 72.705 172.397 Q69.5568 175.615 64.3254 175.615 Q58.33 175.615 55.1588 171.032 Q51.9875 166.425 51.9875 157.698 Q51.9875 149.504 55.8764 144.643 Q59.7652 139.759 66.3161 139.759 Q68.0754 139.759 69.8578 140.106 Q71.6633 140.453 73.6077 141.147 Z\" fill=\"#000000\" fill-rule=\"evenodd\" fill-opacity=\"1\" /><path clip-path=\"url(#clip720)\" d=\"M93.9086 143.462 Q90.2975 143.462 88.4688 147.027 Q86.6632 150.569 86.6632 157.698 Q86.6632 164.805 88.4688 168.37 Q90.2975 171.911 93.9086 171.911 Q97.5428 171.911 99.3483 168.37 Q101.177 164.805 101.177 157.698 Q101.177 150.569 99.3483 147.027 Q97.5428 143.462 93.9086 143.462 M93.9086 139.759 Q99.7187 139.759 102.774 144.365 Q105.853 148.948 105.853 157.698 Q105.853 166.425 102.774 171.032 Q99.7187 175.615 93.9086 175.615 Q88.0984 175.615 85.0197 171.032 Q81.9642 166.425 81.9642 157.698 Q81.9642 148.948 85.0197 144.365 Q88.0984 139.759 93.9086 139.759 Z\" fill=\"#000000\" fill-rule=\"evenodd\" fill-opacity=\"1\" /><path clip-path=\"url(#clip722)\" d=\"\n",
       "M204.426 1397.61 L246.992 1376.61 L289.559 1355.61 L332.125 1334.61 L374.692 1313.6 L417.258 1292.6 L459.825 1271.6 L502.391 1250.6 L544.958 1229.6 L587.524 1208.6 \n",
       "  L630.09 1187.59 L672.657 1166.59 L715.223 1145.59 L757.79 1124.59 L800.356 1103.59 L842.923 1082.58 L885.489 1061.58 L928.056 1040.58 L970.622 1019.58 L1013.19 998.578 \n",
       "  L1055.76 977.576 L1098.32 956.574 L1140.89 935.572 L1183.45 914.57 L1226.02 893.569 L1268.59 872.567 L1311.15 851.565 L1353.72 830.563 L1396.29 809.562 L1438.85 788.56 \n",
       "  L1481.42 767.558 L1523.99 746.556 L1566.55 725.554 L1609.12 704.553 L1651.69 683.551 L1694.25 662.549 L1736.82 641.547 L1779.39 620.545 L1821.95 599.544 L1864.52 578.542 \n",
       "  L1907.08 557.54 L1949.65 536.538 L1992.22 515.536 L2034.78 494.535 L2077.35 473.533 L2119.92 452.531 L2162.48 431.529 L2205.05 410.528 L2247.62 389.526 L2290.18 368.524 \n",
       "  L2290.18 349.74 L2247.62 370.741 L2205.05 391.743 L2162.48 412.745 L2119.92 433.747 L2077.35 454.749 L2034.78 475.75 L1992.22 496.752 L1949.65 517.754 L1907.08 538.756 \n",
       "  L1864.52 559.757 L1821.95 580.759 L1779.39 601.761 L1736.82 622.763 L1694.25 643.765 L1651.69 664.766 L1609.12 685.768 L1566.55 706.77 L1523.99 727.772 L1481.42 748.774 \n",
       "  L1438.85 769.775 L1396.29 790.777 L1353.72 811.779 L1311.15 832.781 L1268.59 853.783 L1226.02 874.784 L1183.45 895.786 L1140.89 916.788 L1098.32 937.79 L1055.76 958.791 \n",
       "  L1013.19 979.793 L970.622 1000.8 L928.056 1021.8 L885.489 1042.8 L842.923 1063.8 L800.356 1084.8 L757.79 1105.8 L715.223 1126.81 L672.657 1147.81 L630.09 1168.81 \n",
       "  L587.524 1189.81 L544.958 1210.81 L502.391 1231.81 L459.825 1252.82 L417.258 1273.82 L374.692 1294.82 L332.125 1315.82 L289.559 1336.82 L246.992 1357.83 L204.426 1378.83 \n",
       "   Z\n",
       "  \" fill=\"#009af9\" fill-rule=\"evenodd\" fill-opacity=\"0.5\"/>\n",
       "<polyline clip-path=\"url(#clip722)\" style=\"stroke:#009af9; stroke-linecap:round; stroke-linejoin:round; stroke-width:4; stroke-opacity:1; fill:none\" points=\"\n",
       "  204.426,1388.22 246.992,1367.22 289.559,1346.22 332.125,1325.21 374.692,1304.21 417.258,1283.21 459.825,1262.21 502.391,1241.21 544.958,1220.21 587.524,1199.2 \n",
       "  630.09,1178.2 672.657,1157.2 715.223,1136.2 757.79,1115.2 800.356,1094.19 842.923,1073.19 885.489,1052.19 928.056,1031.19 970.622,1010.19 1013.19,989.185 \n",
       "  1055.76,968.184 1098.32,947.182 1140.89,926.18 1183.45,905.178 1226.02,884.176 1268.59,863.175 1311.15,842.173 1353.72,821.171 1396.29,800.169 1438.85,779.168 \n",
       "  1481.42,758.166 1523.99,737.164 1566.55,716.162 1609.12,695.16 1651.69,674.159 1694.25,653.157 1736.82,632.155 1779.39,611.153 1821.95,590.151 1864.52,569.15 \n",
       "  1907.08,548.148 1949.65,527.146 1992.22,506.144 2034.78,485.143 2077.35,464.141 2119.92,443.139 2162.48,422.137 2205.05,401.135 2247.62,380.134 2290.18,359.132 \n",
       "  \n",
       "  \"/>\n",
       "<polyline clip-path=\"url(#clip722)\" style=\"stroke:#e26f46; stroke-linecap:round; stroke-linejoin:round; stroke-width:4; stroke-opacity:1; fill:none\" points=\"\n",
       "  204.426,1396.77 246.992,1375.77 289.559,1354.77 332.125,1333.76 374.692,1312.76 417.258,1291.76 459.825,1270.76 502.391,1249.76 544.958,1228.75 587.524,1207.75 \n",
       "  630.09,1186.75 672.657,1165.75 715.223,1144.75 757.79,1123.75 800.356,1102.74 842.923,1081.74 885.489,1060.74 928.056,1039.74 970.622,1018.74 1013.19,997.735 \n",
       "  1055.76,976.733 1098.32,955.731 1140.89,934.73 1183.45,913.728 1226.02,892.726 1268.59,871.724 1311.15,850.723 1353.72,829.721 1396.29,808.719 1438.85,787.717 \n",
       "  1481.42,766.715 1523.99,745.714 1566.55,724.712 1609.12,703.71 1651.69,682.708 1694.25,661.706 1736.82,640.705 1779.39,619.703 1821.95,598.701 1864.52,577.699 \n",
       "  1907.08,556.698 1949.65,535.696 1992.22,514.694 2034.78,493.692 2077.35,472.69 2119.92,451.689 2162.48,430.687 2205.05,409.685 2247.62,388.683 2290.18,367.681 \n",
       "  \n",
       "  \"/>\n",
       "<circle clip-path=\"url(#clip722)\" cx=\"204.426\" cy=\"1146.79\" r=\"14.4\" fill=\"#3da44d\" fill-rule=\"evenodd\" fill-opacity=\"1\" stroke=\"#000000\" stroke-opacity=\"1\" stroke-width=\"3.2\"/>\n",
       "<circle clip-path=\"url(#clip722)\" cx=\"246.992\" cy=\"945.613\" r=\"14.4\" fill=\"#3da44d\" fill-rule=\"evenodd\" fill-opacity=\"1\" stroke=\"#000000\" stroke-opacity=\"1\" stroke-width=\"3.2\"/>\n",
       "<circle clip-path=\"url(#clip722)\" cx=\"289.559\" cy=\"1114.79\" r=\"14.4\" fill=\"#3da44d\" fill-rule=\"evenodd\" fill-opacity=\"1\" stroke=\"#000000\" stroke-opacity=\"1\" stroke-width=\"3.2\"/>\n",
       "<circle clip-path=\"url(#clip722)\" cx=\"332.125\" cy=\"1237.28\" r=\"14.4\" fill=\"#3da44d\" fill-rule=\"evenodd\" fill-opacity=\"1\" stroke=\"#000000\" stroke-opacity=\"1\" stroke-width=\"3.2\"/>\n",
       "<circle clip-path=\"url(#clip722)\" cx=\"374.692\" cy=\"1396.07\" r=\"14.4\" fill=\"#3da44d\" fill-rule=\"evenodd\" fill-opacity=\"1\" stroke=\"#000000\" stroke-opacity=\"1\" stroke-width=\"3.2\"/>\n",
       "<circle clip-path=\"url(#clip722)\" cx=\"417.258\" cy=\"1431.36\" r=\"14.4\" fill=\"#3da44d\" fill-rule=\"evenodd\" fill-opacity=\"1\" stroke=\"#000000\" stroke-opacity=\"1\" stroke-width=\"3.2\"/>\n",
       "<circle clip-path=\"url(#clip722)\" cx=\"459.825\" cy=\"1064.74\" r=\"14.4\" fill=\"#3da44d\" fill-rule=\"evenodd\" fill-opacity=\"1\" stroke=\"#000000\" stroke-opacity=\"1\" stroke-width=\"3.2\"/>\n",
       "<circle clip-path=\"url(#clip722)\" cx=\"502.391\" cy=\"1265.61\" r=\"14.4\" fill=\"#3da44d\" fill-rule=\"evenodd\" fill-opacity=\"1\" stroke=\"#000000\" stroke-opacity=\"1\" stroke-width=\"3.2\"/>\n",
       "<circle clip-path=\"url(#clip722)\" cx=\"544.958\" cy=\"1171.25\" r=\"14.4\" fill=\"#3da44d\" fill-rule=\"evenodd\" fill-opacity=\"1\" stroke=\"#000000\" stroke-opacity=\"1\" stroke-width=\"3.2\"/>\n",
       "<circle clip-path=\"url(#clip722)\" cx=\"587.524\" cy=\"1248.54\" r=\"14.4\" fill=\"#3da44d\" fill-rule=\"evenodd\" fill-opacity=\"1\" stroke=\"#000000\" stroke-opacity=\"1\" stroke-width=\"3.2\"/>\n",
       "<circle clip-path=\"url(#clip722)\" cx=\"630.09\" cy=\"1258.02\" r=\"14.4\" fill=\"#3da44d\" fill-rule=\"evenodd\" fill-opacity=\"1\" stroke=\"#000000\" stroke-opacity=\"1\" stroke-width=\"3.2\"/>\n",
       "<circle clip-path=\"url(#clip722)\" cx=\"672.657\" cy=\"1342.98\" r=\"14.4\" fill=\"#3da44d\" fill-rule=\"evenodd\" fill-opacity=\"1\" stroke=\"#000000\" stroke-opacity=\"1\" stroke-width=\"3.2\"/>\n",
       "<circle clip-path=\"url(#clip722)\" cx=\"715.223\" cy=\"1331.44\" r=\"14.4\" fill=\"#3da44d\" fill-rule=\"evenodd\" fill-opacity=\"1\" stroke=\"#000000\" stroke-opacity=\"1\" stroke-width=\"3.2\"/>\n",
       "<circle clip-path=\"url(#clip722)\" cx=\"757.79\" cy=\"1055.02\" r=\"14.4\" fill=\"#3da44d\" fill-rule=\"evenodd\" fill-opacity=\"1\" stroke=\"#000000\" stroke-opacity=\"1\" stroke-width=\"3.2\"/>\n",
       "<circle clip-path=\"url(#clip722)\" cx=\"800.356\" cy=\"978.329\" r=\"14.4\" fill=\"#3da44d\" fill-rule=\"evenodd\" fill-opacity=\"1\" stroke=\"#000000\" stroke-opacity=\"1\" stroke-width=\"3.2\"/>\n",
       "<circle clip-path=\"url(#clip722)\" cx=\"842.923\" cy=\"1004.46\" r=\"14.4\" fill=\"#3da44d\" fill-rule=\"evenodd\" fill-opacity=\"1\" stroke=\"#000000\" stroke-opacity=\"1\" stroke-width=\"3.2\"/>\n",
       "<circle clip-path=\"url(#clip722)\" cx=\"885.489\" cy=\"1119.78\" r=\"14.4\" fill=\"#3da44d\" fill-rule=\"evenodd\" fill-opacity=\"1\" stroke=\"#000000\" stroke-opacity=\"1\" stroke-width=\"3.2\"/>\n",
       "<circle clip-path=\"url(#clip722)\" cx=\"928.056\" cy=\"1194.08\" r=\"14.4\" fill=\"#3da44d\" fill-rule=\"evenodd\" fill-opacity=\"1\" stroke=\"#000000\" stroke-opacity=\"1\" stroke-width=\"3.2\"/>\n",
       "<circle clip-path=\"url(#clip722)\" cx=\"970.622\" cy=\"1169.41\" r=\"14.4\" fill=\"#3da44d\" fill-rule=\"evenodd\" fill-opacity=\"1\" stroke=\"#000000\" stroke-opacity=\"1\" stroke-width=\"3.2\"/>\n",
       "<circle clip-path=\"url(#clip722)\" cx=\"1013.19\" cy=\"1160.51\" r=\"14.4\" fill=\"#3da44d\" fill-rule=\"evenodd\" fill-opacity=\"1\" stroke=\"#000000\" stroke-opacity=\"1\" stroke-width=\"3.2\"/>\n",
       "<circle clip-path=\"url(#clip722)\" cx=\"1055.76\" cy=\"1182.45\" r=\"14.4\" fill=\"#3da44d\" fill-rule=\"evenodd\" fill-opacity=\"1\" stroke=\"#000000\" stroke-opacity=\"1\" stroke-width=\"3.2\"/>\n",
       "<circle clip-path=\"url(#clip722)\" cx=\"1098.32\" cy=\"901.042\" r=\"14.4\" fill=\"#3da44d\" fill-rule=\"evenodd\" fill-opacity=\"1\" stroke=\"#000000\" stroke-opacity=\"1\" stroke-width=\"3.2\"/>\n",
       "<circle clip-path=\"url(#clip722)\" cx=\"1140.89\" cy=\"1033.12\" r=\"14.4\" fill=\"#3da44d\" fill-rule=\"evenodd\" fill-opacity=\"1\" stroke=\"#000000\" stroke-opacity=\"1\" stroke-width=\"3.2\"/>\n",
       "<circle clip-path=\"url(#clip722)\" cx=\"1183.45\" cy=\"1098.73\" r=\"14.4\" fill=\"#3da44d\" fill-rule=\"evenodd\" fill-opacity=\"1\" stroke=\"#000000\" stroke-opacity=\"1\" stroke-width=\"3.2\"/>\n",
       "<circle clip-path=\"url(#clip722)\" cx=\"1226.02\" cy=\"834.399\" r=\"14.4\" fill=\"#3da44d\" fill-rule=\"evenodd\" fill-opacity=\"1\" stroke=\"#000000\" stroke-opacity=\"1\" stroke-width=\"3.2\"/>\n",
       "<circle clip-path=\"url(#clip722)\" cx=\"1268.59\" cy=\"551.675\" r=\"14.4\" fill=\"#3da44d\" fill-rule=\"evenodd\" fill-opacity=\"1\" stroke=\"#000000\" stroke-opacity=\"1\" stroke-width=\"3.2\"/>\n",
       "<circle clip-path=\"url(#clip722)\" cx=\"1311.15\" cy=\"1224.08\" r=\"14.4\" fill=\"#3da44d\" fill-rule=\"evenodd\" fill-opacity=\"1\" stroke=\"#000000\" stroke-opacity=\"1\" stroke-width=\"3.2\"/>\n",
       "<circle clip-path=\"url(#clip722)\" cx=\"1353.72\" cy=\"1445.72\" r=\"14.4\" fill=\"#3da44d\" fill-rule=\"evenodd\" fill-opacity=\"1\" stroke=\"#000000\" stroke-opacity=\"1\" stroke-width=\"3.2\"/>\n",
       "<circle clip-path=\"url(#clip722)\" cx=\"1396.29\" cy=\"644.431\" r=\"14.4\" fill=\"#3da44d\" fill-rule=\"evenodd\" fill-opacity=\"1\" stroke=\"#000000\" stroke-opacity=\"1\" stroke-width=\"3.2\"/>\n",
       "<circle clip-path=\"url(#clip722)\" cx=\"1438.85\" cy=\"301.824\" r=\"14.4\" fill=\"#3da44d\" fill-rule=\"evenodd\" fill-opacity=\"1\" stroke=\"#000000\" stroke-opacity=\"1\" stroke-width=\"3.2\"/>\n",
       "<circle clip-path=\"url(#clip722)\" cx=\"1481.42\" cy=\"949.653\" r=\"14.4\" fill=\"#3da44d\" fill-rule=\"evenodd\" fill-opacity=\"1\" stroke=\"#000000\" stroke-opacity=\"1\" stroke-width=\"3.2\"/>\n",
       "<circle clip-path=\"url(#clip722)\" cx=\"1523.99\" cy=\"673.105\" r=\"14.4\" fill=\"#3da44d\" fill-rule=\"evenodd\" fill-opacity=\"1\" stroke=\"#000000\" stroke-opacity=\"1\" stroke-width=\"3.2\"/>\n",
       "<circle clip-path=\"url(#clip722)\" cx=\"1566.55\" cy=\"757.444\" r=\"14.4\" fill=\"#3da44d\" fill-rule=\"evenodd\" fill-opacity=\"1\" stroke=\"#000000\" stroke-opacity=\"1\" stroke-width=\"3.2\"/>\n",
       "<circle clip-path=\"url(#clip722)\" cx=\"1609.12\" cy=\"213.736\" r=\"14.4\" fill=\"#3da44d\" fill-rule=\"evenodd\" fill-opacity=\"1\" stroke=\"#000000\" stroke-opacity=\"1\" stroke-width=\"3.2\"/>\n",
       "<circle clip-path=\"url(#clip722)\" cx=\"1651.69\" cy=\"892.38\" r=\"14.4\" fill=\"#3da44d\" fill-rule=\"evenodd\" fill-opacity=\"1\" stroke=\"#000000\" stroke-opacity=\"1\" stroke-width=\"3.2\"/>\n",
       "<circle clip-path=\"url(#clip722)\" cx=\"1694.25\" cy=\"647.645\" r=\"14.4\" fill=\"#3da44d\" fill-rule=\"evenodd\" fill-opacity=\"1\" stroke=\"#000000\" stroke-opacity=\"1\" stroke-width=\"3.2\"/>\n",
       "<circle clip-path=\"url(#clip722)\" cx=\"1736.82\" cy=\"1007.02\" r=\"14.4\" fill=\"#3da44d\" fill-rule=\"evenodd\" fill-opacity=\"1\" stroke=\"#000000\" stroke-opacity=\"1\" stroke-width=\"3.2\"/>\n",
       "<circle clip-path=\"url(#clip722)\" cx=\"1779.39\" cy=\"804.629\" r=\"14.4\" fill=\"#3da44d\" fill-rule=\"evenodd\" fill-opacity=\"1\" stroke=\"#000000\" stroke-opacity=\"1\" stroke-width=\"3.2\"/>\n",
       "<circle clip-path=\"url(#clip722)\" cx=\"1821.95\" cy=\"651.996\" r=\"14.4\" fill=\"#3da44d\" fill-rule=\"evenodd\" fill-opacity=\"1\" stroke=\"#000000\" stroke-opacity=\"1\" stroke-width=\"3.2\"/>\n",
       "<circle clip-path=\"url(#clip722)\" cx=\"1864.52\" cy=\"406.739\" r=\"14.4\" fill=\"#3da44d\" fill-rule=\"evenodd\" fill-opacity=\"1\" stroke=\"#000000\" stroke-opacity=\"1\" stroke-width=\"3.2\"/>\n",
       "<circle clip-path=\"url(#clip722)\" cx=\"1907.08\" cy=\"792.935\" r=\"14.4\" fill=\"#3da44d\" fill-rule=\"evenodd\" fill-opacity=\"1\" stroke=\"#000000\" stroke-opacity=\"1\" stroke-width=\"3.2\"/>\n",
       "<circle clip-path=\"url(#clip722)\" cx=\"1949.65\" cy=\"608.025\" r=\"14.4\" fill=\"#3da44d\" fill-rule=\"evenodd\" fill-opacity=\"1\" stroke=\"#000000\" stroke-opacity=\"1\" stroke-width=\"3.2\"/>\n",
       "<circle clip-path=\"url(#clip722)\" cx=\"1992.22\" cy=\"565.623\" r=\"14.4\" fill=\"#3da44d\" fill-rule=\"evenodd\" fill-opacity=\"1\" stroke=\"#000000\" stroke-opacity=\"1\" stroke-width=\"3.2\"/>\n",
       "<circle clip-path=\"url(#clip722)\" cx=\"2034.78\" cy=\"171.946\" r=\"14.4\" fill=\"#3da44d\" fill-rule=\"evenodd\" fill-opacity=\"1\" stroke=\"#000000\" stroke-opacity=\"1\" stroke-width=\"3.2\"/>\n",
       "<circle clip-path=\"url(#clip722)\" cx=\"2077.35\" cy=\"385.86\" r=\"14.4\" fill=\"#3da44d\" fill-rule=\"evenodd\" fill-opacity=\"1\" stroke=\"#000000\" stroke-opacity=\"1\" stroke-width=\"3.2\"/>\n",
       "<circle clip-path=\"url(#clip722)\" cx=\"2119.92\" cy=\"499.491\" r=\"14.4\" fill=\"#3da44d\" fill-rule=\"evenodd\" fill-opacity=\"1\" stroke=\"#000000\" stroke-opacity=\"1\" stroke-width=\"3.2\"/>\n",
       "<circle clip-path=\"url(#clip722)\" cx=\"2162.48\" cy=\"469.718\" r=\"14.4\" fill=\"#3da44d\" fill-rule=\"evenodd\" fill-opacity=\"1\" stroke=\"#000000\" stroke-opacity=\"1\" stroke-width=\"3.2\"/>\n",
       "<circle clip-path=\"url(#clip722)\" cx=\"2205.05\" cy=\"87.9763\" r=\"14.4\" fill=\"#3da44d\" fill-rule=\"evenodd\" fill-opacity=\"1\" stroke=\"#000000\" stroke-opacity=\"1\" stroke-width=\"3.2\"/>\n",
       "<circle clip-path=\"url(#clip722)\" cx=\"2247.62\" cy=\"1048.82\" r=\"14.4\" fill=\"#3da44d\" fill-rule=\"evenodd\" fill-opacity=\"1\" stroke=\"#000000\" stroke-opacity=\"1\" stroke-width=\"3.2\"/>\n",
       "<circle clip-path=\"url(#clip722)\" cx=\"2290.18\" cy=\"670.12\" r=\"14.4\" fill=\"#3da44d\" fill-rule=\"evenodd\" fill-opacity=\"1\" stroke=\"#000000\" stroke-opacity=\"1\" stroke-width=\"3.2\"/>\n",
       "<path clip-path=\"url(#clip720)\" d=\"\n",
       "M215.55 302.578 L822.332 302.578 L822.332 95.2176 L215.55 95.2176  Z\n",
       "  \" fill=\"#ffffff\" fill-rule=\"evenodd\" fill-opacity=\"1\"/>\n",
       "<polyline clip-path=\"url(#clip720)\" style=\"stroke:#000000; stroke-linecap:round; stroke-linejoin:round; stroke-width:4; stroke-opacity:1; fill:none\" points=\"\n",
       "  215.55,302.578 822.332,302.578 822.332,95.2176 215.55,95.2176 215.55,302.578 \n",
       "  \"/>\n",
       "<polyline clip-path=\"url(#clip720)\" style=\"stroke:#009af9; stroke-linecap:round; stroke-linejoin:round; stroke-width:4; stroke-opacity:1; fill:none\" points=\"\n",
       "  240.115,147.058 387.509,147.058 \n",
       "  \"/>\n",
       "<path clip-path=\"url(#clip720)\" d=\"M412.074 129.778 L433.926 129.778 L433.926 133.713 L416.75 133.713 L416.75 143.944 L433.209 143.944 L433.209 147.879 L416.75 147.879 L416.75 160.402 L434.343 160.402 L434.343 164.338 L412.074 164.338 L412.074 129.778 Z\" fill=\"#000000\" fill-rule=\"evenodd\" fill-opacity=\"1\" /><path clip-path=\"url(#clip720)\" d=\"M458.37 139.176 L458.37 143.203 Q456.565 142.277 454.62 141.815 Q452.676 141.352 450.593 141.352 Q447.421 141.352 445.824 142.324 Q444.25 143.296 444.25 145.24 Q444.25 146.722 445.384 147.578 Q446.519 148.412 449.945 149.176 L451.403 149.5 Q455.94 150.472 457.838 152.254 Q459.759 154.014 459.759 157.185 Q459.759 160.796 456.889 162.902 Q454.042 165.009 449.042 165.009 Q446.958 165.009 444.69 164.592 Q442.445 164.199 439.945 163.388 L439.945 158.99 Q442.306 160.217 444.597 160.842 Q446.889 161.444 449.134 161.444 Q452.144 161.444 453.764 160.426 Q455.384 159.384 455.384 157.509 Q455.384 155.773 454.204 154.847 Q453.046 153.921 449.088 153.064 L447.607 152.717 Q443.648 151.884 441.889 150.171 Q440.13 148.435 440.13 145.426 Q440.13 141.768 442.722 139.778 Q445.315 137.787 450.083 137.787 Q452.445 137.787 454.528 138.134 Q456.611 138.481 458.37 139.176 Z\" fill=\"#000000\" fill-rule=\"evenodd\" fill-opacity=\"1\" /><path clip-path=\"url(#clip720)\" d=\"M470.755 131.051 L470.755 138.412 L479.528 138.412 L479.528 141.722 L470.755 141.722 L470.755 155.796 Q470.755 158.967 471.611 159.87 Q472.491 160.773 475.153 160.773 L479.528 160.773 L479.528 164.338 L475.153 164.338 Q470.222 164.338 468.347 162.509 Q466.472 160.657 466.472 155.796 L466.472 141.722 L463.347 141.722 L463.347 138.412 L466.472 138.412 L466.472 131.051 L470.755 131.051 Z\" fill=\"#000000\" fill-rule=\"evenodd\" fill-opacity=\"1\" /><path clip-path=\"url(#clip720)\" d=\"M485.13 138.412 L489.389 138.412 L489.389 164.338 L485.13 164.338 L485.13 138.412 M485.13 128.319 L489.389 128.319 L489.389 133.713 L485.13 133.713 L485.13 128.319 Z\" fill=\"#000000\" fill-rule=\"evenodd\" fill-opacity=\"1\" /><path clip-path=\"url(#clip720)\" d=\"M518.486 143.389 Q520.083 140.518 522.305 139.153 Q524.528 137.787 527.537 137.787 Q531.588 137.787 533.787 140.634 Q535.986 143.458 535.986 148.689 L535.986 164.338 L531.703 164.338 L531.703 148.828 Q531.703 145.102 530.384 143.296 Q529.065 141.49 526.356 141.49 Q523.046 141.49 521.125 143.69 Q519.203 145.889 519.203 149.685 L519.203 164.338 L514.921 164.338 L514.921 148.828 Q514.921 145.078 513.602 143.296 Q512.282 141.49 509.528 141.49 Q506.264 141.49 504.342 143.713 Q502.421 145.912 502.421 149.685 L502.421 164.338 L498.139 164.338 L498.139 138.412 L502.421 138.412 L502.421 142.44 Q503.879 140.055 505.917 138.921 Q507.954 137.787 510.754 137.787 Q513.579 137.787 515.546 139.222 Q517.537 140.657 518.486 143.389 Z\" fill=\"#000000\" fill-rule=\"evenodd\" fill-opacity=\"1\" /><path clip-path=\"url(#clip720)\" d=\"M556.263 151.305 Q551.101 151.305 549.111 152.486 Q547.12 153.666 547.12 156.514 Q547.12 158.782 548.601 160.125 Q550.106 161.444 552.676 161.444 Q556.217 161.444 558.347 158.944 Q560.5 156.421 560.5 152.254 L560.5 151.305 L556.263 151.305 M564.759 149.546 L564.759 164.338 L560.5 164.338 L560.5 160.402 Q559.041 162.763 556.865 163.898 Q554.689 165.009 551.541 165.009 Q547.56 165.009 545.199 162.787 Q542.861 160.541 542.861 156.791 Q542.861 152.416 545.777 150.194 Q548.717 147.972 554.527 147.972 L560.5 147.972 L560.5 147.555 Q560.5 144.615 558.555 143.018 Q556.634 141.398 553.138 141.398 Q550.916 141.398 548.81 141.93 Q546.703 142.463 544.759 143.527 L544.759 139.592 Q547.097 138.69 549.296 138.25 Q551.495 137.787 553.578 137.787 Q559.203 137.787 561.981 140.703 Q564.759 143.62 564.759 149.546 Z\" fill=\"#000000\" fill-rule=\"evenodd\" fill-opacity=\"1\" /><path clip-path=\"url(#clip720)\" d=\"M577.745 131.051 L577.745 138.412 L586.518 138.412 L586.518 141.722 L577.745 141.722 L577.745 155.796 Q577.745 158.967 578.601 159.87 Q579.481 160.773 582.143 160.773 L586.518 160.773 L586.518 164.338 L582.143 164.338 Q577.212 164.338 575.337 162.509 Q573.462 160.657 573.462 155.796 L573.462 141.722 L570.337 141.722 L570.337 138.412 L573.462 138.412 L573.462 131.051 L577.745 131.051 Z\" fill=\"#000000\" fill-rule=\"evenodd\" fill-opacity=\"1\" /><path clip-path=\"url(#clip720)\" d=\"M614.296 150.31 L614.296 152.393 L594.712 152.393 Q594.99 156.791 597.351 159.106 Q599.735 161.398 603.972 161.398 Q606.425 161.398 608.717 160.796 Q611.032 160.194 613.3 158.99 L613.3 163.018 Q611.009 163.99 608.601 164.5 Q606.194 165.009 603.717 165.009 Q597.513 165.009 593.879 161.398 Q590.268 157.787 590.268 151.629 Q590.268 145.264 593.694 141.537 Q597.143 137.787 602.976 137.787 Q608.208 137.787 611.24 141.166 Q614.296 144.523 614.296 150.31 M610.036 149.06 Q609.99 145.565 608.069 143.481 Q606.171 141.398 603.022 141.398 Q599.458 141.398 597.305 143.412 Q595.175 145.426 594.851 149.083 L610.036 149.06 Z\" fill=\"#000000\" fill-rule=\"evenodd\" fill-opacity=\"1\" /><path clip-path=\"url(#clip720)\" d=\"M638.346 142.347 L638.346 128.319 L642.606 128.319 L642.606 164.338 L638.346 164.338 L638.346 160.449 Q637.004 162.763 634.944 163.898 Q632.907 165.009 630.036 165.009 Q625.337 165.009 622.374 161.259 Q619.434 157.509 619.434 151.398 Q619.434 145.287 622.374 141.537 Q625.337 137.787 630.036 137.787 Q632.907 137.787 634.944 138.921 Q637.004 140.032 638.346 142.347 M623.833 151.398 Q623.833 156.097 625.754 158.782 Q627.698 161.444 631.078 161.444 Q634.457 161.444 636.402 158.782 Q638.346 156.097 638.346 151.398 Q638.346 146.699 636.402 144.037 Q634.457 141.352 631.078 141.352 Q627.698 141.352 625.754 144.037 Q623.833 146.699 623.833 151.398 Z\" fill=\"#000000\" fill-rule=\"evenodd\" fill-opacity=\"1\" /><path clip-path=\"url(#clip720)\" d=\"M682.976 139.176 L682.976 143.203 Q681.17 142.277 679.226 141.815 Q677.281 141.352 675.198 141.352 Q672.027 141.352 670.43 142.324 Q668.855 143.296 668.855 145.24 Q668.855 146.722 669.99 147.578 Q671.124 148.412 674.55 149.176 L676.008 149.5 Q680.545 150.472 682.443 152.254 Q684.365 154.014 684.365 157.185 Q684.365 160.796 681.494 162.902 Q678.647 165.009 673.647 165.009 Q671.564 165.009 669.295 164.592 Q667.05 164.199 664.55 163.388 L664.55 158.99 Q666.911 160.217 669.203 160.842 Q671.494 161.444 673.74 161.444 Q676.749 161.444 678.369 160.426 Q679.99 159.384 679.99 157.509 Q679.99 155.773 678.809 154.847 Q677.652 153.921 673.693 153.064 L672.212 152.717 Q668.254 151.884 666.494 150.171 Q664.735 148.435 664.735 145.426 Q664.735 141.768 667.328 139.778 Q669.92 137.787 674.689 137.787 Q677.05 137.787 679.133 138.134 Q681.216 138.481 682.976 139.176 Z\" fill=\"#000000\" fill-rule=\"evenodd\" fill-opacity=\"1\" /><path clip-path=\"url(#clip720)\" d=\"M691.147 138.412 L695.406 138.412 L695.406 164.338 L691.147 164.338 L691.147 138.412 M691.147 128.319 L695.406 128.319 L695.406 133.713 L691.147 133.713 L691.147 128.319 Z\" fill=\"#000000\" fill-rule=\"evenodd\" fill-opacity=\"1\" /><path clip-path=\"url(#clip720)\" d=\"M721.378 151.074 Q721.378 146.444 719.457 143.898 Q717.559 141.352 714.11 141.352 Q710.684 141.352 708.763 143.898 Q706.865 146.444 706.865 151.074 Q706.865 155.68 708.763 158.226 Q710.684 160.773 714.11 160.773 Q717.559 160.773 719.457 158.226 Q721.378 155.68 721.378 151.074 M725.638 161.12 Q725.638 167.74 722.698 170.958 Q719.758 174.199 713.693 174.199 Q711.448 174.199 709.457 173.851 Q707.466 173.527 705.591 172.833 L705.591 168.689 Q707.466 169.708 709.295 170.194 Q711.124 170.68 713.022 170.68 Q717.212 170.68 719.295 168.481 Q721.378 166.305 721.378 161.884 L721.378 159.777 Q720.059 162.069 717.999 163.203 Q715.939 164.338 713.068 164.338 Q708.3 164.338 705.383 160.703 Q702.466 157.069 702.466 151.074 Q702.466 145.055 705.383 141.421 Q708.3 137.787 713.068 137.787 Q715.939 137.787 717.999 138.921 Q720.059 140.055 721.378 142.347 L721.378 138.412 L725.638 138.412 L725.638 161.12 Z\" fill=\"#000000\" fill-rule=\"evenodd\" fill-opacity=\"1\" /><path clip-path=\"url(#clip720)\" d=\"M755.961 148.689 L755.961 164.338 L751.702 164.338 L751.702 148.828 Q751.702 145.148 750.267 143.319 Q748.832 141.49 745.962 141.49 Q742.512 141.49 740.522 143.69 Q738.531 145.889 738.531 149.685 L738.531 164.338 L734.249 164.338 L734.249 138.412 L738.531 138.412 L738.531 142.44 Q740.059 140.102 742.119 138.944 Q744.202 137.787 746.911 137.787 Q751.378 137.787 753.67 140.565 Q755.961 143.319 755.961 148.689 Z\" fill=\"#000000\" fill-rule=\"evenodd\" fill-opacity=\"1\" /><path clip-path=\"url(#clip720)\" d=\"M776.239 151.305 Q771.077 151.305 769.086 152.486 Q767.096 153.666 767.096 156.514 Q767.096 158.782 768.577 160.125 Q770.082 161.444 772.651 161.444 Q776.193 161.444 778.322 158.944 Q780.475 156.421 780.475 152.254 L780.475 151.305 L776.239 151.305 M784.734 149.546 L784.734 164.338 L780.475 164.338 L780.475 160.402 Q779.017 162.763 776.841 163.898 Q774.665 165.009 771.517 165.009 Q767.535 165.009 765.174 162.787 Q762.836 160.541 762.836 156.791 Q762.836 152.416 765.753 150.194 Q768.693 147.972 774.503 147.972 L780.475 147.972 L780.475 147.555 Q780.475 144.615 778.531 143.018 Q776.61 141.398 773.114 141.398 Q770.892 141.398 768.785 141.93 Q766.679 142.463 764.735 143.527 L764.735 139.592 Q767.073 138.69 769.272 138.25 Q771.471 137.787 773.554 137.787 Q779.179 137.787 781.957 140.703 Q784.734 143.62 784.734 149.546 Z\" fill=\"#000000\" fill-rule=\"evenodd\" fill-opacity=\"1\" /><path clip-path=\"url(#clip720)\" d=\"M793.508 128.319 L797.767 128.319 L797.767 164.338 L793.508 164.338 L793.508 128.319 Z\" fill=\"#000000\" fill-rule=\"evenodd\" fill-opacity=\"1\" /><polyline clip-path=\"url(#clip720)\" style=\"stroke:#e26f46; stroke-linecap:round; stroke-linejoin:round; stroke-width:4; stroke-opacity:1; fill:none\" points=\"\n",
       "  240.115,198.898 387.509,198.898 \n",
       "  \"/>\n",
       "<path clip-path=\"url(#clip720)\" d=\"M412.074 181.618 L416.75 181.618 L416.75 195.784 L433.741 195.784 L433.741 181.618 L438.417 181.618 L438.417 216.178 L433.741 216.178 L433.741 199.719 L416.75 199.719 L416.75 216.178 L412.074 216.178 L412.074 181.618 Z\" fill=\"#000000\" fill-rule=\"evenodd\" fill-opacity=\"1\" /><path clip-path=\"url(#clip720)\" d=\"M447.537 190.252 L451.796 190.252 L451.796 216.178 L447.537 216.178 L447.537 190.252 M447.537 180.159 L451.796 180.159 L451.796 185.553 L447.537 185.553 L447.537 180.159 Z\" fill=\"#000000\" fill-rule=\"evenodd\" fill-opacity=\"1\" /><path clip-path=\"url(#clip720)\" d=\"M477.769 194.187 L477.769 180.159 L482.028 180.159 L482.028 216.178 L477.769 216.178 L477.769 212.289 Q476.426 214.603 474.366 215.738 Q472.329 216.849 469.458 216.849 Q464.759 216.849 461.796 213.099 Q458.857 209.349 458.857 203.238 Q458.857 197.127 461.796 193.377 Q464.759 189.627 469.458 189.627 Q472.329 189.627 474.366 190.761 Q476.426 191.872 477.769 194.187 M463.255 203.238 Q463.255 207.937 465.176 210.622 Q467.12 213.284 470.5 213.284 Q473.88 213.284 475.824 210.622 Q477.769 207.937 477.769 203.238 Q477.769 198.539 475.824 195.877 Q473.88 193.192 470.5 193.192 Q467.12 193.192 465.176 195.877 Q463.255 198.539 463.255 203.238 Z\" fill=\"#000000\" fill-rule=\"evenodd\" fill-opacity=\"1\" /><path clip-path=\"url(#clip720)\" d=\"M507.861 194.187 L507.861 180.159 L512.12 180.159 L512.12 216.178 L507.861 216.178 L507.861 212.289 Q506.518 214.603 504.458 215.738 Q502.421 216.849 499.551 216.849 Q494.852 216.849 491.889 213.099 Q488.949 209.349 488.949 203.238 Q488.949 197.127 491.889 193.377 Q494.852 189.627 499.551 189.627 Q502.421 189.627 504.458 190.761 Q506.518 191.872 507.861 194.187 M493.347 203.238 Q493.347 207.937 495.268 210.622 Q497.213 213.284 500.592 213.284 Q503.972 213.284 505.917 210.622 Q507.861 207.937 507.861 203.238 Q507.861 198.539 505.917 195.877 Q503.972 193.192 500.592 193.192 Q497.213 193.192 495.268 195.877 Q493.347 198.539 493.347 203.238 Z\" fill=\"#000000\" fill-rule=\"evenodd\" fill-opacity=\"1\" /><path clip-path=\"url(#clip720)\" d=\"M543.069 202.15 L543.069 204.233 L523.486 204.233 Q523.764 208.631 526.125 210.946 Q528.509 213.238 532.745 213.238 Q535.199 213.238 537.49 212.636 Q539.805 212.034 542.074 210.83 L542.074 214.858 Q539.782 215.83 537.375 216.34 Q534.967 216.849 532.49 216.849 Q526.287 216.849 522.653 213.238 Q519.041 209.627 519.041 203.469 Q519.041 197.104 522.467 193.377 Q525.916 189.627 531.75 189.627 Q536.981 189.627 540.014 193.006 Q543.069 196.363 543.069 202.15 M538.81 200.9 Q538.764 197.405 536.842 195.321 Q534.944 193.238 531.796 193.238 Q528.231 193.238 526.078 195.252 Q523.949 197.266 523.625 200.923 L538.81 200.9 Z\" fill=\"#000000\" fill-rule=\"evenodd\" fill-opacity=\"1\" /><path clip-path=\"url(#clip720)\" d=\"M571.611 200.529 L571.611 216.178 L567.351 216.178 L567.351 200.668 Q567.351 196.988 565.916 195.159 Q564.481 193.33 561.611 193.33 Q558.162 193.33 556.171 195.53 Q554.18 197.729 554.18 201.525 L554.18 216.178 L549.898 216.178 L549.898 190.252 L554.18 190.252 L554.18 194.28 Q555.708 191.942 557.768 190.784 Q559.851 189.627 562.56 189.627 Q567.027 189.627 569.319 192.405 Q571.611 195.159 571.611 200.529 Z\" fill=\"#000000\" fill-rule=\"evenodd\" fill-opacity=\"1\" /><path clip-path=\"url(#clip720)\" d=\"M611.703 191.016 L611.703 195.043 Q609.897 194.117 607.953 193.655 Q606.009 193.192 603.925 193.192 Q600.754 193.192 599.157 194.164 Q597.583 195.136 597.583 197.08 Q597.583 198.562 598.717 199.418 Q599.851 200.252 603.277 201.016 L604.735 201.34 Q609.272 202.312 611.171 204.094 Q613.092 205.854 613.092 209.025 Q613.092 212.636 610.222 214.742 Q607.374 216.849 602.374 216.849 Q600.291 216.849 598.022 216.432 Q595.777 216.039 593.277 215.228 L593.277 210.83 Q595.638 212.057 597.93 212.682 Q600.222 213.284 602.467 213.284 Q605.476 213.284 607.097 212.266 Q608.717 211.224 608.717 209.349 Q608.717 207.613 607.536 206.687 Q606.379 205.761 602.421 204.904 L600.939 204.557 Q596.981 203.724 595.222 202.011 Q593.462 200.275 593.462 197.266 Q593.462 193.608 596.055 191.618 Q598.647 189.627 603.416 189.627 Q605.777 189.627 607.86 189.974 Q609.944 190.321 611.703 191.016 Z\" fill=\"#000000\" fill-rule=\"evenodd\" fill-opacity=\"1\" /><path clip-path=\"url(#clip720)\" d=\"M619.874 190.252 L624.133 190.252 L624.133 216.178 L619.874 216.178 L619.874 190.252 M619.874 180.159 L624.133 180.159 L624.133 185.553 L619.874 185.553 L619.874 180.159 Z\" fill=\"#000000\" fill-rule=\"evenodd\" fill-opacity=\"1\" /><path clip-path=\"url(#clip720)\" d=\"M650.106 202.914 Q650.106 198.284 648.184 195.738 Q646.286 193.192 642.837 193.192 Q639.411 193.192 637.49 195.738 Q635.592 198.284 635.592 202.914 Q635.592 207.52 637.49 210.066 Q639.411 212.613 642.837 212.613 Q646.286 212.613 648.184 210.066 Q650.106 207.52 650.106 202.914 M654.365 212.96 Q654.365 219.58 651.425 222.798 Q648.485 226.039 642.42 226.039 Q640.175 226.039 638.184 225.691 Q636.194 225.367 634.319 224.673 L634.319 220.529 Q636.194 221.548 638.022 222.034 Q639.851 222.52 641.749 222.52 Q645.939 222.52 648.022 220.321 Q650.106 218.145 650.106 213.724 L650.106 211.617 Q648.786 213.909 646.726 215.043 Q644.666 216.178 641.795 216.178 Q637.027 216.178 634.11 212.543 Q631.194 208.909 631.194 202.914 Q631.194 196.895 634.11 193.261 Q637.027 189.627 641.795 189.627 Q644.666 189.627 646.726 190.761 Q648.786 191.895 650.106 194.187 L650.106 190.252 L654.365 190.252 L654.365 212.96 Z\" fill=\"#000000\" fill-rule=\"evenodd\" fill-opacity=\"1\" /><path clip-path=\"url(#clip720)\" d=\"M684.689 200.529 L684.689 216.178 L680.429 216.178 L680.429 200.668 Q680.429 196.988 678.994 195.159 Q677.559 193.33 674.689 193.33 Q671.24 193.33 669.249 195.53 Q667.258 197.729 667.258 201.525 L667.258 216.178 L662.976 216.178 L662.976 190.252 L667.258 190.252 L667.258 194.28 Q668.786 191.942 670.846 190.784 Q672.93 189.627 675.638 189.627 Q680.105 189.627 682.397 192.405 Q684.689 195.159 684.689 200.529 Z\" fill=\"#000000\" fill-rule=\"evenodd\" fill-opacity=\"1\" /><path clip-path=\"url(#clip720)\" d=\"M704.966 203.145 Q699.804 203.145 697.814 204.326 Q695.823 205.506 695.823 208.354 Q695.823 210.622 697.304 211.965 Q698.809 213.284 701.378 213.284 Q704.92 213.284 707.05 210.784 Q709.202 208.261 709.202 204.094 L709.202 203.145 L704.966 203.145 M713.462 201.386 L713.462 216.178 L709.202 216.178 L709.202 212.242 Q707.744 214.603 705.568 215.738 Q703.392 216.849 700.244 216.849 Q696.263 216.849 693.902 214.627 Q691.564 212.381 691.564 208.631 Q691.564 204.256 694.48 202.034 Q697.42 199.812 703.23 199.812 L709.202 199.812 L709.202 199.395 Q709.202 196.455 707.258 194.858 Q705.337 193.238 701.841 193.238 Q699.619 193.238 697.513 193.77 Q695.406 194.303 693.462 195.367 L693.462 191.432 Q695.8 190.53 697.999 190.09 Q700.198 189.627 702.281 189.627 Q707.906 189.627 710.684 192.543 Q713.462 195.46 713.462 201.386 Z\" fill=\"#000000\" fill-rule=\"evenodd\" fill-opacity=\"1\" /><path clip-path=\"url(#clip720)\" d=\"M722.235 180.159 L726.494 180.159 L726.494 216.178 L722.235 216.178 L722.235 180.159 Z\" fill=\"#000000\" fill-rule=\"evenodd\" fill-opacity=\"1\" /><circle clip-path=\"url(#clip720)\" cx=\"313.812\" cy=\"250.738\" r=\"23.04\" fill=\"#3da44d\" fill-rule=\"evenodd\" fill-opacity=\"1\" stroke=\"#000000\" stroke-opacity=\"1\" stroke-width=\"5.12\"/>\n",
       "<path clip-path=\"url(#clip720)\" d=\"M428.093 236.629 Q423 236.629 419.991 240.425 Q417.005 244.221 417.005 250.772 Q417.005 257.3 419.991 261.096 Q423 264.893 428.093 264.893 Q433.185 264.893 436.148 261.096 Q439.134 257.3 439.134 250.772 Q439.134 244.221 436.148 240.425 Q433.185 236.629 428.093 236.629 M428.093 232.833 Q435.361 232.833 439.713 237.717 Q444.065 242.578 444.065 250.772 Q444.065 258.944 439.713 263.828 Q435.361 268.689 428.093 268.689 Q420.801 268.689 416.426 263.828 Q412.074 258.967 412.074 250.772 Q412.074 242.578 416.426 237.717 Q420.801 232.833 428.093 232.833 Z\" fill=\"#000000\" fill-rule=\"evenodd\" fill-opacity=\"1\" /><path clip-path=\"url(#clip720)\" d=\"M469.806 255.078 Q469.806 250.379 467.861 247.717 Q465.94 245.032 462.56 245.032 Q459.181 245.032 457.236 247.717 Q455.315 250.379 455.315 255.078 Q455.315 259.777 457.236 262.462 Q459.181 265.124 462.56 265.124 Q465.94 265.124 467.861 262.462 Q469.806 259.777 469.806 255.078 M455.315 246.027 Q456.658 243.712 458.695 242.601 Q460.755 241.467 463.602 241.467 Q468.324 241.467 471.264 245.217 Q474.227 248.967 474.227 255.078 Q474.227 261.189 471.264 264.939 Q468.324 268.689 463.602 268.689 Q460.755 268.689 458.695 267.578 Q456.658 266.443 455.315 264.129 L455.315 268.018 L451.033 268.018 L451.033 231.999 L455.315 231.999 L455.315 246.027 Z\" fill=\"#000000\" fill-rule=\"evenodd\" fill-opacity=\"1\" /><path clip-path=\"url(#clip720)\" d=\"M497.815 242.856 L497.815 246.883 Q496.009 245.957 494.065 245.495 Q492.12 245.032 490.037 245.032 Q486.866 245.032 485.268 246.004 Q483.694 246.976 483.694 248.92 Q483.694 250.402 484.829 251.258 Q485.963 252.092 489.389 252.856 L490.847 253.18 Q495.384 254.152 497.282 255.934 Q499.204 257.694 499.204 260.865 Q499.204 264.476 496.333 266.582 Q493.486 268.689 488.486 268.689 Q486.403 268.689 484.134 268.272 Q481.889 267.879 479.389 267.068 L479.389 262.67 Q481.75 263.897 484.042 264.522 Q486.333 265.124 488.579 265.124 Q491.588 265.124 493.208 264.106 Q494.829 263.064 494.829 261.189 Q494.829 259.453 493.648 258.527 Q492.491 257.601 488.532 256.744 L487.051 256.397 Q483.093 255.564 481.333 253.851 Q479.574 252.115 479.574 249.106 Q479.574 245.448 482.167 243.458 Q484.759 241.467 489.528 241.467 Q491.889 241.467 493.972 241.814 Q496.055 242.161 497.815 242.856 Z\" fill=\"#000000\" fill-rule=\"evenodd\" fill-opacity=\"1\" /><path clip-path=\"url(#clip720)\" d=\"M528.162 253.99 L528.162 256.073 L508.579 256.073 Q508.856 260.471 511.217 262.786 Q513.602 265.078 517.838 265.078 Q520.291 265.078 522.583 264.476 Q524.898 263.874 527.166 262.67 L527.166 266.698 Q524.875 267.67 522.467 268.18 Q520.06 268.689 517.583 268.689 Q511.379 268.689 507.745 265.078 Q504.134 261.467 504.134 255.309 Q504.134 248.944 507.56 245.217 Q511.009 241.467 516.842 241.467 Q522.074 241.467 525.106 244.846 Q528.162 248.203 528.162 253.99 M523.903 252.74 Q523.856 249.245 521.935 247.161 Q520.037 245.078 516.889 245.078 Q513.324 245.078 511.171 247.092 Q509.041 249.106 508.717 252.763 L523.903 252.74 Z\" fill=\"#000000\" fill-rule=\"evenodd\" fill-opacity=\"1\" /><path clip-path=\"url(#clip720)\" d=\"M550.176 246.073 Q549.458 245.657 548.601 245.471 Q547.768 245.263 546.75 245.263 Q543.139 245.263 541.194 247.624 Q539.273 249.962 539.273 254.36 L539.273 268.018 L534.99 268.018 L534.99 242.092 L539.273 242.092 L539.273 246.12 Q540.615 243.758 542.768 242.624 Q544.921 241.467 548 241.467 Q548.439 241.467 548.972 241.536 Q549.504 241.583 550.152 241.698 L550.176 246.073 Z\" fill=\"#000000\" fill-rule=\"evenodd\" fill-opacity=\"1\" /><path clip-path=\"url(#clip720)\" d=\"M551.588 242.092 L556.101 242.092 L564.203 263.851 L572.305 242.092 L576.819 242.092 L567.097 268.018 L561.31 268.018 L551.588 242.092 Z\" fill=\"#000000\" fill-rule=\"evenodd\" fill-opacity=\"1\" /><path clip-path=\"url(#clip720)\" d=\"M594.481 254.985 Q589.319 254.985 587.328 256.166 Q585.337 257.346 585.337 260.194 Q585.337 262.462 586.819 263.805 Q588.323 265.124 590.893 265.124 Q594.435 265.124 596.564 262.624 Q598.717 260.101 598.717 255.934 L598.717 254.985 L594.481 254.985 M602.976 253.226 L602.976 268.018 L598.717 268.018 L598.717 264.082 Q597.259 266.443 595.083 267.578 Q592.907 268.689 589.759 268.689 Q585.777 268.689 583.416 266.467 Q581.078 264.221 581.078 260.471 Q581.078 256.096 583.995 253.874 Q586.935 251.652 592.745 251.652 L598.717 251.652 L598.717 251.235 Q598.717 248.295 596.773 246.698 Q594.851 245.078 591.356 245.078 Q589.134 245.078 587.027 245.61 Q584.921 246.143 582.976 247.207 L582.976 243.272 Q585.314 242.37 587.513 241.93 Q589.712 241.467 591.796 241.467 Q597.421 241.467 600.198 244.383 Q602.976 247.3 602.976 253.226 Z\" fill=\"#000000\" fill-rule=\"evenodd\" fill-opacity=\"1\" /><path clip-path=\"url(#clip720)\" d=\"M615.962 234.731 L615.962 242.092 L624.735 242.092 L624.735 245.402 L615.962 245.402 L615.962 259.476 Q615.962 262.647 616.819 263.55 Q617.698 264.453 620.36 264.453 L624.735 264.453 L624.735 268.018 L620.36 268.018 Q615.43 268.018 613.555 266.189 Q611.68 264.337 611.68 259.476 L611.68 245.402 L608.555 245.402 L608.555 242.092 L611.68 242.092 L611.68 234.731 L615.962 234.731 Z\" fill=\"#000000\" fill-rule=\"evenodd\" fill-opacity=\"1\" /><path clip-path=\"url(#clip720)\" d=\"M630.337 242.092 L634.596 242.092 L634.596 268.018 L630.337 268.018 L630.337 242.092 M630.337 231.999 L634.596 231.999 L634.596 237.393 L630.337 237.393 L630.337 231.999 Z\" fill=\"#000000\" fill-rule=\"evenodd\" fill-opacity=\"1\" /><path clip-path=\"url(#clip720)\" d=\"M653.555 245.078 Q650.129 245.078 648.138 247.763 Q646.147 250.425 646.147 255.078 Q646.147 259.731 648.115 262.416 Q650.106 265.078 653.555 265.078 Q656.957 265.078 658.948 262.393 Q660.939 259.707 660.939 255.078 Q660.939 250.471 658.948 247.786 Q656.957 245.078 653.555 245.078 M653.555 241.467 Q659.11 241.467 662.281 245.078 Q665.453 248.689 665.453 255.078 Q665.453 261.444 662.281 265.078 Q659.11 268.689 653.555 268.689 Q647.976 268.689 644.805 265.078 Q641.657 261.444 641.657 255.078 Q641.657 248.689 644.805 245.078 Q647.976 241.467 653.555 241.467 Z\" fill=\"#000000\" fill-rule=\"evenodd\" fill-opacity=\"1\" /><path clip-path=\"url(#clip720)\" d=\"M694.064 252.369 L694.064 268.018 L689.804 268.018 L689.804 252.508 Q689.804 248.828 688.369 246.999 Q686.934 245.17 684.064 245.17 Q680.615 245.17 678.624 247.37 Q676.633 249.569 676.633 253.365 L676.633 268.018 L672.351 268.018 L672.351 242.092 L676.633 242.092 L676.633 246.12 Q678.161 243.782 680.221 242.624 Q682.304 241.467 685.013 241.467 Q689.48 241.467 691.772 244.245 Q694.064 246.999 694.064 252.369 Z\" fill=\"#000000\" fill-rule=\"evenodd\" fill-opacity=\"1\" /><path clip-path=\"url(#clip720)\" d=\"M719.087 242.856 L719.087 246.883 Q717.281 245.957 715.337 245.495 Q713.392 245.032 711.309 245.032 Q708.138 245.032 706.54 246.004 Q704.966 246.976 704.966 248.92 Q704.966 250.402 706.101 251.258 Q707.235 252.092 710.661 252.856 L712.119 253.18 Q716.656 254.152 718.554 255.934 Q720.476 257.694 720.476 260.865 Q720.476 264.476 717.605 266.582 Q714.758 268.689 709.758 268.689 Q707.675 268.689 705.406 268.272 Q703.161 267.879 700.661 267.068 L700.661 262.67 Q703.022 263.897 705.314 264.522 Q707.605 265.124 709.851 265.124 Q712.86 265.124 714.48 264.106 Q716.101 263.064 716.101 261.189 Q716.101 259.453 714.92 258.527 Q713.763 257.601 709.804 256.744 L708.323 256.397 Q704.365 255.564 702.605 253.851 Q700.846 252.115 700.846 249.106 Q700.846 245.448 703.439 243.458 Q706.031 241.467 710.8 241.467 Q713.161 241.467 715.244 241.814 Q717.327 242.161 719.087 242.856 Z\" fill=\"#000000\" fill-rule=\"evenodd\" fill-opacity=\"1\" /></svg>\n"
      ]
     },
     "execution_count": 11,
     "metadata": {},
     "output_type": "execute_result"
    }
   ],
   "source": [
    "let \n",
    "    results = result_smoothing.posteriors[:x]\n",
    "    subrange = 1:50\n",
    "    \n",
    "    m = mean.(results)[subrange]\n",
    "    s = std.(results)[subrange]\n",
    "    \n",
    "    p = plot()\n",
    "    \n",
    "    p = plot!(subrange, m, ribbon = s, label = \"Estimated signal\")\n",
    "    p = plot!(subrange, hidden[subrange], label = \"Hidden signal\")\n",
    "    p = scatter!(subrange, data[subrange], label = \"Observations\")\n",
    "    \n",
    "    plot(p)\n",
    "end"
   ]
  },
  {
   "cell_type": "markdown",
   "metadata": {},
   "source": [
    "# Benchmarks"
   ]
  },
  {
   "cell_type": "code",
   "execution_count": 12,
   "metadata": {},
   "outputs": [
    {
     "data": {
      "text/plain": [
       "BenchmarkTools.Trial: 899 samples with 1 evaluation.\n",
       " Range \u001b[90m(\u001b[39m\u001b[36m\u001b[1mmin\u001b[22m\u001b[39m … \u001b[35mmax\u001b[39m\u001b[90m):  \u001b[39m\u001b[36m\u001b[1m4.310 ms\u001b[22m\u001b[39m … \u001b[35m21.838 ms\u001b[39m  \u001b[90m┊\u001b[39m GC \u001b[90m(\u001b[39mmin … max\u001b[90m): \u001b[39m0.00% … 67.84%\n",
       " Time  \u001b[90m(\u001b[39m\u001b[34m\u001b[1mmedian\u001b[22m\u001b[39m\u001b[90m):     \u001b[39m\u001b[34m\u001b[1m5.158 ms              \u001b[22m\u001b[39m\u001b[90m┊\u001b[39m GC \u001b[90m(\u001b[39mmedian\u001b[90m):    \u001b[39m0.00%\n",
       " Time  \u001b[90m(\u001b[39m\u001b[32m\u001b[1mmean\u001b[22m\u001b[39m ± \u001b[32mσ\u001b[39m\u001b[90m):   \u001b[39m\u001b[32m\u001b[1m5.553 ms\u001b[22m\u001b[39m ± \u001b[32m 2.399 ms\u001b[39m  \u001b[90m┊\u001b[39m GC \u001b[90m(\u001b[39mmean ± σ\u001b[90m):  \u001b[39m6.68% ± 11.38%\n",
       "\n",
       "  \u001b[39m▁\u001b[39m \u001b[39m▇\u001b[34m█\u001b[39m\u001b[39m▂\u001b[32m \u001b[39m\u001b[39m \u001b[39m \u001b[39m \u001b[39m \u001b[39m \u001b[39m \u001b[39m \u001b[39m \u001b[39m \u001b[39m \u001b[39m \u001b[39m \u001b[39m \u001b[39m \u001b[39m \u001b[39m \u001b[39m \u001b[39m \u001b[39m \u001b[39m \u001b[39m \u001b[39m \u001b[39m \u001b[39m \u001b[39m \u001b[39m \u001b[39m \u001b[39m \u001b[39m \u001b[39m \u001b[39m \u001b[39m \u001b[39m \u001b[39m \u001b[39m \u001b[39m \u001b[39m \u001b[39m \u001b[39m \u001b[39m \u001b[39m \u001b[39m \u001b[39m \u001b[39m \u001b[39m \u001b[39m \u001b[39m \u001b[39m \u001b[39m \u001b[39m \u001b[39m \u001b[39m \u001b[39m \u001b[39m \n",
       "  \u001b[39m█\u001b[39m█\u001b[39m█\u001b[34m█\u001b[39m\u001b[39m█\u001b[32m▆\u001b[39m\u001b[39m▄\u001b[39m▃\u001b[39m▂\u001b[39m▂\u001b[39m▁\u001b[39m▁\u001b[39m▁\u001b[39m▁\u001b[39m▁\u001b[39m▁\u001b[39m▁\u001b[39m▁\u001b[39m▁\u001b[39m▁\u001b[39m▁\u001b[39m▁\u001b[39m▁\u001b[39m▁\u001b[39m▁\u001b[39m▁\u001b[39m▁\u001b[39m▁\u001b[39m▁\u001b[39m▁\u001b[39m▁\u001b[39m▁\u001b[39m▁\u001b[39m▁\u001b[39m▁\u001b[39m▁\u001b[39m▁\u001b[39m▁\u001b[39m▁\u001b[39m▁\u001b[39m▁\u001b[39m▁\u001b[39m▁\u001b[39m▁\u001b[39m▁\u001b[39m▁\u001b[39m▁\u001b[39m▁\u001b[39m▁\u001b[39m▂\u001b[39m▂\u001b[39m▂\u001b[39m▂\u001b[39m▂\u001b[39m▂\u001b[39m▂\u001b[39m▂\u001b[39m▂\u001b[39m \u001b[39m▃\n",
       "  4.31 ms\u001b[90m        Histogram: frequency by time\u001b[39m        19.9 ms \u001b[0m\u001b[1m<\u001b[22m\n",
       "\n",
       " Memory estimate\u001b[90m: \u001b[39m\u001b[33m3.45 MiB\u001b[39m, allocs estimate\u001b[90m: \u001b[39m\u001b[33m85342\u001b[39m."
      ]
     },
     "execution_count": 12,
     "metadata": {},
     "output_type": "execute_result"
    }
   ],
   "source": [
    "@benchmark run_filtering($datastream, $n, $v)"
   ]
  },
  {
   "cell_type": "code",
   "execution_count": 13,
   "metadata": {},
   "outputs": [
    {
     "data": {
      "text/plain": [
       "BenchmarkTools.Trial: 248 samples with 1 evaluation.\n",
       " Range \u001b[90m(\u001b[39m\u001b[36m\u001b[1mmin\u001b[22m\u001b[39m … \u001b[35mmax\u001b[39m\u001b[90m):  \u001b[39m\u001b[36m\u001b[1m15.741 ms\u001b[22m\u001b[39m … \u001b[35m45.750 ms\u001b[39m  \u001b[90m┊\u001b[39m GC \u001b[90m(\u001b[39mmin … max\u001b[90m): \u001b[39m0.00% … 51.87%\n",
       " Time  \u001b[90m(\u001b[39m\u001b[34m\u001b[1mmedian\u001b[22m\u001b[39m\u001b[90m):     \u001b[39m\u001b[34m\u001b[1m18.590 ms              \u001b[22m\u001b[39m\u001b[90m┊\u001b[39m GC \u001b[90m(\u001b[39mmedian\u001b[90m):    \u001b[39m0.00%\n",
       " Time  \u001b[90m(\u001b[39m\u001b[32m\u001b[1mmean\u001b[22m\u001b[39m ± \u001b[32mσ\u001b[39m\u001b[90m):   \u001b[39m\u001b[32m\u001b[1m20.196 ms\u001b[22m\u001b[39m ± \u001b[32m 5.869 ms\u001b[39m  \u001b[90m┊\u001b[39m GC \u001b[90m(\u001b[39mmean ± σ\u001b[90m):  \u001b[39m8.16% ± 13.73%\n",
       "\n",
       "  \u001b[39m█\u001b[39m▄\u001b[39m▃\u001b[39m▇\u001b[39m▄\u001b[39m▄\u001b[39m▄\u001b[34m▁\u001b[39m\u001b[39m▄\u001b[39m▂\u001b[32m▁\u001b[39m\u001b[39m▆\u001b[39m \u001b[39m \u001b[39m \u001b[39m \u001b[39m \u001b[39m \u001b[39m \u001b[39m \u001b[39m \u001b[39m \u001b[39m \u001b[39m \u001b[39m \u001b[39m \u001b[39m \u001b[39m \u001b[39m \u001b[39m \u001b[39m \u001b[39m \u001b[39m \u001b[39m \u001b[39m \u001b[39m \u001b[39m \u001b[39m \u001b[39m \u001b[39m \u001b[39m \u001b[39m \u001b[39m \u001b[39m \u001b[39m \u001b[39m \u001b[39m \u001b[39m \u001b[39m \u001b[39m \u001b[39m \u001b[39m \u001b[39m \u001b[39m \u001b[39m \u001b[39m \u001b[39m \u001b[39m \u001b[39m \u001b[39m \u001b[39m \n",
       "  \u001b[39m█\u001b[39m█\u001b[39m█\u001b[39m█\u001b[39m█\u001b[39m█\u001b[39m█\u001b[34m█\u001b[39m\u001b[39m█\u001b[39m█\u001b[32m█\u001b[39m\u001b[39m█\u001b[39m█\u001b[39m▅\u001b[39m▃\u001b[39m▃\u001b[39m▃\u001b[39m▁\u001b[39m▁\u001b[39m▁\u001b[39m▁\u001b[39m▁\u001b[39m▁\u001b[39m▁\u001b[39m▁\u001b[39m▁\u001b[39m▁\u001b[39m▁\u001b[39m▁\u001b[39m▁\u001b[39m▁\u001b[39m▁\u001b[39m▁\u001b[39m▁\u001b[39m▁\u001b[39m▁\u001b[39m▁\u001b[39m▁\u001b[39m▁\u001b[39m▁\u001b[39m▁\u001b[39m▁\u001b[39m▃\u001b[39m▄\u001b[39m▃\u001b[39m▃\u001b[39m▃\u001b[39m▃\u001b[39m▃\u001b[39m▃\u001b[39m▁\u001b[39m▃\u001b[39m▃\u001b[39m▁\u001b[39m▄\u001b[39m▁\u001b[39m▃\u001b[39m▃\u001b[39m▃\u001b[39m \u001b[39m▃\n",
       "  15.7 ms\u001b[90m         Histogram: frequency by time\u001b[39m        40.8 ms \u001b[0m\u001b[1m<\u001b[22m\n",
       "\n",
       " Memory estimate\u001b[90m: \u001b[39m\u001b[33m12.56 MiB\u001b[39m, allocs estimate\u001b[90m: \u001b[39m\u001b[33m247416\u001b[39m."
      ]
     },
     "execution_count": 13,
     "metadata": {},
     "output_type": "execute_result"
    }
   ],
   "source": [
    "@benchmark run_smoothing($data, $n, $v)"
   ]
  },
  {
   "cell_type": "code",
   "execution_count": null,
   "metadata": {},
   "outputs": [],
   "source": []
  }
 ],
 "metadata": {
  "@webio": {
   "lastCommId": null,
   "lastKernelId": null
  },
  "kernelspec": {
   "display_name": "Julia 1.8.3",
   "language": "julia",
   "name": "julia-1.8"
  },
  "language_info": {
   "file_extension": ".jl",
   "mimetype": "application/julia",
   "name": "julia",
   "version": "1.8.3"
  }
 },
 "nbformat": 4,
 "nbformat_minor": 4
}
