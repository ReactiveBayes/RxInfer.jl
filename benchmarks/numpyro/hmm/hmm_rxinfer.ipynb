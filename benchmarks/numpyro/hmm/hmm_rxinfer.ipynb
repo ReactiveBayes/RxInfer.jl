{
 "cells": [
  {
   "attachments": {},
   "cell_type": "markdown",
   "metadata": {},
   "source": [
    "# Hidden Markov Model"
   ]
  },
  {
   "cell_type": "code",
   "execution_count": 1,
   "metadata": {},
   "outputs": [],
   "source": [
    "using RxInfer, Distributions, Random, LinearAlgebra, StableRNGs, PyPlot"
   ]
  },
  {
   "attachments": {},
   "cell_type": "markdown",
   "metadata": {},
   "source": [
    "### Data generation"
   ]
  },
  {
   "cell_type": "code",
   "execution_count": 2,
   "metadata": {},
   "outputs": [
    {
     "data": {
      "text/plain": [
       "generate_data (generic function with 1 method)"
      ]
     },
     "metadata": {},
     "output_type": "display_data"
    }
   ],
   "source": [
    "function generate_data(nr_categories, nr_words, nr_supervised, nr_unsupervised; rng = MersenneTwister(123))\n",
    "\n",
    "    # Specify priors\n",
    "    transition_prior = ones(nr_categories)\n",
    "    emission_prior = fill(0.1, nr_words)\n",
    "    \n",
    "    # Generate transition matrix\n",
    "    transition_prob = rand(rng, Dirichlet(transition_prior), nr_categories)\n",
    "    emission_prob = rand(rng, Dirichlet(emission_prior), nr_categories)\n",
    "\n",
    "    # Generate data\n",
    "    start_prob = fill(1/nr_categories, nr_categories)\n",
    "\n",
    "    # Generate supervised data\n",
    "    categories_supervised = zeros(Int, nr_supervised)\n",
    "    words_supervised = zeros(nr_supervised)\n",
    "    for k in 1:nr_supervised\n",
    "        if k == 1\n",
    "            categories_supervised[k] = rand(rng, Categorical(start_prob))\n",
    "        else\n",
    "            categories_supervised[k] = rand(rng, Categorical(transition_prob[:, categories_supervised[k-1]]))\n",
    "        end\n",
    "        words_supervised[k] = rand(rng, Categorical(emission_prob[:, categories_supervised[k]]))\n",
    "    end\n",
    "\n",
    "    # Generate unsupervised data\n",
    "    categories_unsupervised = zeros(Int, nr_unsupervised)\n",
    "    words_unsupervised = zeros(nr_unsupervised)\n",
    "    for k in 1:nr_unsupervised\n",
    "        if k == 1\n",
    "            categories_unsupervised[k] = rand(rng, Categorical(start_prob))\n",
    "        else\n",
    "            categories_unsupervised[k] = rand(rng, Categorical(transition_prob[:, categories_unsupervised[k-1]]))\n",
    "        end\n",
    "        words_unsupervised[k] = rand(rng, Categorical(emission_prob[:, categories_unsupervised[k]]))\n",
    "    end\n",
    "\n",
    "    # return data\n",
    "    return transition_prior, emission_prior, transition_prob, emission_prob, start_prob, categories_supervised, words_supervised, categories_unsupervised, words_unsupervised\n",
    "\n",
    "end"
   ]
  },
  {
   "cell_type": "code",
   "execution_count": 3,
   "metadata": {},
   "outputs": [
    {
     "data": {
      "text/plain": [
       "([1.0, 1.0, 1.0], [0.1, 0.1, 0.1, 0.1, 0.1, 0.1, 0.1, 0.1, 0.1, 0.1], [0.048930752277978766 0.31044346482332136 0.40640989555969836; 0.7548197244253347 0.30869332504521413 0.20614012687204483; 0.1962495232966865 0.38086321013146474 0.38744997756825683], [0.05328230227636486 0.006546110210733078 3.645210836367787e-5; 0.014500745665169701 0.06901513097858238 2.8347988591645368e-15; … ; 4.638276871321641e-6 1.144810532301559e-9 0.00010734640919651779; 0.0003812620523199944 1.0339480696895998e-21 1.8495882444662197e-12], [0.3333333333333333, 0.3333333333333333, 0.3333333333333333], [3, 3, 3, 1, 2, 1, 2, 1, 2, 1  …  3, 1, 2, 2, 3, 3, 2, 2, 1, 3], [8.0, 8.0, 8.0, 3.0, 4.0, 7.0, 5.0, 3.0, 5.0, 3.0  …  8.0, 3.0, 5.0, 5.0, 8.0, 8.0, 5.0, 8.0, 3.0, 8.0], [2, 3, 1, 2, 1, 2, 3, 2, 2, 2  …  1, 2, 2, 1, 2, 1, 2, 1, 2, 2], [5.0, 8.0, 3.0, 5.0, 3.0, 5.0, 8.0, 5.0, 5.0, 8.0  …  3.0, 5.0, 5.0, 3.0, 5.0, 3.0, 8.0, 3.0, 2.0, 8.0])"
      ]
     },
     "metadata": {},
     "output_type": "display_data"
    }
   ],
   "source": [
    "transition_prior, emission_prior, T_transition_true, T_observation_true, start_prob, categories_supervised, words_supervised, words_unsupervised = generate_data(3, 10, 100, 500)"
   ]
  },
  {
   "attachments": {},
   "cell_type": "markdown",
   "metadata": {},
   "source": [
    "### Model specification"
   ]
  },
  {
   "cell_type": "code",
   "execution_count": 4,
   "metadata": {},
   "outputs": [],
   "source": [
    "@model function hidden_markov_model(T_transition_prior, T_emission_prior, nr_samples_supervised, nr_samples_unsupervised)\n",
    "    \n",
    "    # priors\n",
    "    T_transition ~ MatrixDirichlet(T_transition_prior)\n",
    "    T_observation ~ MatrixDirichlet(T_emission_prior)\n",
    "\n",
    "    #########################\n",
    "    ###  supervised part  ###\n",
    "    #########################\n",
    "\n",
    "    # variables\n",
    "    zc_supervised = randomvar(nr_samples_supervised + 1)\n",
    "    yc_supervised = randomvar(nr_samples_supervised)\n",
    "    z_supervised = datavar(Vector{Int64}, nr_samples_supervised)\n",
    "    y_supervised = datavar(Vector{Int64}, nr_samples_supervised)\n",
    "\n",
    "    zc_supervised[1] ~ Categorical(fill(1/3, 3))\n",
    "    for k in 1:length(z_supervised)\n",
    "        zc_supervised[k+1] ~ Transition(zc_supervised[k], T_transition)\n",
    "        yc_supervised[k] ~ Transition(zc_supervised[k+1], T_observation)\n",
    "\n",
    "        # observations\n",
    "        zc_supervised[k] ~ Categorical(z_supervised[k])\n",
    "        yc_supervised[k] ~ Categorical(y_supervised[k])\n",
    "    end\n",
    "\n",
    "    #########################\n",
    "    ### unsupervised part ###\n",
    "    #########################\n",
    "\n",
    "    # variables\n",
    "    z_unsupervised = randomvar(nr_samples_unsupervised + 1)\n",
    "    y_unsupervised = datavar(Vector{Int64}, nr_samples_unsupervised)\n",
    "\n",
    "    z_unsupervised[1] ~ Categorical(ones(size(T_transition_prior, 1)) ./ size(T_transition_prior, 1))\n",
    "\n",
    "    # specify transitions\n",
    "    for k in 1:length(z_unsupervised) - 1\n",
    "        z_unsupervised[k+1] ~ Transition(z_unsupervised[k], T_transition)\n",
    "        y_unsupervised[k] ~ Transition(z_unsupervised[k+1], T_observation)\n",
    "    end\n",
    "\n",
    "end;"
   ]
  },
  {
   "cell_type": "code",
   "execution_count": 5,
   "metadata": {},
   "outputs": [],
   "source": [
    "@constraints function hidden_markov_model_constraints()\n",
    "    q(zc_supervised, yc_supervised, z_unsupervised, T_transition, T_observation) = q(zc_supervised, yc_supervised)q(z_unsupervised)q(T_transition)q(T_observation)\n",
    "end;"
   ]
  },
  {
   "attachments": {},
   "cell_type": "markdown",
   "metadata": {},
   "source": [
    "### Probabilistic inference"
   ]
  },
  {
   "cell_type": "code",
   "execution_count": 6,
   "metadata": {},
   "outputs": [],
   "source": [
    "function to_onehot(T, x, len) \n",
    "    y = zeros(T, len)\n",
    "    y[Int(x)] = 1\n",
    "    return y\n",
    "end;"
   ]
  },
  {
   "cell_type": "code",
   "execution_count": 7,
   "metadata": {},
   "outputs": [],
   "source": [
    "model = hidden_markov_model(\n",
    "    repeat(transition_prior', 3), \n",
    "    repeat(emission_prior', 3)',\n",
    "    length(words_supervised),\n",
    "    length(words_unsupervised)\n",
    ")\n",
    "\n",
    "data = (\n",
    "    z_supervised = map(x -> to_onehot(Int64, x, 3), categories_supervised),\n",
    "    y_supervised = map(x -> to_onehot(Int64, x, 10), words_supervised),\n",
    "    y_unsupervised = map(x -> to_onehot(Int64, x, 10), words_unsupervised),\n",
    ")\n",
    "\n",
    "initmarginals = (\n",
    "    T_transition = MatrixDirichlet(repeat(transition_prior', 3)), \n",
    "    T_observation = MatrixDirichlet(repeat(emission_prior', 3)'), \n",
    "    z_unsupervised = vague(Categorical, 3),\n",
    "    zc_supervised = map(x -> Categorical(to_onehot(Int64, x, 3)), categories_supervised),\n",
    "    yc_supervised = map(x -> Categorical(to_onehot(Int64, x, 10)), words_supervised),\n",
    ");"
   ]
  },
  {
   "cell_type": "code",
   "execution_count": 8,
   "metadata": {},
   "outputs": [],
   "source": [
    "result = inference(\n",
    "    model         = model,\n",
    "    data          = data,\n",
    "    constraints   = hidden_markov_model_constraints(),\n",
    "    initmarginals = initmarginals, \n",
    "    returnvars    = (zc_supervised = KeepLast(), z_unsupervised = KeepLast(), T_transition = KeepLast(), T_observation = KeepLast()),\n",
    "    iterations    = 1000, \n",
    "    free_energy   = true\n",
    ");"
   ]
  },
  {
   "cell_type": "code",
   "execution_count": 9,
   "metadata": {},
   "outputs": [
    {
     "data": {
      "image/png": "[encoded data removed]",
      "text/plain": [
       "Figure(PyObject <Figure size 1000x500 with 2 Axes>)"
      ]
     },
     "metadata": {},
     "output_type": "display_data"
    }
   ],
   "source": [
    "_, ax = plt.subplots(figsize=(10, 5), ncols = 2)\n",
    "ax[1].matshow(mean(result.posteriors[:T_transition]), cmap=\"ocean\")\n",
    "ax[2].matshow(T_transition_true, cmap=\"ocean\")\n",
    "plt.gcf()"
   ]
  },
  {
   "cell_type": "code",
   "execution_count": 10,
   "metadata": {},
   "outputs": [
    {
     "data": {
      "image/png": "[encoded data removed]",
      "text/plain": [
       "Figure(PyObject <Figure size 600x800 with 2 Axes>)"
      ]
     },
     "metadata": {},
     "output_type": "display_data"
    }
   ],
   "source": [
    "_, ax = plt.subplots(figsize=(6, 8), ncols = 2)\n",
    "ax[1].matshow(mean(result.posteriors[:T_observation]), cmap=\"ocean\")\n",
    "ax[2].matshow(T_observation_true, cmap=\"ocean\")\n",
    "plt.gcf()"
   ]
  },
  {
   "cell_type": "code",
   "execution_count": 11,
   "metadata": {},
   "outputs": [
    {
     "ename": "UndefVarError",
     "evalue": "UndefVarError: `categories_unsupervised` not defined",
     "output_type": "error",
     "traceback": [
      "UndefVarError: `categories_unsupervised` not defined\n",
      "\n",
      "Stacktrace:\n",
      " [1] top-level scope\n",
      "   @ d:\\OneDrive - TU Eindhoven\\phd\\Projects\\Packages\\RxInfer.jl\\benchmarks\\numpyro\\hmm\\hmm_rxinfer.ipynb:2"
     ]
    }
   ],
   "source": [
    "plt.figure(figsize=(10, 5))\n",
    "plt.scatter(1:length(categories_unsupervised), categories_unsupervised)\n",
    "plt.scatter(1:length(categories_unsupervised), argmax.(probvec.(result.posteriors[:z_unsupervised])[1:end-1]), marker=\"x\", color=\"red\")\n",
    "plt.gcf()"
   ]
  },
  {
   "cell_type": "code",
   "execution_count": 12,
   "metadata": {},
   "outputs": [
    {
     "data": {
      "image/png": "[encoded data removed]",
      "text/plain": [
       "Figure(PyObject <Figure size 640x480 with 1 Axes>)"
      ]
     },
     "metadata": {},
     "output_type": "display_data"
    }
   ],
   "source": [
    "plt.figure()\n",
    "plt.plot(result.free_energy)\n",
    "plt.xlabel(\"Iteration\")\n",
    "plt.ylabel(\"Free energy\")\n",
    "plt.gcf()"
   ]
  }
 ],
 "metadata": {
  "kernelspec": {
   "display_name": "Julia 1.9.1",
   "language": "julia",
   "name": "julia-1.9"
  },
  "language_info": {
   "file_extension": ".jl",
   "mimetype": "application/julia",
   "name": "julia",
   "version": "1.9.1"
  },
  "orig_nbformat": 4
 },
 "nbformat": 4,
 "nbformat_minor": 2
}
